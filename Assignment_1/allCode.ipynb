{
 "cells": [
  {
   "cell_type": "markdown",
   "metadata": {},
   "source": [
    "<Center>\n",
    "<b>Assignment 1: </b><br> \n",
    "Cornelis de Jager n8891974 <br>\n",
    "Daniel Brandenburg n8867887 <br>\n",
    "Joel Schwaber n10241337 \n",
    "</center>"
   ]
  },
  {
   "cell_type": "markdown",
   "metadata": {},
   "source": []
  },
  {
   "cell_type": "code",
   "execution_count": 1,
   "metadata": {},
   "outputs": [
    {
     "name": "stdout",
     "output_type": "stream",
     "text": [
      "Requirement already satisfied: pydot in c:\\users\\brand\\anaconda3\\lib\\site-packages (1.4.1)\n",
      "Requirement already satisfied: pyparsing>=2.1.4 in c:\\users\\brand\\anaconda3\\lib\\site-packages (from pydot) (2.3.0)\n",
      "Collecting eli5\n",
      "  Downloading https://files.pythonhosted.org/packages/8d/c8/04bed18dcce1d927b0dd5fc3425777354b714d2e62d60ae301928b5a5bf8/eli5-0.8.1-py2.py3-none-any.whl (98kB)\n",
      "Collecting typing (from eli5)\n",
      "  Downloading https://files.pythonhosted.org/packages/4a/bd/eee1157fc2d8514970b345d69cb9975dcd1e42cd7e61146ed841f6e68309/typing-3.6.6-py3-none-any.whl\n",
      "Requirement already satisfied: graphviz in c:\\users\\brand\\anaconda3\\lib\\site-packages (from eli5) (0.10.1)\n",
      "Requirement already satisfied: scikit-learn>=0.18 in c:\\users\\brand\\anaconda3\\lib\\site-packages (from eli5) (0.20.1)\n",
      "Collecting tabulate>=0.7.7 (from eli5)\n",
      "  Downloading https://files.pythonhosted.org/packages/c2/fd/202954b3f0eb896c53b7b6f07390851b1fd2ca84aa95880d7ae4f434c4ac/tabulate-0.8.3.tar.gz (46kB)\n",
      "Requirement already satisfied: attrs>16.0.0 in c:\\users\\brand\\anaconda3\\lib\\site-packages (from eli5) (18.2.0)\n",
      "Requirement already satisfied: jinja2 in c:\\users\\brand\\anaconda3\\lib\\site-packages (from eli5) (2.10)\n",
      "Requirement already satisfied: scipy in c:\\users\\brand\\anaconda3\\lib\\site-packages (from eli5) (1.1.0)\n",
      "Requirement already satisfied: numpy>=1.9.0 in c:\\users\\brand\\anaconda3\\lib\\site-packages (from eli5) (1.15.4)\n",
      "Requirement already satisfied: six in c:\\users\\brand\\anaconda3\\lib\\site-packages (from eli5) (1.12.0)\n",
      "Requirement already satisfied: MarkupSafe>=0.23 in c:\\users\\brand\\anaconda3\\lib\\site-packages (from jinja2->eli5) (1.1.0)\n",
      "Building wheels for collected packages: tabulate\n",
      "  Running setup.py bdist_wheel for tabulate: started\n",
      "  Running setup.py bdist_wheel for tabulate: finished with status 'done'\n",
      "  Stored in directory: C:\\Users\\brand\\AppData\\Local\\pip\\Cache\\wheels\\2b\\67\\89\\414471314a2d15de625d184d8be6d38a03ae1e983dbda91e84\n",
      "Successfully built tabulate\n",
      "Installing collected packages: typing, tabulate, eli5\n",
      "Successfully installed eli5-0.8.1 tabulate-0.8.3 typing-3.6.6\n"
     ]
    }
   ],
   "source": [
    "\n",
    "# Run this if pydot needs to be installed\n",
    "!pip install pydot\n",
    "!pip install eli5\n"
   ]
  },
  {
   "cell_type": "code",
   "execution_count": 2,
   "metadata": {},
   "outputs": [],
   "source": [
    "# Imports\n",
    "import pandas as pd\n",
    "import numpy as np\n",
    "import scipy.stats as stats\n",
    "\n",
    "# Import plotting libraries\n",
    "import matplotlib.pyplot as plt\n",
    "import seaborn as sns\n",
    "import math\n",
    "%matplotlib inline\n",
    "\n",
    "import eli5\n",
    "\n",
    "# Import ML libraries\n",
    "from sklearn.preprocessing import Imputer\n",
    "from sklearn.model_selection import GridSearchCV\n",
    "from sklearn.tree import DecisionTreeClassifier\n",
    "from sklearn.linear_model import LogisticRegression\n",
    "from sklearn.neural_network import MLPClassifier\n",
    "from sklearn.ensemble import VotingClassifier\n",
    "from sklearn import preprocessing\n",
    "from sklearn.model_selection import train_test_split\n",
    "from sklearn.feature_selection import RFECV\n",
    "from sklearn.metrics import classification_report, accuracy_score\n",
    "from sklearn.preprocessing import StandardScaler\n",
    "from sklearn.tree import export_graphviz\n",
    "from sklearn.feature_selection import SelectFromModel\n",
    "from sklearn.metrics import roc_auc_score\n",
    "from sklearn.metrics import roc_curve\n",
    "from sklearn.ensemble import VotingClassifier\n",
    "\n",
    "# Set a random state value\n",
    "rs = 10\n",
    "\n",
    "#import libraries to visualize decision trees\n",
    "import pydot\n",
    "from io import StringIO\n",
    "\n",
    "\n",
    "# Ignore Warnings and ignore them\n",
    "import warnings\n",
    "warnings.filterwarnings(\"ignore\")"
   ]
  },
  {
   "cell_type": "code",
   "execution_count": 3,
   "metadata": {},
   "outputs": [],
   "source": [
    "def categoricalPlot(cat, cat2 = 'IsBadBuy'): # Cat is the carigorical as a string i.e 'Size'\n",
    "    pd.crosstab(data[cat],data[cat2]).plot(kind=\"bar\")\n",
    "    \n",
    "def CreateAveragedColumn (A, B):\n",
    "    C = [np.nan] * len( A )\n",
    "    for i in range(len(A)):\n",
    "        C[i] = (A[i] + B[i])/2\n",
    "    \n",
    "    return C\n",
    "\n",
    "def IdentifyOutliers (column):\n",
    "    data_described = column.describe()\n",
    "    Q1 = data_described[\"25%\"]\n",
    "    Q3 = data_described[\"75%\"]\n",
    "    IQR = Q3-Q1\n",
    "    lowerLimit = Q1 - 1.5 * IQR\n",
    "    upperLimit = Q3 + 1.5 * IQR\n",
    "    output = [np.nan] * len( column )\n",
    "    for i in range(len(column)):\n",
    "        value = column[i]\n",
    "        if value < lowerLimit or value > upperLimit:\n",
    "            output[i] = True\n",
    "        else:\n",
    "            output[i] = False\n",
    "    return output\n",
    "\n",
    "def analyse_feature_importance(dm_model, feature_names, n_to_display=5):\n",
    "    # grab feature importances from the model\n",
    "    importances = dm_model.feature_importances_\n",
    "    \n",
    "    # sort them out in descending order\n",
    "    indices = np.argsort(importances)\n",
    "    indices = np.flip(indices, axis=0)\n",
    "\n",
    "    # limit to 20 features, you can leave this out to print out everything\n",
    "    indices = indices[:n_to_display]\n",
    "\n",
    "    for i in indices:\n",
    "        print(feature_names[i], ':', importances[i])\n",
    "        \n",
    "# Define a function to find the root node\n",
    "def getTreeInfo(model, feature_names):\n",
    "    n_nodes = model.tree_.node_count\n",
    "    children_left = model.tree_.children_left\n",
    "    children_right = model.tree_.children_right\n",
    "    feature = model.tree_.feature\n",
    "    threshold = model.tree_.threshold\n",
    "    features  = [feature_names[i] for i in model.tree_.feature]    \n",
    "\n",
    "    # The tree structure can be traversed to compute various properties such\n",
    "    # as the depth of each node and whether or not it is a leaf.\n",
    "    leaf_count = 0\n",
    "    node_depth = np.zeros(shape=n_nodes, dtype=np.int64)\n",
    "    is_leaves = np.zeros(shape=n_nodes, dtype=bool)\n",
    "    stack = [(0, -1)]  # seed is the root node id and its parent depth\n",
    "    while len(stack) > 0:\n",
    "        node_id, parent_depth = stack.pop()\n",
    "        node_depth[node_id] = parent_depth + 1\n",
    "        \n",
    "        # If we have a test node\n",
    "        if (children_left[node_id] != children_right[node_id]):\n",
    "            stack.append((children_left[node_id], parent_depth + 1))\n",
    "            stack.append((children_right[node_id], parent_depth + 1))\n",
    "        else:\n",
    "            leaf_count += 1\n",
    "            is_leaves[node_id] = True\n",
    "\n",
    "    print(\"The binary tree structure has \", n_nodes, \" nodes and has \", leaf_count, \" leaves\")\n",
    "\n",
    "    print(\"Root feature is \", features[0])\n",
    "    print(\"Competing featues are \", features[2], 'and ', features[3])\n",
    "    \n",
    "# Write a function that imputes median\n",
    "def ImputeMean(series):\n",
    "    return series.fillna(series.mean())\n",
    "\n",
    "def Normalize (column):\n",
    "    column =  (column - column.min())/(column.max() - column.min())\n",
    "    return column\n",
    "\n",
    "def LogTransform (column):\n",
    "    column = math.log(column)"
   ]
  },
  {
   "cell_type": "code",
   "execution_count": 4,
   "metadata": {},
   "outputs": [],
   "source": [
    "def PreProcessing (data):\n",
    "    print(\"Pre-Processing Step\")\n",
    "    \n",
    "    # Check if there are any missing target variables\n",
    "    if data['IsBadBuy'].isna().any():\n",
    "        print(\"Missing Target Variables\")\n",
    "    else:\n",
    "        print(\"No missing Target Variables\")\n",
    "    \n",
    "    \n",
    "    # Handle Bad Columns drop Columns\n",
    "    data.drop(['PRIMEUNIT', 'AUCGUART', 'WheelTypeID', 'ForSale', 'PurchaseDate', 'IsOnlineSale'], \n",
    "              axis=1, \n",
    "              inplace=True)\n",
    "    \n",
    "\n",
    "    # Handle Missing Values\n",
    "    i = 0            # Python's indexing starts at zero\n",
    "    for item in data['TopThreeAmericanName']:   # Python's for loops are a \"for each\" loop \n",
    "        if data['TopThreeAmericanName'][i] == np.nan and  data['Make'][i] == 'Hyundai':\n",
    "            data['TopThreeAmericanName'][i] = 'HYUNDAI'\n",
    "        i += 1\n",
    "        \n",
    "    i = 0            # Python's indexing starts at zero\n",
    "    for item in data['TopThreeAmericanName']:   # Python's for loops are a \"for each\" loop \n",
    "        if data['TopThreeAmericanName'][i] == np.nan and  data['Make'][i] == 'Jeep':\n",
    "            data['TopThreeAmericanName'][i] = 'JEEP'\n",
    "        i += 1\n",
    "        \n",
    "        \n",
    "    \"\"\" DOES THIS HAVE TO BE THERE \"\"\"\n",
    "    # print(data.groupby(['TopThreeAmericanName'])['Make'].value_counts())\n",
    "    \"\"\" DOES THIS HAVE TO BE THERE \"\"\"\n",
    "    \n",
    "    \n",
    "\n",
    "    # Standardise the capitilization across all object rows\n",
    "    obj_cols = data.select_dtypes(include='object').columns # Create a list of col names\n",
    "    for i in obj_cols:              # Interate over the obj_cols list\n",
    "        data[i] = data[i].str.upper()   # Convert all strings to uppercase  \n",
    "    # Standardize USA to AMERICA\n",
    "    data['Nationality'].replace({'USA' : 'AMERICAN'}, inplace = True)\n",
    "    \n",
    "    # Turn Transmission into a binary variable with Auto = 1 and Manual = 0\n",
    "    data.rename({'Transmission' : 'Auto'}, axis = 1, inplace = True)\n",
    "    # Replace binary columns with 1s and 0s\n",
    "    data['Auto'].replace({'MANUAL' : 0, 'AUTO' : 1}, inplace=True)\n",
    "    \n",
    "    # Remove NOT AVAIL in color and place it in the NaN section\n",
    "    data['Color'].replace({'NOT AVAIL': np.nan}, inplace = True)\n",
    "    \n",
    "    \n",
    "    #This is the significance test for \n",
    "    # Check to see if VNST is a statistically significant variable\n",
    "    # Create a distribution of IsBuyBad for VNST\n",
    "    VNST_badBuy = pd.crosstab(data['IsBadBuy'], data['VNST']).loc[0]\n",
    "    VNST_goodBuy = pd.crosstab(data['IsBadBuy'], data['VNST']).loc[1]\n",
    "    pd.crosstab(data['VNST'],data['IsBadBuy']).plot(kind=\"bar\")\n",
    "    \n",
    "    # Use a Chi2 test to determine if there is any correlation between them. If there is,\n",
    "    # (p < 0.05) discard the variable\n",
    "    fScore, pValue = stats.f_oneway(VNST_badBuy, VNST_goodBuy)\n",
    "    print(\"The pValaue is \" + str(pValue) + \" which is significant enough to reject null hypothesis\")\n",
    "    print(\"Drop VNST due to statistical insignificance\")\n",
    "    data.drop('VNST', axis=1, inplace = True)\n",
    "    \n",
    "    # Seperate the Size feature into Size and Body\n",
    "    tempSize = data['Size'].str.split(' ', expand = True) # Create temp var with split column\n",
    "    data['Size'] = tempSize[0] # Save the temp var back into data\n",
    "    data['Body'] = tempSize[1] # Save the temp var back into data\n",
    "    data['Body'].fillna('CITY', inplace = True) # Assume any other cars are 'City'\n",
    "    \n",
    "    \n",
    "    data.loc[data.Size == 'VAN', 'Body'] = 'Van' # Convert Van into a body type\n",
    "    data.loc[data.Size == 'VAN', 'Size'] =  np.nan # Take van away from size, shouldn't matter once OH is done\n",
    "    \n",
    "    # Converting the TimeStamp into Quater\n",
    "    Quarter = [] # Create empty string\n",
    "    for i, _ in enumerate(data.PurchaseTimestamp): # Loop over the entire dataset\n",
    "        # Convert the epoch datetime into the quater and append to list\n",
    "        Quarter.append(pd.Timestamp(data.PurchaseTimestamp.loc[i], unit = 's').quarter)        \n",
    "    data['Quarter'] = Quarter # Create the column with list\n",
    "    data.drop('PurchaseTimestamp', axis=1, inplace = True) # Drop old TimeStamp\n",
    "            \n",
    "\n",
    "    \n",
    "    data['MMRAcquisitionAuctionAveragePrice'] = data['MMRAcquisitionAuctionAveragePrice'].replace(0, np.nan)\n",
    "    data['MMRAcquisitionAuctionCleanPrice'] = data['MMRAcquisitionAuctionCleanPrice'].replace(0, np.nan)\n",
    "    data['MMRAcquisitionRetailAveragePrice'] = data['MMRAcquisitionRetailAveragePrice'].replace(0, np.nan)\n",
    "    data['MMRAcquisitonRetailCleanPrice'] = data['MMRAcquisitonRetailCleanPrice'].replace(0, np.nan)\n",
    "    data['MMRCurrentAuctionAveragePrice'] = data['MMRCurrentAuctionAveragePrice'].replace(0, np.nan)\n",
    "    data['MMRCurrentAuctionCleanPrice'] = data['MMRCurrentAuctionCleanPrice'].replace(0, np.nan)\n",
    "    data['MMRCurrentRetailAveragePrice'] = data['MMRCurrentRetailAveragePrice'].replace(0, np.nan)\n",
    "    data['MMRCurrentRetailCleanPrice'] = data['MMRCurrentRetailCleanPrice'].replace(0, np.nan)    \n",
    "    \n",
    "    # Impute and normalize\n",
    "    data[\"VehOdo\"] = Normalize(ImputeMean(data[\"VehOdo\"]))\n",
    "    data[\"VehBCost\"] = Normalize(ImputeMean(data[\"VehBCost\"]))\n",
    "    data[\"WarrantyCost\"] = Normalize(ImputeMean(data[\"WarrantyCost\"]))\n",
    "    data[\"MMRAcquisitionAuctionAveragePrice\"] = Normalize(ImputeMean(data[\"MMRAcquisitionAuctionAveragePrice\"]))\n",
    "    data[\"MMRAcquisitionAuctionCleanPrice\"] =  Normalize(ImputeMean(data[\"MMRAcquisitionAuctionCleanPrice\"]))\n",
    "    data[\"MMRAcquisitionRetailAveragePrice\"] =  Normalize(ImputeMean(data[\"MMRAcquisitionRetailAveragePrice\"]))\n",
    "    data[\"MMRAcquisitonRetailCleanPrice\"] =  Normalize(ImputeMean(data[\"MMRAcquisitonRetailCleanPrice\"]))\n",
    "    data[\"MMRCurrentAuctionAveragePrice\"] =  Normalize(ImputeMean(data[\"MMRCurrentAuctionAveragePrice\"]))\n",
    "    data[\"MMRCurrentAuctionCleanPrice\"] =  Normalize(ImputeMean(data[\"MMRCurrentAuctionCleanPrice\"]))\n",
    "    data[\"MMRCurrentRetailAveragePrice\"] =  Normalize(ImputeMean(data[\"MMRCurrentRetailAveragePrice\"]))\n",
    "    data[\"MMRCurrentRetailCleanPrice\"] =  Normalize(ImputeMean(data[\"MMRCurrentRetailCleanPrice\"]))\n",
    "       \n",
    "    print(\"----------\\nShow significantly similar columns\")\n",
    "    print(\"MMRAcquisitionAuctionAveragePrice and MMRAcquisitionAuctionCleanPrice\", np.corrcoef(data[\"MMRAcquisitionAuctionAveragePrice\"], data[\"MMRAcquisitionAuctionCleanPrice\"]))\n",
    "    print(\"MMRAcquisitionRetailAveragePrice and MMRAcquisitonRetailCleanPrice\",np.corrcoef(data[\"MMRAcquisitionRetailAveragePrice\"], data[\"MMRAcquisitonRetailCleanPrice\"]))\n",
    "    print(\"MMRCurrentAuctionAveragePrice and MMRCurrentAuctionCleanPrice\",np.corrcoef(data[\"MMRCurrentAuctionAveragePrice\"], data[\"MMRCurrentAuctionCleanPrice\"]))\n",
    "    print(\"MMRCurrentRetailAveragePrice and MMRCurrentRetailCleanPrice\",np.corrcoef(data[\"MMRCurrentRetailAveragePrice\"], data[\"MMRCurrentRetailCleanPrice\"])) \n",
    "    \n",
    "    #print(data[\"MMRAcquisitionAuctionAveragePrice\"][data[\"MMRAcquisitionAuctionAveragePrice\"] == 0])\n",
    "    \n",
    "    \"\"\" Create the new columns \"\"\"\n",
    "    data[\"AcquisitionAuctionprice\"] = CreateAveragedColumn(data[\"MMRAcquisitionAuctionAveragePrice\"], data[\"MMRAcquisitionAuctionCleanPrice\"])\n",
    "    data[\"AcquisitionRetailPrice\"] = CreateAveragedColumn(data[\"MMRAcquisitionRetailAveragePrice\"], data[\"MMRAcquisitonRetailCleanPrice\"])\n",
    "    data[\"MMRCurrentAuctionPrice\"] = CreateAveragedColumn(data[\"MMRCurrentAuctionAveragePrice\"], data[\"MMRCurrentAuctionCleanPrice\"])\n",
    "    data[\"MMRCurrentRetailPrice\"] = CreateAveragedColumn(data[\"MMRCurrentRetailAveragePrice\"], data[\"MMRCurrentRetailCleanPrice\"])\n",
    "       \n",
    "    \n",
    "    data.drop('MMRAcquisitionAuctionAveragePrice', inplace = True, axis = 1)\n",
    "    data.drop('MMRAcquisitionAuctionCleanPrice', inplace = True, axis = 1)\n",
    "    data.drop('MMRAcquisitonRetailCleanPrice', inplace = True, axis = 1)\n",
    "    data.drop('MMRCurrentAuctionAveragePrice', inplace = True, axis = 1)\n",
    "    data.drop('MMRCurrentAuctionCleanPrice', inplace = True, axis = 1)\n",
    "    data.drop('MMRCurrentRetailAveragePrice', inplace = True, axis = 1)\n",
    "    data.drop('MMRCurrentRetailCleanPrice', inplace = True, axis = 1)\n",
    "    data.drop('MMRAcquisitionRetailAveragePrice', inplace = True, axis = 1)\n",
    "    \n",
    "    \"\"\" This will take care of any Null values we don't specifically take care of\n",
    "    by replaceing the missing data with data from the same distibution\"\"\"\n",
    "    conv = []\n",
    "    for i in data.columns: # Loop over dataset\n",
    "        if data[i].isna().any() == True: # Check to see if there is a NaN is the feature\n",
    "            dist = data[i].value_counts(normalize=True) # Find the distrabution of the column\n",
    "            missing = data[i].isna() # Find where the NaN are\n",
    "            # Replace the NaNs with values from the same distrabution of the column\n",
    "            data.loc[missing, i] = np.random.choice(dist.index, size=len(data[missing]),p=dist.values)       \n",
    "            conv.append(i)\n",
    "    print(\"Converted all of \" , conv, \"s missing values into the same distrubution\")\n",
    "    \n",
    "    # Do the box plot\n",
    "    fig = plt.figure()\n",
    "    data.boxplot(column=['AcquisitionAuctionprice', 'AcquisitionRetailPrice', 'MMRCurrentAuctionPrice', 'MMRCurrentRetailPrice'], grid = False, rot = 30)\n",
    "    plt.savefig('preOutlierBox', bbox_inches = \"tight\")\n",
    "    plt.show\n",
    "    \n",
    "    \n",
    "    # Now do histograms\n",
    "    fig = plt.figure()\n",
    "    ax1 = fig.add_subplot(2,2,1)\n",
    "    plt.subplots_adjust(hspace=0.4, wspace = 0.3)\n",
    "    ax1 =  data[\"AcquisitionAuctionprice\"].hist()\n",
    "    ax1.set_title(\"AcquisitionAuctionprice\")\n",
    "    ax1.grid(False)\n",
    "    ax2 = fig.add_subplot(2,2,2)\n",
    "    ax2 =  data[\"AcquisitionRetailPrice\"].hist()\n",
    "    ax2.set_title(\"AcquisitionRetailPrice\")\n",
    "    ax2.grid(False)\n",
    "    ax3 = fig.add_subplot(2,2,3)\n",
    "    ax3 =  data[\"MMRCurrentAuctionPrice\"].hist()\n",
    "    ax3.set_title(\"MMRCurrentAuctionPrice\")\n",
    "    ax3.grid(False)\n",
    "    ax4 = fig.add_subplot(2,2,4)\n",
    "    ax4 =  data[\"MMRCurrentRetailPrice\"].hist()\n",
    "    ax4.set_title(\"MMRCurrentRetailPrice\")\n",
    "    ax4.grid(False)\n",
    "    plt.savefig('preOutlierHist', bbox_inches = \"tight\")\n",
    "    plt.show()\n",
    "    \n",
    "\n",
    "    ## Identify and Remove outiers\n",
    "    outliers = (IdentifyOutliers(data[\"AcquisitionAuctionprice\"]) and\n",
    "                IdentifyOutliers(data[\"AcquisitionRetailPrice\"]) and\n",
    "                IdentifyOutliers(data[\"MMRCurrentAuctionPrice\"]) and\n",
    "                IdentifyOutliers(data[\"MMRCurrentRetailPrice\"]))\n",
    "    \n",
    "    # Select lines that aren't outliers\n",
    "    num_lines =  len(data[\"MMRCurrentRetailPrice\"])\n",
    "    data = data[[not i for i in outliers]]\n",
    "    print (\"Lines Removed: \", num_lines - len(data[\"MMRCurrentRetailPrice\"]))\n",
    "    \n",
    "    # Do the box plot\n",
    "    fig = plt.figure()\n",
    "    data.boxplot(column=['AcquisitionAuctionprice', 'AcquisitionRetailPrice', 'MMRCurrentAuctionPrice', 'MMRCurrentRetailPrice'], grid = False, rot = 45)\n",
    "    plt.savefig('postOutlierBox', bbox_inches = \"tight\")\n",
    "    plt.show\n",
    "    \n",
    "    # Now do histograms\n",
    "    fig = plt.figure()\n",
    "    plt.subplots_adjust(hspace=0.4, wspace = 0.3)\n",
    "    ax1 = fig.add_subplot(2,2,1)\n",
    "    ax1 =  data[\"AcquisitionAuctionprice\"].hist()\n",
    "    ax1.set_title(\"AcquisitionAuctionprice\")\n",
    "    ax1.grid(False)\n",
    "    ax2 = fig.add_subplot(2,2,2)\n",
    "    ax2 =  data[\"AcquisitionRetailPrice\"].hist()\n",
    "    ax2.set_title(\"AcquisitionRetailPrice\")\n",
    "    ax2.grid(False)\n",
    "    ax3 = fig.add_subplot(2,2,3)\n",
    "    ax3 =  data[\"MMRCurrentAuctionPrice\"].hist()\n",
    "    ax3.set_title(\"MMRCurrentAuctionPrice\")\n",
    "    ax3.grid(False)\n",
    "    ax4 = fig.add_subplot(2,2,4)\n",
    "    ax4 =  data[\"MMRCurrentRetailPrice\"].hist()\n",
    "    ax4.set_title(\"MMRCurrentRetailPrice\")\n",
    "    ax4.grid(False)\n",
    "    plt.savefig('postOutlierHist', bbox_inches = \"tight\")\n",
    "    plt.show()\n",
    "    \n",
    "    fig = plt.figure()\n",
    "    ax1 =  data[\"Make\"].value_counts().plot(kind = 'bar')\n",
    "    ax1.set_title(\"Make\")\n",
    "    ax1.grid(False)\n",
    "    plt.savefig('makeHist', bbox_inches = \"tight\")\n",
    "    plt.show()\n",
    "    \n",
    "    fig = plt.figure()\n",
    "    ax1 =  data[\"Color\"].value_counts().plot(kind = 'bar')\n",
    "    ax1.set_title(\"Color\")\n",
    "    ax1.grid(False)\n",
    "    plt.savefig('colourHist', bbox_inches = \"tight\")\n",
    "    plt.show()\n",
    "    \n",
    "    fig = plt.figure()\n",
    "    plt.subplots_adjust(hspace=0.8, wspace = 0.4)\n",
    "    ax1 = fig.add_subplot(2,2,1)\n",
    "    ax1 =  data[\"VehYear\"].value_counts().plot(kind = 'bar', rot = 90)\n",
    "    ax1.set_title(\"VehYear\")\n",
    "    ax1.grid(False)\n",
    "    ax2 = fig.add_subplot(2,2,2)\n",
    "    ax2 =  data[\"Auction\"].value_counts().plot(kind = 'bar', rot = 90)\n",
    "    ax2.set_title(\"Auction\")\n",
    "    ax2.grid(False)\n",
    "    ax3 = fig.add_subplot(2,2,3)\n",
    "    ax3 =  data[\"Size\"].value_counts().plot(kind = 'bar', rot = 90)\n",
    "    ax3.set_title(\"Size\")\n",
    "    ax3.grid(False)\n",
    "    ax4 = fig.add_subplot(2,2,4)\n",
    "    ax4 =  data[\"Body\"].value_counts().plot(kind = 'bar', rot = 90)\n",
    "    ax4.set_title(\"Body\")\n",
    "    ax4.grid(False)\n",
    "    plt.savefig('othersHist', bbox_inches = \"tight\")\n",
    "    plt.show()\n",
    "    \n",
    "    \"\"\" This should be the last thing done \"\"\"\n",
    "    # Convert all categorical variables into one hot representations\n",
    "    \n",
    "    print(\"The number of features before one hot encoding is \" + str(data.shape[1]))\n",
    "    data_OH = pd.get_dummies(data, columns = ['Auction', 'Make', 'Color', 'VehYear', \n",
    "                                              'Nationality', 'Size', 'Body', 'TopThreeAmericanName', \n",
    "                                              'WheelType', 'Quarter'])\n",
    "    print(\"The number of features after one hot encoding is \" + str(data_OH.shape[1]))\n",
    "    data_OH [\"IsBadBuy\"] = data['IsBadBuy']\n",
    "    \n",
    "    data.describe()\n",
    "    data.info()\n",
    "    \n",
    "    return data, data_OH"
   ]
  },
  {
   "cell_type": "code",
   "execution_count": 5,
   "metadata": {},
   "outputs": [
    {
     "name": "stdout",
     "output_type": "stream",
     "text": [
      "Pre-Processing Step\n",
      "No missing Target Variables\n",
      "The pValaue is 0.0025217411235946108 which is significant enough to reject null hypothesis\n",
      "Drop VNST due to statistical insignificance\n",
      "----------\n",
      "Show significantly similar columns\n",
      "MMRAcquisitionAuctionAveragePrice and MMRAcquisitionAuctionCleanPrice [[1.         0.98128594]\n",
      " [0.98128594 1.        ]]\n",
      "MMRAcquisitionRetailAveragePrice and MMRAcquisitonRetailCleanPrice [[1.         0.98799717]\n",
      " [0.98799717 1.        ]]\n",
      "MMRCurrentAuctionAveragePrice and MMRCurrentAuctionCleanPrice [[1.        0.9822403]\n",
      " [0.9822403 1.       ]]\n",
      "MMRCurrentRetailAveragePrice and MMRCurrentRetailCleanPrice [[1.         0.98928933]\n",
      " [0.98928933 1.        ]]\n",
      "Converted all of  ['Auction', 'VehYear', 'Make', 'Color', 'Auto', 'WheelType', 'Nationality', 'Size', 'TopThreeAmericanName', 'MMRCurrentRetailRatio'] s missing values into the same distrubution\n"
     ]
    },
    {
     "data": {
      "image/png": "[encoded data removed]",
      "text/plain": [
       "<Figure size 432x288 with 1 Axes>"
      ]
     },
     "metadata": {
      "needs_background": "light"
     },
     "output_type": "display_data"
    },
    {
     "data": {
      "image/png": "[encoded data removed]",
      "text/plain": [
       "<Figure size 432x288 with 1 Axes>"
      ]
     },
     "metadata": {
      "needs_background": "light"
     },
     "output_type": "display_data"
    },
    {
     "data": {
      "image/png": "[encoded data removed]",
      "text/plain": [
       "<Figure size 432x288 with 4 Axes>"
      ]
     },
     "metadata": {
      "needs_background": "light"
     },
     "output_type": "display_data"
    },
    {
     "name": "stdout",
     "output_type": "stream",
     "text": [
      "Lines Removed:  225\n"
     ]
    },
    {
     "data": {
      "image/png": "[encoded data removed]",
      "text/plain": [
       "<Figure size 432x288 with 1 Axes>"
      ]
     },
     "metadata": {
      "needs_background": "light"
     },
     "output_type": "display_data"
    },
    {
     "data": {
      "image/png": "[encoded data removed]",
      "text/plain": [
       "<Figure size 432x288 with 4 Axes>"
      ]
     },
     "metadata": {
      "needs_background": "light"
     },
     "output_type": "display_data"
    },
    {
     "data": {
      "image/png": "[encoded data removed]",
      "text/plain": [
       "<Figure size 432x288 with 1 Axes>"
      ]
     },
     "metadata": {
      "needs_background": "light"
     },
     "output_type": "display_data"
    },
    {
     "data": {
      "image/png": "[encoded data removed]",
      "text/plain": [
       "<Figure size 432x288 with 1 Axes>"
      ]
     },
     "metadata": {
      "needs_background": "light"
     },
     "output_type": "display_data"
    },
    {
     "data": {
      "image/png": "[encoded data removed]",
      "text/plain": [
       "<Figure size 432x288 with 4 Axes>"
      ]
     },
     "metadata": {
      "needs_background": "light"
     },
     "output_type": "display_data"
    },
    {
     "name": "stdout",
     "output_type": "stream",
     "text": [
      "The number of features before one hot encoding is 20\n",
      "The number of features after one hot encoding is 94\n",
      "<class 'pandas.core.frame.DataFrame'>\n",
      "Int64Index: 41251 entries, 0 to 41475\n",
      "Data columns (total 20 columns):\n",
      "Auction                    41251 non-null object\n",
      "VehYear                    41251 non-null float64\n",
      "Make                       41251 non-null object\n",
      "Color                      41251 non-null object\n",
      "Auto                       41251 non-null float64\n",
      "WheelType                  41251 non-null object\n",
      "VehOdo                     41251 non-null float64\n",
      "Nationality                41251 non-null object\n",
      "Size                       41251 non-null object\n",
      "TopThreeAmericanName       41251 non-null object\n",
      "MMRCurrentRetailRatio      41251 non-null float64\n",
      "VehBCost                   41251 non-null float64\n",
      "WarrantyCost               41251 non-null float64\n",
      "IsBadBuy                   41251 non-null int64\n",
      "Body                       41251 non-null object\n",
      "Quarter                    41251 non-null int64\n",
      "AcquisitionAuctionprice    41251 non-null float64\n",
      "AcquisitionRetailPrice     41251 non-null float64\n",
      "MMRCurrentAuctionPrice     41251 non-null float64\n",
      "MMRCurrentRetailPrice      41251 non-null float64\n",
      "dtypes: float64(10), int64(2), object(8)\n",
      "memory usage: 6.6+ MB\n",
      "Questin 1.1 :\n",
      "12.918474703643549 %\n"
     ]
    }
   ],
   "source": [
    "data_raw = pd.read_csv(\"Kick.csv\", # Read the csv into a DF\n",
    "                   index_col = 'PurchaseID', \n",
    "                   na_values = ('?',  '#VALUE!'))\n",
    "\n",
    "data, data_OH = PreProcessing(data_raw) # PreProcess the data\n",
    "\n",
    "counts = data[\"IsBadBuy\"].value_counts()\n",
    "total = data[\"IsBadBuy\"].count()\n",
    "    \n",
    "# calculate the percentage\n",
    "# kick is where IsBadBuy == 1\n",
    "kickPersentage = counts[1] / total * 100\n",
    "print (\"Questin 1.1 :\")\n",
    "print( kickPersentage, \"%\")\n",
    "\n",
    "# target/input split\n",
    "y = data_OH['IsBadBuy']\n",
    "X = data_OH.drop(['IsBadBuy'], axis=1)\n",
    "\n",
    "X_mat = X.values # Canvert X into a matrix\n",
    "X_train, X_test, y_train, y_test = train_test_split(X_mat, y, test_size=0.2, stratify=y, random_state=rs)"
   ]
  },
  {
   "cell_type": "markdown",
   "metadata": {},
   "source": [
    "# Decision Tree"
   ]
  },
  {
   "cell_type": "code",
   "execution_count": 6,
   "metadata": {},
   "outputs": [
    {
     "name": "stdout",
     "output_type": "stream",
     "text": [
      "Train accuracy: 1.0\n",
      "Test accuracy: 0.778693491697976\n",
      "              precision    recall  f1-score   support\n",
      "\n",
      "           0       0.88      0.87      0.87      7185\n",
      "           1       0.18      0.19      0.18      1066\n",
      "\n",
      "   micro avg       0.78      0.78      0.78      8251\n",
      "   macro avg       0.53      0.53      0.53      8251\n",
      "weighted avg       0.79      0.78      0.78      8251\n",
      "\n",
      "VehOdo : 0.11616065059041912\n",
      "VehBCost : 0.11220236775770132\n",
      "MMRCurrentAuctionPrice : 0.09312490191337479\n",
      "MMRCurrentRetailRatio : 0.09086528262244385\n",
      "AcquisitionAuctionprice : 0.08116783012299643\n",
      "The binary tree structure has  8581  nodes and has  4291  leaves\n",
      "Root feature is  MMRCurrentAuctionPrice\n",
      "Competing featues are  VehYear_2001.0 and  VehYear_2002.0\n"
     ]
    }
   ],
   "source": [
    " \"\"\" Dicision Treee \"\"\"\n",
    "modelDT = DecisionTreeClassifier(random_state=rs) # Define the model\n",
    "modelDT.fit(X_train, y_train) # Fit with data\n",
    "\n",
    "print(\"Train accuracy:\", modelDT.score(X_train, y_train))\n",
    "print(\"Test accuracy:\", modelDT.score(X_test, y_test))\n",
    "\n",
    "y_predDT = modelDT.predict(X_test) # Predict the data\n",
    "print(classification_report(y_test, y_predDT)) # Print the scores\n",
    "\n",
    "# grab feature importances from the model and feature name from the original X\n",
    "feature_names = X.columns\n",
    "\n",
    "analyse_feature_importance(modelDT, feature_names, n_to_display=5)\n",
    "\n",
    "getTreeInfo(modelDT, feature_names) # Call the root function"
   ]
  },
  {
   "cell_type": "code",
   "execution_count": 7,
   "metadata": {},
   "outputs": [
    {
     "data": {
      "text/plain": [
       "\"# Create a graph of the tree\\ndef DTreeGraph(model, colNames):\\n    dotfile = StringIO()\\n    export_graphviz(model, out_file=dotfile, feature_names=colNames)\\n    graph = pydot.graph_from_dot_data(dotfile.getvalue())\\n    graph[0].write_png('grpah.png') # saved in the following file\\n\\n\\n#This is take a while\\nDTreeGraph(modelDT, feature_names)\\n\""
      ]
     },
     "execution_count": 7,
     "metadata": {},
     "output_type": "execute_result"
    }
   ],
   "source": [
    "\"\"\"# Create a graph of the tree\n",
    "def DTreeGraph(model, colNames):\n",
    "    dotfile = StringIO()\n",
    "    export_graphviz(model, out_file=dotfile, feature_names=colNames)\n",
    "    graph = pydot.graph_from_dot_data(dotfile.getvalue())\n",
    "    graph[0].write_png('grpah.png') # saved in the following file\n",
    "\n",
    "\n",
    "#This is take a while\n",
    "DTreeGraph(modelDT, feature_names)\n",
    "\"\"\""
   ]
  },
  {
   "cell_type": "code",
   "execution_count": 8,
   "metadata": {},
   "outputs": [
    {
     "data": {
      "image/png": "[encoded data removed]",
      "text/plain": [
       "<Figure size 432x288 with 1 Axes>"
      ]
     },
     "metadata": {
      "needs_background": "light"
     },
     "output_type": "display_data"
    },
    {
     "name": "stdout",
     "output_type": "stream",
     "text": [
      "VehBCost : 0.11488253797371291\n",
      "VehOdo : 0.1129273278301014\n",
      "MMRCurrentAuctionPrice : 0.1080996149320328\n",
      "MMRCurrentRetailRatio : 0.09970472435497198\n",
      "AcquisitionAuctionprice : 0.07596330662078263\n",
      "The binary tree structure has  3181  nodes and has  1591  leaves\n",
      "Root feature is  MMRCurrentAuctionPrice\n",
      "Competing featues are  VehYear_2001.0 and  VehYear_2002.0\n",
      "\n",
      "---------\n",
      "The best test accuracy was  0.8367470609623076  with a training score of 0.8974242424242425\n"
     ]
    }
   ],
   "source": [
    "#retrain with a larger minimum number of samples required to split an internal node\n",
    "test_scoreDT = []\n",
    "train_scoreDT = []\n",
    "\n",
    "range_ = range(35, 45)\n",
    "\n",
    "# check the model performance for max depth from 2-20\n",
    "for min_samples_split in range_:\n",
    "    modelDT = DecisionTreeClassifier(min_samples_split=min_samples_split, random_state=rs)\n",
    "    modelDT.fit(X_train, y_train)\n",
    "    \n",
    "    test_scoreDT.append(modelDT.score(X_test, y_test))\n",
    "    train_scoreDT.append(modelDT.score(X_train, y_train))\n",
    "    \n",
    "plt.plot(range_, train_scoreDT, 'b', range_, test_scoreDT, 'r')\n",
    "plt.xlabel('max_depth\\nBlue = training acc. Red = test acc.')\n",
    "plt.ylabel('accuracy')\n",
    "plt.savefig('DTreeTrain', bbox_inches = \"tight\")\n",
    "plt.show()\n",
    "\n",
    "analyse_feature_importance(modelDT, feature_names, n_to_display=5)\n",
    "getTreeInfo(modelDT, feature_names) # Call the root function\n",
    "\n",
    "print('\\n---------\\nThe best test accuracy was ', test_scoreDT[-1],' with a training score of', train_scoreDT[-1])\n",
    "\n",
    "DT_features = data[['VehOdo', 'VehBCost', 'MMRCurrentAuctionPrice', 'MMRCurrentRetailRatio', 'MMRCurrentRetailPrice']]"
   ]
  },
  {
   "cell_type": "code",
   "execution_count": 9,
   "metadata": {},
   "outputs": [
    {
     "name": "stdout",
     "output_type": "stream",
     "text": [
      "Using grid search the accuracy is\n",
      "Train accuracy: 0.8708181818181818\n",
      "Test accuracy: 0.870803538964974\n",
      "              precision    recall  f1-score   support\n",
      "\n",
      "           0       0.87      1.00      0.93      7185\n",
      "           1       0.00      0.00      0.00      1066\n",
      "\n",
      "   micro avg       0.87      0.87      0.87      8251\n",
      "   macro avg       0.44      0.50      0.47      8251\n",
      "weighted avg       0.76      0.87      0.81      8251\n",
      "\n",
      "{'criterion': 'gini', 'max_depth': 2, 'min_samples_leaf': 5}\n"
     ]
    }
   ],
   "source": [
    " # Perform a grid search over the best hyperparameters\n",
    "params = {'criterion': ['gini', 'entropy'], # What criterion to check\n",
    "          'max_depth': range(2, 7), # Check the depth, use the graph generated above\n",
    "          'min_samples_leaf': range(5, 26, 5)} # Define the min sample leafs\n",
    "\n",
    "cvDT = GridSearchCV(param_grid=params, estimator=DecisionTreeClassifier(random_state=rs), cv=10) # Define the model\n",
    "cvDT.fit(X_train, y_train) # Fit the data to the model\n",
    "y_predDT = cvDT.predict(X_test) # test the best model\n",
    "\n",
    "print(\"Using grid search the accuracy is\")\n",
    "print(\"Train accuracy:\", cvDT.score(X_train, y_train))\n",
    "print(\"Test accuracy:\", cvDT.score(X_test, y_test))\n",
    "print(classification_report(y_test, y_predDT))\n",
    "\n",
    "# print parameters of the best model\n",
    "print(cvDT.best_params_)"
   ]
  },
  {
   "cell_type": "code",
   "execution_count": 10,
   "metadata": {},
   "outputs": [
    {
     "name": "stdout",
     "output_type": "stream",
     "text": [
      "--------\n",
      "Train accuracy: 0.8708181818181818\n",
      "--------\n",
      "Test accuracy: 0.870803538964974 \n",
      "--------\n",
      "MMRCurrentAuctionPrice : 0.665323876388187\n",
      "VehBCost : 0.20345880636953234\n",
      "Body_SUV : 0.13121731724228067\n",
      "Quarter_4 : 0.0\n",
      "Make_PONTIAC : 0.0\n",
      "--------\n",
      "\n",
      "The binary tree structure has  7  nodes and has  4  leaves\n",
      "Root feature is  MMRCurrentAuctionPrice\n",
      "Competing featues are  Quarter_3 and  Quarter_3\n"
     ]
    },
    {
     "data": {
      "text/plain": [
       "\"# Create a graph of the tree\\ndef DTreeGraph(model, colNames):\\n    dotfile = StringIO()\\n    export_graphviz(model, out_file=dotfile, feature_names=colNames)\\n    graph = pydot.graph_from_dot_data(dotfile.getvalue())\\n    graph[0].write_png('grpah.png') # saved in the following file\\n\\n\\n#This is take a while\\nDTreeGraph(modelDT, feature_names)\\n\""
      ]
     },
     "execution_count": 10,
     "metadata": {},
     "output_type": "execute_result"
    }
   ],
   "source": [
    "# Train a model with the best parameters and extract info from it\n",
    "modelDT = DecisionTreeClassifier(min_samples_leaf=5, max_depth = 2, random_state=rs)\n",
    "modelDT.fit(X_train, y_train)\n",
    "\n",
    "print(\"--------\\nTrain accuracy:\", modelDT.score(X_train, y_train))\n",
    "print(\"--------\\nTest accuracy:\", modelDT.score(X_test, y_test), '\\n--------')\n",
    "\n",
    "analyse_feature_importance(modelDT, feature_names, n_to_display=5)\n",
    "print('--------\\n')\n",
    "getTreeInfo(modelDT, feature_names) # Call the root function\n",
    "\n",
    "\"\"\"# Create a graph of the tree\n",
    "def DTreeGraph(model, colNames):\n",
    "    dotfile = StringIO()\n",
    "    export_graphviz(model, out_file=dotfile, feature_names=colNames)\n",
    "    graph = pydot.graph_from_dot_data(dotfile.getvalue())\n",
    "    graph[0].write_png('grpah.png') # saved in the following file\n",
    "\n",
    "\n",
    "#This is take a while\n",
    "DTreeGraph(modelDT, feature_names)\n",
    "\"\"\""
   ]
  },
  {
   "cell_type": "markdown",
   "metadata": {},
   "source": [
    "# Regression"
   ]
  },
  {
   "cell_type": "code",
   "execution_count": 11,
   "metadata": {},
   "outputs": [
    {
     "name": "stdout",
     "output_type": "stream",
     "text": [
      "The statisics of the data before scaling\n",
      "-------------\n",
      "Before scaling\n",
      "\n",
      "Variable #0: min 0.0, max 1.0, mean 0.96 and std dev 0.19\n",
      "Variable #1: min 0.0, max 1.0, mean 0.15 and std dev 0.03\n",
      "Variable #2: min 0.35807071, max 1.0, mean 0.86 and std dev 0.05\n",
      "Variable #3: min 0.0, max 0.2941826540535762, mean 0.14 and std dev 0.04\n",
      "Variable #4: min 0.0, max 1.0, mean 0.12 and std dev 0.09\n",
      "-------------\n",
      "After scaling\n",
      "\n",
      "Variable #0: min -5.161219909553508, max 0.1937526432750705, mean 0.00 and std dev 1.00\n",
      "Variable #1: min -4.79978559301985, max 27.74751488433018, mean -0.00 and std dev 1.00\n",
      "Variable #2: min -9.71763310576806, max 2.788644759798623, mean -0.00 and std dev 1.00\n",
      "Variable #3: min -3.762623702530696, max 3.96479100708366, mean -0.00 and std dev 1.00\n",
      "Variable #4: min -1.3564386905924632, max 10.383706516899059, mean 0.00 and std dev 1.00\n"
     ]
    }
   ],
   "source": [
    "scaler = StandardScaler() # Use the standard scaler\n",
    "print(\"The statisics of the data before scaling\")\n",
    "print(\"-------------\\nBefore scaling\\n\")\n",
    "for i in range(5):\n",
    "    col = X_train[:,i]\n",
    "    print(\"Variable #{}: min {}, max {}, mean {:.2f} and std dev {:.2f}\".\n",
    "          format(i, min(col), max(col), np.mean(col), np.std(col)))\n",
    "    \n",
    "X_train = scaler.fit_transform(X_train, y_train) # Scale the data\n",
    "X_test = scaler.transform(X_test) # and the training data\n",
    "print(\"-------------\\nAfter scaling\\n\")\n",
    "for i in range(5):\n",
    "    col = X_train[:,i]\n",
    "    print(\"Variable #{}: min {}, max {}, mean {:.2f} and std dev {:.2f}\".\n",
    "          format(i, min(col), max(col), np.mean(col), np.std(col)))"
   ]
  },
  {
   "cell_type": "code",
   "execution_count": 12,
   "metadata": {},
   "outputs": [
    {
     "name": "stdout",
     "output_type": "stream",
     "text": [
      "Train accuracy: 0.8707878787878788\n",
      "Test accuracy: 0.8706823415343594\n",
      "              precision    recall  f1-score   support\n",
      "\n",
      "           0       0.87      1.00      0.93      7185\n",
      "           1       0.33      0.00      0.00      1066\n",
      "\n",
      "   micro avg       0.87      0.87      0.87      8251\n",
      "   macro avg       0.60      0.50      0.47      8251\n",
      "weighted avg       0.80      0.87      0.81      8251\n",
      "\n",
      "Auto : 0.08300471930224398\n",
      "VehOdo : 0.06953873549518093\n",
      "MMRCurrentRetailRatio : -0.020877356012661608\n",
      "VehBCost : -0.3443731557580455\n",
      "WarrantyCost : 0.06016303387133152\n"
     ]
    }
   ],
   "source": [
    "modelLG = LogisticRegression(random_state=rs) # Define the model\n",
    "modelLG.fit(X_train, y_train) # fit it to training data\n",
    "y_predLG = modelLG.predict(X_test)\n",
    "\n",
    "\n",
    "# training and test accuracy\n",
    "print(\"Train accuracy:\", modelLG.score(X_train, y_train))\n",
    "print(\"Test accuracy:\", modelLG.score(X_test, y_test))\n",
    "# classification report on test data\n",
    "print(classification_report(y_test, y_predLG))\n",
    "\n",
    "coefLG = modelLG.coef_[0]\n",
    "\n",
    "# limit to 5 features, you can comment the following line to print out everything\n",
    "coefLG = coefLG[:5]\n",
    "\n",
    "for i in range(len(coefLG)):\n",
    "    print(feature_names[i], ':', coefLG[i])"
   ]
  },
  {
   "cell_type": "code",
   "execution_count": 13,
   "metadata": {},
   "outputs": [
    {
     "name": "stdout",
     "output_type": "stream",
     "text": [
      "Train accuracy: 0.8708181818181818\n",
      "Test accuracy: 0.8706823415343594\n",
      "              precision    recall  f1-score   support\n",
      "\n",
      "           0       0.87      1.00      0.93      7185\n",
      "           1       0.33      0.00      0.00      1066\n",
      "\n",
      "   micro avg       0.87      0.87      0.87      8251\n",
      "   macro avg       0.60      0.50      0.47      8251\n",
      "weighted avg       0.80      0.87      0.81      8251\n",
      "\n",
      "{'C': 0.01}\n"
     ]
    }
   ],
   "source": [
    "# Use GCV to find the optimal parameters\n",
    "# grid search CV\n",
    "params = {'C': [pow(10, x) for x in range(-6, 1)]}\n",
    "\n",
    "# use all cores to tune logistic regression with C parameter\n",
    "cvLG = GridSearchCV(param_grid=params, estimator=LogisticRegression(random_state=rs), cv=10, n_jobs=-1)\n",
    "cvLG.fit(X_train, y_train)\n",
    "\n",
    "# test the best model\n",
    "print(\"Train accuracy:\", cvLG.score(X_train, y_train))\n",
    "print(\"Test accuracy:\", cvLG.score(X_test, y_test))\n",
    "\n",
    "y_predLG = cvLG.predict(X_test)\n",
    "print(classification_report(y_test, y_predLG))\n",
    "\n",
    "# print parameters of the best model\n",
    "print(cvLG.best_params_)"
   ]
  },
  {
   "cell_type": "code",
   "execution_count": 14,
   "metadata": {},
   "outputs": [
    {
     "name": "stdout",
     "output_type": "stream",
     "text": [
      "Train accuracy: 0.8706363636363637\n",
      "Test accuracy: 0.870561144103745\n",
      "              precision    recall  f1-score   support\n",
      "\n",
      "           0       0.87      1.00      0.93      7185\n",
      "           1       0.25      0.00      0.00      1066\n",
      "\n",
      "   micro avg       0.87      0.87      0.87      8251\n",
      "   macro avg       0.56      0.50      0.47      8251\n",
      "weighted avg       0.79      0.87      0.81      8251\n",
      "\n",
      "{'C': 0.001}\n"
     ]
    }
   ],
   "source": [
    "# Use the best paramaters from previous CV to get closer to optimum values\n",
    "# grid search CV\n",
    "params = {'C': [pow(10, x) for x in range(-4, -2)]}\n",
    "\n",
    "# use all cores to tune logistic regression with C parameter\n",
    "cvLG = GridSearchCV(param_grid=params, estimator=LogisticRegression(random_state=rs), cv=10, n_jobs=-1)\n",
    "cvLG.fit(X_train, y_train)\n",
    "\n",
    "# test the best model\n",
    "print(\"Train accuracy:\", cvLG.score(X_train, y_train))\n",
    "print(\"Test accuracy:\", cvLG.score(X_test, y_test))\n",
    "\n",
    "y_predLG = cvLG.predict(X_test)\n",
    "print(classification_report(y_test, y_predLG))\n",
    "\n",
    "# print parameters of the best model\n",
    "print(cvLG.best_params_)"
   ]
  },
  {
   "cell_type": "code",
   "execution_count": 15,
   "metadata": {},
   "outputs": [
    {
     "name": "stdout",
     "output_type": "stream",
     "text": [
      "Auto : 0.040834121914088535\n",
      "VehOdo : 0.08052805365545451\n",
      "MMRCurrentRetailRatio : -0.02904486804467132\n",
      "VehBCost : -0.12171875887622415\n",
      "WarrantyCost : 0.04964466020768083\n"
     ]
    }
   ],
   "source": [
    "modelLG = LogisticRegression(C = 0.001, random_state=rs) # Define the model\n",
    "modelLG.fit(X_train, y_train) # fit it to training data\n",
    "\n",
    "eli5.show_weights(estimator=modelLG, feature_names = list(X.columns))\n",
    "coefLG = modelLG.coef_[0]\n",
    "\n",
    "# limit to 5 features, you can comment the following line to print out everything\n",
    "coefLG = coefLG[:5]\n",
    "\n",
    "for i in range(len(coefLG)):\n",
    "    print(feature_names[i], ':', coefLG[i])"
   ]
  },
  {
   "cell_type": "code",
   "execution_count": 26,
   "metadata": {},
   "outputs": [
    {
     "name": "stdout",
     "output_type": "stream",
     "text": [
      "Original feature set 93\n",
      "Number of features after elimination 1\n",
      "The columns selected by rfe is/are  ['AcquisitionAuctionprice']\n"
     ]
    }
   ],
   "source": [
    "# Recursive feature elimination\n",
    "rfe = RFECV(estimator = LogisticRegression(C = 0.001, random_state=rs), cv=10) # fit the model\n",
    "rfe.fit(X_train, y_train) # run the RFECV\n",
    "\n",
    "# comparing how many variables before and after\n",
    "print(\"Original feature set\", X_train.shape[1])\n",
    "print(\"Number of features after elimination\", rfe.n_features_)\n",
    "\n",
    "\n",
    "X_train_sel = rfe.transform(X_train)\n",
    "X_test_sel = rfe.transform(X_test)\n",
    "\n",
    "print(\"The columns selected by rfe is/are \", list(X.columns[rfe.get_support(indices=True)]))"
   ]
  },
  {
   "cell_type": "code",
   "execution_count": 17,
   "metadata": {},
   "outputs": [
    {
     "name": "stdout",
     "output_type": "stream",
     "text": [
      "Train accuracy: 0.8708181818181818\n",
      "Test accuracy: 0.870803538964974\n",
      "              precision    recall  f1-score   support\n",
      "\n",
      "           0       0.87      1.00      0.93      7185\n",
      "           1       0.00      0.00      0.00      1066\n",
      "\n",
      "   micro avg       0.87      0.87      0.87      8251\n",
      "   macro avg       0.44      0.50      0.47      8251\n",
      "weighted avg       0.76      0.87      0.81      8251\n",
      "\n",
      "{'C': 0.0001}\n"
     ]
    }
   ],
   "source": [
    "# grid search CV\n",
    "params = {'C': [pow(10, x) for x in range(-4, 1)]}\n",
    "\n",
    "cvRFE = GridSearchCV(param_grid=params, estimator=LogisticRegression(random_state=rs), cv=10, n_jobs=-1)\n",
    "cvRFE.fit(X_train_sel, y_train)\n",
    "\n",
    "# test the best model\n",
    "print(\"Train accuracy:\", cvRFE.score(X_train_sel, y_train))\n",
    "print(\"Test accuracy:\", cvRFE.score(X_test_sel, y_test))\n",
    "\n",
    "y_predRFE = cvRFE.predict(X_test_sel)\n",
    "print(classification_report(y_test, y_predRFE))\n",
    "\n",
    "# print parameters of the best model\n",
    "print(cvRFE.best_params_)"
   ]
  },
  {
   "cell_type": "markdown",
   "metadata": {},
   "source": [
    "# Neural Networks"
   ]
  },
  {
   "cell_type": "code",
   "execution_count": 18,
   "metadata": {},
   "outputs": [
    {
     "name": "stdout",
     "output_type": "stream",
     "text": [
      "Train accuracy: 0.9143636363636364\n",
      "Test accuracy: 0.8340807174887892\n",
      "              precision    recall  f1-score   support\n",
      "\n",
      "           0       0.88      0.93      0.91      7185\n",
      "           1       0.28      0.18      0.22      1066\n",
      "\n",
      "   micro avg       0.83      0.83      0.83      8251\n",
      "   macro avg       0.58      0.55      0.56      8251\n",
      "weighted avg       0.81      0.83      0.82      8251\n",
      "\n",
      "MLPClassifier(activation='relu', alpha=0.0001, batch_size='auto', beta_1=0.9,\n",
      "       beta_2=0.999, early_stopping=False, epsilon=1e-08,\n",
      "       hidden_layer_sizes=(100,), learning_rate='constant',\n",
      "       learning_rate_init=0.001, max_iter=200, momentum=0.9,\n",
      "       n_iter_no_change=10, nesterovs_momentum=True, power_t=0.5,\n",
      "       random_state=10, shuffle=True, solver='adam', tol=0.0001,\n",
      "       validation_fraction=0.1, verbose=False, warm_start=False)\n"
     ]
    }
   ],
   "source": [
    "modelMLP = MLPClassifier(random_state=rs) # Define the model\n",
    "modelMLP.fit(X_train, y_train) # Fit it\n",
    "\n",
    "print(\"Train accuracy:\", modelMLP.score(X_train, y_train))\n",
    "print(\"Test accuracy:\", modelMLP.score(X_test, y_test))\n",
    "\n",
    "y_predMLP = modelMLP.predict(X_test)\n",
    "print(classification_report(y_test, y_predMLP))\n",
    "\n",
    "print(modelMLP)"
   ]
  },
  {
   "cell_type": "code",
   "execution_count": 19,
   "metadata": {},
   "outputs": [
    {
     "name": "stdout",
     "output_type": "stream",
     "text": [
      "Train accuracy: 0.8714242424242424\n",
      "Test accuracy: 0.8700763543812872\n",
      "              precision    recall  f1-score   support\n",
      "\n",
      "           0       0.87      1.00      0.93      7185\n",
      "           1       0.42      0.01      0.03      1066\n",
      "\n",
      "   micro avg       0.87      0.87      0.87      8251\n",
      "   macro avg       0.64      0.51      0.48      8251\n",
      "weighted avg       0.81      0.87      0.81      8251\n",
      "\n",
      "{'alpha': 1e-05, 'hidden_layer_sizes': (3,)}\n"
     ]
    }
   ],
   "source": [
    "# Use GCV and change the no. of hidden nodes\n",
    "params = {'hidden_layer_sizes': [(x,) for x in range(2, 7)], 'alpha': [pow(10, x) for x in range(-6, 2)]}\n",
    "\n",
    "cv = GridSearchCV(param_grid=params, estimator=MLPClassifier(random_state=rs), cv=10, n_jobs=-1)\n",
    "cv.fit(X_train, y_train)\n",
    "\n",
    "print(\"Train accuracy:\", cv.score(X_train, y_train))\n",
    "print(\"Test accuracy:\", cv.score(X_test, y_test))\n",
    "\n",
    "y_pred = cv.predict(X_test)\n",
    "print(classification_report(y_test, y_pred))\n",
    "\n",
    "print(cv.best_params_)"
   ]
  },
  {
   "cell_type": "code",
   "execution_count": 20,
   "metadata": {},
   "outputs": [
    {
     "name": "stdout",
     "output_type": "stream",
     "text": [
      "Train accuracy: 0.8708181818181818\n",
      "Test accuracy: 0.870803538964974\n",
      "              precision    recall  f1-score   support\n",
      "\n",
      "           0       0.87      1.00      0.93      7185\n",
      "           1       0.00      0.00      0.00      1066\n",
      "\n",
      "   micro avg       0.87      0.87      0.87      8251\n",
      "   macro avg       0.44      0.50      0.47      8251\n",
      "weighted avg       0.76      0.87      0.81      8251\n",
      "\n",
      "{'alpha': 1e-06, 'hidden_layer_sizes': (3,)}\n"
     ]
    }
   ],
   "source": [
    "# step = int((X_train_rfe.shape[1] + 5)/5);\n",
    "params = {'hidden_layer_sizes': [(3,), (5,), (7,), (9,)], 'alpha': [pow(10, x) for x in range(-6, -3)]}\n",
    "\n",
    "cv = GridSearchCV(param_grid=params, estimator=MLPClassifier(random_state=rs), cv=10, n_jobs=-1)\n",
    "cv.fit(X_train_sel, y_train)\n",
    "\n",
    "print(\"Train accuracy:\", cv.score(X_train_sel, y_train))\n",
    "print(\"Test accuracy:\", cv.score(X_test_sel, y_test))\n",
    "\n",
    "y_pred = cv.predict(X_test_sel)\n",
    "print(classification_report(y_test, y_pred))\n",
    "\n",
    "print(cv.best_params_)"
   ]
  },
  {
   "cell_type": "code",
   "execution_count": 21,
   "metadata": {},
   "outputs": [
    {
     "name": "stdout",
     "output_type": "stream",
     "text": [
      "Train accuracy: 0.8707878787878788\n",
      "Test accuracy: 0.870803538964974\n",
      "              precision    recall  f1-score   support\n",
      "\n",
      "           0       0.87      1.00      0.93      7185\n",
      "           1       0.00      0.00      0.00      1066\n",
      "\n",
      "   micro avg       0.87      0.87      0.87      8251\n",
      "   macro avg       0.44      0.50      0.47      8251\n",
      "weighted avg       0.76      0.87      0.81      8251\n",
      "\n",
      "MLPClassifier(activation='relu', alpha=1e-06, batch_size='auto', beta_1=0.9,\n",
      "       beta_2=0.999, early_stopping=False, epsilon=1e-08,\n",
      "       hidden_layer_sizes=(3,), learning_rate='constant',\n",
      "       learning_rate_init=0.001, max_iter=200, momentum=0.9,\n",
      "       n_iter_no_change=10, nesterovs_momentum=True, power_t=0.5,\n",
      "       random_state=10, shuffle=True, solver='adam', tol=0.0001,\n",
      "       validation_fraction=0.1, verbose=False, warm_start=False)\n"
     ]
    }
   ],
   "source": [
    "DT_mat = DT_features.values\n",
    "DT_train, DT_test, DT_y_train, DT_y_test = train_test_split(DT_mat, y, test_size=0.2, stratify=y, random_state=rs)\n",
    "DT_train = scaler.fit_transform(DT_train) # Scale the data\n",
    "DT_test = scaler.transform(DT_test) # and the training data\n",
    "\n",
    "\n",
    "# MLP with decision tree features\n",
    "modelMLP = MLPClassifier(hidden_layer_sizes = (3,), alpha = 1e-6, random_state=rs) # Define the model\n",
    "modelMLP.fit(DT_train, y_train) # Fit it\n",
    "\n",
    "print(\"Train accuracy:\", modelMLP.score(DT_train, DT_y_train))\n",
    "print(\"Test accuracy:\", modelMLP.score(DT_test, DT_y_test))\n",
    "\n",
    "y_predMLP = modelMLP.predict(DT_test)\n",
    "print(classification_report(DT_y_test, y_predMLP))\n",
    "\n",
    "print(modelMLP)"
   ]
  },
  {
   "cell_type": "code",
   "execution_count": 22,
   "metadata": {},
   "outputs": [
    {
     "name": "stdout",
     "output_type": "stream",
     "text": [
      "Train accuracy: 0.8708181818181818\n",
      "Test accuracy: 0.870803538964974\n",
      "              precision    recall  f1-score   support\n",
      "\n",
      "           0       0.87      1.00      0.93      7185\n",
      "           1       0.00      0.00      0.00      1066\n",
      "\n",
      "   micro avg       0.87      0.87      0.87      8251\n",
      "   macro avg       0.44      0.50      0.47      8251\n",
      "weighted avg       0.76      0.87      0.81      8251\n",
      "\n",
      "MLPClassifier(activation='relu', alpha=1e-06, batch_size='auto', beta_1=0.9,\n",
      "       beta_2=0.999, early_stopping=False, epsilon=1e-08,\n",
      "       hidden_layer_sizes=(3,), learning_rate='constant',\n",
      "       learning_rate_init=0.001, max_iter=200, momentum=0.9,\n",
      "       n_iter_no_change=10, nesterovs_momentum=True, power_t=0.5,\n",
      "       random_state=10, shuffle=True, solver='adam', tol=0.0001,\n",
      "       validation_fraction=0.1, verbose=False, warm_start=False)\n"
     ]
    }
   ],
   "source": [
    "# MLP with rfe features\n",
    "modelMLP = MLPClassifier(hidden_layer_sizes = (3,), alpha = 1e-6, random_state=rs) # Define the model\n",
    "modelMLP.fit(X_train_sel, y_train) # Fit it\n",
    "\n",
    "print(\"Train accuracy:\", modelMLP.score(X_train_sel, y_train))\n",
    "print(\"Test accuracy:\", modelMLP.score(X_test_sel, y_test))\n",
    "\n",
    "y_predMLP = modelMLP.predict(X_test_sel)\n",
    "print(classification_report(y_test, y_predMLP))\n",
    "\n",
    "print(modelMLP)"
   ]
  },
  {
   "cell_type": "code",
   "execution_count": 23,
   "metadata": {},
   "outputs": [
    {
     "name": "stdout",
     "output_type": "stream",
     "text": [
      "ROC index on test for DT: 0.5335497394639918\n",
      "ROC index on test for logistic regression: 0.6086886898257131\n",
      "ROC index on test for NN: 0.6105647318718249\n"
     ]
    }
   ],
   "source": [
    "# Decision Tree\n",
    "modelDT = DecisionTreeClassifier(random_state=rs) # Define the model\n",
    "modelDT.fit(X_train_sel, y_train) # Fit with data\n",
    "\n",
    "# Neural network\n",
    "modelMLP = MLPClassifier(random_state=rs) # Define the model\n",
    "modelMLP.fit(X_train_sel, y_train) # Fit it\n",
    "\n",
    "# Logisitc Regression\n",
    "modelLG = LogisticRegression(random_state=rs) # Define the model\n",
    "modelLG.fit(X_train_sel, y_train) # fit it to training data\n",
    "\n",
    "# Compare the models\n",
    "\n",
    "# ROC AUC\n",
    "y_pred_proba_dt = modelDT.predict_proba(X_test_sel)\n",
    "y_pred_proba_log_reg = modelLG.predict_proba(X_test_sel)\n",
    "y_pred_proba_nn = modelMLP.predict_proba(X_test_sel)\n",
    "\n",
    "roc_index_dt = roc_auc_score(y_test, y_pred_proba_dt[:, 1])\n",
    "roc_index_log_reg = roc_auc_score(y_test, y_pred_proba_log_reg[:, 1])\n",
    "roc_index_nn = roc_auc_score(y_test, y_pred_proba_nn[:, 1])\n",
    "\n",
    "print(\"ROC index on test for DT:\", roc_index_dt)\n",
    "print(\"ROC index on test for logistic regression:\", roc_index_log_reg)\n",
    "print(\"ROC index on test for NN:\", roc_index_nn)"
   ]
  },
  {
   "cell_type": "code",
   "execution_count": 24,
   "metadata": {},
   "outputs": [
    {
     "data": {
      "image/png": "[encoded data removed]",
      "text/plain": [
       "<Figure size 432x288 with 1 Axes>"
      ]
     },
     "metadata": {
      "needs_background": "light"
     },
     "output_type": "display_data"
    }
   ],
   "source": [
    "fpr_dt, tpr_dt, thresholds_dt = roc_curve(y_test, y_pred_proba_dt[:,1])\n",
    "fpr_log_reg, tpr_log_reg, thresholds_log_reg = roc_curve(y_test, y_pred_proba_log_reg[:,1])\n",
    "fpr_nn, tpr_nn, thresholds_nn = roc_curve(y_test, y_pred_proba_nn[:,1])\n",
    "\n",
    "plt.plot(fpr_dt, tpr_dt, label='ROC Curve for DT {:.3f}'.format(roc_index_dt), color='red', lw=0.5)\n",
    "plt.plot(fpr_log_reg, tpr_log_reg, label='ROC Curve for Log reg {:.3f}'.format(roc_index_log_reg), color='green', lw=0.5)\n",
    "plt.plot(fpr_nn, tpr_nn, label='ROC Curve for NN {:.3f}'.format(roc_index_nn), color='darkorange', lw=0.5)\n",
    "\n",
    "# plt.plot(fpr[2], tpr[2], color='darkorange',\n",
    "#          lw=lw, label='ROC curve (area = %0.2f)' % roc_auc[2])\n",
    "plt.plot([0, 1], [0, 1], color='navy', lw=0.5, linestyle='--')\n",
    "plt.xlim([0.0, 1.0])\n",
    "plt.ylim([0.0, 1.0])\n",
    "plt.xlabel('False Positive Rate')\n",
    "plt.ylabel('True Positive Rate')\n",
    "plt.title('Receiver operating characteristic example')\n",
    "plt.legend(loc=\"lower right\")\n",
    "plt.show()"
   ]
  },
  {
   "cell_type": "markdown",
   "metadata": {},
   "source": [
    "# Ensemble Model"
   ]
  },
  {
   "cell_type": "code",
   "execution_count": 25,
   "metadata": {},
   "outputs": [
    {
     "name": "stdout",
     "output_type": "stream",
     "text": [
      "Ensemble train accuracy: 0.9523030303030303\n",
      "Ensemble test accuracy: 0.856381044721852\n",
      "ROC score of voting classifier: 0.655989847516911\n"
     ]
    }
   ],
   "source": [
    "# initialise the classifier with 3 different estimators\n",
    "voting = VotingClassifier(estimators=[('dt', modelDT), ('lr', modelLG), ('nn', modelMLP)], voting='soft')\n",
    "\n",
    "# fit the voting classifier to training data\n",
    "voting.fit(X_train, y_train)\n",
    "\n",
    "# evaluate train and test accuracy\n",
    "print(\"Ensemble train accuracy:\", voting.score(X_train, y_train))\n",
    "print(\"Ensemble test accuracy:\", voting.score(X_test, y_test))\n",
    "\n",
    "# evaluate ROC auc score\n",
    "y_pred_proba_ensemble = voting.predict_proba(X_test)\n",
    "roc_index_ensemble = roc_auc_score(y_test, y_pred_proba_ensemble[:, 1])\n",
    "print(\"ROC score of voting classifier:\", roc_index_ensemble)"
   ]
  },
  {
   "cell_type": "code",
   "execution_count": null,
   "metadata": {},
   "outputs": [],
   "source": []
  },
  {
   "cell_type": "code",
   "execution_count": null,
   "metadata": {},
   "outputs": [],
   "source": []
  },
  {
   "cell_type": "code",
   "execution_count": null,
   "metadata": {},
   "outputs": [],
   "source": []
  }
 ],
 "metadata": {
  "kernelspec": {
   "display_name": "Python 3",
   "language": "python",
   "name": "python3"
  },
  "language_info": {
   "codemirror_mode": {
    "name": "ipython",
    "version": 3
   },
   "file_extension": ".py",
   "mimetype": "text/x-python",
   "name": "python",
   "nbconvert_exporter": "python",
   "pygments_lexer": "ipython3",
   "version": "3.7.1"
  }
 },
 "nbformat": 4,
 "nbformat_minor": 2
}

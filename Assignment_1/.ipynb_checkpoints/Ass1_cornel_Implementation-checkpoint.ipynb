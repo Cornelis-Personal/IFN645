{
 "cells": [
  {
   "cell_type": "markdown",
   "metadata": {},
   "source": [
    "# Assignment 1: \n",
    "Cornelis de Jager n8891974<br>\n",
    "Daniel Brandenburg n8867887<br>\n",
    "Joel Schwaber n10241337<br>"
   ]
  },
  {
   "cell_type": "code",
   "execution_count": 18,
   "metadata": {},
   "outputs": [
    {
     "name": "stdout",
     "output_type": "stream",
     "text": [
      "Requirement already satisfied: pydot in c:\\program files (x86)\\microsoft visual studio\\shared\\anaconda3_64\\lib\\site-packages (1.4.1)\n",
      "Requirement already satisfied: pyparsing>=2.1.4 in c:\\program files (x86)\\microsoft visual studio\\shared\\anaconda3_64\\lib\\site-packages (from pydot) (2.2.0)\n"
     ]
    }
   ],
   "source": [
    "# Run this if pydot needs to be installed\n",
    "!pip install pydot"
   ]
  },
  {
   "cell_type": "code",
   "execution_count": 19,
   "metadata": {},
   "outputs": [],
   "source": [
    "# Imports\n",
    "import pandas as pd\n",
    "import numpy as np\n",
    "import scipy.stats as stats\n",
    "\n",
    "# Import plotting libraries\n",
    "import matplotlib.pyplot as plt\n",
    "import seaborn as sns\n",
    "import math\n",
    "%matplotlib inline\n",
    "\n",
    "# Import ML libraries\n",
    "from sklearn.preprocessing import Imputer\n",
    "from sklearn.model_selection import GridSearchCV\n",
    "from sklearn.tree import DecisionTreeClassifier\n",
    "from sklearn.linear_model import LogisticRegression\n",
    "from sklearn.neural_network import MLPClassifier\n",
    "from sklearn.ensemble import VotingClassifier\n",
    "from sklearn import preprocessing\n",
    "from sklearn.model_selection import train_test_split\n",
    "from sklearn.feature_selection import RFECV\n",
    "from sklearn.metrics import classification_report, accuracy_score\n",
    "from sklearn.preprocessing import StandardScaler\n",
    "from sklearn.tree import export_graphviz\n",
    "from sklearn.feature_selection import SelectFromModel\n",
    "from sklearn.metrics import roc_auc_score\n",
    "from sklearn.metrics import roc_curve\n",
    "from sklearn.ensemble import VotingClassifier\n",
    "\n",
    "# Set a random state value\n",
    "rs = 10\n",
    "\n",
    "#import libraries to visualize decision trees\n",
    "import pydot\n",
    "from io import StringIO\n",
    "\n",
    "\n",
    "# Ignore Warnings and ignore them\n",
    "import warnings\n",
    "warnings.filterwarnings(\"ignore\")"
   ]
  },
  {
   "cell_type": "code",
   "execution_count": 49,
   "metadata": {},
   "outputs": [],
   "source": [
    "def categoricalPlot(cat, cat2 = 'IsBadBuy'): # Cat is the carigorical as a string i.e 'Size'\n",
    "    pd.crosstab(data[cat],data[cat2]).plot(kind=\"bar\")\n",
    "    \n",
    "def CreateAveragedColumn (A, B):\n",
    "    C = [np.nan] * len( A )\n",
    "    for i in range(len(A)):\n",
    "        C[i] = (A[i] + B[i])/2\n",
    "    \n",
    "    return C\n",
    "\n",
    "def IdentifyOutliers (column):\n",
    "    data_described = column.describe()\n",
    "    Q1 = data_described[\"25%\"]\n",
    "    Q3 = data_described[\"75%\"]\n",
    "    IQR = Q3-Q1\n",
    "    lowerLimit = Q1 - 1.5 * IQR\n",
    "    upperLimit = Q3 + 1.5 * IQR\n",
    "    output = [np.nan] * len( column )\n",
    "    for i in range(len(column)):\n",
    "        value = column[i]\n",
    "        if value < lowerLimit or value > upperLimit:\n",
    "            output[i] = True\n",
    "        else:\n",
    "            output[i] = False\n",
    "    return output\n",
    "\n",
    "def analyse_feature_importance(dm_model, feature_names, n_to_display=5):\n",
    "    # grab feature importances from the model\n",
    "    importances = dm_model.feature_importances_\n",
    "    \n",
    "    # sort them out in descending order\n",
    "    indices = np.argsort(importances)\n",
    "    indices = np.flip(indices, axis=0)\n",
    "\n",
    "    # limit to 20 features, you can leave this out to print out everything\n",
    "    indices = indices[:n_to_display]\n",
    "\n",
    "    for i in indices:\n",
    "        print(feature_names[i], ':', importances[i])\n",
    "        \n",
    "# Define a function to find the root node\n",
    "def getTreeInfo(model, feature_names):\n",
    "    n_nodes = model.tree_.node_count\n",
    "    children_left = model.tree_.children_left\n",
    "    children_right = model.tree_.children_right\n",
    "    feature = model.tree_.feature\n",
    "    threshold = model.tree_.threshold\n",
    "    features  = [feature_names[i] for i in model.tree_.feature]    \n",
    "\n",
    "    # The tree structure can be traversed to compute various properties such\n",
    "    # as the depth of each node and whether or not it is a leaf.\n",
    "    leaf_count = 0\n",
    "    node_depth = np.zeros(shape=n_nodes, dtype=np.int64)\n",
    "    is_leaves = np.zeros(shape=n_nodes, dtype=bool)\n",
    "    stack = [(0, -1)]  # seed is the root node id and its parent depth\n",
    "    while len(stack) > 0:\n",
    "        node_id, parent_depth = stack.pop()\n",
    "        node_depth[node_id] = parent_depth + 1\n",
    "        \n",
    "        # If we have a test node\n",
    "        if (children_left[node_id] != children_right[node_id]):\n",
    "            stack.append((children_left[node_id], parent_depth + 1))\n",
    "            stack.append((children_right[node_id], parent_depth + 1))\n",
    "        else:\n",
    "            leaf_count += 1\n",
    "            is_leaves[node_id] = True\n",
    "\n",
    "    print(\"The binary tree structure has \", n_nodes, \" nodes and has \", leaf_count, \" leaves\")\n",
    "\n",
    "    print(\"Root feature is \", features[0])\n",
    "    print(\"Competing featues are \", features[1], 'and ', features[2])\n",
    "    \n",
    "# Write a function that imputes median\n",
    "def ImputeMean(series):\n",
    "    return series.fillna(series.mean())\n",
    "\n",
    "def Normalize (column):\n",
    "    column =  (column - column.min())/(column.max() - column.min())\n",
    "    return column\n",
    "\n",
    "def LogTransform (column):\n",
    "    column = math.log(column)"
   ]
  },
  {
   "cell_type": "code",
   "execution_count": 58,
   "metadata": {},
   "outputs": [],
   "source": [
    "def PreProcessing (data):\n",
    "    print(\"Pre-Processing Step\")\n",
    "    \n",
    "    # Check if there are any missing target variables\n",
    "    if data['IsBadBuy'].isna().any():\n",
    "        print(\"Missing Target Variables\")\n",
    "    else:\n",
    "        print(\"No missing Target Variables\")\n",
    "    \n",
    "    \n",
    "    # Handle Bad Columns drop Columns\n",
    "    data.drop(['PRIMEUNIT', 'AUCGUART', 'WheelTypeID', 'ForSale', 'PurchaseDate', 'IsOnlineSale'], \n",
    "              axis=1, \n",
    "              inplace=True)\n",
    "    \n",
    "\n",
    "    # Handle Missing Values\n",
    "    i = 0            # Python's indexing starts at zero\n",
    "    for item in data['TopThreeAmericanName']:   # Python's for loops are a \"for each\" loop \n",
    "        if data['TopThreeAmericanName'][i] == np.nan and  data['Make'][i] == 'Hyundai':\n",
    "            data['TopThreeAmericanName'][i] = 'HYUNDAI'\n",
    "        i += 1\n",
    "        \n",
    "    i = 0            # Python's indexing starts at zero\n",
    "    for item in data['TopThreeAmericanName']:   # Python's for loops are a \"for each\" loop \n",
    "        if data['TopThreeAmericanName'][i] == np.nan and  data['Make'][i] == 'Jeep':\n",
    "            data['TopThreeAmericanName'][i] = 'JEEP'\n",
    "        i += 1\n",
    "        \n",
    "        \n",
    "    # Standardise the capitilization across all object rows\n",
    "    obj_cols = data.select_dtypes(include='object').columns # Create a list of col names\n",
    "    for i in obj_cols:              # Interate over the obj_cols list\n",
    "        data[i] = data[i].str.upper()   # Convert all strings to uppercase  \n",
    "    # Standardize USA to AMERICA\n",
    "    data['Nationality'].replace({'USA' : 'AMERICAN'}, inplace = True)\n",
    "    \n",
    "    # Turn Transmission into a binary variable with Auto = 1 and Manual = 0\n",
    "    data.rename({'Transmission' : 'Auto'}, axis = 1, inplace = True)\n",
    "    # Replace binary columns with 1s and 0s\n",
    "    data['Auto'].replace({'MANUAL' : 0, 'AUTO' : 1}, inplace=True)\n",
    "    \n",
    "    # Remove NOT AVAIL in color and place it in the NaN section\n",
    "    data['Color'].replace({'NOT AVAIL': np.nan}, inplace = True)\n",
    "    \n",
    "    \n",
    "     #This is the significance test for \n",
    "    # Check to see if VNST is a statisically significant variable\n",
    "    # Create a distribution of IsBuyBad for VNST\n",
    "    VNST_badBuy = pd.crosstab(data['IsBadBuy'], data['VNST']).loc[0]\n",
    "    VNST_goodBuy = pd.crosstab(data['IsBadBuy'], data['VNST']).loc[1]\n",
    "    pd.crosstab(data['VNST'],data['IsBadBuy']).plot(kind=\"bar\")\n",
    "    \n",
    "    # Use a Chi2 test to test if there is any corrilation between them, if there is\n",
    "    # (p < 0.05) discarde the variable\n",
    "    fScore, pValue = stats.f_oneway(VNST_badBuy, VNST_goodBuy)\n",
    "    print(\"The pValaue is \" + str(pValue) + \" which is significant enough to reject null hypothesis\")\n",
    "    print(\"Drop VNST due to statistical insignificance\")\n",
    "    data.drop('VNST', axis=1, inplace = True)\n",
    "    \n",
    "    # Seperate the Size feature into Size and Body\n",
    "    tempSize = data['Size'].str.split(' ', expand = True) # Create temp var with split column\n",
    "    data['Size'] = tempSize[0] # Save the temp var back into data\n",
    "    data['Body'] = tempSize[1] # Save the temp var back into data\n",
    "    data['Body'].fillna('CITY', inplace = True) # Assume any other cars are 'City'\n",
    "    \n",
    "    \n",
    "    data.loc[data.Size == 'VAN', 'Body'] = 'Van' # Convert Van into a body type\n",
    "    data.loc[data.Size == 'VAN', 'Body'] =  np.nan # Take van away from size, shouldn't matter once OH is done\n",
    "    \n",
    "    # Converting the TimeStamp into Quater\n",
    "    Quarter = [] # Create empty string\n",
    "    for i, _ in enumerate(data.PurchaseTimestamp): # Loop over the entire dataset\n",
    "        # Convert the epoch datetime into the quater and append to list\n",
    "        Quarter.append(pd.Timestamp(data.PurchaseTimestamp.loc[i], unit = 's').quarter)        \n",
    "    data['Quarter'] = Quarter # Create the column with list\n",
    "    data.drop('PurchaseTimestamp', axis=1, inplace = True) # Drop old TimeStamp\n",
    "    \n",
    "    \"\"\" This will take care of any Null values we don't specifically take care of\n",
    "    by replaceing the missing data with data from the same distibution\"\"\"\n",
    "   \n",
    "    data['MMRAcquisitionAuctionAveragePrice'] = data['MMRAcquisitionAuctionAveragePrice'].replace(0, np.nan)\n",
    "    data['MMRAcquisitionAuctionCleanPrice'] = data['MMRAcquisitionAuctionCleanPrice'].replace(0, np.nan)\n",
    "    data['MMRAcquisitionRetailAveragePrice'] = data['MMRAcquisitionRetailAveragePrice'].replace(0, np.nan)\n",
    "    data['MMRAcquisitonRetailCleanPrice'] = data['MMRAcquisitonRetailCleanPrice'].replace(0, np.nan)\n",
    "    data['MMRCurrentAuctionAveragePrice'] = data['MMRCurrentAuctionAveragePrice'].replace(0, np.nan)\n",
    "    data['MMRCurrentAuctionCleanPrice'] = data['MMRCurrentAuctionCleanPrice'].replace(0, np.nan)\n",
    "    data['MMRCurrentRetailAveragePrice'] = data['MMRCurrentRetailAveragePrice'].replace(0, np.nan)\n",
    "    data['MMRCurrentRetailCleanPrice'] = data['MMRCurrentRetailCleanPrice'].replace(0, np.nan)    \n",
    "    \n",
    "    # Impute and normalize\n",
    "    data[\"MMRAcquisitionAuctionAveragePrice\"] = ImputeMean(data[\"MMRAcquisitionAuctionAveragePrice\"])\n",
    "    data[\"MMRAcquisitionAuctionCleanPrice\"] =  ImputeMean(data[\"MMRAcquisitionAuctionCleanPrice\"])\n",
    "    data[\"MMRAcquisitionRetailAveragePrice\"] =  ImputeMean(data[\"MMRAcquisitionRetailAveragePrice\"])\n",
    "    data[\"MMRAcquisitonRetailCleanPrice\"] =  ImputeMean(data[\"MMRAcquisitonRetailCleanPrice\"])\n",
    "    data[\"MMRCurrentAuctionAveragePrice\"] =  ImputeMean(data[\"MMRCurrentAuctionAveragePrice\"])\n",
    "    data[\"MMRCurrentAuctionCleanPrice\"] =  ImputeMean(data[\"MMRCurrentAuctionCleanPrice\"])\n",
    "    data[\"MMRCurrentRetailAveragePrice\"] =  ImputeMean(data[\"MMRCurrentRetailAveragePrice\"])\n",
    "    data[\"MMRCurrentRetailCleanPrice\"] =  ImputeMean(data[\"MMRCurrentRetailCleanPrice\"])\n",
    "    data[\"VehOdo\"] = ImputeMean(data[\"VehOdo\"])\n",
    "    data[\"VehBCost\"] = ImputeMean(data[\"VehBCost\"])\n",
    "    data[\"WarrantyCost\"] = ImputeMean(data[\"WarrantyCost\"])\n",
    "    \n",
    "    print(np.corrcoef(data[\"MMRAcquisitionAuctionAveragePrice\"], data[\"MMRAcquisitionAuctionCleanPrice\"]))\n",
    "    print(np.corrcoef(data[\"MMRAcquisitionRetailAveragePrice\"], data[\"MMRAcquisitonRetailCleanPrice\"]))\n",
    "    print(np.corrcoef(data[\"MMRCurrentAuctionAveragePrice\"], data[\"MMRCurrentAuctionCleanPrice\"]))\n",
    "    print(np.corrcoef(data[\"MMRCurrentRetailAveragePrice\"], data[\"MMRCurrentRetailCleanPrice\"])) \n",
    "    \n",
    "    print(data[\"MMRAcquisitionAuctionAveragePrice\"][data[\"MMRAcquisitionAuctionAveragePrice\"] == 0])\n",
    "    \n",
    "    \"\"\" Create the new columns \"\"\"\n",
    "    data[\"AcquisitionAuctionprice\"] = CreateAveragedColumn(data[\"MMRAcquisitionAuctionAveragePrice\"], data[\"MMRAcquisitionAuctionCleanPrice\"])\n",
    "    data[\"AcquisitionRetailPrice\"] = CreateAveragedColumn(data[\"MMRAcquisitionRetailAveragePrice\"], data[\"MMRAcquisitonRetailCleanPrice\"])\n",
    "    data[\"MMRCurrentAuctionPrice\"] = CreateAveragedColumn(data[\"MMRCurrentAuctionAveragePrice\"], data[\"MMRCurrentAuctionCleanPrice\"])\n",
    "    data[\"MMRCurrentRetailPrice\"] = CreateAveragedColumn(data[\"MMRCurrentRetailAveragePrice\"], data[\"MMRCurrentRetailCleanPrice\"])\n",
    "    \n",
    "    \n",
    "    data.drop('MMRAcquisitionAuctionAveragePrice', inplace = True, axis = 1)\n",
    "    data.drop('MMRAcquisitionAuctionCleanPrice', inplace = True, axis = 1)\n",
    "    data.drop('MMRAcquisitonRetailCleanPrice', inplace = True, axis = 1)\n",
    "    data.drop('MMRCurrentAuctionAveragePrice', inplace = True, axis = 1)\n",
    "    data.drop('MMRCurrentAuctionCleanPrice', inplace = True, axis = 1)\n",
    "    data.drop('MMRCurrentRetailAveragePrice', inplace = True, axis = 1)\n",
    "    data.drop('MMRCurrentRetailCleanPrice', inplace = True, axis = 1)\n",
    "    data.drop('MMRAcquisitionRetailAveragePrice', inplace = True, axis = 1)\n",
    "    \n",
    "     conv = []\n",
    "    for i in data.columns: # Loop over dataset\n",
    "        if data[i].isna().any() == True: # Check to see if there is a NaN is the feature\n",
    "            dist = data[i].value_counts(normalize=True) # Find the distrabution of the column\n",
    "            missing = data[i].isna() # Find where the NaN are\n",
    "            # Replace the NaNs with values from the same distrabution of the column\n",
    "            data.loc[missing, i] = np.random.choice(dist.index, size=len(data[missing]),p=dist.values)       \n",
    "            conv.append(i)\n",
    "            \n",
    "    print(\"Converted all of \" , conv, \"s missing values into the same distrubution\")\n",
    "    \n",
    "    \n",
    "    # Do the box plot\n",
    "    data.boxplot(column=['AcquisitionAuctionprice', 'AcquisitionRetailPrice', 'MMRCurrentAuctionPrice', 'MMRCurrentRetailPrice'], grid = False)\n",
    "    \n",
    "     # Now do histograms\n",
    "    fig = plt.figure()\n",
    "    ax1 = fig.add_subplot(2,2,1)\n",
    "    plt.subplots_adjust(hspace=0.4, wspace = 0.3)\n",
    "    ax1 =  data[\"AcquisitionAuctionprice\"].hist()\n",
    "    ax1.set_title(\"AcquisitionAuctionprice\")\n",
    "    ax1.grid(False)\n",
    "    \n",
    "    ax2 = fig.add_subplot(2,2,2)\n",
    "    ax2 =  data[\"AcquisitionRetailPrice\"].hist()\n",
    "    ax2.set_title(\"AcquisitionRetailPrice\")\n",
    "    ax2.grid(False)\n",
    "    \n",
    "    ax3 = fig.add_subplot(2,2,3)\n",
    "    ax3 =  data[\"MMRCurrentAuctionPrice\"].hist()\n",
    "    ax3.set_title(\"MMRCurrentAuctionPrice\")\n",
    "    ax3.grid(False)\n",
    "    \n",
    "    ax4 = fig.add_subplot(2,2,4)\n",
    "    ax4 =  data[\"MMRCurrentRetailPrice\"].hist()\n",
    "    ax4.set_title(\"MMRCurrentRetailPrice\")\n",
    "    ax4.grid(False)    \n",
    "    \n",
    "    plt.savefig('preOutlierHist1', bbox_inches = \"tight\")\n",
    "    plt.show()\n",
    "\n",
    "     # Now do histograms\n",
    "    fig = plt.figure()\n",
    "    ax1 = fig.add_subplot(3,1,1)\n",
    "    plt.subplots_adjust(hspace=0.4, wspace = 0.3)\n",
    "    ax1 =  data[\"VehOdo\"].hist()\n",
    "    ax1.set_title(\"VehOdo\")\n",
    "    ax1.grid(False)\n",
    "    \n",
    "    ax2 = fig.add_subplot(3,1,2)\n",
    "    ax2 =  data[\"VehBCost\"].hist()\n",
    "    ax2.set_title(\"VehBCost\")\n",
    "    ax2.grid(False)\n",
    "    \n",
    "    ax3 = fig.add_subplot(3,1,3)\n",
    "    ax3 =  data[\"WarrantyCost\"].hist()\n",
    "    ax3.set_title(\"WarrantyCost\")\n",
    "    ax3.grid(False)\n",
    "    \n",
    "    \n",
    "    plt.savefig('preOutlierHist2', bbox_inches = \"tight\")\n",
    "    plt.show()\n",
    "    ## Identify and Remove outiers\n",
    "    outliers = (IdentifyOutliers(data[\"AcquisitionAuctionprice\"]) and\n",
    "                IdentifyOutliers(data[\"AcquisitionRetailPrice\"]) and\n",
    "                IdentifyOutliers(data[\"MMRCurrentAuctionPrice\"]) and\n",
    "                IdentifyOutliers(data[\"MMRCurrentRetailPrice\"]))\n",
    "    \n",
    "    # Select lines that aren't outliers\n",
    "    num_lines =  len(data[\"MMRCurrentRetailPrice\"])\n",
    "    data = data[[not i for i in outliers]]\n",
    "    print (\"Lines Removed: \", num_lines - len(data[\"MMRCurrentRetailPrice\"]))\n",
    "    \n",
    "    # Do the box plot\n",
    "    fig = plt.figure()\n",
    "    data.boxplot(column=['AcquisitionAuctionprice', 'AcquisitionRetailPrice', 'MMRCurrentAuctionPrice', 'MMRCurrentRetailPrice'], grid = False, rot = 45)\n",
    "    plt.savefig('postOutlierBox', bbox_inches = \"tight\")\n",
    "    plt.show\n",
    "    \n",
    "    # Now do histograms\n",
    "    fig = plt.figure()\n",
    "    plt.subplots_adjust(hspace=0.4, wspace = 0.3)\n",
    "    ax1 = fig.add_subplot(2,2,1)\n",
    "    ax1 =  data[\"AcquisitionAuctionprice\"].hist()\n",
    "    ax1.set_title(\"AcquisitionAuctionprice\")\n",
    "    ax1.grid(False)\n",
    "    ax2 = fig.add_subplot(2,2,2)\n",
    "    ax2 =  data[\"AcquisitionRetailPrice\"].hist()\n",
    "    ax2.set_title(\"AcquisitionRetailPrice\")\n",
    "    ax2.grid(False)\n",
    "    ax3 = fig.add_subplot(2,2,3)\n",
    "    ax3 =  data[\"MMRCurrentAuctionPrice\"].hist()\n",
    "    ax3.set_title(\"MMRCurrentAuctionPrice\")\n",
    "    ax3.grid(False)\n",
    "    ax4 = fig.add_subplot(2,2,4)\n",
    "    ax4 =  data[\"MMRCurrentRetailPrice\"].hist()\n",
    "    ax4.set_title(\"MMRCurrentRetailPrice\")\n",
    "    ax4.grid(False)\n",
    "    plt.savefig('postOutlierHist', bbox_inches = \"tight\")\n",
    "    plt.show()\n",
    "    \n",
    "    # Transform the skew values\n",
    "    data[\"AcquisitionAuctionprice\"] = np.sqrt(data[\"AcquisitionAuctionprice\"])\n",
    "    data[\"MMRCurrentAuctionPrice\"] = np.sqrt(data[\"MMRCurrentAuctionPrice\"])\n",
    "    \n",
    "    data[\"AcquisitionAuctionprice\"] = Normalize(data[\"AcquisitionAuctionprice\"])\n",
    "    data[\"AcquisitionRetailPrice\"] = Normalize(data[\"AcquisitionRetailPrice\"])\n",
    "    data[\"MMRCurrentAuctionPrice\"] = Normalize(data[\"MMRCurrentAuctionPrice\"])\n",
    "    data[\"MMRCurrentRetailPrice\"] = Normalize(data[\"MMRCurrentRetailPrice\"])\n",
    "    \n",
    "    # Do the box plot\n",
    "    data.boxplot(column=['AcquisitionAuctionprice', 'AcquisitionRetailPrice', 'MMRCurrentAuctionPrice', 'MMRCurrentRetailPrice'], grid = False)\n",
    "    \n",
    "    # Now do histograms\n",
    "    fig = plt.figure()\n",
    "    ax1 = fig.add_subplot(2,2,1)\n",
    "    ax1 =  data[\"AcquisitionAuctionprice\"].hist()\n",
    "    ax1.grid(False)\n",
    "    ax2 = fig.add_subplot(2,2,2)\n",
    "    ax2 =  data[\"AcquisitionRetailPrice\"].hist()\n",
    "    ax2.grid(False)\n",
    "    ax3 = fig.add_subplot(2,2,3)\n",
    "    ax3 =  data[\"MMRCurrentAuctionPrice\"].hist()\n",
    "    ax3.grid(False)\n",
    "    ax4 = fig.add_subplot(2,2,4)\n",
    "    ax4 =  data[\"MMRCurrentRetailPrice\"].hist()\n",
    "    ax4.grid(False)\n",
    "    plt.show()\n",
    "    \n",
    "    \n",
    "    \"\"\" plot the categorial data \"\"\"\n",
    "    fig = plt.figure()\n",
    "    ax1 =  data[\"Make\"].value_counts().plot(kind = 'bar')\n",
    "    ax1.set_title(\"Make\")\n",
    "    ax1.grid(False)\n",
    "    plt.savefig('makeHist', bbox_inches = \"tight\")\n",
    "    plt.show()\n",
    "    \n",
    "    fig = plt.figure()\n",
    "    ax1 =  data[\"Color\"].value_counts().plot(kind = 'bar')\n",
    "    ax1.set_title(\"Color\")\n",
    "    ax1.grid(False)\n",
    "    plt.savefig('colourHist', bbox_inches = \"tight\")\n",
    "    plt.show()\n",
    "    \n",
    "    fig = plt.figure()\n",
    "    plt.subplots_adjust(hspace=0.8, wspace = 0.4)\n",
    "    ax1 = fig.add_subplot(2,2,1)\n",
    "    ax1 =  data[\"VehYear\"].value_counts().plot(kind = 'bar', rot = 90)\n",
    "    ax1.set_title(\"VehYear\")\n",
    "    ax1.grid(False)\n",
    "    ax2 = fig.add_subplot(2,2,2)\n",
    "    ax2 =  data[\"Auction\"].value_counts().plot(kind = 'bar', rot = 90)\n",
    "    ax2.set_title(\"Auction\")\n",
    "    ax2.grid(False)\n",
    "    ax3 = fig.add_subplot(2,2,3)\n",
    "    ax3 =  data[\"Size\"].value_counts().plot(kind = 'bar', rot = 90)\n",
    "    ax3.set_title(\"Size\")\n",
    "    ax3.grid(False)\n",
    "    ax4 = fig.add_subplot(2,2,4)\n",
    "    ax4 =  data[\"Body\"].value_counts().plot(kind = 'bar', rot = 90)\n",
    "    ax4.set_title(\"Body\")\n",
    "    ax4.grid(False)\n",
    "    plt.savefig('othersHist', bbox_inches = \"tight\")\n",
    "    plt.show()\n",
    "    \n",
    "    \"\"\" This should be the last thing done \"\"\"\n",
    "    # Convert all categorical variables into one hot representations\n",
    "    \n",
    "    print(\"The number of features before one hot encoding is \" + str(data.shape[1]))\n",
    "    data_OH = pd.get_dummies(data, columns = ['Auction', 'Make', 'Color', 'VehYear', \n",
    "                                              'Nationality', 'Size', 'Body', 'TopThreeAmericanName', \n",
    "                                              'WheelType', 'Quarter'])\n",
    "    print(\"The number of features after one hot encoding is \" + str(data_OH.shape[1]))\n",
    "    data_OH [\"IsBadBuy\"] = data['IsBadBuy']\n",
    "    \n",
    "    data.describe()\n",
    "    data.info()\n",
    "    \n",
    "    return data, data_OH"
   ]
  },
  {
   "cell_type": "code",
   "execution_count": 60,
   "metadata": {},
   "outputs": [
    {
     "name": "stdout",
     "output_type": "stream",
     "text": [
      "Pre-Processing Step\n",
      "No missing Target Variables\n",
      "Drop VNST due to statistical insignificance\n",
      "Converted all of  ['Auction', 'VehYear', 'Make', 'Color', 'Auto', 'WheelType', 'VehOdo', 'Nationality', 'Size', 'TopThreeAmericanName', 'MMRAcquisitionAuctionAveragePrice', 'MMRAcquisitionAuctionCleanPrice', 'MMRAcquisitionRetailAveragePrice', 'MMRAcquisitonRetailCleanPrice', 'MMRCurrentAuctionAveragePrice', 'MMRCurrentAuctionCleanPrice', 'MMRCurrentRetailAveragePrice', 'MMRCurrentRetailCleanPrice', 'MMRCurrentRetailRatio', 'VehBCost', 'WarrantyCost', 'Body'] s missing values into the same distrubution\n",
      "[[1.         0.98006539]\n",
      " [0.98006539 1.        ]]\n",
      "[[1.         0.98393907]\n",
      " [0.98393907 1.        ]]\n",
      "[[1.         0.97656926]\n",
      " [0.97656926 1.        ]]\n",
      "[[1.         0.98323274]\n",
      " [0.98323274 1.        ]]\n",
      "Series([], Name: MMRAcquisitionAuctionAveragePrice, dtype: float64)\n"
     ]
    },
    {
     "data": {
      "image/png": "[encoded data removed]",
      "text/plain": [
       "<Figure size 432x288 with 1 Axes>"
      ]
     },
     "metadata": {},
     "output_type": "display_data"
    },
    {
     "data": {
      "image/png": "[encoded data removed]",
      "text/plain": [
       "<Figure size 432x288 with 4 Axes>"
      ]
     },
     "metadata": {},
     "output_type": "display_data"
    },
    {
     "name": "stdout",
     "output_type": "stream",
     "text": [
      "Lines Removed:  224\n"
     ]
    },
    {
     "data": {
      "image/png": "[encoded data removed]",
      "text/plain": [
       "<Figure size 432x288 with 1 Axes>"
      ]
     },
     "metadata": {},
     "output_type": "display_data"
    },
    {
     "data": {
      "image/png": "[encoded data removed]",
      "text/plain": [
       "<Figure size 432x288 with 4 Axes>"
      ]
     },
     "metadata": {},
     "output_type": "display_data"
    },
    {
     "data": {
      "image/png": "[encoded data removed]",
      "text/plain": [
       "<Figure size 432x288 with 1 Axes>"
      ]
     },
     "metadata": {},
     "output_type": "display_data"
    },
    {
     "data": {
      "image/png": "[encoded data removed]",
      "text/plain": [
       "<Figure size 432x288 with 4 Axes>"
      ]
     },
     "metadata": {},
     "output_type": "display_data"
    },
    {
     "name": "stdout",
     "output_type": "stream",
     "text": [
      "The number of features before one hot encoding is 20\n",
      "The number of features after one hot encoding is 94\n",
      "<class 'pandas.core.frame.DataFrame'>\n",
      "Int64Index: 41252 entries, 0 to 41475\n",
      "Data columns (total 20 columns):\n",
      "Auction                    41252 non-null object\n",
      "VehYear                    41252 non-null float64\n",
      "Make                       41252 non-null object\n",
      "Color                      41252 non-null object\n",
      "Auto                       41252 non-null float64\n",
      "WheelType                  41252 non-null object\n",
      "VehOdo                     41252 non-null float64\n",
      "Nationality                41252 non-null object\n",
      "Size                       41252 non-null object\n",
      "TopThreeAmericanName       41252 non-null object\n",
      "MMRCurrentRetailRatio      41252 non-null float64\n",
      "VehBCost                   41252 non-null float64\n",
      "WarrantyCost               41252 non-null float64\n",
      "IsBadBuy                   41252 non-null int64\n",
      "Body                       41252 non-null object\n",
      "Quarter                    41252 non-null int64\n",
      "AcquisitionAuctionprice    41252 non-null float64\n",
      "AcquisitionRetailPrice     41252 non-null float64\n",
      "MMRCurrentAuctionPrice     41252 non-null float64\n",
      "MMRCurrentRetailPrice      41252 non-null float64\n",
      "dtypes: float64(10), int64(2), object(8)\n",
      "memory usage: 6.6+ MB\n",
      "Questin 1.1 :\n",
      "12.920585668573645 %\n"
     ]
    }
   ],
   "source": [
    "data_raw = pd.read_csv(\"Kick.csv\", # Read the csv into a DF\n",
    "                   index_col = 'PurchaseID', \n",
    "                   na_values = ('?',  '#VALUE!'))\n",
    "\n",
    "data, data_OH = PreProcessing(data_raw) # PreProcess the data\n",
    "\n",
    "counts = data[\"IsBadBuy\"].value_counts()\n",
    "total = data[\"IsBadBuy\"].count()\n",
    "    \n",
    "# calculate the percentage\n",
    "# kick is where IsBadBuy == 1\n",
    "kickPersentage = counts[1] / total * 100\n",
    "print (\"Questin 1.1 :\")\n",
    "print( kickPersentage, \"%\")\n",
    "\n",
    "# target/input split\n",
    "y = data_OH['IsBadBuy']\n",
    "X = data_OH.drop(['IsBadBuy'], axis=1)\n",
    "\n",
    "X_mat = X.values # Canvert X into a matrix\n",
    "X_train, X_test, y_train, y_test = train_test_split(X_mat, y, test_size=0.2, stratify=y, random_state=rs)\n",
    "\n",
    "\n"
   ]
  },
  {
   "cell_type": "markdown",
   "metadata": {},
   "source": [
    "<h1>Task 2</h1>"
   ]
  },
  {
   "cell_type": "code",
   "execution_count": 61,
   "metadata": {},
   "outputs": [
    {
     "data": {
      "text/plain": [
       "DecisionTreeClassifier(class_weight=None, criterion='gini', max_depth=None,\n",
       "            max_features=None, max_leaf_nodes=None,\n",
       "            min_impurity_decrease=0.0, min_impurity_split=None,\n",
       "            min_samples_leaf=1, min_samples_split=2,\n",
       "            min_weight_fraction_leaf=0.0, presort=False, random_state=10,\n",
       "            splitter='best')"
      ]
     },
     "execution_count": 61,
     "metadata": {},
     "output_type": "execute_result"
    }
   ],
   "source": [
    "# simple decision tree training\n",
    "DecisionTreeModel = DecisionTreeClassifier(random_state=rs)\n",
    "DecisionTreeModel.fit(X_train, y_train)"
   ]
  },
  {
   "cell_type": "markdown",
   "metadata": {},
   "source": [
    "<h2>Task 2.1</h2>\n",
    "<h3>A: What is the test accuracy?</h3>    "
   ]
  },
  {
   "cell_type": "code",
   "execution_count": 62,
   "metadata": {},
   "outputs": [
    {
     "name": "stdout",
     "output_type": "stream",
     "text": [
      "Test Model Accuracy: 0.7823294146164101\n",
      "Train Model Accuracy: 1.0\n"
     ]
    }
   ],
   "source": [
    "print(\"Test Model Accuracy:\", DecisionTreeModel.score(X_test, y_test))\n",
    "print(\"Train Model Accuracy:\", DecisionTreeModel.score(X_train, y_train))"
   ]
  },
  {
   "cell_type": "markdown",
   "metadata": {},
   "source": [
    "<h3>B: What is the size of the tree?</h3>  "
   ]
  },
  {
   "cell_type": "code",
   "execution_count": 63,
   "metadata": {},
   "outputs": [
    {
     "name": "stdout",
     "output_type": "stream",
     "text": [
      "Number of Nodes: 8647\n"
     ]
    }
   ],
   "source": [
    "print(\"Number of Nodes:\", DecisionTreeModel.tree_.node_count)"
   ]
  },
  {
   "cell_type": "markdown",
   "metadata": {},
   "source": [
    "<h3>C: How many leaves are in the tree that is selected based on the validation data set?</h3>  "
   ]
  },
  {
   "cell_type": "code",
   "execution_count": 64,
   "metadata": {},
   "outputs": [
    {
     "name": "stdout",
     "output_type": "stream",
     "text": [
      "Answer To be fileld IN\n"
     ]
    }
   ],
   "source": [
    "print(\"Answer To be fileld IN\")"
   ]
  },
  {
   "cell_type": "markdown",
   "metadata": {},
   "source": [
    "<h3>D: Which variable is used for the first split? What are the competing splits for this first split? </h3> "
   ]
  },
  {
   "cell_type": "code",
   "execution_count": 65,
   "metadata": {},
   "outputs": [
    {
     "name": "stdout",
     "output_type": "stream",
     "text": [
      "Root feature is  AcquisitionAuctionprice\n",
      "Competing featues are  VehOdo and  VehBCost\n",
      "Number of nodes is  8647\n"
     ]
    }
   ],
   "source": [
    "feature_names = X.columns\n",
    "getTreeInfo(DecisionTreeModel, feature_names) # Call the root function"
   ]
  },
  {
   "cell_type": "markdown",
   "metadata": {},
   "source": [
    "<h3>E: What are the 5 important variables in building the tree?</h3> "
   ]
  },
  {
   "cell_type": "code",
   "execution_count": 66,
   "metadata": {},
   "outputs": [
    {
     "name": "stdout",
     "output_type": "stream",
     "text": [
      "VehOdo : 0.11419588537537224\n",
      "VehBCost : 0.10399621998485922\n",
      "AcquisitionAuctionprice : 0.10095966699390098\n",
      "MMRCurrentRetailRatio : 0.10030465966553821\n",
      "MMRCurrentAuctionPrice : 0.08424921108176504\n"
     ]
    }
   ],
   "source": [
    "analyse_feature_importance(DecisionTreeModel, feature_names, n_to_display=5)"
   ]
  },
  {
   "cell_type": "markdown",
   "metadata": {},
   "source": [
    "<h3>F: Report if you see any evidence of model overfitting</h3> "
   ]
  },
  {
   "cell_type": "code",
   "execution_count": 67,
   "metadata": {},
   "outputs": [
    {
     "data": {
      "image/png": "[encoded data removed]",
      "text/plain": [
       "<Figure size 432x288 with 1 Axes>"
      ]
     },
     "metadata": {},
     "output_type": "display_data"
    }
   ],
   "source": [
    "test_score = []\n",
    "train_score = []\n",
    "\n",
    "currRange = range(2 , DecisionTreeModel.tree_.max_depth)\n",
    "# check the model performance for max depth from 2-20\n",
    "for max_depth in currRange:\n",
    "    model = DecisionTreeClassifier(max_depth=max_depth, random_state=rs)\n",
    "    model.fit(X_train, y_train)\n",
    "    \n",
    "    test_score.append(model.score(X_test, y_test))\n",
    "    train_score.append(model.score(X_train, y_train))\n",
    "    \n",
    "# plot max depth hyperparameter values vs training and test accuracy score\n",
    "plt.plot(currRange, train_score, 'b', currRange, test_score, 'r')\n",
    "plt.xlabel('max_depth\\nBlue = training acc. Red = test acc.')\n",
    "plt.ylabel('accuracy')\n",
    "plt.title('Max Depth Graph')\n",
    "plt.show()"
   ]
  },
  {
   "cell_type": "markdown",
   "metadata": {},
   "source": [
    "<p>As seen from the graph above, the error is low and accuracy is very high at the same depth as the original model, this is a clear sign of overfitting.</p>"
   ]
  },
  {
   "cell_type": "markdown",
   "metadata": {},
   "source": [
    "<h3>G: Did changing the default setting help improving the model?</h3> "
   ]
  },
  {
   "cell_type": "code",
   "execution_count": 68,
   "metadata": {},
   "outputs": [
    {
     "data": {
      "image/png": "[encoded data removed]",
      "text/plain": [
       "<Figure size 432x288 with 1 Axes>"
      ]
     },
     "metadata": {},
     "output_type": "display_data"
    }
   ],
   "source": [
    "train_score = []\n",
    "test_score = []\n",
    "\n",
    "for min_samples_split in currRange:\n",
    "    model = DecisionTreeClassifier(min_samples_split=min_samples_split)\n",
    "    model.fit(X_train, y_train)\n",
    "    \n",
    "    test_score.append(model.score(X_test, y_test))\n",
    "    train_score.append(model.score(X_train, y_train))\n",
    "    \n",
    "# plot max depth hyperparameter values vs training and test accuracy score\n",
    "plt.plot(currRange, train_score, 'b', currRange, test_score, 'r')\n",
    "plt.xlabel('min_samples_split\\nBlue = training acc. Red = test acc.')\n",
    "plt.ylabel('accuracy')\n",
    "plt.title('Minimum Split Graphs ')\n",
    "plt.show()"
   ]
  },
  {
   "cell_type": "markdown",
   "metadata": {},
   "source": [
    "<p>If we compare the 'Minimum Spit Graph' to that of the 'Max Depth Graph' graph, it becomes clear that forcing additional splits both reduces over fitting and increases accuracy. However, there is still slight overfitting due to the Training Accuracy being more accurate than the Test accuracy.</p>"
   ]
  },
  {
   "cell_type": "markdown",
   "metadata": {},
   "source": [
    "<h2>Task 2.2</h2>"
   ]
  },
  {
   "cell_type": "code",
   "execution_count": 69,
   "metadata": {},
   "outputs": [
    {
     "data": {
      "text/plain": [
       "GridSearchCV(cv=10, error_score='raise',\n",
       "       estimator=DecisionTreeClassifier(class_weight=None, criterion='gini', max_depth=None,\n",
       "            max_features=None, max_leaf_nodes=None,\n",
       "            min_impurity_decrease=0.0, min_impurity_split=None,\n",
       "            min_samples_leaf=1, min_samples_split=2,\n",
       "            min_weight_fraction_leaf=0.0, presort=False, random_state=10,\n",
       "            splitter='best'),\n",
       "       fit_params=None, iid=True, n_jobs=1,\n",
       "       param_grid={'criterion': ['gini', 'entropy'], 'max_depth': range(2, 7), 'min_samples_leaf': range(20, 60, 10)},\n",
       "       pre_dispatch='2*n_jobs', refit=True, return_train_score='warn',\n",
       "       scoring=None, verbose=0)"
      ]
     },
     "execution_count": 69,
     "metadata": {},
     "output_type": "execute_result"
    }
   ],
   "source": [
    "# grid search CV\n",
    "params = {'criterion': ['gini', 'entropy'],\n",
    "          'max_depth': range(2, 7),\n",
    "          'min_samples_leaf': range(20, 60, 10)}\n",
    "\n",
    "cv = GridSearchCV(param_grid=params, estimator=DecisionTreeClassifier(random_state=rs), cv=10)\n",
    "cv.fit(X_train, y_train)"
   ]
  },
  {
   "cell_type": "markdown",
   "metadata": {},
   "source": [
    "<h3>A: What is the classification accuracy on training and test datasets? </h3>   "
   ]
  },
  {
   "cell_type": "code",
   "execution_count": 70,
   "metadata": {},
   "outputs": [
    {
     "name": "stdout",
     "output_type": "stream",
     "text": [
      "Test Accuracy: 0.870561144103745\n",
      "Train Accuracy: 0.871094815308627\n"
     ]
    }
   ],
   "source": [
    "print(\"Test Accuracy:\", cv.score(X_test, y_test))\n",
    "print(\"Train Accuracy:\", cv.score(X_train, y_train))"
   ]
  },
  {
   "cell_type": "markdown",
   "metadata": {},
   "source": [
    "<h3>B: What is the size of tree (i.e. number of nodes)? Is the size different from the maximal tree or the tree in the previous step? Why?</h3>"
   ]
  },
  {
   "cell_type": "code",
   "execution_count": 71,
   "metadata": {},
   "outputs": [
    {
     "name": "stdout",
     "output_type": "stream",
     "text": [
      "Number of Nodes: 63\n"
     ]
    }
   ],
   "source": [
    "print(\"Number of Nodes:\", cv.best_estimator_.tree_.node_count)"
   ]
  },
  {
   "cell_type": "markdown",
   "metadata": {},
   "source": [
    "<h3>C: How many leaves are in the tree that is selected based on the validation data set?</h3>  "
   ]
  },
  {
   "cell_type": "code",
   "execution_count": 72,
   "metadata": {},
   "outputs": [
    {
     "name": "stdout",
     "output_type": "stream",
     "text": [
      "To be filled in\n"
     ]
    }
   ],
   "source": [
    "print(\"To be filled in\")"
   ]
  },
  {
   "cell_type": "markdown",
   "metadata": {},
   "source": [
    "<h3>D: Which variable is used for the first split? What are the competing splits for this first split? </h3>  "
   ]
  },
  {
   "cell_type": "code",
   "execution_count": 73,
   "metadata": {},
   "outputs": [
    {
     "name": "stdout",
     "output_type": "stream",
     "text": [
      "Root feature is  MMRCurrentAuctionPrice\n",
      "Competing featues are  VehBCost and  VehOdo\n",
      "Number of nodes is  63\n"
     ]
    }
   ],
   "source": [
    "getTreeInfo(cv.best_estimator_, feature_names) # Call the root function"
   ]
  },
  {
   "cell_type": "markdown",
   "metadata": {},
   "source": [
    "<h3>E: What are the 5 important variables in building the tree?</h3>"
   ]
  },
  {
   "cell_type": "code",
   "execution_count": 78,
   "metadata": {},
   "outputs": [
    {
     "name": "stdout",
     "output_type": "stream",
     "text": [
      "MMRCurrentAuctionPrice : 0.3602737709846153\n",
      "VehBCost : 0.11378603285307759\n",
      "Body_CITY : 0.10157863608525795\n",
      "AcquisitionAuctionprice : 0.0744336610108973\n",
      "WheelType_COVERS : 0.051819212485568776\n"
     ]
    }
   ],
   "source": [
    "feature_names = X.columns\n",
    "analyse_feature_importance(cv.best_estimator_, feature_names, n_to_display=5)"
   ]
  },
  {
   "cell_type": "markdown",
   "metadata": {},
   "source": [
    "<h3>F: Report if you see any evidence of model overfitting</h3> "
   ]
  },
  {
   "cell_type": "markdown",
   "metadata": {},
   "source": [
    "<p>As seen in Task 2.2 A - the test accuracy is very simmular to the train accuracy. This Indiates that there is no overfitting done, and that the model is indeed well balanced.</p>"
   ]
  },
  {
   "cell_type": "markdown",
   "metadata": {},
   "source": [
    "<h3>G: What are the parameters used?</h3> "
   ]
  },
  {
   "cell_type": "code",
   "execution_count": 79,
   "metadata": {},
   "outputs": [
    {
     "name": "stdout",
     "output_type": "stream",
     "text": [
      "MMRCurrentAuctionPrice : 0.3602737709846153\n",
      "VehBCost : 0.11378603285307759\n",
      "Body_CITY : 0.10157863608525795\n",
      "AcquisitionAuctionprice : 0.0744336610108973\n",
      "WheelType_COVERS : 0.051819212485568776\n",
      "VehOdo : 0.05108669110760552\n",
      "MMRCurrentRetailPrice : 0.04467365774096737\n",
      "Size_MEDIUM : 0.035638793612632974\n",
      "Auction_ADESA : 0.026489020523242677\n",
      "Make_CHEVROLET : 0.02524603600980025\n",
      "TopThreeAmericanName_FORD : 0.024252204250638724\n",
      "AcquisitionRetailPrice : 0.020029795200675455\n",
      "VehYear_2003.0 : 0.01865416206336476\n",
      "Auction_MANHEIM : 0.013623470118327291\n",
      "VehYear_2002.0 : 0.012926956309874074\n",
      "WarrantyCost : 0.012255397318342243\n",
      "VehYear_2001.0 : 0.00742414031565726\n",
      "Quarter_2 : 0.005808362009454347\n",
      "Make_NISSAN : 0.0\n",
      "Make_LINCOLN : 0.0\n",
      "Make_MAZDA : 0.0\n",
      "Make_MERCURY : 0.0\n",
      "Make_MINI : 0.0\n",
      "Make_MITSUBISHI : 0.0\n",
      "Quarter_4 : 0.0\n",
      "Make_OLDSMOBILE : 0.0\n",
      "Make_PONTIAC : 0.0\n",
      "Make_SATURN : 0.0\n",
      "Make_SCION : 0.0\n",
      "Make_SUBARU : 0.0\n",
      "Make_TOYOTA : 0.0\n",
      "Make_SUZUKI : 0.0\n",
      "Make_GMC : 0.0\n",
      "Make_LEXUS : 0.0\n",
      "Make_DODGE : 0.0\n",
      "MMRCurrentRetailRatio : 0.0\n",
      "Auction_OTHER : 0.0\n",
      "Make_ACURA : 0.0\n",
      "Make_BUICK : 0.0\n",
      "Make_CADILLAC : 0.0\n",
      "Make_CHRYSLER : 0.0\n",
      "Make_FORD : 0.0\n",
      "Make_KIA : 0.0\n",
      "Make_VOLVO : 0.0\n",
      "Make_HONDA : 0.0\n",
      "Make_HYUNDAI : 0.0\n",
      "Make_INFINITI : 0.0\n",
      "Make_ISUZU : 0.0\n",
      "Make_JEEP : 0.0\n",
      "Make_VOLKSWAGEN : 0.0\n",
      "Color_GOLD : 0.0\n",
      "Color_BEIGE : 0.0\n",
      "Size_SPORTS : 0.0\n",
      "Nationality_OTHER : 0.0\n",
      "Nationality_OTHER ASIAN : 0.0\n",
      "Nationality_TOP LINE ASIAN : 0.0\n",
      "Size_COMPACT : 0.0\n",
      "Size_CROSSOVER : 0.0\n",
      "Size_LARGE : 0.0\n",
      "Size_SMALL : 0.0\n",
      "Size_SPECIALTY : 0.0\n",
      "Size_VAN : 0.0\n",
      "Color_BLACK : 0.0\n",
      "Body_SUV : 0.0\n",
      "Body_TRUCK : 0.0\n",
      "TopThreeAmericanName_CHRYSLER : 0.0\n",
      "TopThreeAmericanName_GM : 0.0\n",
      "TopThreeAmericanName_OTHER : 0.0\n",
      "WheelType_ALLOY : 0.0\n",
      "WheelType_SPECIAL : 0.0\n",
      "Quarter_1 : 0.0\n",
      "Nationality_AMERICAN : 0.0\n",
      "VehYear_2010.0 : 0.0\n",
      "VehYear_2009.0 : 0.0\n",
      "VehYear_2008.0 : 0.0\n",
      "Color_BLUE : 0.0\n",
      "Color_BROWN : 0.0\n",
      "Quarter_3 : 0.0\n",
      "Color_GREEN : 0.0\n",
      "Color_GREY : 0.0\n",
      "Color_MAROON : 0.0\n",
      "Color_ORANGE : 0.0\n",
      "Color_OTHER : 0.0\n",
      "Color_PURPLE : 0.0\n",
      "Color_RED : 0.0\n",
      "Color_SILVER : 0.0\n",
      "Color_WHITE : 0.0\n",
      "Color_YELLOW : 0.0\n",
      "VehYear_2004.0 : 0.0\n",
      "VehYear_2005.0 : 0.0\n",
      "VehYear_2006.0 : 0.0\n",
      "VehYear_2007.0 : 0.0\n",
      "Auto : 0.0\n"
     ]
    }
   ],
   "source": [
    "analyse_feature_importance(cv.best_estimator_, feature_names, n_to_display=len(feature_names))"
   ]
  },
  {
   "cell_type": "markdown",
   "metadata": {},
   "source": [
    "<h2>Task 2.3</h2>"
   ]
  },
  {
   "cell_type": "markdown",
   "metadata": {},
   "source": [
    "There are three main differences to concider between the model in 2.1 and 2.2.\n",
    "\n",
    "<b>Performance</b><br>\n",
    "Due to the Node size in 2.1 (4000 < nodes), the model performance is much lower than that of 2.2 (100 > nodes). Meaning when running the, 2.2 finds a solution much faster than 2.1\n",
    "\n",
    "<b>Accuracy</b><br>\n",
    "Due to the size of the tree in 2.1, one would assume that the accuracy is much higher, however, this is only true for the TRAIN data. Due to the size of the model, overfitting occurs and reduces the accuracy of the model on the TEST data.\n",
    "\n",
    "The model in 2.2 is much smaller and one would except lower accuracy, but due to the model being well generalized it actually outperforms the overfitted model in 2.1.\n",
    "\n",
    "<b>Build Time</b><br>\n",
    "Due to model 2.2 using a CV Grid Search to find optimal features, 2.2 takes longer to build that 2.1, even though 2.1 ends up being larger."
   ]
  },
  {
   "cell_type": "markdown",
   "metadata": {},
   "source": [
    "<h2>Task 2.4</h2>"
   ]
  },
  {
   "cell_type": "code",
   "execution_count": 76,
   "metadata": {},
   "outputs": [
    {
     "name": "stdout",
     "output_type": "stream",
     "text": [
      "TBC\n"
     ]
    }
   ],
   "source": [
    "print(\"TBC\")"
   ]
  },
  {
   "cell_type": "markdown",
   "metadata": {},
   "source": [
    "<h2>Task 3.1</h2>"
   ]
  },
  {
   "cell_type": "markdown",
   "metadata": {},
   "source": [
    "<p>Yes there were values that needed to be Imputed. These Columns where:</p>\n",
    "<div style='background: #f4f4f4; border: 1px solid #ddd;border-left: 3px solid #f36d33; color: #665; page-break-inside: avoid;    font-family: monospace;font-size: 15px; line-height: 1.6; margin-bottom: 1.6em;\n",
    "    max-width: 100%;\n",
    "    overflow: auto;\n",
    "    padding: 1em 1.5em;\n",
    "    display: block;\n",
    "    word-wrap: break-word;'>\n",
    "MMRAcquisitionAuctionAveragePrice <br>\n",
    "MMRAcquisitionAuctionCleanPrice<br>\n",
    "MMRAcquisitionRetailAveragePrice<br>\n",
    "MMRAcquisitonRetailCleanPrice<br>\n",
    "MMRCurrentAuctionAveragePrice<br>\n",
    "MMRCurrentAuctionCleanPrice<br>\n",
    "MMRCurrentRetailAveragePrice<br>\n",
    "MMRCurrentRetailCleanPrice<br>\n",
    "</div>\n"
   ]
  },
  {
   "cell_type": "markdown",
   "metadata": {},
   "source": [
    "<h2>Task 3.2</h2>\n",
    "<p>\n",
    "There were three main transformations done.<br><br>\n",
    "\n",
    "<b>Averaging high correlating values</b><br>\n",
    "After doing a correlation analysis it became clear that there is a very high correlation between the Average and the Clean price. Instead of dropping these values it was decided that the Average of the Average and Clean price will be transformed into a new varaibles. The resulting variable where\n",
    "</p>\n",
    "<p>Yes there were values that needed to be Imputed. These Columns where:</p>\n",
    "<div style='background: #f4f4f4; border: 1px solid #ddd;border-left: 3px solid #f36d33; color: #665; page-break-inside: avoid;    font-family: monospace;font-size: 15px; line-height: 1.6; margin-bottom: 1.6em;\n",
    "    max-width: 100%;\n",
    "    overflow: auto;\n",
    "    padding: 1em 1.5em;\n",
    "    display: block;\n",
    "    word-wrap: break-word;'>\n",
    "MMRAcquisitionAuctionPrice<br>\n",
    "MMRAcquisitonRetailPrice<br>\n",
    "MMRCurrentAuctionPrice<br>\n",
    "MMRCurrentRetailPrice<br>\n",
    "</div>\n",
    "<b>Removing Outliers</b><br>\n",
    "<p>After creating histograms and box plots it was noted that there is severe skew. The first step taken to remove the skew was to remove outliers for all varaibles.</p>\n",
    "\n",
    "<b>Log Transformations</b><br>\n",
    "After the initial removal of outliers, more box plots and histograms were created. From this it was noted that the \"Auction\" variables still had some skew. To fix this these were transformed using the Sqaur Root of the varaible.\n",
    "\n",
    "<b>Normilising Values</b><br>\n",
    "All the variables were then normalized for consistancy.\n",
    "\n",
    "\n",
    "\n",
    "\n"
   ]
  },
  {
   "cell_type": "code",
   "execution_count": null,
   "metadata": {},
   "outputs": [],
   "source": []
  },
  {
   "cell_type": "code",
   "execution_count": null,
   "metadata": {},
   "outputs": [],
   "source": []
  }
 ],
 "metadata": {
  "kernelspec": {
   "display_name": "Python 3",
   "language": "python",
   "name": "python3"
  },
  "language_info": {
   "codemirror_mode": {
    "name": "ipython",
    "version": 3
   },
   "file_extension": ".py",
   "mimetype": "text/x-python",
   "name": "python",
   "nbconvert_exporter": "python",
   "pygments_lexer": "ipython3",
   "version": "3.7.1"
  }
 },
 "nbformat": 4,
 "nbformat_minor": 2
}

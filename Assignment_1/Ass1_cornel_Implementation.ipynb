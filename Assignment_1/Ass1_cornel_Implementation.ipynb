{
 "cells": [
  {
   "cell_type": "markdown",
   "metadata": {},
   "source": [
    "# Assignment 1: \n",
    "Cornelis de Jager n8891974<br>\n",
    "Daniel Brandenburg n8867887<br>\n",
    "Joel Schwaber n10241337<br>"
   ]
  },
  {
   "cell_type": "code",
   "execution_count": 2,
   "metadata": {},
   "outputs": [
    {
     "name": "stdout",
     "output_type": "stream",
     "text": [
      "Collecting pydot\n",
      "  Downloading https://files.pythonhosted.org/packages/33/d1/b1479a770f66d962f545c2101630ce1d5592d90cb4f083d38862e93d16d2/pydot-1.4.1-py2.py3-none-any.whl\n",
      "Requirement already satisfied: pyparsing>=2.1.4 in c:\\programdata\\anaconda3\\lib\\site-packages (from pydot) (2.3.0)\n",
      "Installing collected packages: pydot\n",
      "Successfully installed pydot-1.4.1\n",
      "Collecting eli5\n",
      "  Downloading https://files.pythonhosted.org/packages/8d/c8/04bed18dcce1d927b0dd5fc3425777354b714d2e62d60ae301928b5a5bf8/eli5-0.8.1-py2.py3-none-any.whl (98kB)\n",
      "Collecting tabulate>=0.7.7 (from eli5)\n",
      "  Downloading https://files.pythonhosted.org/packages/c2/fd/202954b3f0eb896c53b7b6f07390851b1fd2ca84aa95880d7ae4f434c4ac/tabulate-0.8.3.tar.gz (46kB)\n",
      "Collecting graphviz (from eli5)\n",
      "  Downloading https://files.pythonhosted.org/packages/1f/e2/ef2581b5b86625657afd32030f90cf2717456c1d2b711ba074bf007c0f1a/graphviz-0.10.1-py2.py3-none-any.whl\n",
      "Requirement already satisfied: attrs>16.0.0 in c:\\programdata\\anaconda3\\lib\\site-packages (from eli5) (18.2.0)\n",
      "Requirement already satisfied: six in c:\\programdata\\anaconda3\\lib\\site-packages (from eli5) (1.12.0)\n",
      "Requirement already satisfied: scipy in c:\\programdata\\anaconda3\\lib\\site-packages (from eli5) (1.1.0)\n",
      "Collecting typing (from eli5)\n",
      "  Downloading https://files.pythonhosted.org/packages/4a/bd/eee1157fc2d8514970b345d69cb9975dcd1e42cd7e61146ed841f6e68309/typing-3.6.6-py3-none-any.whl\n",
      "Requirement already satisfied: scikit-learn>=0.18 in c:\\programdata\\anaconda3\\lib\\site-packages (from eli5) (0.20.1)\n",
      "Requirement already satisfied: jinja2 in c:\\programdata\\anaconda3\\lib\\site-packages (from eli5) (2.10)\n",
      "Requirement already satisfied: numpy>=1.9.0 in c:\\programdata\\anaconda3\\lib\\site-packages (from eli5) (1.15.4)\n",
      "Requirement already satisfied: MarkupSafe>=0.23 in c:\\programdata\\anaconda3\\lib\\site-packages (from jinja2->eli5) (1.1.0)\n",
      "Building wheels for collected packages: tabulate\n",
      "  Running setup.py bdist_wheel for tabulate: started\n",
      "  Running setup.py bdist_wheel for tabulate: finished with status 'done'\n",
      "  Stored in directory: C:\\Users\\n8891974\\AppData\\Local\\pip\\Cache\\wheels\\2b\\67\\89\\414471314a2d15de625d184d8be6d38a03ae1e983dbda91e84\n",
      "Successfully built tabulate\n",
      "Installing collected packages: tabulate, graphviz, typing, eli5\n",
      "Successfully installed eli5-0.8.1 graphviz-0.10.1 tabulate-0.8.3 typing-3.6.6\n",
      "Collecting imblearn\n",
      "  Downloading https://files.pythonhosted.org/packages/81/a7/4179e6ebfd654bd0eac0b9c06125b8b4c96a9d0a8ff9e9507eb2a26d2d7e/imblearn-0.0-py2.py3-none-any.whl\n",
      "Collecting imbalanced-learn (from imblearn)\n",
      "  Downloading https://files.pythonhosted.org/packages/e5/4c/7557e1c2e791bd43878f8c82065bddc5798252084f26ef44527c02262af1/imbalanced_learn-0.4.3-py3-none-any.whl (166kB)\n",
      "Requirement already satisfied: scipy>=0.13.3 in c:\\programdata\\anaconda3\\lib\\site-packages (from imbalanced-learn->imblearn) (1.1.0)\n",
      "Requirement already satisfied: scikit-learn>=0.20 in c:\\programdata\\anaconda3\\lib\\site-packages (from imbalanced-learn->imblearn) (0.20.1)\n",
      "Requirement already satisfied: numpy>=1.8.2 in c:\\programdata\\anaconda3\\lib\\site-packages (from imbalanced-learn->imblearn) (1.15.4)\n",
      "Installing collected packages: imbalanced-learn, imblearn\n",
      "Successfully installed imbalanced-learn-0.4.3 imblearn-0.0\n"
     ]
    }
   ],
   "source": [
    "# Run this if pydot needs to be installed\n",
    "!pip install pydot\n",
    "!pip install eli5\n",
    "!pip install imblearn"
   ]
  },
  {
   "cell_type": "code",
   "execution_count": 3,
   "metadata": {},
   "outputs": [],
   "source": [
    "# Imports\n",
    "import pandas as pd\n",
    "import numpy as np\n",
    "import scipy.stats as stats\n",
    "import eli5\n",
    "\n",
    "# Import plotting libraries\n",
    "import matplotlib.pyplot as plt\n",
    "import seaborn as sns\n",
    "import math\n",
    "%matplotlib inline\n",
    "\n",
    "# Import ML libraries\n",
    "from sklearn.preprocessing import Imputer\n",
    "from sklearn.model_selection import GridSearchCV\n",
    "from sklearn.tree import DecisionTreeClassifier\n",
    "from sklearn.linear_model import LogisticRegression\n",
    "from sklearn.neural_network import MLPClassifier\n",
    "from sklearn.ensemble import VotingClassifier\n",
    "from sklearn import preprocessing\n",
    "from sklearn.model_selection import train_test_split\n",
    "from sklearn.feature_selection import RFECV\n",
    "from sklearn.metrics import classification_report, accuracy_score\n",
    "from sklearn.preprocessing import StandardScaler\n",
    "from sklearn.tree import export_graphviz\n",
    "from sklearn.feature_selection import SelectFromModel\n",
    "from sklearn.metrics import roc_auc_score\n",
    "from sklearn.metrics import roc_curve\n",
    "from sklearn.ensemble import VotingClassifier\n",
    "from imblearn.over_sampling import RandomOverSampler\n",
    "from collections import Counter\n",
    "\n",
    "# Set a random state value\n",
    "rs = 10\n",
    "\n",
    "#import libraries to visualize decision trees\n",
    "import pydot\n",
    "from io import StringIO\n",
    "\n",
    "\n",
    "# Ignore Warnings and ignore them\n",
    "import warnings\n",
    "warnings.filterwarnings(\"ignore\")"
   ]
  },
  {
   "cell_type": "code",
   "execution_count": 4,
   "metadata": {},
   "outputs": [],
   "source": [
    "def categoricalPlot(cat, cat2 = 'IsBadBuy'): # Cat is the carigorical as a string i.e 'Size'\n",
    "    pd.crosstab(data[cat],data[cat2]).plot(kind=\"bar\")\n",
    "    \n",
    "def CreateAveragedColumn (A, B):\n",
    "    C = [np.nan] * len( A )\n",
    "    for i in range(len(A)):\n",
    "        C[i] = (A[i] + B[i])/2\n",
    "    \n",
    "    return C\n",
    "\n",
    "def IdentifyOutliers (column):\n",
    "    data_described = column.describe()\n",
    "    Q1 = data_described[\"25%\"]\n",
    "    Q3 = data_described[\"75%\"]\n",
    "    IQR = Q3-Q1\n",
    "    lowerLimit = Q1 - 1.5 * IQR\n",
    "    upperLimit = Q3 + 1.5 * IQR\n",
    "    output = [np.nan] * len( column )\n",
    "    for i in range(len(column)):\n",
    "        value = column[i]\n",
    "        if value < lowerLimit or value > upperLimit:\n",
    "            output[i] = True\n",
    "        else:\n",
    "            output[i] = False\n",
    "    return output\n",
    "\n",
    "def analyse_feature_importance(dm_model, feature_names, n_to_display=5):\n",
    "    # grab feature importances from the model\n",
    "    importances = dm_model.feature_importances_\n",
    "    \n",
    "    # sort them out in descending order\n",
    "    indices = np.argsort(importances)\n",
    "    indices = np.flip(indices, axis=0)\n",
    "\n",
    "    # limit to 20 features, you can leave this out to print out everything\n",
    "    indices = indices[:n_to_display]\n",
    "\n",
    "    for i in indices:\n",
    "        print(feature_names[i], ':', importances[i])\n",
    "        \n",
    "# Define a function to find the root node\n",
    "def getTreeInfo(model, feature_names):\n",
    "    n_nodes = model.tree_.node_count\n",
    "    children_left = model.tree_.children_left\n",
    "    children_right = model.tree_.children_right\n",
    "    feature = model.tree_.feature\n",
    "    threshold = model.tree_.threshold\n",
    "    features  = [feature_names[i] for i in model.tree_.feature]    \n",
    "\n",
    "    # The tree structure can be traversed to compute various properties such\n",
    "    # as the depth of each node and whether or not it is a leaf.\n",
    "    leaf_count = 0\n",
    "    node_depth = np.zeros(shape=n_nodes, dtype=np.int64)\n",
    "    is_leaves = np.zeros(shape=n_nodes, dtype=bool)\n",
    "    stack = [(0, -1)]  # seed is the root node id and its parent depth\n",
    "    while len(stack) > 0:\n",
    "        node_id, parent_depth = stack.pop()\n",
    "        node_depth[node_id] = parent_depth + 1\n",
    "        \n",
    "        # If we have a test node\n",
    "        if (children_left[node_id] != children_right[node_id]):\n",
    "            stack.append((children_left[node_id], parent_depth + 1))\n",
    "            stack.append((children_right[node_id], parent_depth + 1))\n",
    "        else:\n",
    "            leaf_count += 1\n",
    "            is_leaves[node_id] = True\n",
    "\n",
    "\n",
    "    main_variables = \"Root feature is \" \n",
    "    main_variables += features[0]\n",
    "    main_variables += \"\\n\"\n",
    "    main_variables += \"Competing featues are \"\n",
    "    main_variables += features[1]\n",
    "    main_variables += 'and '\n",
    "    main_variables += features[2]\n",
    "    return [n_nodes, leaf_count, main_variables]\n",
    "    \n",
    "# Write a function that imputes median\n",
    "def ImputeMean(series):\n",
    "    return series.fillna(series.mean())\n",
    "\n",
    "def Normalize (column):\n",
    "    column =  (column - column.min())/(column.max() - column.min())\n",
    "    return column\n",
    "\n",
    "def LogTransform (column):\n",
    "    column = math.log(column)"
   ]
  },
  {
   "cell_type": "code",
   "execution_count": 5,
   "metadata": {},
   "outputs": [],
   "source": [
    "def PreProcessing (data):\n",
    "    print(\"Pre-Processing Step\")\n",
    "    \n",
    "    # Check if there are any missing target variables\n",
    "    if data['IsBadBuy'].isna().any():\n",
    "        print(\"Missing Target Variables\")\n",
    "    else:\n",
    "        print(\"No missing Target Variables\")\n",
    "    \n",
    "    \n",
    "    # Handle Bad Columns drop Columns\n",
    "    data.drop(['PRIMEUNIT', 'AUCGUART', 'WheelTypeID', 'ForSale', 'PurchaseDate', 'IsOnlineSale'], \n",
    "              axis=1, \n",
    "              inplace=True)\n",
    "    \n",
    "\n",
    "    # Handle Missing Values\n",
    "    i = 0            # Python's indexing starts at zero\n",
    "    for item in data['TopThreeAmericanName']:   # Python's for loops are a \"for each\" loop \n",
    "        if data['TopThreeAmericanName'][i] == np.nan and  data['Make'][i] == 'Hyundai':\n",
    "            data['TopThreeAmericanName'][i] = 'HYUNDAI'\n",
    "        i += 1\n",
    "        \n",
    "    i = 0            # Python's indexing starts at zero\n",
    "    for item in data['TopThreeAmericanName']:   # Python's for loops are a \"for each\" loop \n",
    "        if data['TopThreeAmericanName'][i] == np.nan and  data['Make'][i] == 'Jeep':\n",
    "            data['TopThreeAmericanName'][i] = 'JEEP'\n",
    "        i += 1\n",
    "        \n",
    "        \n",
    "    # Standardise the capitilization across all object rows\n",
    "    obj_cols = data.select_dtypes(include='object').columns # Create a list of col names\n",
    "    for i in obj_cols:              # Interate over the obj_cols list\n",
    "        data[i] = data[i].str.upper()   # Convert all strings to uppercase  \n",
    "    # Standardize USA to AMERICA\n",
    "    data['Nationality'].replace({'USA' : 'AMERICAN'}, inplace = True)\n",
    "    \n",
    "    # Turn Transmission into a binary variable with Auto = 1 and Manual = 0\n",
    "    data.rename({'Transmission' : 'Auto'}, axis = 1, inplace = True)\n",
    "    # Replace binary columns with 1s and 0s\n",
    "    data['Auto'].replace({'MANUAL' : 0, 'AUTO' : 1}, inplace=True)\n",
    "    \n",
    "    # Remove NOT AVAIL in color and place it in the NaN section\n",
    "    data['Color'].replace({'NOT AVAIL': np.nan}, inplace = True)\n",
    "    \n",
    "    \n",
    "     #This is the significance test for \n",
    "    # Check to see if VNST is a statisically significant variable\n",
    "    # Create a distribution of IsBuyBad for VNST\n",
    "    VNST_badBuy = pd.crosstab(data['IsBadBuy'], data['VNST']).loc[0]\n",
    "    VNST_goodBuy = pd.crosstab(data['IsBadBuy'], data['VNST']).loc[1]\n",
    "    pd.crosstab(data['VNST'],data['IsBadBuy']).plot(kind=\"bar\")\n",
    "    \n",
    "    # Use a Chi2 test to test if there is any corrilation between them, if there is\n",
    "    # (p < 0.05) discarde the variable\n",
    "    fScore, pValue = stats.f_oneway(VNST_badBuy, VNST_goodBuy)\n",
    "    print(\"The pValaue is \" + str(pValue) + \" which is significant enough to reject null hypothesis\")\n",
    "    print(\"Drop VNST due to statistical insignificance\")\n",
    "    data.drop('VNST', axis=1, inplace = True)\n",
    "    \n",
    "    # Seperate the Size feature into Size and Body\n",
    "    tempSize = data['Size'].str.split(' ', expand = True) # Create temp var with split column\n",
    "    data['Size'] = tempSize[0] # Save the temp var back into data\n",
    "    data['Body'] = tempSize[1] # Save the temp var back into data\n",
    "    data['Body'].fillna('CITY', inplace = True) # Assume any other cars are 'City'\n",
    "    \n",
    "    \n",
    "    data.loc[data.Size == 'VAN', 'Body'] = 'Van' # Convert Van into a body type\n",
    "    data.loc[data.Size == 'VAN', 'Body'] =  np.nan # Take van away from size, shouldn't matter once OH is done\n",
    "    \n",
    "    # Converting the TimeStamp into Quater\n",
    "    Quarter = [] # Create empty string\n",
    "    for i, _ in enumerate(data.PurchaseTimestamp): # Loop over the entire dataset\n",
    "        # Convert the epoch datetime into the quater and append to list\n",
    "        Quarter.append(pd.Timestamp(data.PurchaseTimestamp.loc[i], unit = 's').quarter)        \n",
    "    data['Quarter'] = Quarter # Create the column with list\n",
    "    data.drop('PurchaseTimestamp', axis=1, inplace = True) # Drop old TimeStamp\n",
    "    \n",
    "    \"\"\" This will take care of any Null values we don't specifically take care of\n",
    "    by replaceing the missing data with data from the same distibution\"\"\"\n",
    "   \n",
    "    data['MMRAcquisitionAuctionAveragePrice'] = data['MMRAcquisitionAuctionAveragePrice'].replace(0, np.nan)\n",
    "    data['MMRAcquisitionAuctionCleanPrice'] = data['MMRAcquisitionAuctionCleanPrice'].replace(0, np.nan)\n",
    "    data['MMRAcquisitionRetailAveragePrice'] = data['MMRAcquisitionRetailAveragePrice'].replace(0, np.nan)\n",
    "    data['MMRAcquisitonRetailCleanPrice'] = data['MMRAcquisitonRetailCleanPrice'].replace(0, np.nan)\n",
    "    data['MMRCurrentAuctionAveragePrice'] = data['MMRCurrentAuctionAveragePrice'].replace(0, np.nan)\n",
    "    data['MMRCurrentAuctionCleanPrice'] = data['MMRCurrentAuctionCleanPrice'].replace(0, np.nan)\n",
    "    data['MMRCurrentRetailAveragePrice'] = data['MMRCurrentRetailAveragePrice'].replace(0, np.nan)\n",
    "    data['MMRCurrentRetailCleanPrice'] = data['MMRCurrentRetailCleanPrice'].replace(0, np.nan)    \n",
    "    \n",
    "    # Impute and normalize\n",
    "    data[\"MMRAcquisitionAuctionAveragePrice\"] = ImputeMean(data[\"MMRAcquisitionAuctionAveragePrice\"])\n",
    "    data[\"MMRAcquisitionAuctionCleanPrice\"] =  ImputeMean(data[\"MMRAcquisitionAuctionCleanPrice\"])\n",
    "    data[\"MMRAcquisitionRetailAveragePrice\"] =  ImputeMean(data[\"MMRAcquisitionRetailAveragePrice\"])\n",
    "    data[\"MMRAcquisitonRetailCleanPrice\"] =  ImputeMean(data[\"MMRAcquisitonRetailCleanPrice\"])\n",
    "    data[\"MMRCurrentAuctionAveragePrice\"] =  ImputeMean(data[\"MMRCurrentAuctionAveragePrice\"])\n",
    "    data[\"MMRCurrentAuctionCleanPrice\"] =  ImputeMean(data[\"MMRCurrentAuctionCleanPrice\"])\n",
    "    data[\"MMRCurrentRetailAveragePrice\"] =  ImputeMean(data[\"MMRCurrentRetailAveragePrice\"])\n",
    "    data[\"MMRCurrentRetailCleanPrice\"] =  ImputeMean(data[\"MMRCurrentRetailCleanPrice\"])\n",
    "    \n",
    "    data[\"VehOdo\"] = ImputeMean(data[\"VehOdo\"])\n",
    "    data[\"VehBCost\"] = ImputeMean(data[\"VehBCost\"])\n",
    "    data[\"WarrantyCost\"] = ImputeMean(data[\"WarrantyCost\"])\n",
    "    \n",
    "    print(np.corrcoef(data[\"MMRAcquisitionAuctionAveragePrice\"], data[\"MMRAcquisitionAuctionCleanPrice\"]))\n",
    "    print(np.corrcoef(data[\"MMRAcquisitionRetailAveragePrice\"], data[\"MMRAcquisitonRetailCleanPrice\"]))\n",
    "    print(np.corrcoef(data[\"MMRCurrentAuctionAveragePrice\"], data[\"MMRCurrentAuctionCleanPrice\"]))\n",
    "    print(np.corrcoef(data[\"MMRCurrentRetailAveragePrice\"], data[\"MMRCurrentRetailCleanPrice\"])) \n",
    "    \n",
    "    print(data[\"MMRAcquisitionAuctionAveragePrice\"][data[\"MMRAcquisitionAuctionAveragePrice\"] == 0])\n",
    "    \n",
    "    \"\"\" Create the new columns \"\"\"\n",
    "    data[\"AcquisitionAuctionprice\"] = CreateAveragedColumn(data[\"MMRAcquisitionAuctionAveragePrice\"], data[\"MMRAcquisitionAuctionCleanPrice\"])\n",
    "    data[\"AcquisitionRetailPrice\"] = CreateAveragedColumn(data[\"MMRAcquisitionRetailAveragePrice\"], data[\"MMRAcquisitonRetailCleanPrice\"])\n",
    "    data[\"MMRCurrentAuctionPrice\"] = CreateAveragedColumn(data[\"MMRCurrentAuctionAveragePrice\"], data[\"MMRCurrentAuctionCleanPrice\"])\n",
    "    data[\"MMRCurrentRetailPrice\"] = CreateAveragedColumn(data[\"MMRCurrentRetailAveragePrice\"], data[\"MMRCurrentRetailCleanPrice\"])\n",
    "    \n",
    "    \n",
    "    data.drop('MMRAcquisitionAuctionAveragePrice', inplace = True, axis = 1)\n",
    "    data.drop('MMRAcquisitionAuctionCleanPrice', inplace = True, axis = 1)\n",
    "    data.drop('MMRAcquisitonRetailCleanPrice', inplace = True, axis = 1)\n",
    "    data.drop('MMRCurrentAuctionAveragePrice', inplace = True, axis = 1)\n",
    "    data.drop('MMRCurrentAuctionCleanPrice', inplace = True, axis = 1)\n",
    "    data.drop('MMRCurrentRetailAveragePrice', inplace = True, axis = 1)\n",
    "    data.drop('MMRCurrentRetailCleanPrice', inplace = True, axis = 1)\n",
    "    data.drop('MMRAcquisitionRetailAveragePrice', inplace = True, axis = 1)\n",
    "    \n",
    "    conv = []\n",
    "    for i in data.columns: # Loop over dataset\n",
    "        if data[i].isna().any() == True: # Check to see if there is a NaN is the feature\n",
    "            dist = data[i].value_counts(normalize=True) # Find the distrabution of the column\n",
    "            missing = data[i].isna() # Find where the NaN are\n",
    "            # Replace the NaNs with values from the same distrabution of the column\n",
    "            data.loc[missing, i] = np.random.choice(dist.index, size=len(data[missing]),p=dist.values)       \n",
    "            conv.append(i)\n",
    "            \n",
    "    print(\"Converted all of \" , conv, \"s missing values into the same distrubution\")\n",
    "    \n",
    "    \n",
    "    # Do the box plot\n",
    "    \n",
    "    fig = plt.figure()\n",
    "    data.boxplot(column=['AcquisitionAuctionprice', 'AcquisitionRetailPrice', 'MMRCurrentAuctionPrice', 'MMRCurrentRetailPrice'], grid = False, rot = 30)\n",
    "    plt.savefig('preOutlierBox_Pricing', bbox_inches = \"tight\")\n",
    "    plt.show\n",
    "    \n",
    "    fig = plt.figure()\n",
    "    data.boxplot(column=['VehOdo', 'VehBCost', 'WarrantyCost'], grid = False, rot = 30)\n",
    "    plt.savefig('preOutlierBox_VehicleDetails', bbox_inches = \"tight\")\n",
    "    plt.show\n",
    "    \n",
    "     # Now do histograms\n",
    "    fig = plt.figure()\n",
    "    ax1 = fig.add_subplot(2,2,1)\n",
    "    plt.subplots_adjust(hspace=0.4, wspace = 0.3)\n",
    "    ax1 =  data[\"AcquisitionAuctionprice\"].hist()\n",
    "    ax1.set_title(\"AcquisitionAuctionprice\")\n",
    "    ax1.grid(False)\n",
    "    \n",
    "    ax2 = fig.add_subplot(2,2,2)\n",
    "    ax2 =  data[\"AcquisitionRetailPrice\"].hist()\n",
    "    ax2.set_title(\"AcquisitionRetailPrice\")\n",
    "    ax2.grid(False)\n",
    "    \n",
    "    ax3 = fig.add_subplot(2,2,3)\n",
    "    ax3 =  data[\"MMRCurrentAuctionPrice\"].hist()\n",
    "    ax3.set_title(\"MMRCurrentAuctionPrice\")\n",
    "    ax3.grid(False)\n",
    "    \n",
    "    ax4 = fig.add_subplot(2,2,4)\n",
    "    ax4 =  data[\"MMRCurrentRetailPrice\"].hist()\n",
    "    ax4.set_title(\"MMRCurrentRetailPrice\")\n",
    "    ax4.grid(False)    \n",
    "    \n",
    "    plt.savefig('preOutlierHist1', bbox_inches = \"tight\")\n",
    "    plt.show()\n",
    "\n",
    "     # Now do histograms\n",
    "    fig = plt.figure()\n",
    "    ax1 = fig.add_subplot(1,3,1)\n",
    "    plt.subplots_adjust(hspace=0.4, wspace = 0.3)\n",
    "    ax1 =  data[\"VehOdo\"].hist()\n",
    "    ax1.set_title(\"VehOdo\")\n",
    "    ax1.grid(False)\n",
    "    \n",
    "    ax2 = fig.add_subplot(1,3,2)\n",
    "    ax2 =  data[\"VehBCost\"].hist()\n",
    "    ax2.set_title(\"VehBCost\")\n",
    "    ax2.grid(False)\n",
    "    \n",
    "    ax3 = fig.add_subplot(1,3,3)\n",
    "    ax3 =  data[\"WarrantyCost\"].hist()\n",
    "    ax3.set_title(\"WarrantyCost\")\n",
    "    ax3.grid(False)\n",
    "    \n",
    "    \n",
    "    plt.savefig('preOutlierHist2', bbox_inches = \"tight\")\n",
    "    plt.show()\n",
    "    ## Identify and Remove outiers\n",
    "    outliers = (IdentifyOutliers(data[\"AcquisitionAuctionprice\"]) and\n",
    "                IdentifyOutliers(data[\"AcquisitionRetailPrice\"]) and\n",
    "                IdentifyOutliers(data[\"MMRCurrentAuctionPrice\"]) and\n",
    "                IdentifyOutliers(data[\"MMRCurrentRetailPrice\"]) and\n",
    "                IdentifyOutliers(data[\"VehOdo\"]))\n",
    "    \n",
    "    # Select lines that aren't outliers\n",
    "    num_lines =  len(data[\"MMRCurrentRetailPrice\"])\n",
    "    data = data[[not i for i in outliers]]\n",
    "    print (\"Lines Removed: \", num_lines - len(data[\"MMRCurrentRetailPrice\"]))\n",
    "    \n",
    "    # Do the box plot\n",
    "    fig = plt.figure()\n",
    "    data.boxplot(column=['AcquisitionAuctionprice', 'AcquisitionRetailPrice', 'MMRCurrentAuctionPrice', 'MMRCurrentRetailPrice'], grid = False, rot = 30)\n",
    "    plt.savefig('PostOutlierBox_Pricing', bbox_inches = \"tight\")\n",
    "    plt.show\n",
    "    \n",
    "    fig = plt.figure()\n",
    "    data.boxplot(column=['VehOdo', 'VehBCost', 'WarrantyCost'], grid = False, rot = 30)\n",
    "    plt.savefig('PostOutlierBox_VehicleDetails', bbox_inches = \"tight\")\n",
    "    plt.show\n",
    "    \n",
    "    \n",
    "    # Now do histograms\n",
    "    fig = plt.figure()\n",
    "    plt.subplots_adjust(hspace=0.4, wspace = 0.3)\n",
    "    ax1 = fig.add_subplot(2,2,1)\n",
    "    ax1 =  data[\"AcquisitionAuctionprice\"].hist()\n",
    "    ax1.set_title(\"AcquisitionAuctionprice\")\n",
    "    ax1.grid(False)\n",
    "    ax2 = fig.add_subplot(2,2,2)\n",
    "    ax2 =  data[\"AcquisitionRetailPrice\"].hist()\n",
    "    ax2.set_title(\"AcquisitionRetailPrice\")\n",
    "    ax2.grid(False)\n",
    "    ax3 = fig.add_subplot(2,2,3)\n",
    "    ax3 =  data[\"MMRCurrentAuctionPrice\"].hist()\n",
    "    ax3.set_title(\"MMRCurrentAuctionPrice\")\n",
    "    ax3.grid(False)\n",
    "    ax4 = fig.add_subplot(2,2,4)\n",
    "    ax4 =  data[\"MMRCurrentRetailPrice\"].hist()\n",
    "    ax4.set_title(\"MMRCurrentRetailPrice\")\n",
    "    ax4.grid(False)\n",
    "    plt.savefig('postOutlierHist', bbox_inches = \"tight\")\n",
    "    plt.show()\n",
    "    \n",
    "    fig = plt.figure()\n",
    "    ax1 = fig.add_subplot(1,3,1)\n",
    "    plt.subplots_adjust(hspace=0.4, wspace = 0.3)\n",
    "    ax1 =  data[\"VehOdo\"].hist()\n",
    "    ax1.set_title(\"VehOdo\")\n",
    "    ax1.grid(False)\n",
    "    \n",
    "    ax2 = fig.add_subplot(1,3,2)\n",
    "    ax2 =  data[\"VehBCost\"].hist()\n",
    "    ax2.set_title(\"VehBCost\")\n",
    "    ax2.grid(False)\n",
    "    \n",
    "    ax3 = fig.add_subplot(1,3,3)\n",
    "    ax3 =  data[\"WarrantyCost\"].hist()\n",
    "    ax3.set_title(\"WarrantyCost\")\n",
    "    ax3.grid(False)\n",
    "    \n",
    "    \n",
    "    plt.savefig('preOutlierHist2', bbox_inches = \"tight\")\n",
    "    plt.show()\n",
    "    # Transform the skew values\n",
    "    data[\"AcquisitionAuctionprice\"] = np.sqrt(data[\"AcquisitionAuctionprice\"])\n",
    "    data[\"MMRCurrentAuctionPrice\"] = np.sqrt(data[\"MMRCurrentAuctionPrice\"])\n",
    "    data[\"WarrantyCost\"] = np.log(data[\"WarrantyCost\"])\n",
    "    \n",
    "    data[\"AcquisitionAuctionprice\"] = Normalize(data[\"AcquisitionAuctionprice\"])\n",
    "    data[\"AcquisitionRetailPrice\"] = Normalize(data[\"AcquisitionRetailPrice\"])\n",
    "    data[\"MMRCurrentAuctionPrice\"] = Normalize(data[\"MMRCurrentAuctionPrice\"])\n",
    "    data[\"MMRCurrentRetailPrice\"] = Normalize(data[\"MMRCurrentRetailPrice\"])\n",
    "    data[\"VehOdo\"] = Normalize(data[\"VehOdo\"])\n",
    "    data[\"VehBCost\"] = Normalize(data[\"VehBCost\"])\n",
    "    data[\"WarrantyCost\"] = Normalize(data[\"WarrantyCost\"])\n",
    "    \n",
    "    # Do the box plot\n",
    "    fig = plt.figure()\n",
    "    data.boxplot(column=['AcquisitionAuctionprice', 'AcquisitionRetailPrice', 'MMRCurrentAuctionPrice', 'MMRCurrentRetailPrice'], grid = False, rot = 30)\n",
    "    plt.savefig('PostTransformationBox_Pricing', bbox_inches = \"tight\")\n",
    "    plt.show\n",
    "    \n",
    "    fig = plt.figure()\n",
    "    data.boxplot(column=['VehOdo', 'VehBCost', 'WarrantyCost'], grid = False, rot = 30)\n",
    "    plt.savefig('PostTransformationOutlierBox_VehicleDetails', bbox_inches = \"tight\")\n",
    "    plt.show\n",
    "    \n",
    "    # Now do histograms\n",
    "    fig = plt.figure()\n",
    "    ax1 = fig.add_subplot(2,2,1)\n",
    "    ax1 =  data[\"AcquisitionAuctionprice\"].hist()\n",
    "    ax1.grid(False)\n",
    "    ax2 = fig.add_subplot(2,2,2)\n",
    "    ax2 =  data[\"AcquisitionRetailPrice\"].hist()\n",
    "    ax2.grid(False)\n",
    "    ax3 = fig.add_subplot(2,2,3)\n",
    "    ax3 =  data[\"MMRCurrentAuctionPrice\"].hist()\n",
    "    ax3.grid(False)\n",
    "    ax4 = fig.add_subplot(2,2,4)\n",
    "    ax4 =  data[\"MMRCurrentRetailPrice\"].hist()\n",
    "    ax4.grid(False)\n",
    "    plt.show()\n",
    "    \n",
    "    fig = plt.figure()\n",
    "    ax1 = fig.add_subplot(1,3,1)\n",
    "    plt.subplots_adjust(hspace=0.4, wspace = 0.3)\n",
    "    ax1 =  data[\"VehOdo\"].hist()\n",
    "    ax1.set_title(\"VehOdo\")\n",
    "    ax1.grid(False)\n",
    "    \n",
    "    ax2 = fig.add_subplot(1,3,2)\n",
    "    ax2 =  data[\"VehBCost\"].hist()\n",
    "    ax2.set_title(\"VehBCost\")\n",
    "    ax2.grid(False)\n",
    "    \n",
    "    ax3 = fig.add_subplot(1,3,3)\n",
    "    ax3 =  data[\"WarrantyCost\"].hist()\n",
    "    ax3.set_title(\"WarrantyCost\")\n",
    "    ax3.grid(False)\n",
    "    \n",
    "    \n",
    "    plt.savefig('preOutlierHist2', bbox_inches = \"tight\")\n",
    "    plt.show()\n",
    "    \n",
    "    \"\"\" plot the categorial data \"\"\"\n",
    "    fig = plt.figure()\n",
    "    ax1 =  data[\"Make\"].value_counts().plot(kind = 'bar')\n",
    "    ax1.set_title(\"Make\")\n",
    "    ax1.grid(False)\n",
    "    plt.savefig('makeHist', bbox_inches = \"tight\")\n",
    "    plt.show()\n",
    "    \n",
    "    fig = plt.figure()\n",
    "    ax1 =  data[\"Color\"].value_counts().plot(kind = 'bar')\n",
    "    ax1.set_title(\"Color\")\n",
    "    ax1.grid(False)\n",
    "    plt.savefig('colourHist', bbox_inches = \"tight\")\n",
    "    plt.show()\n",
    "    \n",
    "    fig = plt.figure()\n",
    "    plt.subplots_adjust(hspace=0.8, wspace = 0.4)\n",
    "    ax1 = fig.add_subplot(2,2,1)\n",
    "    ax1 =  data[\"VehYear\"].value_counts().plot(kind = 'bar', rot = 90)\n",
    "    ax1.set_title(\"VehYear\")\n",
    "    ax1.grid(False)\n",
    "    ax2 = fig.add_subplot(2,2,2)\n",
    "    ax2 =  data[\"Auction\"].value_counts().plot(kind = 'bar', rot = 90)\n",
    "    ax2.set_title(\"Auction\")\n",
    "    ax2.grid(False)\n",
    "    ax3 = fig.add_subplot(2,2,3)\n",
    "    ax3 =  data[\"Size\"].value_counts().plot(kind = 'bar', rot = 90)\n",
    "    ax3.set_title(\"Size\")\n",
    "    ax3.grid(False)\n",
    "    ax4 = fig.add_subplot(2,2,4)\n",
    "    ax4 =  data[\"Body\"].value_counts().plot(kind = 'bar', rot = 90)\n",
    "    ax4.set_title(\"Body\")\n",
    "    ax4.grid(False)\n",
    "    plt.savefig('othersHist', bbox_inches = \"tight\")\n",
    "    plt.show()\n",
    "    \n",
    "   \n",
    "    \"\"\" This should be the last thing done \"\"\"\n",
    "    # Convert all categorical variables into one hot representations\n",
    "    \n",
    "    print(\"The number of features before one hot encoding is \" + str(data.shape[1]))\n",
    "    data_OH = pd.get_dummies(data, columns = ['Auction', 'Make', 'Color', 'VehYear', \n",
    "                                              'Nationality', 'Size', 'Body', 'TopThreeAmericanName', \n",
    "                                              'WheelType', 'Quarter'])\n",
    "    print(\"The number of features after one hot encoding is \" + str(data_OH.shape[1]))\n",
    "    data_OH [\"IsBadBuy\"] = data['IsBadBuy']\n",
    "    \n",
    "    data.describe()\n",
    "    data.info()\n",
    "    \n",
    "    return data, data_OH"
   ]
  },
  {
   "cell_type": "code",
   "execution_count": 6,
   "metadata": {},
   "outputs": [
    {
     "name": "stdout",
     "output_type": "stream",
     "text": [
      "Pre-Processing Step\n",
      "No missing Target Variables\n",
      "The pValaue is 0.0025217411235946108 which is significant enough to reject null hypothesis\n",
      "Drop VNST due to statistical insignificance\n",
      "[[1.         0.98128594]\n",
      " [0.98128594 1.        ]]\n",
      "[[1.         0.98799717]\n",
      " [0.98799717 1.        ]]\n",
      "[[1.        0.9822403]\n",
      " [0.9822403 1.       ]]\n",
      "[[1.         0.98928933]\n",
      " [0.98928933 1.        ]]\n",
      "Series([], Name: MMRAcquisitionAuctionAveragePrice, dtype: float64)\n",
      "Converted all of  ['Auction', 'VehYear', 'Make', 'Color', 'Auto', 'WheelType', 'Nationality', 'Size', 'TopThreeAmericanName', 'MMRCurrentRetailRatio', 'Body'] s missing values into the same distrubution\n"
     ]
    },
    {
     "data": {
      "image/png": "[encoded data removed]",
      "text/plain": [
       "<Figure size 432x288 with 1 Axes>"
      ]
     },
     "metadata": {
      "needs_background": "light"
     },
     "output_type": "display_data"
    },
    {
     "data": {
      "image/png": "[encoded data removed]",
      "text/plain": [
       "<Figure size 432x288 with 1 Axes>"
      ]
     },
     "metadata": {
      "needs_background": "light"
     },
     "output_type": "display_data"
    },
    {
     "data": {
      "image/png": "[encoded data removed]",
      "text/plain": [
       "<Figure size 432x288 with 1 Axes>"
      ]
     },
     "metadata": {
      "needs_background": "light"
     },
     "output_type": "display_data"
    },
    {
     "data": {
      "image/png": "[encoded data removed]",
      "text/plain": [
       "<Figure size 432x288 with 4 Axes>"
      ]
     },
     "metadata": {
      "needs_background": "light"
     },
     "output_type": "display_data"
    },
    {
     "data": {
      "image/png": "[encoded data removed]",
      "text/plain": [
       "<Figure size 432x288 with 3 Axes>"
      ]
     },
     "metadata": {
      "needs_background": "light"
     },
     "output_type": "display_data"
    },
    {
     "name": "stdout",
     "output_type": "stream",
     "text": [
      "Lines Removed:  187\n"
     ]
    },
    {
     "data": {
      "image/png": "[encoded data removed]",
      "text/plain": [
       "<Figure size 432x288 with 1 Axes>"
      ]
     },
     "metadata": {
      "needs_background": "light"
     },
     "output_type": "display_data"
    },
    {
     "data": {
      "image/png": "[encoded data removed]",
      "text/plain": [
       "<Figure size 432x288 with 1 Axes>"
      ]
     },
     "metadata": {
      "needs_background": "light"
     },
     "output_type": "display_data"
    },
    {
     "data": {
      "image/png": "[encoded data removed]",
      "text/plain": [
       "<Figure size 432x288 with 4 Axes>"
      ]
     },
     "metadata": {
      "needs_background": "light"
     },
     "output_type": "display_data"
    },
    {
     "data": {
      "image/png": "[encoded data removed]",
      "text/plain": [
       "<Figure size 432x288 with 3 Axes>"
      ]
     },
     "metadata": {
      "needs_background": "light"
     },
     "output_type": "display_data"
    },
    {
     "data": {
      "image/png": "[encoded data removed]",
      "text/plain": [
       "<Figure size 432x288 with 1 Axes>"
      ]
     },
     "metadata": {
      "needs_background": "light"
     },
     "output_type": "display_data"
    },
    {
     "data": {
      "image/png": "[encoded data removed]",
      "text/plain": [
       "<Figure size 432x288 with 1 Axes>"
      ]
     },
     "metadata": {
      "needs_background": "light"
     },
     "output_type": "display_data"
    },
    {
     "data": {
      "image/png": "[encoded data removed]",
      "text/plain": [
       "<Figure size 432x288 with 4 Axes>"
      ]
     },
     "metadata": {
      "needs_background": "light"
     },
     "output_type": "display_data"
    },
    {
     "data": {
      "image/png": "[encoded data removed]",
      "text/plain": [
       "<Figure size 432x288 with 3 Axes>"
      ]
     },
     "metadata": {
      "needs_background": "light"
     },
     "output_type": "display_data"
    },
    {
     "data": {
      "image/png": "[encoded data removed]",
      "text/plain": [
       "<Figure size 432x288 with 1 Axes>"
      ]
     },
     "metadata": {
      "needs_background": "light"
     },
     "output_type": "display_data"
    },
    {
     "data": {
      "image/png": "[encoded data removed]",
      "text/plain": [
       "<Figure size 432x288 with 1 Axes>"
      ]
     },
     "metadata": {
      "needs_background": "light"
     },
     "output_type": "display_data"
    },
    {
     "data": {
      "image/png": "[encoded data removed]",
      "text/plain": [
       "<Figure size 432x288 with 4 Axes>"
      ]
     },
     "metadata": {
      "needs_background": "light"
     },
     "output_type": "display_data"
    },
    {
     "name": "stdout",
     "output_type": "stream",
     "text": [
      "The number of features before one hot encoding is 20\n",
      "The number of features after one hot encoding is 94\n",
      "<class 'pandas.core.frame.DataFrame'>\n",
      "Int64Index: 41289 entries, 0 to 41475\n",
      "Data columns (total 20 columns):\n",
      "Auction                    41289 non-null object\n",
      "VehYear                    41289 non-null float64\n",
      "Make                       41289 non-null object\n",
      "Color                      41289 non-null object\n",
      "Auto                       41289 non-null float64\n",
      "WheelType                  41289 non-null object\n",
      "VehOdo                     41289 non-null float64\n",
      "Nationality                41289 non-null object\n",
      "Size                       41289 non-null object\n",
      "TopThreeAmericanName       41289 non-null object\n",
      "MMRCurrentRetailRatio      41289 non-null float64\n",
      "VehBCost                   41289 non-null float64\n",
      "WarrantyCost               41289 non-null float64\n",
      "IsBadBuy                   41289 non-null int64\n",
      "Body                       41289 non-null object\n",
      "Quarter                    41289 non-null int64\n",
      "AcquisitionAuctionprice    41289 non-null float64\n",
      "AcquisitionRetailPrice     41289 non-null float64\n",
      "MMRCurrentAuctionPrice     41289 non-null float64\n",
      "MMRCurrentRetailPrice      41289 non-null float64\n",
      "dtypes: float64(10), int64(2), object(8)\n",
      "memory usage: 6.6+ MB\n",
      "Questin 1.1 :\n",
      "12.952602388045243 %\n"
     ]
    }
   ],
   "source": [
    "data_raw = pd.read_csv(\"Kick.csv\", # Read the csv into a DF\n",
    "                   index_col = 'PurchaseID', \n",
    "                   na_values = ('?',  '#VALUE!'))\n",
    "\n",
    "data, data_OH = PreProcessing(data_raw) # PreProcess the data\n",
    "\n",
    "counts = data[\"IsBadBuy\"].value_counts()\n",
    "total = data[\"IsBadBuy\"].count()\n",
    "    \n",
    "# calculate the percentage\n",
    "# kick is where IsBadBuy == 1\n",
    "kickPersentage = counts[1] / total * 100\n",
    "print (\"Questin 1.1 :\")\n",
    "print( kickPersentage, \"%\")\n",
    "\n",
    "# target/input split\n",
    "y = data_OH['IsBadBuy']\n",
    "X = data_OH.drop(['IsBadBuy'], axis=1)\n",
    "\n",
    "X_mat = X.values # Canvert X into a matrix\n",
    "X_train, X_test, y_train, y_test = train_test_split(X_mat, y, test_size=0.2, stratify=y, random_state=rs)\n",
    "\n",
    "# Do the resampling\n",
    "ros = RandomOverSampler(random_state=0)\n",
    "X_train, y_train = ros.fit_resample(X_train, y_train)\n",
    "\n",
    "feature_names = X.columns"
   ]
  },
  {
   "cell_type": "markdown",
   "metadata": {},
   "source": [
    "<h1>Task 2: Decision Trees</h1>"
   ]
  },
  {
   "cell_type": "code",
   "execution_count": 7,
   "metadata": {},
   "outputs": [
    {
     "data": {
      "text/plain": [
       "DecisionTreeClassifier(class_weight=None, criterion='gini', max_depth=None,\n",
       "            max_features=None, max_leaf_nodes=None,\n",
       "            min_impurity_decrease=0.0, min_impurity_split=None,\n",
       "            min_samples_leaf=1, min_samples_split=2,\n",
       "            min_weight_fraction_leaf=0.0, presort=False, random_state=10,\n",
       "            splitter='best')"
      ]
     },
     "execution_count": 7,
     "metadata": {},
     "output_type": "execute_result"
    }
   ],
   "source": [
    "# simple decision tree training\n",
    "DecisionTreeModel = DecisionTreeClassifier(random_state=rs)\n",
    "DecisionTreeModel.fit(X_train, y_train)"
   ]
  },
  {
   "cell_type": "markdown",
   "metadata": {},
   "source": [
    "<h2>Task 2.1</h2>\n",
    "<h3>A: What is the test accuracy?</h3>    "
   ]
  },
  {
   "cell_type": "code",
   "execution_count": 33,
   "metadata": {},
   "outputs": [
    {
     "name": "stdout",
     "output_type": "stream",
     "text": [
      "Test Model Accuracy: 0.7884475659966094\n",
      "Train Model Accuracy: 1.0\n"
     ]
    }
   ],
   "source": [
    "print(\"Test Model Accuracy:\", DecisionTreeModel.score(X_test, y_test))\n",
    "print(\"Train Model Accuracy:\", DecisionTreeModel.score(X_train, y_train))"
   ]
  },
  {
   "cell_type": "code",
   "execution_count": 34,
   "metadata": {},
   "outputs": [],
   "source": [
    "# Used through out 2.1\n",
    "[n_nodes, leaf_count, main_variables] = getTreeInfo(DecisionTreeModel, feature_names) # Call the root function"
   ]
  },
  {
   "cell_type": "markdown",
   "metadata": {},
   "source": [
    "<h3>B: What is the size of the tree?</h3>  "
   ]
  },
  {
   "cell_type": "code",
   "execution_count": 35,
   "metadata": {},
   "outputs": [
    {
     "name": "stdout",
     "output_type": "stream",
     "text": [
      "Number of Nodes: 9513\n"
     ]
    }
   ],
   "source": [
    "print(\"Number of Nodes:\", n_nodes)"
   ]
  },
  {
   "cell_type": "markdown",
   "metadata": {},
   "source": [
    "<h3>C: How many leaves are in the tree that is selected based on the validation data set?</h3>  "
   ]
  },
  {
   "cell_type": "code",
   "execution_count": 36,
   "metadata": {},
   "outputs": [
    {
     "name": "stdout",
     "output_type": "stream",
     "text": [
      "Number of leaves: 4757\n"
     ]
    }
   ],
   "source": [
    "print(\"Number of leaves:\", leaf_count)"
   ]
  },
  {
   "cell_type": "markdown",
   "metadata": {},
   "source": [
    "<h3>D: Which variable is used for the first split? What are the competing splits for this first split? </h3> "
   ]
  },
  {
   "cell_type": "code",
   "execution_count": 37,
   "metadata": {},
   "outputs": [
    {
     "name": "stdout",
     "output_type": "stream",
     "text": [
      "Root feature is MMRCurrentAuctionPrice\n",
      "Competing featues are VehBCostand VehOdo\n"
     ]
    }
   ],
   "source": [
    "print(main_variables)"
   ]
  },
  {
   "cell_type": "markdown",
   "metadata": {},
   "source": [
    "<h3>E: What are the 5 important variables in building the tree?</h3> "
   ]
  },
  {
   "cell_type": "code",
   "execution_count": 38,
   "metadata": {},
   "outputs": [
    {
     "name": "stdout",
     "output_type": "stream",
     "text": [
      "MMRCurrentAuctionPrice : 0.11796879495616798\n",
      "VehOdo : 0.10754228004798246\n",
      "MMRCurrentRetailRatio : 0.10502457999492146\n",
      "VehBCost : 0.09995002570244654\n",
      "AcquisitionRetailPrice : 0.07984325512186947\n"
     ]
    }
   ],
   "source": [
    "analyse_feature_importance(DecisionTreeModel, feature_names, n_to_display=5)"
   ]
  },
  {
   "cell_type": "markdown",
   "metadata": {},
   "source": [
    "<h3>F: Report if you see any evidence of model overfitting</h3> "
   ]
  },
  {
   "cell_type": "code",
   "execution_count": 46,
   "metadata": {},
   "outputs": [
    {
     "data": {
      "image/png": "[encoded data removed]",
      "text/plain": [
       "<Figure size 432x288 with 1 Axes>"
      ]
     },
     "metadata": {
      "needs_background": "light"
     },
     "output_type": "display_data"
    }
   ],
   "source": [
    "test_score = []\n",
    "train_score = []\n",
    "\n",
    "currRange = range(2 , DecisionTreeModel.tree_.max_depth)\n",
    "# check the model performance for max depth from 2-20\n",
    "for max_depth in currRange:\n",
    "    model = DecisionTreeClassifier(max_depth=max_depth, random_state=rs)\n",
    "    model.fit(X_train, y_train)\n",
    "    \n",
    "    test_score.append(model.score(X_test, y_test))\n",
    "    train_score.append(model.score(X_train, y_train))\n",
    "    \n",
    "# plot max depth hyperparameter values vs training and test accuracy score\n",
    "plt.plot(currRange, train_score, 'b', currRange, test_score, 'r')\n",
    "plt.xlabel('max_depth\\nBlue = training acc. Red = test acc.')\n",
    "plt.ylabel('accuracy')\n",
    "plt.title('Max Depth Graph')\n",
    "plt.show()"
   ]
  },
  {
   "cell_type": "markdown",
   "metadata": {},
   "source": [
    "<p>As seen from the graph above, the training accuracy is 100% where as the test accuracy is nearing 80% - this is an idication of overfitting.</p>"
   ]
  },
  {
   "cell_type": "markdown",
   "metadata": {},
   "source": [
    "<h3>G: Did changing the default setting help improving the model?</h3> "
   ]
  },
  {
   "cell_type": "code",
   "execution_count": 56,
   "metadata": {},
   "outputs": [],
   "source": [
    "model = DecisionTreeClassifier(min_samples_split=splits)\n",
    "model.fit(X_train, y_train)\n",
    "max_depth = model.tree_.max_depth\n",
    "splits = math.floor(max_depth/4) # half the number of nodes"
   ]
  },
  {
   "cell_type": "markdown",
   "metadata": {},
   "source": [
    "<h4>Accuracy</h4>"
   ]
  },
  {
   "cell_type": "code",
   "execution_count": 57,
   "metadata": {},
   "outputs": [
    {
     "name": "stdout",
     "output_type": "stream",
     "text": [
      "Test Model Accuracy: 0.7765802857834827\n",
      "Train Model Accuracy: 0.9856884499008799\n"
     ]
    }
   ],
   "source": [
    "print(\"Test Model Accuracy:\", model.score(X_test, y_test))\n",
    "print(\"Train Model Accuracy:\", model.score(X_train, y_train))\n",
    "\n",
    "# used throughout\n",
    "[n_nodes, leaf_count, main_variables] = getTreeInfo(model, feature_names) # Call the root function"
   ]
  },
  {
   "cell_type": "markdown",
   "metadata": {},
   "source": [
    "<h4> Size of the trees</h4>"
   ]
  },
  {
   "cell_type": "code",
   "execution_count": 58,
   "metadata": {},
   "outputs": [
    {
     "name": "stdout",
     "output_type": "stream",
     "text": [
      "Number of Nodes: 8619\n"
     ]
    }
   ],
   "source": [
    "# Size of the trees\n",
    "print(\"Number of Nodes:\", n_nodes)"
   ]
  },
  {
   "cell_type": "markdown",
   "metadata": {},
   "source": [
    "<h4>Number of leaves</h4>"
   ]
  },
  {
   "cell_type": "code",
   "execution_count": 59,
   "metadata": {},
   "outputs": [
    {
     "name": "stdout",
     "output_type": "stream",
     "text": [
      "Number of leaves: 4310\n"
     ]
    }
   ],
   "source": [
    "# Number of leaves\n",
    "print(\"Number of leaves:\", leaf_count)"
   ]
  },
  {
   "cell_type": "markdown",
   "metadata": {},
   "source": [
    "<h4>Important Splits</h4>"
   ]
  },
  {
   "cell_type": "code",
   "execution_count": 60,
   "metadata": {},
   "outputs": [
    {
     "name": "stdout",
     "output_type": "stream",
     "text": [
      "Root feature is MMRCurrentAuctionPrice\n",
      "Competing featues are VehBCostand VehOdo\n"
     ]
    }
   ],
   "source": [
    "# First Split\n",
    "print(main_variables)"
   ]
  },
  {
   "cell_type": "markdown",
   "metadata": {},
   "source": [
    "<h4>5 Most important</h4>"
   ]
  },
  {
   "cell_type": "code",
   "execution_count": 61,
   "metadata": {},
   "outputs": [
    {
     "name": "stdout",
     "output_type": "stream",
     "text": [
      "MMRCurrentAuctionPrice : 0.11746769850670918\n",
      "MMRCurrentRetailRatio : 0.10624598507727744\n",
      "VehOdo : 0.10569438185687768\n",
      "VehBCost : 0.10117055064220909\n",
      "AcquisitionRetailPrice : 0.08113586109451826\n"
     ]
    }
   ],
   "source": [
    "# 5 Most important\n",
    "analyse_feature_importance(model, feature_names, n_to_display=5)"
   ]
  },
  {
   "cell_type": "markdown",
   "metadata": {},
   "source": [
    "<h4>Sign of overfitting</h4>"
   ]
  },
  {
   "cell_type": "code",
   "execution_count": 62,
   "metadata": {},
   "outputs": [
    {
     "data": {
      "image/png": "[encoded data removed]",
      "text/plain": [
       "<Figure size 432x288 with 1 Axes>"
      ]
     },
     "metadata": {
      "needs_background": "light"
     },
     "output_type": "display_data"
    }
   ],
   "source": [
    "\n",
    "test_score = []\n",
    "train_score = []\n",
    "\n",
    "currRange = range(2 , model.tree_.max_depth)\n",
    "# check the model performance for max depth from 2-20\n",
    "for max_depth in currRange:\n",
    "    model = DecisionTreeClassifier(max_depth=max_depth, random_state=rs, min_samples_split=splits)\n",
    "    model.fit(X_train, y_train)\n",
    "    \n",
    "    test_score.append(model.score(X_test, y_test))\n",
    "    train_score.append(model.score(X_train, y_train))\n",
    "    \n",
    "# plot max depth hyperparameter values vs training and test accuracy score\n",
    "plt.plot(currRange, train_score, 'b', currRange, test_score, 'r')\n",
    "plt.xlabel('max_depth\\nBlue = training acc. Red = test acc.')\n",
    "plt.ylabel('accuracy')\n",
    "plt.title('Max Depth Graph')\n",
    "plt.show()"
   ]
  },
  {
   "cell_type": "markdown",
   "metadata": {},
   "source": [
    "<p>As seen from the graph above, the training accuracy is 100% where as the test accuracy is nearing 80% - this is an idication of overfitting.</p>"
   ]
  },
  {
   "cell_type": "markdown",
   "metadata": {},
   "source": [
    "<h2>Task 2.2</h2>"
   ]
  },
  {
   "cell_type": "code",
   "execution_count": 16,
   "metadata": {},
   "outputs": [
    {
     "data": {
      "text/plain": [
       "GridSearchCV(cv=10, error_score='raise-deprecating',\n",
       "       estimator=DecisionTreeClassifier(class_weight=None, criterion='gini', max_depth=None,\n",
       "            max_features=None, max_leaf_nodes=None,\n",
       "            min_impurity_decrease=0.0, min_impurity_split=None,\n",
       "            min_samples_leaf=1, min_samples_split=2,\n",
       "            min_weight_fraction_leaf=0.0, presort=False, random_state=10,\n",
       "            splitter='best'),\n",
       "       fit_params=None, iid='warn', n_jobs=None,\n",
       "       param_grid={'criterion': ['gini', 'entropy'], 'max_depth': range(2, 7), 'min_samples_leaf': range(20, 60, 10)},\n",
       "       pre_dispatch='2*n_jobs', refit=True, return_train_score='warn',\n",
       "       scoring=None, verbose=0)"
      ]
     },
     "execution_count": 16,
     "metadata": {},
     "output_type": "execute_result"
    }
   ],
   "source": [
    "# grid search CV\n",
    "params = {'criterion': ['gini', 'entropy'],\n",
    "          'max_depth': range(2, 7),\n",
    "          'min_samples_leaf': range(20, 60, 10)}\n",
    "\n",
    "cv = GridSearchCV(param_grid=params, estimator=DecisionTreeClassifier(random_state=rs), cv=10)\n",
    "cv.fit(X_train, y_train)"
   ]
  },
  {
   "cell_type": "markdown",
   "metadata": {},
   "source": [
    "<h3>A: What is the classification accuracy on training and test datasets? </h3>   "
   ]
  },
  {
   "cell_type": "code",
   "execution_count": 17,
   "metadata": {},
   "outputs": [
    {
     "name": "stdout",
     "output_type": "stream",
     "text": [
      "Test Accuracy: 0.6169774763865342\n",
      "Train Accuracy: 0.6392202552777102\n"
     ]
    }
   ],
   "source": [
    "print(\"Test Accuracy:\", cv.score(X_test, y_test))\n",
    "print(\"Train Accuracy:\", cv.score(X_train, y_train))"
   ]
  },
  {
   "cell_type": "code",
   "execution_count": 18,
   "metadata": {},
   "outputs": [],
   "source": [
    "# Used throught out 2.2\n",
    "[n_nodes, leaf_count, main_variables] = getTreeInfo(cv.best_estimator_, feature_names) # Call the root function"
   ]
  },
  {
   "cell_type": "markdown",
   "metadata": {},
   "source": [
    "<h3>B: What is the size of tree (i.e. number of nodes)? Is the size different from the maximal tree or the tree in the previous step? Why?</h3>"
   ]
  },
  {
   "cell_type": "code",
   "execution_count": 19,
   "metadata": {},
   "outputs": [
    {
     "name": "stdout",
     "output_type": "stream",
     "text": [
      "Number of Nodes: 121\n"
     ]
    }
   ],
   "source": [
    "print(\"Number of Nodes:\", n_nodes)"
   ]
  },
  {
   "cell_type": "markdown",
   "metadata": {},
   "source": [
    "<p>Yes, due to it being optimised on the best pramaters and we limit the maximum depth.</p>"
   ]
  },
  {
   "cell_type": "markdown",
   "metadata": {},
   "source": [
    "<h3>C: How many leaves are in the tree that is selected based on the validation data set?</h3>  "
   ]
  },
  {
   "cell_type": "code",
   "execution_count": 20,
   "metadata": {},
   "outputs": [
    {
     "name": "stdout",
     "output_type": "stream",
     "text": [
      "Number of leaves: 61\n"
     ]
    }
   ],
   "source": [
    "print(\"Number of leaves:\", leaf_count)"
   ]
  },
  {
   "cell_type": "markdown",
   "metadata": {},
   "source": [
    "<h3>D: Which variable is used for the first split? What are the competing splits for this first split? </h3>  "
   ]
  },
  {
   "cell_type": "code",
   "execution_count": 21,
   "metadata": {},
   "outputs": [
    {
     "name": "stdout",
     "output_type": "stream",
     "text": [
      "Root feature is MMRCurrentAuctionPrice\n",
      "Competing featues are VehBCostand VehOdo\n"
     ]
    }
   ],
   "source": [
    "print(main_variables)"
   ]
  },
  {
   "cell_type": "markdown",
   "metadata": {},
   "source": [
    "<h3>E: What are the 5 important variables in building the tree?</h3>"
   ]
  },
  {
   "cell_type": "code",
   "execution_count": 22,
   "metadata": {},
   "outputs": [
    {
     "name": "stdout",
     "output_type": "stream",
     "text": [
      "MMRCurrentAuctionPrice : 0.34475410917429183\n",
      "Body_CITY : 0.0952740414428719\n",
      "VehBCost : 0.08453437248213369\n",
      "AcquisitionAuctionprice : 0.07616091174900595\n",
      "Auction_ADESA : 0.060541863198503125\n"
     ]
    }
   ],
   "source": [
    "analyse_feature_importance(cv.best_estimator_, feature_names, n_to_display=5)"
   ]
  },
  {
   "cell_type": "markdown",
   "metadata": {},
   "source": [
    "<h3>F: Report if you see any evidence of model overfitting</h3> "
   ]
  },
  {
   "cell_type": "code",
   "execution_count": 65,
   "metadata": {},
   "outputs": [
    {
     "name": "stdout",
     "output_type": "stream",
     "text": [
      "              precision    recall  f1-score   support\n",
      "\n",
      "           0       0.91      0.62      0.74      7188\n",
      "           1       0.18      0.57      0.28      1070\n",
      "\n",
      "   micro avg       0.62      0.62      0.62      8258\n",
      "   macro avg       0.55      0.60      0.51      8258\n",
      "weighted avg       0.81      0.62      0.68      8258\n",
      "\n",
      "{'criterion': 'gini', 'max_depth': 6, 'min_samples_leaf': 40}\n"
     ]
    }
   ],
   "source": [
    "y_pred = cv.predict(X_test)\n",
    "print(classification_report(y_test, y_pred))\n",
    "print(cv.best_params_)\n",
    "\n"
   ]
  },
  {
   "cell_type": "code",
   "execution_count": 67,
   "metadata": {},
   "outputs": [
    {
     "data": {
      "image/png": "[encoded data removed]",
      "text/plain": [
       "<Figure size 432x288 with 1 Axes>"
      ]
     },
     "metadata": {
      "needs_background": "light"
     },
     "output_type": "display_data"
    }
   ],
   "source": [
    "test_score = []\n",
    "train_score = []\n",
    "\n",
    "currRange = range(2 , cv.best_params_[\"min_samples_leaf\"])\n",
    "\n",
    "# check the model performance for max depth from 2-20\n",
    "for max_depth in currRange:\n",
    "    model = DecisionTreeClassifier(max_depth=max_depth, random_state=rs, min_samples_split=cv.best_params_[\"min_samples_leaf\"])\n",
    "    model.fit(X_train, y_train)\n",
    "    \n",
    "    test_score.append(model.score(X_test, y_test))\n",
    "    train_score.append(model.score(X_train, y_train))\n",
    "    \n",
    "# plot max depth hyperparameter values vs training and test accuracy score\n",
    "plt.plot(currRange, train_score, 'b', currRange, test_score, 'r')\n",
    "plt.xlabel('max_depth\\nBlue = training acc. Red = test acc.')\n",
    "plt.ylabel('accuracy')\n",
    "plt.title('Max Depth Graph')\n",
    "plt.show()"
   ]
  },
  {
   "cell_type": "markdown",
   "metadata": {},
   "source": [
    "<p>As seen in Task 2.2 A - the graph above shows a clear sign of overfitting as the test data is significant'y below the training data."
   ]
  },
  {
   "cell_type": "markdown",
   "metadata": {},
   "source": [
    "<h3>G: What are the parameters used? Justify your choices</h3> "
   ]
  },
  {
   "cell_type": "code",
   "execution_count": 70,
   "metadata": {},
   "outputs": [
    {
     "data": {
      "image/png": "[encoded data removed]",
      "text/plain": [
       "<Figure size 432x288 with 1 Axes>"
      ]
     },
     "metadata": {
      "needs_background": "light"
     },
     "output_type": "display_data"
    }
   ],
   "source": [
    "test_score = []\n",
    "train_score = []\n",
    "\n",
    "currRange = range(2 , cv.best_params_[\"min_samples_leaf\"])\n",
    "\n",
    "# check the model performance for max depth from 2-20\n",
    "for max_depth in currRange:\n",
    "    model = DecisionTreeClassifier(max_depth=25, random_state=rs, min_samples_split=max_depth)\n",
    "    model.fit(X_train, y_train)\n",
    "    \n",
    "    test_score.append(model.score(X_test, y_test))\n",
    "    train_score.append(model.score(X_train, y_train))\n",
    "    \n",
    "# plot max depth hyperparameter values vs training and test accuracy score\n",
    "plt.plot(currRange, train_score, 'b', currRange, test_score, 'r')\n",
    "plt.xlabel('min_samples_leaf\\nBlue = training acc. Red = test acc.')\n",
    "plt.ylabel('accuracy')\n",
    "plt.title('Min Samples Leaf')\n",
    "plt.show()"
   ]
  },
  {
   "cell_type": "markdown",
   "metadata": {},
   "source": [
    "<p> There are three main choices used for the model: </p>\n",
    "<p><b>Criterion:</b> gini</p> \n",
    "<p><b>max_depth:</b> 25 - we ran the max_depth from the minimum 2 to 40 and found after 25 we are getting deminishing returns, thus 25 was the optimal value (see graph in question F)</p> \n",
    "<p><b>min_samples_leaf:</b> 2 - we ran the min_sameples_leaf from the minimum 2 to 40 and found after 2 we are getting deminishing returns, thus 25 was the optimal value (see graph above)</p>"
   ]
  },
  {
   "cell_type": "markdown",
   "metadata": {},
   "source": [
    "<h2>Task 2.3</h2>\n",
    "<h4>What is the significant difference do you see between these two decision tree\n",
    "models (steps 2.1 & 2.2)? How do they compare performance-wise? Explain why\n",
    "those changes may have happened.</h4>"
   ]
  },
  {
   "cell_type": "markdown",
   "metadata": {},
   "source": [
    "There are two main differences to concider between the model in 2.1 and 2.2.\n",
    "\n",
    "<b>Performance</b><br>\n",
    "Due to the Node size in 2.1 (4000 < nodes), the model performance is much lower than that of 2.2 (150 > nodes). Meaning when running the, 2.2 finds a solution much faster than 2.1\n",
    "\n",
    "<b>Accuracy</b><br>\n",
    "Due to the size of the tree in 2.1, one would assume that the accuracy is much higher, however, this is only true for the TRAIN data. Due to the size of the model, overfitting occurs and reduces the accuracy of the model on the TEST data.\n",
    "\n",
    "The model in 2.2 is much smaller and one would except lower accuracy, but due to the model being well generalized it actually outperforms the overfitted model in 2.1.\n"
   ]
  },
  {
   "cell_type": "markdown",
   "metadata": {},
   "source": [
    "<h2>Task 2.4</h2>\n",
    "<h4>From the better model, can you identify which cars could potential be “kicks”?\n",
    "Can you provide some descriptive summary of those cars?</h4>"
   ]
  },
  {
   "cell_type": "code",
   "execution_count": 94,
   "metadata": {},
   "outputs": [
    {
     "ename": "Exception",
     "evalue": "Data must be 1-dimensional",
     "output_type": "error",
     "traceback": [
      "\u001b[1;31m---------------------------------------------------------------------------\u001b[0m",
      "\u001b[1;31mException\u001b[0m                                 Traceback (most recent call last)",
      "\u001b[1;32m<ipython-input-94-e3a56fe31cd4>\u001b[0m in \u001b[0;36m<module>\u001b[1;34m\u001b[0m\n\u001b[0;32m      1\u001b[0m \u001b[1;31m# Step one: do a prediction and save the rows that are kicks\u001b[0m\u001b[1;33m\u001b[0m\u001b[1;33m\u001b[0m\u001b[1;33m\u001b[0m\u001b[0m\n\u001b[0;32m      2\u001b[0m \u001b[0mpred_y\u001b[0m \u001b[1;33m=\u001b[0m \u001b[0mDecisionTreeModel\u001b[0m\u001b[1;33m.\u001b[0m\u001b[0mpredict\u001b[0m\u001b[1;33m(\u001b[0m\u001b[0mX_test\u001b[0m\u001b[1;33m)\u001b[0m\u001b[1;33m\u001b[0m\u001b[1;33m\u001b[0m\u001b[0m\n\u001b[1;32m----> 3\u001b[1;33m \u001b[0mkicks\u001b[0m \u001b[1;33m=\u001b[0m \u001b[0mpd\u001b[0m\u001b[1;33m.\u001b[0m\u001b[0mSeries\u001b[0m\u001b[1;33m(\u001b[0m\u001b[0mX_test\u001b[0m\u001b[1;33m[\u001b[0m\u001b[0mX_test\u001b[0m \u001b[1;33m==\u001b[0m \u001b[0mpred_y\u001b[0m\u001b[1;33m]\u001b[0m\u001b[1;33m)\u001b[0m\u001b[1;33m\u001b[0m\u001b[1;33m\u001b[0m\u001b[0m\n\u001b[0m\u001b[0;32m      4\u001b[0m \u001b[0mNon_Kicks\u001b[0m \u001b[1;33m=\u001b[0m \u001b[0mX_test\u001b[0m\u001b[1;33m[\u001b[0m\u001b[0mX_test\u001b[0m \u001b[1;33m!=\u001b[0m \u001b[0mpred_y\u001b[0m\u001b[1;33m]\u001b[0m\u001b[1;33m\u001b[0m\u001b[1;33m\u001b[0m\u001b[0m\n\u001b[0;32m      5\u001b[0m \u001b[1;33m\u001b[0m\u001b[0m\n",
      "\u001b[1;32mC:\\ProgramData\\Anaconda3\\lib\\site-packages\\pandas\\core\\series.py\u001b[0m in \u001b[0;36m__init__\u001b[1;34m(self, data, index, dtype, name, copy, fastpath)\u001b[0m\n\u001b[0;32m    273\u001b[0m             \u001b[1;32melse\u001b[0m\u001b[1;33m:\u001b[0m\u001b[1;33m\u001b[0m\u001b[1;33m\u001b[0m\u001b[0m\n\u001b[0;32m    274\u001b[0m                 data = _sanitize_array(data, index, dtype, copy,\n\u001b[1;32m--> 275\u001b[1;33m                                        raise_cast_failure=True)\n\u001b[0m\u001b[0;32m    276\u001b[0m \u001b[1;33m\u001b[0m\u001b[0m\n\u001b[0;32m    277\u001b[0m                 \u001b[0mdata\u001b[0m \u001b[1;33m=\u001b[0m \u001b[0mSingleBlockManager\u001b[0m\u001b[1;33m(\u001b[0m\u001b[0mdata\u001b[0m\u001b[1;33m,\u001b[0m \u001b[0mindex\u001b[0m\u001b[1;33m,\u001b[0m \u001b[0mfastpath\u001b[0m\u001b[1;33m=\u001b[0m\u001b[1;32mTrue\u001b[0m\u001b[1;33m)\u001b[0m\u001b[1;33m\u001b[0m\u001b[1;33m\u001b[0m\u001b[0m\n",
      "\u001b[1;32mC:\\ProgramData\\Anaconda3\\lib\\site-packages\\pandas\\core\\series.py\u001b[0m in \u001b[0;36m_sanitize_array\u001b[1;34m(data, index, dtype, copy, raise_cast_failure)\u001b[0m\n\u001b[0;32m   4163\u001b[0m     \u001b[1;32melif\u001b[0m \u001b[0msubarr\u001b[0m\u001b[1;33m.\u001b[0m\u001b[0mndim\u001b[0m \u001b[1;33m>\u001b[0m \u001b[1;36m1\u001b[0m\u001b[1;33m:\u001b[0m\u001b[1;33m\u001b[0m\u001b[1;33m\u001b[0m\u001b[0m\n\u001b[0;32m   4164\u001b[0m         \u001b[1;32mif\u001b[0m \u001b[0misinstance\u001b[0m\u001b[1;33m(\u001b[0m\u001b[0mdata\u001b[0m\u001b[1;33m,\u001b[0m \u001b[0mnp\u001b[0m\u001b[1;33m.\u001b[0m\u001b[0mndarray\u001b[0m\u001b[1;33m)\u001b[0m\u001b[1;33m:\u001b[0m\u001b[1;33m\u001b[0m\u001b[1;33m\u001b[0m\u001b[0m\n\u001b[1;32m-> 4165\u001b[1;33m             \u001b[1;32mraise\u001b[0m \u001b[0mException\u001b[0m\u001b[1;33m(\u001b[0m\u001b[1;34m'Data must be 1-dimensional'\u001b[0m\u001b[1;33m)\u001b[0m\u001b[1;33m\u001b[0m\u001b[1;33m\u001b[0m\u001b[0m\n\u001b[0m\u001b[0;32m   4166\u001b[0m         \u001b[1;32melse\u001b[0m\u001b[1;33m:\u001b[0m\u001b[1;33m\u001b[0m\u001b[1;33m\u001b[0m\u001b[0m\n\u001b[0;32m   4167\u001b[0m             \u001b[0msubarr\u001b[0m \u001b[1;33m=\u001b[0m \u001b[0mcom\u001b[0m\u001b[1;33m.\u001b[0m\u001b[0m_asarray_tuplesafe\u001b[0m\u001b[1;33m(\u001b[0m\u001b[0mdata\u001b[0m\u001b[1;33m,\u001b[0m \u001b[0mdtype\u001b[0m\u001b[1;33m=\u001b[0m\u001b[0mdtype\u001b[0m\u001b[1;33m)\u001b[0m\u001b[1;33m\u001b[0m\u001b[1;33m\u001b[0m\u001b[0m\n",
      "\u001b[1;31mException\u001b[0m: Data must be 1-dimensional"
     ]
    }
   ],
   "source": [
    "# Step one: do a prediction and save the rows that are kicks\n",
    "pred_y = DecisionTreeModel.predict(X_test)\n",
    "kicks = pd.Series(X_test[X_test == pred_y])\n",
    "Non_Kicks = X_test[X_test != pred_y]\n",
    "\n",
    "fig = plt.figure()\n",
    "kicks.boxplot(column=['MMRCurrentAuctionPrice'], grid = False, rot = 30)\n",
    "Non_Kicks.boxplot(column=['MMRCurrentAuctionPrice'], grid = False, rot = 30)\n",
    "plt.show\n",
    "    \n",
    "#MMRCurrentAuctionPrice \n",
    "#VehOdo \n",
    "#MMRCurrentRetailRatio\n",
    "#VehBCost \n",
    "#AcquisitionRetailPrice\n",
    "# look at simularities"
   ]
  },
  {
   "cell_type": "code",
   "execution_count": 99,
   "metadata": {},
   "outputs": [
    {
     "data": {
      "text/plain": [
       "PurchaseID\n",
       "21       0.547786\n",
       "22       0.488286\n",
       "45       0.410533\n",
       "53       0.397243\n",
       "73       0.506430\n",
       "90       0.515672\n",
       "142      0.454832\n",
       "160      0.458599\n",
       "206      0.472323\n",
       "229      0.362746\n",
       "230      0.386824\n",
       "231      0.399407\n",
       "232      0.449214\n",
       "233      0.399407\n",
       "234      0.489396\n",
       "235      0.489396\n",
       "236      0.366601\n",
       "237      0.433372\n",
       "238      0.397160\n",
       "239      0.496475\n",
       "254      0.291770\n",
       "262      0.332263\n",
       "280      0.353233\n",
       "288      0.290275\n",
       "297      0.365275\n",
       "311      0.367747\n",
       "319      0.594429\n",
       "320      0.370383\n",
       "322      0.267895\n",
       "326      0.400984\n",
       "           ...   \n",
       "41203    0.297576\n",
       "41222    0.371390\n",
       "41227    0.524093\n",
       "41236    0.291565\n",
       "41241    0.514244\n",
       "41242    0.514054\n",
       "41243    0.207231\n",
       "41253    0.540265\n",
       "41257    0.423341\n",
       "41262    0.289784\n",
       "41279    0.321157\n",
       "41294    0.286723\n",
       "41327    0.488340\n",
       "41328    0.530429\n",
       "41354    0.314540\n",
       "41357    0.342685\n",
       "41364    0.189463\n",
       "41385    0.289810\n",
       "41386    0.457923\n",
       "41392    0.220094\n",
       "41399    0.358595\n",
       "41408    0.499335\n",
       "41417    0.308226\n",
       "41424    0.367174\n",
       "41426    0.235486\n",
       "41428    0.358191\n",
       "41437    0.169856\n",
       "41448    0.355154\n",
       "41452    0.453470\n",
       "41471    0.190328\n",
       "Name: MMRCurrentAuctionPrice, Length: 5348, dtype: float64"
      ]
     },
     "execution_count": 99,
     "metadata": {},
     "output_type": "execute_result"
    }
   ],
   "source": [
    "data.loc[data.IsBadBuy == 1, \"MMRCurrentAuctionPrice\"]"
   ]
  },
  {
   "cell_type": "markdown",
   "metadata": {},
   "source": [
    "<h2>Task 3.1</h2>"
   ]
  },
  {
   "cell_type": "markdown",
   "metadata": {},
   "source": [
    "<p>Yes there were values that needed to be Imputed. These Columns where:</p>\n",
    "<div style='background: #f4f4f4; border: 1px solid #ddd;border-left: 3px solid #f36d33; color: #665; page-break-inside: avoid;    font-family: monospace;font-size: 15px; line-height: 1.6; margin-bottom: 1.6em;\n",
    "    max-width: 100%;\n",
    "    overflow: auto;\n",
    "    padding: 1em 1.5em;\n",
    "    display: block;\n",
    "    word-wrap: break-word;'>\n",
    "MMRAcquisitionAuctionAveragePrice <br>\n",
    "MMRAcquisitionAuctionCleanPrice<br>\n",
    "MMRAcquisitionRetailAveragePrice<br>\n",
    "MMRAcquisitonRetailCleanPrice<br>\n",
    "MMRCurrentAuctionAveragePrice<br>\n",
    "MMRCurrentAuctionCleanPrice<br>\n",
    "MMRCurrentRetailAveragePrice<br>\n",
    "MMRCurrentRetailCleanPrice<br>\n",
    "<br>\n",
    "VehOdo<br>\n",
    "VehBCost<br>\n",
    "WarrantyCost<br>\n",
    "</div>\n"
   ]
  },
  {
   "cell_type": "markdown",
   "metadata": {},
   "source": [
    "<h2>Task 3.2</h2>\n",
    "<p>\n",
    "There were three main transformations done.<br><br>\n",
    "\n",
    "<b>Averaging high correlating values</b><br>\n",
    "After doing a correlation analysis it became clear that there is a very high correlation between the Average and the Clean price. Instead of dropping these values it was decided that the Average of the Average and Clean price will be transformed into a new varaibles. The resulting variable where\n",
    "</p>\n",
    "<p>Yes there were values that needed to be Imputed. These Columns where:</p>\n",
    "<div style='background: #f4f4f4; border: 1px solid #ddd;border-left: 3px solid #f36d33; color: #665; page-break-inside: avoid;    font-family: monospace;font-size: 15px; line-height: 1.6; margin-bottom: 1.6em;\n",
    "    max-width: 100%;\n",
    "    overflow: auto;\n",
    "    padding: 1em 1.5em;\n",
    "    display: block;\n",
    "    word-wrap: break-word;'>\n",
    "MMRAcquisitionAuctionPrice<br>\n",
    "MMRAcquisitonRetailPrice<br>\n",
    "MMRCurrentAuctionPrice<br>\n",
    "MMRCurrentRetailPrice<br>\n",
    "\n",
    "<br>\n",
    "VehOdo<br>\n",
    "VehBCost<br>\n",
    "WarrantyCost<br>\n",
    "</div>\n",
    "<b>Removing Outliers</b><br>\n",
    "<p>After creating histograms and box plots it was noted that there is severe skew. The first step taken to remove the skew was to remove outliers for all varaibles.</p>\n",
    "\n",
    "<b>Sqaure Root Transformations</b><br>\n",
    "After the initial removal of outliers, more box plots and histograms were created. From this it was noted that the \"Auction\" variables still had some skew. To fix this these were transformed using the Sqaur Root of the varaible on the Price variables.\n",
    "<p>Yes there were values that needed to be Imputed. These Columns where:</p>\n",
    "<div style='background: #f4f4f4; border: 1px solid #ddd;border-left: 3px solid #f36d33; color: #665; page-break-inside: avoid;    font-family: monospace;font-size: 15px; line-height: 1.6; margin-bottom: 1.6em;\n",
    "    max-width: 100%;\n",
    "    overflow: auto;\n",
    "    padding: 1em 1.5em;\n",
    "    display: block;\n",
    "    word-wrap: break-word;'>\n",
    "MMRAcquisitionAuctionPrice<br>\n",
    "MMRAcquisitonRetailPrice<br>\n",
    "MMRCurrentAuctionPrice<br>\n",
    "MMRCurrentRetailPrice<br>\n",
    "</div>\n",
    "\n",
    "<b>Log Transformations</b><br>\n",
    "<p>some of the varaibles were found to be better suited to a Log transformation. These variables were:</p>\n",
    "<div style='background: #f4f4f4; border: 1px solid #ddd;border-left: 3px solid #f36d33; color: #665; page-break-inside: avoid;    font-family: monospace;font-size: 15px; line-height: 1.6; margin-bottom: 1.6em;\n",
    "    max-width: 100%;\n",
    "    overflow: auto;\n",
    "    padding: 1em 1.5em;\n",
    "    display: block;\n",
    "    word-wrap: break-word;'>\n",
    "VehOdo<br>\n",
    "WarrantyCost<br>\n",
    "</div>\n",
    "<b>Normilising Values</b><br>\n",
    "All the variables were then normalized for consistancy.\n",
    "\n",
    "\n",
    "\n",
    "\n"
   ]
  },
  {
   "cell_type": "markdown",
   "metadata": {},
   "source": [
    "<h2>Task 3.3</h2>\n"
   ]
  },
  {
   "cell_type": "code",
   "execution_count": 134,
   "metadata": {},
   "outputs": [],
   "source": [
    "# initialise a standard scaler object\n",
    "scaler = StandardScaler()\n",
    "\n",
    "_range = 20\n",
    "\n",
    "for i in range(_range):\n",
    "    col = X_train[:,i]\n",
    "\n",
    "X_train_regression = scaler.fit_transform(X_train, y_train)\n",
    "\n",
    "for i in range(_range):\n",
    "    col = X_train[:,i]\n",
    "\n",
    "X_test_regression = scaler.transform(X_test)\n",
    "\n",
    "model = LogisticRegression(random_state=rs)\n",
    "\n",
    "# fit it to training data\n",
    "model.fit(X_train_regression, y_train)\n",
    "\n",
    "# grid search CV\n",
    "params = {'C': [pow(10, x) for x in range(-6, 4)]}\n",
    "\n",
    "# use all cores to tune logistic regression with C parameter\n",
    "cv = GridSearchCV(param_grid=params, estimator=LogisticRegression(random_state=rs), cv=10, n_jobs=-1)\n",
    "cv.fit(X_train_regression, y_train)\n",
    "model2 = cv.best_estimator_"
   ]
  },
  {
   "cell_type": "markdown",
   "metadata": {},
   "source": [
    "<h3>H: Name the regression function used</h3>"
   ]
  },
  {
   "cell_type": "markdown",
   "metadata": {},
   "source": [
    "<p>Logistic Regression</p>"
   ]
  },
  {
   "cell_type": "markdown",
   "metadata": {},
   "source": [
    "<h3>I: How much was the difference in performance of two models build, default\n",
    "and optimal?</h3>"
   ]
  },
  {
   "cell_type": "markdown",
   "metadata": {},
   "source": [
    "<p><b>Standard Model</b></p>"
   ]
  },
  {
   "cell_type": "code",
   "execution_count": 135,
   "metadata": {},
   "outputs": [
    {
     "name": "stdout",
     "output_type": "stream",
     "text": [
      "              precision    recall  f1-score   support\n",
      "\n",
      "           0       0.87      0.99      0.93      7188\n",
      "           1       0.23      0.01      0.02      1070\n",
      "\n",
      "   micro avg       0.87      0.87      0.87      8258\n",
      "   macro avg       0.55      0.50      0.47      8258\n",
      "weighted avg       0.79      0.87      0.81      8258\n",
      "\n",
      "Train accuracy: 0.6313775953813515\n",
      "Test accuracy: 0.6281181884233471\n"
     ]
    }
   ],
   "source": [
    "y_pred = model.predict(X_test)\n",
    "print(classification_report(y_test, y_pred))\n",
    "print(\"Train accuracy:\", model.score(X_train_regression, y_train))\n",
    "print(\"Test accuracy:\", model.score(X_test_regression, y_test))\n"
   ]
  },
  {
   "cell_type": "markdown",
   "metadata": {},
   "source": [
    "<p><b>Optimised Model</b></p>"
   ]
  },
  {
   "cell_type": "code",
   "execution_count": null,
   "metadata": {},
   "outputs": [],
   "source": [
    "y_pred = model2.predict(X_test)\n",
    "print(classification_report(y_test, y_pred))\n",
    "print(\"Train accuracy:\", model2.score(X_train_regression, y_train))\n",
    "print(\"Test accuracy:\", model2.score(X_test_regression, y_test))"
   ]
  },
  {
   "cell_type": "markdown",
   "metadata": {},
   "source": [
    "<p> Both the test and train accuracy for both models were very similar at roughly 83%</p>"
   ]
  },
  {
   "cell_type": "markdown",
   "metadata": {},
   "source": [
    "<h3>J: Show the set parameters for the best model. What are the parameters used?\n",
    "Explain your decision. What are the optimal parameters?</h3>"
   ]
  },
  {
   "cell_type": "code",
   "execution_count": 140,
   "metadata": {},
   "outputs": [
    {
     "name": "stdout",
     "output_type": "stream",
     "text": [
      "AcquisitionRetailPrice : 0.9427119329918144\n",
      "Nationality_TOP LINE ASIAN : 0.7394568630985503\n",
      "Nationality_AMERICAN : -0.6915510652297557\n",
      "AcquisitionAuctionprice : -0.652672497183455\n",
      "MMRCurrentRetailPrice : -0.6322479899108978\n",
      "TopThreeAmericanName_OTHER : -0.6318081256649645\n",
      "TopThreeAmericanName_FORD : 0.5087660520301414\n",
      "MMRCurrentAuctionPrice : 0.5061777168392493\n",
      "Make_NISSAN : -0.4608985979030954\n",
      "Make_CHRYSLER : 0.34820512615063026\n",
      "Make_TOYOTA : -0.347615462328434\n",
      "Make_DODGE : 0.30368238597588876\n",
      "VehBCost : -0.29881770803656954\n",
      "Nationality_OTHER ASIAN : 0.2879637583136441\n",
      "Make_HONDA : -0.2327047801824177\n",
      "Make_FORD : -0.22647495906830956\n",
      "VehYear_2008.0 : -0.21371923789821537\n",
      "VehYear_2002.0 : 0.17677091462968605\n",
      "VehYear_2007.0 : -0.1659873860417289\n",
      "TopThreeAmericanName_GM : 0.1654216126436724\n"
     ]
    }
   ],
   "source": [
    "# grab feature importances from the model and feature name from the original X\n",
    "coef = model.coef_[0]\n",
    "feature_names = X.columns\n",
    "\n",
    "# sort them out in descending order\n",
    "indices = np.argsort(np.absolute(coef))\n",
    "indices = np.flip(indices, axis=0)\n",
    "\n",
    "# limit to 20 features, you can leave this out to print out everything\n",
    "indices = indices[:20]\n",
    "\n",
    "for i in indices:\n",
    "    print(feature_names[i], ':', coef[i])"
   ]
  },
  {
   "cell_type": "markdown",
   "metadata": {},
   "source": [
    "<h3>K: Report which variables are included in the regression model.</h3>"
   ]
  },
  {
   "cell_type": "code",
   "execution_count": null,
   "metadata": {},
   "outputs": [],
   "source": []
  },
  {
   "cell_type": "markdown",
   "metadata": {},
   "source": [
    "<h3>L: Report the top-5 important variables (in the order) in the model.</h3>"
   ]
  },
  {
   "cell_type": "code",
   "execution_count": null,
   "metadata": {},
   "outputs": [],
   "source": []
  },
  {
   "cell_type": "markdown",
   "metadata": {},
   "source": [
    "<h3>M: What is classification accuracy on training and test datasets?</h3>"
   ]
  },
  {
   "cell_type": "code",
   "execution_count": null,
   "metadata": {},
   "outputs": [],
   "source": []
  },
  {
   "cell_type": "markdown",
   "metadata": {},
   "source": [
    "<h3>N: Report any sign of overfitting</h3>"
   ]
  },
  {
   "cell_type": "code",
   "execution_count": null,
   "metadata": {},
   "outputs": [],
   "source": []
  },
  {
   "cell_type": "markdown",
   "metadata": {},
   "source": [
    "<h2>Task 3.4</h2>"
   ]
  },
  {
   "cell_type": "code",
   "execution_count": null,
   "metadata": {},
   "outputs": [],
   "source": [
    "rfe = RFECV(estimator = LogisticRegression(random_state=rs), cv=10)\n",
    "rfe.fit(X_train_regression, y_train) # run the RFECV"
   ]
  },
  {
   "cell_type": "markdown",
   "metadata": {},
   "source": [
    "<h3>A: Report which variables are included in the regression model</h3>"
   ]
  },
  {
   "cell_type": "code",
   "execution_count": null,
   "metadata": {},
   "outputs": [],
   "source": [
    "# comparing how many variables before and after\n",
    "print(\"Original feature set\", X_train.shape[1])\n",
    "print(\"Number of features after elimination\", rfe.n_features_)"
   ]
  },
  {
   "cell_type": "markdown",
   "metadata": {},
   "source": [
    "<h3>B: Report the top-5 important variables (in the order) in the model.</h3>"
   ]
  },
  {
   "cell_type": "code",
   "execution_count": null,
   "metadata": {},
   "outputs": [],
   "source": []
  }
 ],
 "metadata": {
  "kernelspec": {
   "display_name": "Python 3",
   "language": "python",
   "name": "python3"
  },
  "language_info": {
   "codemirror_mode": {
    "name": "ipython",
    "version": 3
   },
   "file_extension": ".py",
   "mimetype": "text/x-python",
   "name": "python",
   "nbconvert_exporter": "python",
   "pygments_lexer": "ipython3",
   "version": "3.7.1"
  }
 },
 "nbformat": 4,
 "nbformat_minor": 2
}

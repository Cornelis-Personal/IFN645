{
 "cells": [
  {
   "cell_type": "markdown",
   "metadata": {},
   "source": [
    "# Assignment 1: \n",
    "Cornelis de Jager n8891974\n",
    "Daniel Brandenburg n8867887\n",
    "Joel Schwaber n10241337"
   ]
  },
  {
   "cell_type": "code",
   "execution_count": 18,
   "metadata": {},
   "outputs": [
    {
     "name": "stdout",
     "output_type": "stream",
     "text": [
      "Requirement already satisfied: pydot in c:\\program files (x86)\\microsoft visual studio\\shared\\anaconda3_64\\lib\\site-packages (1.4.1)\n",
      "Requirement already satisfied: pyparsing>=2.1.4 in c:\\program files (x86)\\microsoft visual studio\\shared\\anaconda3_64\\lib\\site-packages (from pydot) (2.2.0)\n"
     ]
    }
   ],
   "source": [
    "# Run this if pydot needs to be installed\n",
    "!pip install pydot"
   ]
  },
  {
   "cell_type": "code",
   "execution_count": 19,
   "metadata": {},
   "outputs": [],
   "source": [
    "# Imports\n",
    "import pandas as pd\n",
    "import numpy as np\n",
    "import scipy.stats as stats\n",
    "\n",
    "# Import plotting libraries\n",
    "import matplotlib.pyplot as plt\n",
    "import seaborn as sns\n",
    "import math\n",
    "%matplotlib inline\n",
    "\n",
    "# Import ML libraries\n",
    "from sklearn.preprocessing import Imputer\n",
    "from sklearn.model_selection import GridSearchCV\n",
    "from sklearn.tree import DecisionTreeClassifier\n",
    "from sklearn.linear_model import LogisticRegression\n",
    "from sklearn.neural_network import MLPClassifier\n",
    "from sklearn.ensemble import VotingClassifier\n",
    "from sklearn import preprocessing\n",
    "from sklearn.model_selection import train_test_split\n",
    "from sklearn.feature_selection import RFECV\n",
    "from sklearn.metrics import classification_report, accuracy_score\n",
    "from sklearn.preprocessing import StandardScaler\n",
    "from sklearn.tree import export_graphviz\n",
    "from sklearn.feature_selection import SelectFromModel\n",
    "from sklearn.metrics import roc_auc_score\n",
    "from sklearn.metrics import roc_curve\n",
    "from sklearn.ensemble import VotingClassifier\n",
    "\n",
    "# Set a random state value\n",
    "rs = 10\n",
    "\n",
    "#import libraries to visualize decision trees\n",
    "import pydot\n",
    "from io import StringIO\n",
    "\n",
    "\n",
    "# Ignore Warnings and ignore them\n",
    "import warnings\n",
    "warnings.filterwarnings(\"ignore\")"
   ]
  },
  {
   "cell_type": "code",
   "execution_count": 20,
   "metadata": {},
   "outputs": [],
   "source": [
    "def categoricalPlot(cat, cat2 = 'IsBadBuy'): # Cat is the carigorical as a string i.e 'Size'\n",
    "    pd.crosstab(data[cat],data[cat2]).plot(kind=\"bar\")\n",
    "    \n",
    "def CreateAveragedColumn (A, B):\n",
    "    C = [np.nan] * len( A )\n",
    "    for i in range(len(A)):\n",
    "        C[i] = (A[i] + B[i])/2\n",
    "    \n",
    "    return C\n",
    "\n",
    "def IdentifyOutliers (column):\n",
    "    data_described = column.describe()\n",
    "    Q1 = data_described[\"25%\"]\n",
    "    Q3 = data_described[\"75%\"]\n",
    "    IQR = Q3-Q1\n",
    "    lowerLimit = Q1 - 1.5 * IQR\n",
    "    upperLimit = Q3 + 1.5 * IQR\n",
    "    output = [np.nan] * len( column )\n",
    "    for i in range(len(column)):\n",
    "        value = column[i]\n",
    "        if value < lowerLimit or value > upperLimit:\n",
    "            output[i] = True\n",
    "        else:\n",
    "            output[i] = False\n",
    "    return output\n",
    "\n",
    "def analyse_feature_importance(dm_model, feature_names, n_to_display=5):\n",
    "    # grab feature importances from the model\n",
    "    importances = dm_model.feature_importances_\n",
    "    \n",
    "    # sort them out in descending order\n",
    "    indices = np.argsort(importances)\n",
    "    indices = np.flip(indices, axis=0)\n",
    "\n",
    "    # limit to 20 features, you can leave this out to print out everything\n",
    "    indices = indices[:n_to_display]\n",
    "\n",
    "    for i in indices:\n",
    "        print(feature_names[i], ':', importances[i])\n",
    "        \n",
    "# Define a function to find the root node\n",
    "def getTreeInfo(model, feature_names):\n",
    "    features  = [feature_names[i] for i in model.tree_.feature]\n",
    "    print(\"Root feature is \", features[0])\n",
    "    print(\"Competing featues are \", features[1], 'and ', features[2])\n",
    "    print(\"Number of nodes is \", model.tree_.node_count)\n",
    "    \n",
    "# Write a function that imputes median\n",
    "def ImputeMean(series):\n",
    "    return series.fillna(series.mean())\n",
    "\n",
    "def Normalize (column):\n",
    "    column =  (column - column.min())/(column.max() - column.min())\n",
    "    return column\n",
    "\n",
    "def LogTransform (column):\n",
    "    column = math.log(column)"
   ]
  },
  {
   "cell_type": "code",
   "execution_count": 21,
   "metadata": {},
   "outputs": [],
   "source": [
    "def PreProcessing (data):\n",
    "    print(\"Pre-Processing Step\")\n",
    "    \n",
    "    # Check if there are any missing target variables\n",
    "    if data['IsBadBuy'].isna().any():\n",
    "        print(\"Missing Target Variables\")\n",
    "    else:\n",
    "        print(\"No missing Target Variables\")\n",
    "    \n",
    "    \n",
    "    # Handle Bad Columns drop Columns\n",
    "    data.drop(['PRIMEUNIT', 'AUCGUART', 'WheelTypeID', 'ForSale', 'PurchaseDate', 'IsOnlineSale'], \n",
    "              axis=1, \n",
    "              inplace=True)\n",
    "    \n",
    "\n",
    "    # Handle Missing Values\n",
    "    i = 0            # Python's indexing starts at zero\n",
    "    for item in data['TopThreeAmericanName']:   # Python's for loops are a \"for each\" loop \n",
    "        if data['TopThreeAmericanName'][i] == np.nan and  data['Make'][i] == 'Hyundai':\n",
    "            data['TopThreeAmericanName'][i] = 'HYUNDAI'\n",
    "        i += 1\n",
    "        \n",
    "    i = 0            # Python's indexing starts at zero\n",
    "    for item in data['TopThreeAmericanName']:   # Python's for loops are a \"for each\" loop \n",
    "        if data['TopThreeAmericanName'][i] == np.nan and  data['Make'][i] == 'Jeep':\n",
    "            data['TopThreeAmericanName'][i] = 'JEEP'\n",
    "        i += 1\n",
    "        \n",
    "        \n",
    "    \"\"\" DOES THIS HAVE TO BE THERE \"\"\"\n",
    "    # print(data.groupby(['TopThreeAmericanName'])['Make'].value_counts())\n",
    "    \"\"\" DOES THIS HAVE TO BE THERE \"\"\"\n",
    "    \n",
    "    \n",
    "\n",
    "    # Standardise the capitilization across all object rows\n",
    "    obj_cols = data.select_dtypes(include='object').columns # Create a list of col names\n",
    "    for i in obj_cols:              # Interate over the obj_cols list\n",
    "        data[i] = data[i].str.upper()   # Convert all strings to uppercase  \n",
    "    # Standardize USA to AMERICA\n",
    "    data['Nationality'].replace({'USA' : 'AMERICAN'}, inplace = True)\n",
    "    \n",
    "    # Turn Transmission into a binary variable with Auto = 1 and Manual = 0\n",
    "    data.rename({'Transmission' : 'Auto'}, axis = 1, inplace = True)\n",
    "    # Replace binary columns with 1s and 0s\n",
    "    data['Auto'].replace({'MANUAL' : 0, 'AUTO' : 1}, inplace=True)\n",
    "    \n",
    "    # Remove NOT AVAIL in color and place it in the NaN section\n",
    "    data['Color'].replace({'NOT AVAIL': np.nan}, inplace = True)\n",
    "    \n",
    "    \n",
    "    \"\"\" I'll have to check with teach if this is correct\n",
    "    #This is the significance test for VNST\n",
    "    # Check to see if VNST is a statisically significant variable\n",
    "    # Create a distribution of IsBuyBad for VNST\n",
    "    VNST_badBuy = pd.crosstab(data['IsBadBuy'], data['VNST']).loc[0]\n",
    "    VNST_goodBuy = pd.crosstab(data['IsBadBuy'], data['VNST']).loc[1]\n",
    "    categoricalPlot('VNST')\n",
    "    \n",
    "    # Use a Chi2 test to test if there is any corrilation between them, if there is\n",
    "    # (p < 0.05) discarde the variable\n",
    "    fScore, pValue = stats.f_oneway(VNST_badBuy, VNST_goodBuy)\n",
    "    print(\"The pValaue is \" + str(pValue) + \" which is significant enough to reject null hypothesis\")\n",
    "    \"\"\"\n",
    "    print(\"Drop VNST due to statistical insignificance\")\n",
    "    data.drop('VNST', axis=1, inplace = True)\n",
    "    \n",
    "    # Seperate the Size feature into Size and Body\n",
    "    tempSize = data['Size'].str.split(' ', expand = True) # Create temp var with split column\n",
    "    data['Size'] = tempSize[0] # Save the temp var back into data\n",
    "    data['Body'] = tempSize[1] # Save the temp var back into data\n",
    "    data['Body'].fillna('CITY', inplace = True) # Assume any other cars are 'City'\n",
    "    \n",
    "    \n",
    "    data.loc[data.Size == 'VAN', 'Body'] = 'Van' # Convert Van into a body type\n",
    "    data.loc[data.Size == 'VAN', 'Body'] =  np.nan # Take van away from size, shouldn't matter once OH is done\n",
    "    \n",
    "    # Converting the TimeStamp into Quater\n",
    "    Quarter = [] # Create empty string\n",
    "    for i, _ in enumerate(data.PurchaseTimestamp): # Loop over the entire dataset\n",
    "        # Convert the epoch datetime into the quater and append to list\n",
    "        Quarter.append(pd.Timestamp(data.PurchaseTimestamp.loc[i], unit = 's').quarter)        \n",
    "    data['Quarter'] = Quarter # Create the column with list\n",
    "    data.drop('PurchaseTimestamp', axis=1, inplace = True) # Drop old TimeStamp\n",
    "    \n",
    "    \"\"\" This will take care of any Null values we don't specifically take care of\n",
    "    by replaceing the missing data with data from the same distibution\"\"\"\n",
    "    conv = []\n",
    "    for i in data.columns: # Loop over dataset\n",
    "        if data[i].isna().any() == True: # Check to see if there is a NaN is the feature\n",
    "            dist = data[i].value_counts(normalize=True) # Find the distrabution of the column\n",
    "            missing = data[i].isna() # Find where the NaN are\n",
    "            # Replace the NaNs with values from the same distrabution of the column\n",
    "            data.loc[missing, i] = np.random.choice(dist.index, size=len(data[missing]),p=dist.values)       \n",
    "            conv.append(i)\n",
    "            \n",
    "    print(\"Converted all of \" , conv, \"s missing values into the same distrubution\")\n",
    "    \n",
    "    data['MMRAcquisitionAuctionAveragePrice'] = data['MMRAcquisitionAuctionAveragePrice'].replace(0, np.nan)\n",
    "    data['MMRAcquisitionAuctionCleanPrice'] = data['MMRAcquisitionAuctionCleanPrice'].replace(0, np.nan)\n",
    "    data['MMRAcquisitionRetailAveragePrice'] = data['MMRAcquisitionRetailAveragePrice'].replace(0, np.nan)\n",
    "    data['MMRAcquisitonRetailCleanPrice'] = data['MMRAcquisitonRetailCleanPrice'].replace(0, np.nan)\n",
    "    data['MMRCurrentAuctionAveragePrice'] = data['MMRCurrentAuctionAveragePrice'].replace(0, np.nan)\n",
    "    data['MMRCurrentAuctionCleanPrice'] = data['MMRCurrentAuctionCleanPrice'].replace(0, np.nan)\n",
    "    data['MMRCurrentRetailAveragePrice'] = data['MMRCurrentRetailAveragePrice'].replace(0, np.nan)\n",
    "    data['MMRCurrentRetailCleanPrice'] = data['MMRCurrentRetailCleanPrice'].replace(0, np.nan)    \n",
    "    \n",
    "    # Impute and normalize\n",
    "    data[\"MMRAcquisitionAuctionAveragePrice\"] = Normalize(ImputeMean(data[\"MMRAcquisitionAuctionAveragePrice\"]))\n",
    "    data[\"MMRAcquisitionAuctionCleanPrice\"] =  Normalize(ImputeMean(data[\"MMRAcquisitionAuctionCleanPrice\"]))\n",
    "    data[\"MMRAcquisitionRetailAveragePrice\"] =  Normalize(ImputeMean(data[\"MMRAcquisitionRetailAveragePrice\"]))\n",
    "    data[\"MMRAcquisitonRetailCleanPrice\"] =  Normalize(ImputeMean(data[\"MMRAcquisitonRetailCleanPrice\"]))\n",
    "    data[\"MMRCurrentAuctionAveragePrice\"] =  Normalize(ImputeMean(data[\"MMRCurrentAuctionAveragePrice\"]))\n",
    "    data[\"MMRCurrentAuctionCleanPrice\"] =  Normalize(ImputeMean(data[\"MMRCurrentAuctionCleanPrice\"]))\n",
    "    data[\"MMRCurrentRetailAveragePrice\"] =  Normalize(ImputeMean(data[\"MMRCurrentRetailAveragePrice\"]))\n",
    "    data[\"MMRCurrentRetailCleanPrice\"] =  Normalize(ImputeMean(data[\"MMRCurrentRetailCleanPrice\"]))\n",
    "    \n",
    "    print(np.corrcoef(data[\"MMRAcquisitionAuctionAveragePrice\"], data[\"MMRAcquisitionAuctionCleanPrice\"]))\n",
    "    print(np.corrcoef(data[\"MMRAcquisitionRetailAveragePrice\"], data[\"MMRAcquisitonRetailCleanPrice\"]))\n",
    "    print(np.corrcoef(data[\"MMRCurrentAuctionAveragePrice\"], data[\"MMRCurrentAuctionCleanPrice\"]))\n",
    "    print(np.corrcoef(data[\"MMRCurrentRetailAveragePrice\"], data[\"MMRCurrentRetailCleanPrice\"])) \n",
    "    \n",
    "    print(data[\"MMRAcquisitionAuctionAveragePrice\"][data[\"MMRAcquisitionAuctionAveragePrice\"] == 0])\n",
    "    \n",
    "    \"\"\" Create the new columns \"\"\"\n",
    "    data[\"AcquisitionAuctionprice\"] = CreateAveragedColumn(data[\"MMRAcquisitionAuctionAveragePrice\"], data[\"MMRAcquisitionAuctionCleanPrice\"])\n",
    "    data[\"AcquisitionRetailPrice\"] = CreateAveragedColumn(data[\"MMRAcquisitionRetailAveragePrice\"], data[\"MMRAcquisitonRetailCleanPrice\"])\n",
    "    data[\"MMRCurrentAuctionPrice\"] = CreateAveragedColumn(data[\"MMRCurrentAuctionAveragePrice\"], data[\"MMRCurrentAuctionCleanPrice\"])\n",
    "    data[\"MMRCurrentRetailPrice\"] = CreateAveragedColumn(data[\"MMRCurrentRetailAveragePrice\"], data[\"MMRCurrentRetailCleanPrice\"])\n",
    "    \n",
    "    \n",
    "        \n",
    "    \n",
    "    data.drop('MMRAcquisitionAuctionAveragePrice', inplace = True, axis = 1)\n",
    "    data.drop('MMRAcquisitionAuctionCleanPrice', inplace = True, axis = 1)\n",
    "    data.drop('MMRAcquisitonRetailCleanPrice', inplace = True, axis = 1)\n",
    "    data.drop('MMRCurrentAuctionAveragePrice', inplace = True, axis = 1)\n",
    "    data.drop('MMRCurrentAuctionCleanPrice', inplace = True, axis = 1)\n",
    "    data.drop('MMRCurrentRetailAveragePrice', inplace = True, axis = 1)\n",
    "    data.drop('MMRCurrentRetailCleanPrice', inplace = True, axis = 1)\n",
    "    data.drop('MMRAcquisitionRetailAveragePrice', inplace = True, axis = 1)\n",
    "    \n",
    "    # Do the box plot\n",
    "    data.boxplot(column=['AcquisitionAuctionprice', 'AcquisitionRetailPrice', 'MMRCurrentAuctionPrice', 'MMRCurrentRetailPrice'], grid = False)\n",
    "    \n",
    "    # Now do histograms\n",
    "    fig = plt.figure()\n",
    "    ax1 = fig.add_subplot(2,2,1)\n",
    "    ax1 =  data[\"AcquisitionAuctionprice\"].hist()\n",
    "    ax1.grid(False)\n",
    "    ax2 = fig.add_subplot(2,2,2)\n",
    "    ax2 =  data[\"AcquisitionRetailPrice\"].hist()\n",
    "    ax2.grid(False)\n",
    "    ax3 = fig.add_subplot(2,2,3)\n",
    "    ax3 =  data[\"MMRCurrentAuctionPrice\"].hist()\n",
    "    ax3.grid(False)\n",
    "    ax4 = fig.add_subplot(2,2,4)\n",
    "    ax4 =  data[\"MMRCurrentRetailPrice\"].hist()\n",
    "    ax4.grid(False)\n",
    "    plt.show()\n",
    "\n",
    "    ## Identify and Remove outiers\n",
    "    outliers = (IdentifyOutliers(data[\"AcquisitionAuctionprice\"]) and\n",
    "                IdentifyOutliers(data[\"AcquisitionRetailPrice\"]) and\n",
    "                IdentifyOutliers(data[\"MMRCurrentAuctionPrice\"]) and\n",
    "                IdentifyOutliers(data[\"MMRCurrentRetailPrice\"]))\n",
    "    \n",
    "    # Select lines that aren't outliers\n",
    "    num_lines =  len(data[\"MMRCurrentRetailPrice\"])\n",
    "    data = data[[not i for i in outliers]]\n",
    "    print (\"Lines Removed: \", num_lines - len(data[\"MMRCurrentRetailPrice\"]))\n",
    "    \n",
    "    # Do the box plot\n",
    "    data.boxplot(column=['AcquisitionAuctionprice', 'AcquisitionRetailPrice', 'MMRCurrentAuctionPrice', 'MMRCurrentRetailPrice'], grid = False)\n",
    "    \n",
    "    # Now do histograms\n",
    "    fig = plt.figure()\n",
    "    ax1 = fig.add_subplot(2,2,1)\n",
    "    ax1 =  data[\"AcquisitionAuctionprice\"].hist()\n",
    "    ax1.grid(False)\n",
    "    ax2 = fig.add_subplot(2,2,2)\n",
    "    ax2 =  data[\"AcquisitionRetailPrice\"].hist()\n",
    "    ax2.grid(False)\n",
    "    ax3 = fig.add_subplot(2,2,3)\n",
    "    ax3 =  data[\"MMRCurrentAuctionPrice\"].hist()\n",
    "    ax3.grid(False)\n",
    "    ax4 = fig.add_subplot(2,2,4)\n",
    "    ax4 =  data[\"MMRCurrentRetailPrice\"].hist()\n",
    "    ax4.grid(False)\n",
    "    plt.show()\n",
    "    \n",
    "    \"\"\" This should be the last thing done \"\"\"\n",
    "    # Convert all categorical variables into one hot representations\n",
    "    \n",
    "    print(\"The number of features before one hot encoding is \" + str(data.shape[1]))\n",
    "    data_OH = pd.get_dummies(data, columns = ['Auction', 'Make', 'Color', 'VehYear', \n",
    "                                              'Nationality', 'Size', 'Body', 'TopThreeAmericanName', \n",
    "                                              'WheelType', 'Quarter'])\n",
    "    print(\"The number of features after one hot encoding is \" + str(data_OH.shape[1]))\n",
    "    data_OH [\"IsBadBuy\"] = data['IsBadBuy']\n",
    "    \n",
    "    data.describe()\n",
    "    data.info()\n",
    "    \n",
    "    return data, data_OH"
   ]
  },
  {
   "cell_type": "code",
   "execution_count": 22,
   "metadata": {},
   "outputs": [
    {
     "name": "stdout",
     "output_type": "stream",
     "text": [
      "Pre-Processing Step\n",
      "No missing Target Variables\n",
      "Drop VNST due to statistical insignificance\n",
      "Converted all of  ['Auction', 'VehYear', 'Make', 'Color', 'Auto', 'WheelType', 'VehOdo', 'Nationality', 'Size', 'TopThreeAmericanName', 'MMRAcquisitionAuctionAveragePrice', 'MMRAcquisitionAuctionCleanPrice', 'MMRAcquisitionRetailAveragePrice', 'MMRAcquisitonRetailCleanPrice', 'MMRCurrentAuctionAveragePrice', 'MMRCurrentAuctionCleanPrice', 'MMRCurrentRetailAveragePrice', 'MMRCurrentRetailCleanPrice', 'MMRCurrentRetailRatio', 'VehBCost', 'WarrantyCost', 'Body'] s missing values into the same distrubution\n",
      "[[1.         0.98003422]\n",
      " [0.98003422 1.        ]]\n",
      "[[1.        0.9839991]\n",
      " [0.9839991 1.       ]]\n",
      "[[1.         0.97694905]\n",
      " [0.97694905 1.        ]]\n",
      "[[1.         0.98261395]\n",
      " [0.98261395 1.        ]]\n",
      "PurchaseID\n",
      "28625    0.0\n",
      "Name: MMRAcquisitionAuctionAveragePrice, dtype: float64\n"
     ]
    },
    {
     "data": {
      "image/png": "[encoded data removed]",
      "text/plain": [
       "<Figure size 432x288 with 1 Axes>"
      ]
     },
     "metadata": {},
     "output_type": "display_data"
    },
    {
     "data": {
      "image/png": "[encoded data removed]",
      "text/plain": [
       "<Figure size 432x288 with 4 Axes>"
      ]
     },
     "metadata": {},
     "output_type": "display_data"
    },
    {
     "name": "stdout",
     "output_type": "stream",
     "text": [
      "Lines Removed:  222\n"
     ]
    },
    {
     "data": {
      "image/png": "[encoded data removed]",
      "text/plain": [
       "<Figure size 432x288 with 1 Axes>"
      ]
     },
     "metadata": {},
     "output_type": "display_data"
    },
    {
     "data": {
      "image/png": "[encoded data removed]",
      "text/plain": [
       "<Figure size 432x288 with 4 Axes>"
      ]
     },
     "metadata": {},
     "output_type": "display_data"
    },
    {
     "name": "stdout",
     "output_type": "stream",
     "text": [
      "The number of features before one hot encoding is 20\n",
      "The number of features after one hot encoding is 94\n",
      "<class 'pandas.core.frame.DataFrame'>\n",
      "Int64Index: 41254 entries, 0 to 41475\n",
      "Data columns (total 20 columns):\n",
      "Auction                    41254 non-null object\n",
      "VehYear                    41254 non-null float64\n",
      "Make                       41254 non-null object\n",
      "Color                      41254 non-null object\n",
      "Auto                       41254 non-null float64\n",
      "WheelType                  41254 non-null object\n",
      "VehOdo                     41254 non-null float64\n",
      "Nationality                41254 non-null object\n",
      "Size                       41254 non-null object\n",
      "TopThreeAmericanName       41254 non-null object\n",
      "MMRCurrentRetailRatio      41254 non-null float64\n",
      "VehBCost                   41254 non-null float64\n",
      "WarrantyCost               41254 non-null float64\n",
      "IsBadBuy                   41254 non-null int64\n",
      "Body                       41254 non-null object\n",
      "Quarter                    41254 non-null int64\n",
      "AcquisitionAuctionprice    41254 non-null float64\n",
      "AcquisitionRetailPrice     41254 non-null float64\n",
      "MMRCurrentAuctionPrice     41254 non-null float64\n",
      "MMRCurrentRetailPrice      41254 non-null float64\n",
      "dtypes: float64(10), int64(2), object(8)\n",
      "memory usage: 6.6+ MB\n",
      "Questin 1.1 :\n",
      "12.919959276676202 %\n"
     ]
    }
   ],
   "source": [
    "data_raw = pd.read_csv(\"Kick.csv\", # Read the csv into a DF\n",
    "                   index_col = 'PurchaseID', \n",
    "                   na_values = ('?',  '#VALUE!'))\n",
    "\n",
    "data, data_OH = PreProcessing(data_raw) # PreProcess the data\n",
    "\n",
    "counts = data[\"IsBadBuy\"].value_counts()\n",
    "total = data[\"IsBadBuy\"].count()\n",
    "    \n",
    "# calculate the percentage\n",
    "# kick is where IsBadBuy == 1\n",
    "kickPersentage = counts[1] / total * 100\n",
    "print (\"Questin 1.1 :\")\n",
    "print( kickPersentage, \"%\")\n",
    "\n",
    "# target/input split\n",
    "y = data_OH['IsBadBuy']\n",
    "X = data_OH.drop(['IsBadBuy'], axis=1)\n",
    "\n",
    "X_mat = X.values # Canvert X into a matrix\n",
    "X_train, X_test, y_train, y_test = train_test_split(X_mat, y, test_size=0.2, stratify=y, random_state=rs)\n",
    "\n",
    "\n"
   ]
  },
  {
   "cell_type": "markdown",
   "metadata": {},
   "source": [
    "<h1>Task 2</h1>"
   ]
  },
  {
   "cell_type": "code",
   "execution_count": 23,
   "metadata": {},
   "outputs": [
    {
     "data": {
      "text/plain": [
       "DecisionTreeClassifier(class_weight=None, criterion='gini', max_depth=None,\n",
       "            max_features=None, max_leaf_nodes=None,\n",
       "            min_impurity_decrease=0.0, min_impurity_split=None,\n",
       "            min_samples_leaf=1, min_samples_split=2,\n",
       "            min_weight_fraction_leaf=0.0, presort=False, random_state=10,\n",
       "            splitter='best')"
      ]
     },
     "execution_count": 23,
     "metadata": {},
     "output_type": "execute_result"
    }
   ],
   "source": [
    "# simple decision tree training\n",
    "DecisionTreeModel = DecisionTreeClassifier(random_state=rs)\n",
    "DecisionTreeModel.fit(X_train, y_train)"
   ]
  },
  {
   "cell_type": "markdown",
   "metadata": {},
   "source": [
    "<h2>Task 2.1</h2>\n",
    "<h3>A: What is the test accuracy?</h3>    "
   ]
  },
  {
   "cell_type": "code",
   "execution_count": 24,
   "metadata": {},
   "outputs": [
    {
     "name": "stdout",
     "output_type": "stream",
     "text": [
      "Test Model Accuracy: 0.776875530238759\n",
      "Train Model Accuracy: 1.0\n"
     ]
    }
   ],
   "source": [
    "print(\"Test Model Accuracy:\", DecisionTreeModel.score(X_test, y_test))\n",
    "print(\"Train Model Accuracy:\", DecisionTreeModel.score(X_train, y_train))"
   ]
  },
  {
   "cell_type": "markdown",
   "metadata": {},
   "source": [
    "<h3>B: What is the size of the tree?</h3>  "
   ]
  },
  {
   "cell_type": "code",
   "execution_count": 25,
   "metadata": {},
   "outputs": [
    {
     "name": "stdout",
     "output_type": "stream",
     "text": [
      "Number of Nodes: 8727\n"
     ]
    }
   ],
   "source": [
    "print(\"Number of Nodes:\", DecisionTreeModel.tree_.node_count)"
   ]
  },
  {
   "cell_type": "markdown",
   "metadata": {},
   "source": [
    "<h3>C: How many leaves are in the tree that is selected based on the validation data set?</h3>  "
   ]
  },
  {
   "cell_type": "code",
   "execution_count": 26,
   "metadata": {},
   "outputs": [
    {
     "name": "stdout",
     "output_type": "stream",
     "text": [
      "Answer To be fileld IN\n"
     ]
    }
   ],
   "source": [
    "print(\"Answer To be fileld IN\")"
   ]
  },
  {
   "cell_type": "markdown",
   "metadata": {},
   "source": [
    "<h3>D: Which variable is used for the first split? What are the competing splits for this first split? </h3> "
   ]
  },
  {
   "cell_type": "code",
   "execution_count": 28,
   "metadata": {},
   "outputs": [
    {
     "name": "stdout",
     "output_type": "stream",
     "text": [
      "Root feature is  VehBCost\n",
      "Competing featues are  VehBCost and  MMRCurrentAuctionPrice\n",
      "Number of nodes is  8727\n"
     ]
    }
   ],
   "source": [
    "feature_names = X.columns\n",
    "getTreeInfo(DecisionTreeModel, feature_names) # Call the root function"
   ]
  },
  {
   "cell_type": "markdown",
   "metadata": {},
   "source": [
    "<h3>E: What are the 5 important variables in building the tree?</h3> "
   ]
  },
  {
   "cell_type": "code",
   "execution_count": 29,
   "metadata": {},
   "outputs": [
    {
     "name": "stdout",
     "output_type": "stream",
     "text": [
      "VehBCost : 0.11740512401970045\n",
      "VehOdo : 0.11611337951902267\n",
      "MMRCurrentRetailRatio : 0.09496676423404747\n",
      "AcquisitionAuctionprice : 0.0831361585144442\n",
      "MMRCurrentAuctionPrice : 0.08229307945134234\n"
     ]
    }
   ],
   "source": [
    "analyse_feature_importance(DecisionTreeModel, feature_names, n_to_display=5)"
   ]
  },
  {
   "cell_type": "markdown",
   "metadata": {},
   "source": [
    "<h3>F: Report if you see any evidence of model overfitting</h3> "
   ]
  },
  {
   "cell_type": "code",
   "execution_count": 30,
   "metadata": {},
   "outputs": [
    {
     "data": {
      "image/png": "[encoded data removed]",
      "text/plain": [
       "<Figure size 432x288 with 1 Axes>"
      ]
     },
     "metadata": {},
     "output_type": "display_data"
    }
   ],
   "source": [
    "test_score = []\n",
    "train_score = []\n",
    "\n",
    "currRange = range(2 , DecisionTreeModel.tree_.max_depth)\n",
    "# check the model performance for max depth from 2-20\n",
    "for max_depth in currRange:\n",
    "    model = DecisionTreeClassifier(max_depth=max_depth, random_state=rs)\n",
    "    model.fit(X_train, y_train)\n",
    "    \n",
    "    test_score.append(model.score(X_test, y_test))\n",
    "    train_score.append(model.score(X_train, y_train))\n",
    "    \n",
    "# plot max depth hyperparameter values vs training and test accuracy score\n",
    "plt.plot(currRange, train_score, 'b', currRange, test_score, 'r')\n",
    "plt.xlabel('max_depth\\nBlue = training acc. Red = test acc.')\n",
    "plt.ylabel('accuracy')\n",
    "plt.title('Max Depth Graph')\n",
    "plt.show()"
   ]
  },
  {
   "cell_type": "markdown",
   "metadata": {},
   "source": [
    "<p>As seen from the graph above, the error is low and accuracy is very high at the same depth as the original model, this is a clear sign of overfitting.</p>"
   ]
  },
  {
   "cell_type": "markdown",
   "metadata": {},
   "source": [
    "<h3>G: Did changing the default setting help improving the model?</h3> "
   ]
  },
  {
   "cell_type": "code",
   "execution_count": 31,
   "metadata": {},
   "outputs": [
    {
     "data": {
      "image/png": "[encoded data removed]",
      "text/plain": [
       "<Figure size 432x288 with 1 Axes>"
      ]
     },
     "metadata": {},
     "output_type": "display_data"
    }
   ],
   "source": [
    "train_score = []\n",
    "test_score = []\n",
    "\n",
    "for min_samples_split in currRange:\n",
    "    model = DecisionTreeClassifier(min_samples_split=min_samples_split)\n",
    "    model.fit(X_train, y_train)\n",
    "    \n",
    "    test_score.append(model.score(X_test, y_test))\n",
    "    train_score.append(model.score(X_train, y_train))\n",
    "    \n",
    "# plot max depth hyperparameter values vs training and test accuracy score\n",
    "plt.plot(currRange, train_score, 'b', currRange, test_score, 'r')\n",
    "plt.xlabel('min_samples_split\\nBlue = training acc. Red = test acc.')\n",
    "plt.ylabel('accuracy')\n",
    "plt.title('Minimum Split Graphs ')\n",
    "plt.show()"
   ]
  },
  {
   "cell_type": "markdown",
   "metadata": {},
   "source": [
    "<p>If we compare the 'Minimum Spit Graph' to that of the 'Max Depth Graph' graph, it becomes clear that forcing additional splits both reduces over fitting and increases accuracy. However, there is still slight overfitting due to the Training Accuracy being more accurate than the Test accuracy.</p>"
   ]
  },
  {
   "cell_type": "markdown",
   "metadata": {},
   "source": [
    "<h2>Task 2.2</h2>"
   ]
  },
  {
   "cell_type": "code",
   "execution_count": 34,
   "metadata": {},
   "outputs": [
    {
     "data": {
      "text/plain": [
       "GridSearchCV(cv=10, error_score='raise',\n",
       "       estimator=DecisionTreeClassifier(class_weight=None, criterion='gini', max_depth=None,\n",
       "            max_features=None, max_leaf_nodes=None,\n",
       "            min_impurity_decrease=0.0, min_impurity_split=None,\n",
       "            min_samples_leaf=1, min_samples_split=2,\n",
       "            min_weight_fraction_leaf=0.0, presort=False, random_state=10,\n",
       "            splitter='best'),\n",
       "       fit_params=None, iid=True, n_jobs=1,\n",
       "       param_grid={'criterion': ['gini', 'entropy'], 'max_depth': range(2, 7), 'min_samples_leaf': range(20, 60, 10)},\n",
       "       pre_dispatch='2*n_jobs', refit=True, return_train_score='warn',\n",
       "       scoring=None, verbose=0)"
      ]
     },
     "execution_count": 34,
     "metadata": {},
     "output_type": "execute_result"
    }
   ],
   "source": [
    "# grid search CV\n",
    "params = {'criterion': ['gini', 'entropy'],\n",
    "          'max_depth': range(2, 7),\n",
    "          'min_samples_leaf': range(20, 60, 10)}\n",
    "\n",
    "cv = GridSearchCV(param_grid=params, estimator=DecisionTreeClassifier(random_state=rs), cv=10)\n",
    "cv.fit(X_train, y_train)"
   ]
  },
  {
   "cell_type": "markdown",
   "metadata": {},
   "source": [
    "<h3>A: What is the classification accuracy on training and test datasets? </h3>   "
   ]
  },
  {
   "cell_type": "code",
   "execution_count": 35,
   "metadata": {},
   "outputs": [
    {
     "name": "stdout",
     "output_type": "stream",
     "text": [
      "Test Accuracy: 0.870803538964974\n",
      "Train Accuracy: 0.8707996242765809\n"
     ]
    }
   ],
   "source": [
    "print(\"Test Accuracy:\", cv.score(X_test, y_test))\n",
    "print(\"Train Accuracy:\", cv.score(X_train, y_train))"
   ]
  },
  {
   "cell_type": "markdown",
   "metadata": {},
   "source": [
    "<h3>B: What is the size of tree (i.e. number of nodes)? Is the size different from the maximal tree or the tree in the previous step? Why?</h3>"
   ]
  },
  {
   "cell_type": "code",
   "execution_count": 36,
   "metadata": {},
   "outputs": [
    {
     "name": "stdout",
     "output_type": "stream",
     "text": [
      "Number of Nodes: 7\n"
     ]
    }
   ],
   "source": [
    "print(\"Number of Nodes:\", cv.best_estimator_.tree_.node_count)"
   ]
  },
  {
   "cell_type": "markdown",
   "metadata": {},
   "source": [
    "<h3>C: How many leaves are in the tree that is selected based on the validation data set?</h3>  "
   ]
  },
  {
   "cell_type": "code",
   "execution_count": 37,
   "metadata": {},
   "outputs": [
    {
     "name": "stdout",
     "output_type": "stream",
     "text": [
      "To be filled in\n"
     ]
    }
   ],
   "source": [
    "print(\"To be filled in\")"
   ]
  },
  {
   "cell_type": "markdown",
   "metadata": {},
   "source": [
    "<h3>D: Which variable is used for the first split? What are the competing splits for this first split? </h3>  "
   ]
  },
  {
   "cell_type": "code",
   "execution_count": 38,
   "metadata": {},
   "outputs": [
    {
     "name": "stdout",
     "output_type": "stream",
     "text": [
      "Root feature is  VehBCost\n",
      "Competing featues are  VehBCost and  Quarter_3\n",
      "Number of nodes is  7\n"
     ]
    }
   ],
   "source": [
    "getTreeInfo(cv.best_estimator_, feature_names) # Call the root function"
   ]
  },
  {
   "cell_type": "markdown",
   "metadata": {},
   "source": [
    "<h3>E: What are the 5 important variables in building the tree?</h3>"
   ]
  },
  {
   "cell_type": "code",
   "execution_count": 39,
   "metadata": {},
   "outputs": [
    {
     "name": "stdout",
     "output_type": "stream",
     "text": [
      "VehBCost : 0.11740512401970045\n",
      "VehOdo : 0.11611337951902267\n",
      "MMRCurrentRetailRatio : 0.09496676423404747\n",
      "AcquisitionAuctionprice : 0.0831361585144442\n",
      "MMRCurrentAuctionPrice : 0.08229307945134234\n"
     ]
    }
   ],
   "source": [
    "feature_names = X.columns\n",
    "analyse_feature_importance(DecisionTreeModel, feature_names, n_to_display=5)"
   ]
  },
  {
   "cell_type": "markdown",
   "metadata": {},
   "source": [
    "<h3>F: Report if you see any evidence of model overfitting</h3> "
   ]
  },
  {
   "cell_type": "markdown",
   "metadata": {},
   "source": [
    "<p>As seen in Task 2.2 A - the test accuracy is very simmular to the train accuracy. This Indiates that there is no overfitting done, and that the model is indeed well balanced.</p>"
   ]
  },
  {
   "cell_type": "markdown",
   "metadata": {},
   "source": [
    "<h3>G: What are the parameters used?</h3> "
   ]
  },
  {
   "cell_type": "code",
   "execution_count": 41,
   "metadata": {},
   "outputs": [
    {
     "name": "stdout",
     "output_type": "stream",
     "text": [
      "VehBCost : 0.11740512401970045\n",
      "VehOdo : 0.11611337951902267\n",
      "MMRCurrentRetailRatio : 0.09496676423404747\n",
      "AcquisitionAuctionprice : 0.0831361585144442\n",
      "MMRCurrentAuctionPrice : 0.08229307945134234\n",
      "MMRCurrentRetailPrice : 0.07747271922858345\n",
      "AcquisitionRetailPrice : 0.07611823079766283\n",
      "WarrantyCost : 0.05607203745666341\n",
      "Color_WHITE : 0.011727486890650207\n",
      "Color_BLUE : 0.010343066586252407\n",
      "Quarter_2 : 0.010081095128584789\n",
      "Quarter_3 : 0.010052648549911286\n",
      "Quarter_4 : 0.009149312829199485\n",
      "Color_SILVER : 0.009112366784139177\n",
      "Quarter_1 : 0.008998737432111213\n",
      "Color_BLACK : 0.00896675555075304\n",
      "Auction_ADESA : 0.008670692226199213\n",
      "Color_RED : 0.008275074339256634\n",
      "Color_GREY : 0.008042807099881567\n",
      "Color_GOLD : 0.007747268054154271\n",
      "Size_MEDIUM : 0.00732955268005943\n",
      "WheelType_ALLOY : 0.007088263031044005\n",
      "Color_GREEN : 0.006750560721022013\n",
      "Auction_MANHEIM : 0.006374900763642787\n",
      "Make_CHRYSLER : 0.006060482325695502\n",
      "WheelType_COVERS : 0.005486877346981475\n",
      "Auction_OTHER : 0.005374504430142864\n",
      "TopThreeAmericanName_CHRYSLER : 0.005357093899398168\n",
      "VehYear_2005.0 : 0.005144321756932842\n",
      "Size_LARGE : 0.005011828019632463\n",
      "VehYear_2004.0 : 0.004965744109988865\n",
      "Body_CITY : 0.00479273693476616\n",
      "Make_DODGE : 0.00460713977272983\n",
      "TopThreeAmericanName_GM : 0.004217930893563141\n",
      "Color_BEIGE : 0.004173417082214301\n",
      "VehYear_2006.0 : 0.004159528038690828\n",
      "Size_VAN : 0.003891954922079704\n",
      "TopThreeAmericanName_FORD : 0.0038298634568759357\n",
      "Size_COMPACT : 0.003818433298533668\n",
      "VehYear_2002.0 : 0.0038040254606727104\n",
      "VehYear_2007.0 : 0.003773443853921109\n",
      "Make_CHEVROLET : 0.0036794151743733635\n",
      "Color_MAROON : 0.0035334722409883605\n",
      "Make_PONTIAC : 0.003482044633544423\n",
      "Make_FORD : 0.0034110525277599906\n",
      "VehYear_2003.0 : 0.00334806674518781\n",
      "Make_MAZDA : 0.0030727790359150785\n",
      "Make_SATURN : 0.003052038484428557\n",
      "Color_PURPLE : 0.0029495560307686657\n",
      "Make_HYUNDAI : 0.0028532676235494964\n",
      "TopThreeAmericanName_OTHER : 0.00279826684295325\n",
      "Auto : 0.0026224326599557034\n",
      "Make_NISSAN : 0.0025948445707887975\n",
      "Size_SPORTS : 0.0023873545480944014\n",
      "Color_BROWN : 0.002362703943951092\n",
      "Make_MERCURY : 0.00220204018420903\n",
      "WheelType_SPECIAL : 0.0021499124262427506\n",
      "Body_TRUCK : 0.0021088140096381562\n",
      "Make_SUZUKI : 0.0021063134435383257\n",
      "Make_JEEP : 0.002084681167941639\n",
      "Make_BUICK : 0.001909708465774582\n",
      "Body_SUV : 0.0018624585394118975\n",
      "VehYear_2001.0 : 0.0017693780012875714\n",
      "Size_SMALL : 0.0016338466022629244\n",
      "Make_TOYOTA : 0.0015440058325774028\n",
      "Color_ORANGE : 0.0015214539370287793\n",
      "Size_CROSSOVER : 0.001477311570055284\n",
      "VehYear_2008.0 : 0.001453079419223283\n",
      "Make_KIA : 0.0014411147753945874\n",
      "Nationality_OTHER ASIAN : 0.001387851044707259\n",
      "Make_MITSUBISHI : 0.0012901982981243564\n",
      "Nationality_AMERICAN : 0.0012709651785697599\n",
      "Color_YELLOW : 0.0011031057962969778\n",
      "Make_HONDA : 0.001040908988043548\n",
      "Make_OLDSMOBILE : 0.0009102648014101834\n",
      "Nationality_TOP LINE ASIAN : 0.0008905066854221378\n",
      "Size_SPECIALTY : 0.0008201196667526878\n",
      "Make_GMC : 0.0007142458202752612\n",
      "Make_LINCOLN : 0.0006523712629574039\n",
      "Make_VOLKSWAGEN : 0.00044380182636132097\n",
      "Color_OTHER : 0.00043539078728004825\n",
      "Make_SUBARU : 0.00039787698010739577\n",
      "Make_SCION : 0.0003896541646127083\n",
      "Make_MINI : 8.3917771085699e-05\n",
      "Make_VOLVO : 0.0\n",
      "Make_LEXUS : 0.0\n",
      "Make_CADILLAC : 0.0\n",
      "VehYear_2009.0 : 0.0\n",
      "VehYear_2010.0 : 0.0\n",
      "Nationality_OTHER : 0.0\n",
      "Make_INFINITI : 0.0\n",
      "Make_ISUZU : 0.0\n",
      "Make_ACURA : 0.0\n"
     ]
    }
   ],
   "source": [
    "analyse_feature_importance(DecisionTreeModel, feature_names, n_to_display=len(feature_names))"
   ]
  },
  {
   "cell_type": "markdown",
   "metadata": {},
   "source": [
    "<h2>Task 2.3</h2>"
   ]
  },
  {
   "cell_type": "markdown",
   "metadata": {},
   "source": [
    "There are three main differences to concider between the model in 2.1 and 2.2.\n",
    "\n",
    "<b>Performance</b>\n",
    "Due to the Node size in 2.1 (4000+ nodes), the model performance is much lower than that of 2.2 (7 nodes). Meaning when running the, 2.2 finds a solution much faster than 2.1\n",
    "\n",
    "<b>Accuracy</b>\n",
    "Due to the size of the tree in 2.1, one would assume that the accuracy is much higher, however, this is only true for the TRAIN data. Due to the size of the model, overfitting occurs and reduces the accuracy of the model on the TEST data.\n",
    "\n",
    "The model in 2.2 is much smaller and one would except lower accuracy, but due to the model being well generalized it actually outperforms the overfitted model in 2.1.\n",
    "\n",
    "<b>Build Time</b>\n",
    "Due to model 2.2 using a CV Grid Search to find optimal features, 2.2 takes longer to build that 2.1, even though 2.1 ends up being larger."
   ]
  },
  {
   "cell_type": "markdown",
   "metadata": {},
   "source": [
    "<h2>Task 2.4</h2>"
   ]
  },
  {
   "cell_type": "code",
   "execution_count": null,
   "metadata": {},
   "outputs": [],
   "source": []
  }
 ],
 "metadata": {
  "kernelspec": {
   "display_name": "Python 3",
   "language": "python",
   "name": "python3"
  },
  "language_info": {
   "codemirror_mode": {
    "name": "ipython",
    "version": 3
   },
   "file_extension": ".py",
   "mimetype": "text/x-python",
   "name": "python",
   "nbconvert_exporter": "python",
   "pygments_lexer": "ipython3",
   "version": "3.6.5"
  }
 },
 "nbformat": 4,
 "nbformat_minor": 2
}

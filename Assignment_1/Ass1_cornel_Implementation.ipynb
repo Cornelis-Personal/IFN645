{
 "cells": [
  {
   "cell_type": "markdown",
   "metadata": {},
   "source": [
    "<Center>\n",
    "<b>Assignment 1: </b><br> \n",
    "Cornelis de Jager n8891974 <br>\n",
    "Daniel Brandenburg n8867887 <br>\n",
    "Joel Schwaber n10241337 \n",
    "</center>"
   ]
  },
  {
   "cell_type": "code",
   "execution_count": 4,
   "metadata": {},
   "outputs": [
    {
     "name": "stdout",
     "output_type": "stream",
     "text": [
      "Collecting pydot\n",
      "  Downloading https://files.pythonhosted.org/packages/33/d1/b1479a770f66d962f545c2101630ce1d5592d90cb4f083d38862e93d16d2/pydot-1.4.1-py2.py3-none-any.whl\n",
      "Requirement already satisfied: pyparsing>=2.1.4 in c:\\programdata\\anaconda3\\lib\\site-packages (from pydot) (2.3.0)\n",
      "Installing collected packages: pydot\n",
      "Successfully installed pydot-1.4.1\n",
      "Collecting eli5\n",
      "  Downloading https://files.pythonhosted.org/packages/ee/2b/246db9e1c2d6f38e999daf0c4d5e54f36fbd0b937ffb13a34d32c2139403/eli5-0.8.2-py2.py3-none-any.whl (98kB)\n",
      "Requirement already satisfied: numpy>=1.9.0 in c:\\programdata\\anaconda3\\lib\\site-packages (from eli5) (1.15.4)\n",
      "Requirement already satisfied: scikit-learn>=0.18 in c:\\programdata\\anaconda3\\lib\\site-packages (from eli5) (0.20.1)\n",
      "Requirement already satisfied: six in c:\\programdata\\anaconda3\\lib\\site-packages (from eli5) (1.12.0)\n",
      "Collecting typing (from eli5)\n",
      "  Downloading https://files.pythonhosted.org/packages/4a/bd/eee1157fc2d8514970b345d69cb9975dcd1e42cd7e61146ed841f6e68309/typing-3.6.6-py3-none-any.whl\n",
      "Requirement already satisfied: scipy in c:\\programdata\\anaconda3\\lib\\site-packages (from eli5) (1.1.0)\n",
      "Collecting tabulate>=0.7.7 (from eli5)\n",
      "  Downloading https://files.pythonhosted.org/packages/c2/fd/202954b3f0eb896c53b7b6f07390851b1fd2ca84aa95880d7ae4f434c4ac/tabulate-0.8.3.tar.gz (46kB)\n",
      "Collecting graphviz (from eli5)\n",
      "  Downloading https://files.pythonhosted.org/packages/1f/e2/ef2581b5b86625657afd32030f90cf2717456c1d2b711ba074bf007c0f1a/graphviz-0.10.1-py2.py3-none-any.whl\n",
      "Requirement already satisfied: attrs>16.0.0 in c:\\programdata\\anaconda3\\lib\\site-packages (from eli5) (18.2.0)\n",
      "Requirement already satisfied: jinja2 in c:\\programdata\\anaconda3\\lib\\site-packages (from eli5) (2.10)\n",
      "Requirement already satisfied: MarkupSafe>=0.23 in c:\\programdata\\anaconda3\\lib\\site-packages (from jinja2->eli5) (1.1.0)\n",
      "Building wheels for collected packages: tabulate\n",
      "  Running setup.py bdist_wheel for tabulate: started\n",
      "  Running setup.py bdist_wheel for tabulate: finished with status 'done'\n",
      "  Stored in directory: C:\\Users\\n8891974\\AppData\\Local\\pip\\Cache\\wheels\\2b\\67\\89\\414471314a2d15de625d184d8be6d38a03ae1e983dbda91e84\n",
      "Successfully built tabulate\n",
      "Installing collected packages: typing, tabulate, graphviz, eli5\n",
      "Successfully installed eli5-0.8.2 graphviz-0.10.1 tabulate-0.8.3 typing-3.6.6\n",
      "Collecting imblearn\n",
      "  Downloading https://files.pythonhosted.org/packages/81/a7/4179e6ebfd654bd0eac0b9c06125b8b4c96a9d0a8ff9e9507eb2a26d2d7e/imblearn-0.0-py2.py3-none-any.whl\n",
      "Collecting imbalanced-learn (from imblearn)\n",
      "  Downloading https://files.pythonhosted.org/packages/e5/4c/7557e1c2e791bd43878f8c82065bddc5798252084f26ef44527c02262af1/imbalanced_learn-0.4.3-py3-none-any.whl (166kB)\n",
      "Requirement already satisfied: scikit-learn>=0.20 in c:\\programdata\\anaconda3\\lib\\site-packages (from imbalanced-learn->imblearn) (0.20.1)\n",
      "Requirement already satisfied: scipy>=0.13.3 in c:\\programdata\\anaconda3\\lib\\site-packages (from imbalanced-learn->imblearn) (1.1.0)\n",
      "Requirement already satisfied: numpy>=1.8.2 in c:\\programdata\\anaconda3\\lib\\site-packages (from imbalanced-learn->imblearn) (1.15.4)\n",
      "Installing collected packages: imbalanced-learn, imblearn\n",
      "Successfully installed imbalanced-learn-0.4.3 imblearn-0.0\n"
     ]
    }
   ],
   "source": [
    "# Run this if pydot needs to be installed\n",
    "#!pip install imblearn"
   ]
  },
  {
   "cell_type": "code",
   "execution_count": 169,
   "metadata": {},
   "outputs": [],
   "source": [
    "# Imports\n",
    "import pandas as pd\n",
    "import numpy as np\n",
    "import scipy.stats as stats\n",
    "\n",
    "# Import plotting libraries\n",
    "import matplotlib.pyplot as plt\n",
    "import seaborn as sns\n",
    "import math\n",
    "%matplotlib inline\n",
    "\n",
    "# Import ML libraries\n",
    "from sklearn.preprocessing import Imputer\n",
    "from sklearn.model_selection import GridSearchCV\n",
    "from sklearn.tree import DecisionTreeClassifier\n",
    "from sklearn.linear_model import LogisticRegression\n",
    "from sklearn.neural_network import MLPClassifier\n",
    "from sklearn.ensemble import VotingClassifier\n",
    "from sklearn import preprocessing\n",
    "from sklearn.model_selection import train_test_split\n",
    "from sklearn.feature_selection import RFECV\n",
    "from sklearn.metrics import classification_report, accuracy_score\n",
    "from sklearn.preprocessing import StandardScaler\n",
    "from sklearn.tree import export_graphviz\n",
    "from sklearn.feature_selection import SelectFromModel\n",
    "from sklearn.metrics import roc_auc_score\n",
    "from sklearn.metrics import roc_curve\n",
    "from imblearn.over_sampling import RandomOverSampler\n",
    "from collections import Counter\n",
    "\n",
    "# Set a random state value\n",
    "rs = 10\n",
    "\n",
    "# Ignore Warnings\n",
    "import warnings\n",
    "warnings.filterwarnings(\"ignore\")"
   ]
  },
  {
   "cell_type": "code",
   "execution_count": 170,
   "metadata": {},
   "outputs": [],
   "source": [
    "def categoricalPlot(cat, cat2 = 'IsBadBuy'): # Cat is the carigorical as a string i.e 'Size'\n",
    "    pd.crosstab(data[cat],data[cat2]).plot(kind=\"bar\")\n",
    "\n",
    "def IdentifyOutliers (column):\n",
    "    data_described = column.describe()\n",
    "    Q1 = data_described[\"25%\"]\n",
    "    Q3 = data_described[\"75%\"]\n",
    "    IQR = Q3-Q1\n",
    "    lowerLimit = Q1 - 1.5 * IQR\n",
    "    upperLimit = Q3 + 1.5 * IQR\n",
    "    output = [np.nan] * len( column )\n",
    "    for i in range(len(column)):\n",
    "        value = column[i]\n",
    "        if value < lowerLimit or value > upperLimit:\n",
    "            output[i] = True\n",
    "        else:\n",
    "            output[i] = False\n",
    "    return output\n",
    "\n",
    "def analyse_feature_importance(dm_model, feature_names, n_to_display=5):\n",
    "    # grab feature importances from the model\n",
    "    importances = dm_model.feature_importances_\n",
    "    \n",
    "    # sort them out in descending order\n",
    "    indices = np.argsort(importances)\n",
    "    indices = np.flip(indices, axis=0)\n",
    "\n",
    "    # limit to 20 features, you can leave this out to print out everything\n",
    "    indices = indices[:n_to_display]\n",
    "\n",
    "    for i in indices:\n",
    "        print(feature_names[i], ':', importances[i])\n",
    "        \n",
    "# Define a function to find the root node\n",
    "def getTreeInfo(model, feature_names):\n",
    "    n_nodes = model.tree_.node_count\n",
    "    children_left = model.tree_.children_left\n",
    "    children_right = model.tree_.children_right\n",
    "    feature = model.tree_.feature\n",
    "    threshold = model.tree_.threshold\n",
    "    features  = [feature_names[i] for i in model.tree_.feature]    \n",
    "\n",
    "    # The tree structure can be traversed to compute various properties such\n",
    "    # as the depth of each node and whether or not it is a leaf.\n",
    "    leaf_count = 0\n",
    "    node_depth = np.zeros(shape=n_nodes, dtype=np.int64)\n",
    "    is_leaves = np.zeros(shape=n_nodes, dtype=bool)\n",
    "    stack = [(0, -1)]  # seed is the root node id and its parent depth\n",
    "    while len(stack) > 0:\n",
    "        node_id, parent_depth = stack.pop()\n",
    "        node_depth[node_id] = parent_depth + 1\n",
    "        \n",
    "        # If we have a test node\n",
    "        if (children_left[node_id] != children_right[node_id]):\n",
    "            stack.append((children_left[node_id], parent_depth + 1))\n",
    "            stack.append((children_right[node_id], parent_depth + 1))\n",
    "        else:\n",
    "            leaf_count += 1\n",
    "            is_leaves[node_id] = True\n",
    "\n",
    "\n",
    "    main_variables = \"Root feature is \" \n",
    "    main_variables += features[0]\n",
    "    main_variables += \"\\n\"\n",
    "    main_variables += \"Competing featues are \"\n",
    "    main_variables += features[1]\n",
    "    main_variables += 'and '\n",
    "    main_variables += features[2]\n",
    "    return [n_nodes, leaf_count, main_variables]\n",
    "    \n",
    "# Write a function that imputes median\n",
    "def ImputeMean(series):\n",
    "    return series.fillna(series.mean())\n",
    "\n",
    "def Normalize (column):\n",
    "    column =  (column - column.min())/(column.max() - column.min())\n",
    "    return column\n",
    "\n",
    "def LogTransform (column):\n",
    "    column = math.log(column)"
   ]
  },
  {
   "cell_type": "code",
   "execution_count": 171,
   "metadata": {},
   "outputs": [],
   "source": [
    "def PreProcessing (data):\n",
    "    print(\"Pre-Processing Step\")\n",
    "    \n",
    "    # Check if there are any missing target variables\n",
    "    if data['IsBadBuy'].isna().any():\n",
    "        print(\"Missing Target Variables\")\n",
    "    else:\n",
    "        print(\"No missing Target Variables\")\n",
    "    \n",
    "    \n",
    "    # Handle Bad Columns drop Columns\n",
    "    data.drop(['PRIMEUNIT', 'AUCGUART', 'WheelTypeID', 'ForSale', 'PurchaseDate', 'IsOnlineSale'], \n",
    "              axis=1, \n",
    "              inplace=True)\n",
    "    \n",
    "\n",
    "    # Handle Missing Values\n",
    "    i = 0            # Python's indexing starts at zero\n",
    "    for item in data['TopThreeAmericanName']:   # Python's for loops are a \"for each\" loop \n",
    "        if data['TopThreeAmericanName'][i] == np.nan and  data['Make'][i] == 'Hyundai':\n",
    "            data['TopThreeAmericanName'][i] = 'HYUNDAI'\n",
    "        i += 1\n",
    "        \n",
    "    i = 0            # Python's indexing starts at zero\n",
    "    for item in data['TopThreeAmericanName']:   # Python's for loops are a \"for each\" loop \n",
    "        if data['TopThreeAmericanName'][i] == np.nan and  data['Make'][i] == 'Jeep':\n",
    "            data['TopThreeAmericanName'][i] = 'JEEP'\n",
    "        i += 1\n",
    "        \n",
    "        \n",
    "    # Standardise the capitilization across all object rows\n",
    "    obj_cols = data.select_dtypes(include='object').columns # Create a list of col names\n",
    "    for i in obj_cols:              # Interate over the obj_cols list\n",
    "        data[i] = data[i].str.upper()   # Convert all strings to uppercase  \n",
    "    # Standardize USA to AMERICA\n",
    "    data['Nationality'].replace({'USA' : 'AMERICAN'}, inplace = True)\n",
    "    \n",
    "    # Turn Transmission into a binary variable with Auto = 1 and Manual = 0\n",
    "    data.rename({'Transmission' : 'Auto'}, axis = 1, inplace = True)\n",
    "    # Replace binary columns with 1s and 0s\n",
    "    data['Auto'].replace({'MANUAL' : 0, 'AUTO' : 1}, inplace=True)\n",
    "    \n",
    "    # Remove NOT AVAIL in color and place it in the NaN section\n",
    "    data['Color'].replace({'NOT AVAIL': np.nan}, inplace = True)\n",
    "    \n",
    "    \n",
    "     #This is the significance test for \n",
    "    # Check to see if VNST is a statisically significant variable\n",
    "    # Create a distribution of IsBuyBad for VNST\n",
    "    VNST_badBuy = pd.crosstab(data['IsBadBuy'], data['VNST']).loc[0]\n",
    "    VNST_goodBuy = pd.crosstab(data['IsBadBuy'], data['VNST']).loc[1]\n",
    "    pd.crosstab(data['VNST'],data['IsBadBuy']).plot(kind=\"bar\")\n",
    "    \n",
    "    # Use a Chi2 test to test if there is any corrilation between them, if there is\n",
    "    # (p < 0.05) discarde the variable\n",
    "    fScore, pValue = stats.f_oneway(VNST_badBuy, VNST_goodBuy)\n",
    "    print(\"The pValaue is \" + str(pValue) + \" which is significant enough to reject null hypothesis\")\n",
    "    print(\"Drop VNST due to statistical insignificance\")\n",
    "    data.drop('VNST', axis=1, inplace = True)\n",
    "    \n",
    "    # Seperate the Size feature into Size and Body\n",
    "    tempSize = data['Size'].str.split(' ', expand = True) # Create temp var with split column\n",
    "    data['Size'] = tempSize[0] # Save the temp var back into data\n",
    "    data['Body'] = tempSize[1] # Save the temp var back into data\n",
    "    data['Body'].fillna('CITY', inplace = True) # Assume any other cars are 'City'\n",
    "    \n",
    "    \n",
    "    data.loc[data.Size == 'VAN', 'Body'] = 'Van' # Convert Van into a body type\n",
    "    data.loc[data.Size == 'VAN', 'Body'] =  np.nan # Take van away from size, shouldn't matter once OH is done\n",
    "    \n",
    "    # Converting the TimeStamp into Quarter\n",
    "    Quarter = [] # Create empty string\n",
    "    for i, _ in enumerate(data.PurchaseTimestamp): # Loop over the entire dataset\n",
    "        # Convert the epoch datetime into the quarter and append to list\n",
    "        Quarter.append(pd.Timestamp(data.PurchaseTimestamp.loc[i], unit = 's').quarter)        \n",
    "    data['Quarter'] = Quarter # Create the column with list\n",
    "    data.drop('PurchaseTimestamp', axis=1, inplace = True) # Drop old TimeStamp\n",
    "    \n",
    "    \"\"\" This will take care of any Null values we don't specifically take care of\n",
    "    by replaceing the missing data with data from the same distibution\"\"\"\n",
    "   \n",
    "    data['MMRAcquisitionAuctionAveragePrice'] = data['MMRAcquisitionAuctionAveragePrice'].replace(0, np.nan)\n",
    "    data['MMRAcquisitionAuctionCleanPrice'] = data['MMRAcquisitionAuctionCleanPrice'].replace(0, np.nan)\n",
    "    data['MMRAcquisitionRetailAveragePrice'] = data['MMRAcquisitionRetailAveragePrice'].replace(0, np.nan)\n",
    "    data['MMRAcquisitonRetailCleanPrice'] = data['MMRAcquisitonRetailCleanPrice'].replace(0, np.nan)\n",
    "    data['MMRCurrentAuctionAveragePrice'] = data['MMRCurrentAuctionAveragePrice'].replace(0, np.nan)\n",
    "    data['MMRCurrentAuctionCleanPrice'] = data['MMRCurrentAuctionCleanPrice'].replace(0, np.nan)\n",
    "    data['MMRCurrentRetailAveragePrice'] = data['MMRCurrentRetailAveragePrice'].replace(0, np.nan)\n",
    "    data['MMRCurrentRetailCleanPrice'] = data['MMRCurrentRetailCleanPrice'].replace(0, np.nan)  \n",
    "    data['MMRCurrentRetailRatio'] = data['MMRCurrentRetailRatio'].replace(0, np.nan) \n",
    "    \n",
    "    # Impute and normalize\n",
    "    data[\"MMRAcquisitionAuctionAveragePrice\"] = ImputeMean(data[\"MMRAcquisitionAuctionAveragePrice\"])\n",
    "    data[\"MMRAcquisitionAuctionCleanPrice\"] =  ImputeMean(data[\"MMRAcquisitionAuctionCleanPrice\"])\n",
    "    data[\"MMRAcquisitionRetailAveragePrice\"] =  ImputeMean(data[\"MMRAcquisitionRetailAveragePrice\"])\n",
    "    data[\"MMRAcquisitonRetailCleanPrice\"] =  ImputeMean(data[\"MMRAcquisitonRetailCleanPrice\"])\n",
    "    data[\"MMRCurrentAuctionAveragePrice\"] =  ImputeMean(data[\"MMRCurrentAuctionAveragePrice\"])\n",
    "    data[\"MMRCurrentAuctionCleanPrice\"] =  ImputeMean(data[\"MMRCurrentAuctionCleanPrice\"])\n",
    "    data[\"MMRCurrentRetailAveragePrice\"] =  ImputeMean(data[\"MMRCurrentRetailAveragePrice\"])\n",
    "    data[\"MMRCurrentRetailCleanPrice\"] =  ImputeMean(data[\"MMRCurrentRetailCleanPrice\"])\n",
    "    data['MMRCurrentRetailRatio'] = ImputeMean(data['MMRCurrentRetailRatio'])\n",
    "    \n",
    "    data[\"VehOdo\"] = ImputeMean(data[\"VehOdo\"])\n",
    "    data[\"VehBCost\"] = ImputeMean(data[\"VehBCost\"])\n",
    "    data[\"WarrantyCost\"] = ImputeMean(data[\"WarrantyCost\"])\n",
    "      \n",
    "    print(\"Drop rows that offer no new information\")\n",
    "    data.drop('MMRAcquisitionAuctionAveragePrice', inplace = True, axis = 1) \n",
    "    data.drop('MMRCurrentAuctionAveragePrice', inplace = True, axis = 1)\n",
    "    data.drop('MMRCurrentRetailAveragePrice', inplace = True, axis = 1)\n",
    "    data.drop('MMRAcquisitionRetailAveragePrice', inplace = True, axis = 1)\n",
    "    \n",
    "    conv = []\n",
    "    for i in data.columns: # Loop over dataset\n",
    "        if data[i].isna().any() == True: # Check to see if there is a NaN is the feature\n",
    "            dist = data[i].value_counts(normalize=True) # Find the distrabution of the column\n",
    "            missing = data[i].isna() # Find where the NaN are\n",
    "            # Replace the NaNs with values from the same distrabution of the column\n",
    "            data.loc[missing, i] = np.random.choice(dist.index, size=len(data[missing]),p=dist.values)       \n",
    "            conv.append(i)\n",
    "            \n",
    "    print(\"Converted all of \" , conv, \"s missing values into the same distrubution\")\n",
    "    \n",
    "    \n",
    "    # Do the box plot\n",
    "    \n",
    "    fig = plt.figure()\n",
    "    data.boxplot(column=['MMRAcquisitionAuctionCleanPrice', 'MMRAcquisitonRetailCleanPrice', 'MMRCurrentAuctionCleanPrice', 'MMRCurrentRetailCleanPrice'], grid = False, rot = 30)\n",
    "    plt.savefig('preOutlierBox_Pricing', bbox_inches = \"tight\")\n",
    "    plt.show\n",
    "    \n",
    "    fig = plt.figure()\n",
    "    data.boxplot(column=['VehOdo', 'VehBCost', 'WarrantyCost'], grid = False, rot = 30)\n",
    "    plt.savefig('preOutlierBox_VehicleDetails', bbox_inches = \"tight\")\n",
    "    plt.show\n",
    "    \n",
    "     # Now do histograms\n",
    "    fig = plt.figure()\n",
    "    ax1 = fig.add_subplot(2,2,1)\n",
    "    plt.subplots_adjust(hspace=0.4, wspace = 0.5)\n",
    "    ax1 =  data[\"MMRAcquisitionAuctionCleanPrice\"].hist()\n",
    "    ax1.set_title(\"MMRAcquisitionAuctionCleanPrice\")\n",
    "    ax1.grid(False)\n",
    "    \n",
    "    ax2 = fig.add_subplot(2,2,2)\n",
    "    ax2 =  data[\"MMRAcquisitonRetailCleanPrice\"].hist()\n",
    "    ax2.set_title(\"MMRAcquisitonRetailCleanPrice\")\n",
    "    ax2.grid(False)\n",
    "    \n",
    "    ax3 = fig.add_subplot(2,2,3)\n",
    "    ax3 =  data[\"MMRCurrentAuctionCleanPrice\"].hist()\n",
    "    ax3.set_title(\"MMRCurrentAuctionCleanPrice\")\n",
    "    ax3.grid(False)\n",
    "    \n",
    "    ax4 = fig.add_subplot(2,2,4)\n",
    "    ax4 =  data[\"MMRCurrentRetailCleanPrice\"].hist()\n",
    "    ax4.set_title(\"MMRCurrentRetailCleanPrice\")\n",
    "    ax4.grid(False)        \n",
    "    plt.savefig('preOutlierHist1', bbox_inches = \"tight\")\n",
    "    plt.show()\n",
    "\n",
    "     # Now do histograms\n",
    "    fig = plt.figure()\n",
    "    ax1 = fig.add_subplot(1,3,1)\n",
    "    plt.subplots_adjust(hspace=0.4, wspace = 0.45)\n",
    "    ax1 =  data[\"VehOdo\"].hist()\n",
    "    ax1.set_title(\"VehOdo\")\n",
    "    ax1.grid(False)\n",
    "    \n",
    "    ax2 = fig.add_subplot(1,3,2)\n",
    "    ax2 =  data[\"VehBCost\"].hist()\n",
    "    ax2.set_title(\"VehBCost\")\n",
    "    ax2.grid(False)\n",
    "    \n",
    "    ax3 = fig.add_subplot(1,3,3)\n",
    "    ax3 =  data[\"WarrantyCost\"].hist()\n",
    "    ax3.set_title(\"WarrantyCost\")    \n",
    "    ax3.grid(False)\n",
    "    plt.savefig('triple1', bbox_inches = \"tight\")\n",
    "    plt.show()\n",
    "    \n",
    "    ## Identify and Remove outliers\n",
    "    outliers = (IdentifyOutliers(data[\"MMRAcquisitionAuctionCleanPrice\"]) and\n",
    "                IdentifyOutliers(data[\"MMRAcquisitonRetailCleanPrice\"]) and\n",
    "                IdentifyOutliers(data[\"MMRCurrentAuctionCleanPrice\"]) and\n",
    "                IdentifyOutliers(data[\"MMRCurrentRetailCleanPrice\"]) and\n",
    "                IdentifyOutliers(data[\"VehOdo\"]))\n",
    "    \n",
    "    # Select lines that aren't outliers\n",
    "    num_lines =  len(data[\"MMRCurrentRetailCleanPrice\"])\n",
    "    data = data[[not i for i in outliers]]\n",
    "    print (\"Lines Removed: \", num_lines - len(data[\"MMRCurrentRetailCleanPrice\"]))\n",
    "    \n",
    "    # Do the box plot\n",
    "    fig = plt.figure()\n",
    "    data.boxplot(column=['MMRAcquisitionAuctionCleanPrice', 'MMRAcquisitonRetailCleanPrice', 'MMRCurrentAuctionCleanPrice', 'MMRCurrentRetailCleanPrice'], grid = False, rot = 30)\n",
    "    plt.savefig('PostOutlierBox_Pricing', bbox_inches = \"tight\")\n",
    "    plt.show\n",
    "    \n",
    "    fig = plt.figure()\n",
    "    data.boxplot(column=['VehOdo', 'VehBCost', 'WarrantyCost'], grid = False, rot = 30)\n",
    "    plt.savefig('PostOutlierBox_VehicleDetails', bbox_inches = \"tight\")\n",
    "    plt.show\n",
    "    \n",
    "    \n",
    "    # Now do histograms\n",
    "    fig = plt.figure()\n",
    "    ax1 = fig.add_subplot(2,2,1)\n",
    "    plt.subplots_adjust(hspace=0.4, wspace = 0.5)\n",
    "    ax1 =  data[\"MMRAcquisitionAuctionCleanPrice\"].hist()\n",
    "    ax1.set_title(\"MMRAcquisitionAuctionCleanPrice\")\n",
    "    ax1.grid(False)\n",
    "    \n",
    "    ax2 = fig.add_subplot(2,2,2)\n",
    "    ax2 =  data[\"MMRAcquisitonRetailCleanPrice\"].hist()\n",
    "    ax2.set_title(\"MMRAcquisitonRetailCleanPrice\")\n",
    "    ax2.grid(False)\n",
    "    \n",
    "    ax3 = fig.add_subplot(2,2,3)\n",
    "    ax3 =  data[\"MMRCurrentAuctionCleanPrice\"].hist()\n",
    "    ax3.set_title(\"MMRCurrentAuctionCleanPrice\")\n",
    "    ax3.grid(False)\n",
    "    \n",
    "    ax4 = fig.add_subplot(2,2,4)\n",
    "    ax4 =  data[\"MMRCurrentRetailCleanPrice\"].hist()\n",
    "    ax4.set_title(\"MMRCurrentRetailCleanPrice\")\n",
    "    ax4.grid(False)    \n",
    "    plt.savefig('postOutlierHist', bbox_inches = \"tight\")\n",
    "    plt.show()\n",
    "    \n",
    "    fig = plt.figure()\n",
    "    ax1 = fig.add_subplot(1,3,1)\n",
    "    plt.subplots_adjust(hspace=0.4, wspace = 0.45)\n",
    "    ax1 =  data[\"VehOdo\"].hist()\n",
    "    ax1.set_title(\"VehOdo\")\n",
    "    ax1.grid(False)\n",
    "    \n",
    "    ax2 = fig.add_subplot(1,3,2)\n",
    "    ax2 =  data[\"VehBCost\"].hist()\n",
    "    ax2.set_title(\"VehBCost\")\n",
    "    ax2.grid(False)\n",
    "    \n",
    "    ax3 = fig.add_subplot(1,3,3)\n",
    "    ax3 =  data[\"WarrantyCost\"].hist()\n",
    "    ax3.set_title(\"WarrantyCost\")    \n",
    "    ax3.grid(False)    \n",
    "    plt.savefig('triple2', bbox_inches = \"tight\")\n",
    "    plt.show()\n",
    "    \n",
    "    # Transform the skew values\n",
    "    data[\"MMRCurrentAuctionCleanPrice\"] = np.sqrt(data[\"MMRCurrentAuctionCleanPrice\"])\n",
    "    data[\"MMRCurrentRetailCleanPrice\"] = np.sqrt(data[\"MMRCurrentRetailCleanPrice\"])\n",
    "    data[\"MMRAcquisitionAuctionCleanPrice\"] = np.sqrt(data[\"MMRAcquisitionAuctionCleanPrice\"])\n",
    "    data[\"MMRAcquisitonRetailCleanPrice\"] = np.sqrt(data[\"MMRAcquisitonRetailCleanPrice\"])\n",
    "    data[\"VehBCost\"] = np.sqrt(data[\"VehBCost\"])\n",
    "\n",
    "    data[\"WarrantyCost\"] = np.log(data[\"WarrantyCost\"])\n",
    "    \n",
    "    data[\"MMRCurrentAuctionCleanPrice\"] = Normalize(data[\"MMRCurrentAuctionCleanPrice\"])\n",
    "    data[\"MMRCurrentRetailCleanPrice\"] = Normalize(data[\"MMRCurrentRetailCleanPrice\"])\n",
    "    data[\"MMRAcquisitionAuctionCleanPrice\"] = Normalize(data[\"MMRAcquisitionAuctionCleanPrice\"])\n",
    "    data[\"MMRAcquisitonRetailCleanPrice\"] = Normalize(data[\"MMRAcquisitonRetailCleanPrice\"])\n",
    "    \n",
    "    data[\"VehOdo\"] = Normalize(data[\"VehOdo\"])\n",
    "    data[\"VehBCost\"] = Normalize(data[\"VehBCost\"])\n",
    "    data[\"WarrantyCost\"] = Normalize(data[\"WarrantyCost\"])\n",
    "    \n",
    "    # Do the box plot\n",
    "    fig = plt.figure()\n",
    "    data.boxplot(column=['MMRAcquisitionAuctionCleanPrice', 'MMRAcquisitonRetailCleanPrice', 'MMRCurrentAuctionCleanPrice', 'MMRCurrentRetailCleanPrice'], grid = False, rot = 30)\n",
    "    plt.savefig('PostTransformationBox_Pricing', bbox_inches = \"tight\")\n",
    "    plt.show\n",
    "    \n",
    "    fig = plt.figure()\n",
    "    data.boxplot(column=['VehOdo', 'VehBCost', 'WarrantyCost'], grid = False, rot = 30)\n",
    "    plt.savefig('PostTransformationOutlierBox_VehicleDetails', bbox_inches = \"tight\")\n",
    "    plt.show\n",
    "    \n",
    "    # Now do histograms\n",
    "    fig = plt.figure()\n",
    "    ax1 = fig.add_subplot(2,2,1)\n",
    "    plt.subplots_adjust(hspace=0.4, wspace = 0.5)\n",
    "    ax1 =  data[\"MMRAcquisitionAuctionCleanPrice\"].hist()\n",
    "    ax1.set_title(\"MMRAcquisitionAuctionCleanPrice\")\n",
    "    ax1.grid(False)\n",
    "    \n",
    "    ax2 = fig.add_subplot(2,2,2)\n",
    "    ax2 =  data[\"MMRAcquisitonRetailCleanPrice\"].hist()\n",
    "    ax2.set_title(\"MMRAcquisitonRetailCleanPrice\")\n",
    "    ax2.grid(False)\n",
    "    \n",
    "    ax3 = fig.add_subplot(2,2,3)\n",
    "    ax3 =  data[\"MMRCurrentAuctionCleanPrice\"].hist()\n",
    "    ax3.set_title(\"MMRCurrentAuctionCleanPrice\")\n",
    "    ax3.grid(False)\n",
    "    \n",
    "    ax4 = fig.add_subplot(2,2,4)\n",
    "    ax4 =  data[\"MMRCurrentRetailCleanPrice\"].hist()\n",
    "    ax4.set_title(\"MMRCurrentRetailCleanPrice\")\n",
    "    ax4.grid(False)    \n",
    "    plt.savefig('SkewFixed_Pricing', bbox_inches = \"tight\")\n",
    "    plt.show()\n",
    "    \n",
    "    fig = plt.figure()\n",
    "    ax1 = fig.add_subplot(1,3,1)\n",
    "    plt.subplots_adjust(hspace=0.4, wspace = 0.45)\n",
    "    ax1 =  data[\"VehOdo\"].hist()\n",
    "    ax1.set_title(\"VehOdo\")\n",
    "    ax1.grid(False)\n",
    "    \n",
    "    ax2 = fig.add_subplot(1,3,2)\n",
    "    ax2 =  data[\"VehBCost\"].hist()\n",
    "    ax2.set_title(\"VehBCost\")\n",
    "    ax2.grid(False)\n",
    "    \n",
    "    ax3 = fig.add_subplot(1,3,3)\n",
    "    ax3 =  data[\"WarrantyCost\"].hist()\n",
    "    ax3.set_title(\"WarrantyCost\")\n",
    "    plt.savefig('triple3', bbox_inches = \"tight\")\n",
    "    ax3.grid(False)\n",
    "    \n",
    "    \n",
    "    plt.savefig('preOutlierHist2', bbox_inches = \"tight\")\n",
    "    plt.show()\n",
    "    \n",
    "    \"\"\" plot the categorial data \"\"\"\n",
    "    fig = plt.figure()\n",
    "    ax1 =  data[\"Make\"].value_counts().plot(kind = 'bar')\n",
    "    ax1.set_title(\"Make\")\n",
    "    ax1.grid(False)\n",
    "    plt.savefig('makeHist', bbox_inches = \"tight\")\n",
    "    plt.show()\n",
    "    \n",
    "    fig = plt.figure()\n",
    "    ax1 =  data[\"Color\"].value_counts().plot(kind = 'bar')\n",
    "    ax1.set_title(\"Color\")\n",
    "    ax1.grid(False)\n",
    "    plt.savefig('colourHist', bbox_inches = \"tight\")\n",
    "    plt.show()\n",
    "    \n",
    "    fig = plt.figure()\n",
    "    plt.subplots_adjust(hspace=0.8, wspace = 0.4)\n",
    "    ax1 = fig.add_subplot(2,2,1)\n",
    "    ax1 =  data[\"VehYear\"].value_counts().plot(kind = 'bar', rot = 90)\n",
    "    ax1.set_title(\"VehYear\")\n",
    "    ax1.grid(False)\n",
    "    ax2 = fig.add_subplot(2,2,2)\n",
    "    ax2 =  data[\"Auction\"].value_counts().plot(kind = 'bar', rot = 90)\n",
    "    ax2.set_title(\"Auction\")\n",
    "    ax2.grid(False)\n",
    "    ax3 = fig.add_subplot(2,2,3)\n",
    "    ax3 =  data[\"Size\"].value_counts().plot(kind = 'bar', rot = 90)\n",
    "    ax3.set_title(\"Size\")\n",
    "    ax3.grid(False)\n",
    "    ax4 = fig.add_subplot(2,2,4)\n",
    "    ax4 =  data[\"Body\"].value_counts().plot(kind = 'bar', rot = 90)\n",
    "    ax4.set_title(\"Body\")\n",
    "    ax4.grid(False)\n",
    "    plt.savefig('othersHist', bbox_inches = \"tight\")\n",
    "    plt.show()\n",
    "    \n",
    "   \n",
    "    \"\"\" This should be the last thing done \"\"\"\n",
    "    # Convert all categorical variables into one hot representations\n",
    "    \n",
    "    print(\"The number of features before one hot encoding is \" + str(data.shape[1]))\n",
    "    data_OH = pd.get_dummies(data, columns = ['Auction', 'Make', 'Color', 'VehYear', \n",
    "                                              'Nationality', 'Size', 'Body', 'TopThreeAmericanName', \n",
    "                                              'WheelType', 'Quarter'])\n",
    "    print(\"The number of features after one hot encoding is \" + str(data_OH.shape[1]))\n",
    "    data_OH [\"IsBadBuy\"] = data['IsBadBuy']\n",
    "    \n",
    "    data.describe()\n",
    "    data.info()\n",
    "    \n",
    "    return data, data_OH"
   ]
  },
  {
   "cell_type": "code",
   "execution_count": 172,
   "metadata": {},
   "outputs": [
    {
     "name": "stdout",
     "output_type": "stream",
     "text": [
      "Pre-Processing Step\n",
      "No missing Target Variables\n",
      "The pValaue is 0.0025217411235946108 which is significant enough to reject null hypothesis\n",
      "Drop VNST due to statistical insignificance\n",
      "Drop rows that offer no new information\n",
      "Converted all of  ['Auction', 'VehYear', 'Make', 'Color', 'Auto', 'WheelType', 'Nationality', 'Size', 'TopThreeAmericanName', 'Body'] s missing values into the same distrubution\n"
     ]
    },
    {
     "data": {
      "image/png": "[encoded data removed]",
      "text/plain": [
       "<Figure size 432x288 with 1 Axes>"
      ]
     },
     "metadata": {
      "needs_background": "light"
     },
     "output_type": "display_data"
    },
    {
     "data": {
      "image/png": "[encoded data removed]",
      "text/plain": [
       "<Figure size 432x288 with 1 Axes>"
      ]
     },
     "metadata": {
      "needs_background": "light"
     },
     "output_type": "display_data"
    },
    {
     "data": {
      "image/png": "[encoded data removed]",
      "text/plain": [
       "<Figure size 432x288 with 1 Axes>"
      ]
     },
     "metadata": {
      "needs_background": "light"
     },
     "output_type": "display_data"
    },
    {
     "data": {
      "image/png": "[encoded data removed]",
      "text/plain": [
       "<Figure size 432x288 with 4 Axes>"
      ]
     },
     "metadata": {
      "needs_background": "light"
     },
     "output_type": "display_data"
    },
    {
     "data": {
      "image/png": "[encoded data removed]",
      "text/plain": [
       "<Figure size 432x288 with 3 Axes>"
      ]
     },
     "metadata": {
      "needs_background": "light"
     },
     "output_type": "display_data"
    },
    {
     "name": "stdout",
     "output_type": "stream",
     "text": [
      "Lines Removed:  187\n"
     ]
    },
    {
     "data": {
      "image/png": "[encoded data removed]",
      "text/plain": [
       "<Figure size 432x288 with 1 Axes>"
      ]
     },
     "metadata": {
      "needs_background": "light"
     },
     "output_type": "display_data"
    },
    {
     "data": {
      "image/png": "[encoded data removed]",
      "text/plain": [
       "<Figure size 432x288 with 1 Axes>"
      ]
     },
     "metadata": {
      "needs_background": "light"
     },
     "output_type": "display_data"
    },
    {
     "data": {
      "image/png": "[encoded data removed]",
      "text/plain": [
       "<Figure size 432x288 with 4 Axes>"
      ]
     },
     "metadata": {
      "needs_background": "light"
     },
     "output_type": "display_data"
    },
    {
     "data": {
      "image/png": "[encoded data removed]",
      "text/plain": [
       "<Figure size 432x288 with 3 Axes>"
      ]
     },
     "metadata": {
      "needs_background": "light"
     },
     "output_type": "display_data"
    },
    {
     "data": {
      "image/png": "[encoded data removed]",
      "text/plain": [
       "<Figure size 432x288 with 1 Axes>"
      ]
     },
     "metadata": {
      "needs_background": "light"
     },
     "output_type": "display_data"
    },
    {
     "data": {
      "image/png": "[encoded data removed]",
      "text/plain": [
       "<Figure size 432x288 with 1 Axes>"
      ]
     },
     "metadata": {
      "needs_background": "light"
     },
     "output_type": "display_data"
    },
    {
     "data": {
      "image/png": "[encoded data removed]",
      "text/plain": [
       "<Figure size 432x288 with 4 Axes>"
      ]
     },
     "metadata": {
      "needs_background": "light"
     },
     "output_type": "display_data"
    },
    {
     "data": {
      "image/png": "[encoded data removed]",
      "text/plain": [
       "<Figure size 432x288 with 3 Axes>"
      ]
     },
     "metadata": {
      "needs_background": "light"
     },
     "output_type": "display_data"
    },
    {
     "data": {
      "image/png": "[encoded data removed]",
      "text/plain": [
       "<Figure size 432x288 with 1 Axes>"
      ]
     },
     "metadata": {
      "needs_background": "light"
     },
     "output_type": "display_data"
    },
    {
     "data": {
      "image/png": "[encoded data removed]",
      "text/plain": [
       "<Figure size 432x288 with 1 Axes>"
      ]
     },
     "metadata": {
      "needs_background": "light"
     },
     "output_type": "display_data"
    },
    {
     "data": {
      "image/png": "[encoded data removed]",
      "text/plain": [
       "<Figure size 432x288 with 4 Axes>"
      ]
     },
     "metadata": {
      "needs_background": "light"
     },
     "output_type": "display_data"
    },
    {
     "name": "stdout",
     "output_type": "stream",
     "text": [
      "The number of features before one hot encoding is 20\n",
      "The number of features after one hot encoding is 94\n",
      "<class 'pandas.core.frame.DataFrame'>\n",
      "Int64Index: 41289 entries, 0 to 41475\n",
      "Data columns (total 20 columns):\n",
      "Auction                            41289 non-null object\n",
      "VehYear                            41289 non-null float64\n",
      "Make                               41289 non-null object\n",
      "Color                              41289 non-null object\n",
      "Auto                               41289 non-null float64\n",
      "WheelType                          41289 non-null object\n",
      "VehOdo                             41289 non-null float64\n",
      "Nationality                        41289 non-null object\n",
      "Size                               41289 non-null object\n",
      "TopThreeAmericanName               41289 non-null object\n",
      "MMRAcquisitionAuctionCleanPrice    41289 non-null float64\n",
      "MMRAcquisitonRetailCleanPrice      41289 non-null float64\n",
      "MMRCurrentAuctionCleanPrice        41289 non-null float64\n",
      "MMRCurrentRetailCleanPrice         41289 non-null float64\n",
      "MMRCurrentRetailRatio              41289 non-null float64\n",
      "VehBCost                           41289 non-null float64\n",
      "WarrantyCost                       41289 non-null float64\n",
      "IsBadBuy                           41289 non-null int64\n",
      "Body                               41289 non-null object\n",
      "Quarter                            41289 non-null int64\n",
      "dtypes: float64(10), int64(2), object(8)\n",
      "memory usage: 6.6+ MB\n",
      "Questin 1.1 :\n",
      "12.952602388045243 %\n"
     ]
    }
   ],
   "source": [
    "data_raw = pd.read_csv(\"Kick.csv\", # Read the csv into a DF\n",
    "                   index_col = 'PurchaseID', \n",
    "                   na_values = ('?',  '#VALUE!'))\n",
    "\n",
    "data, data_OH = PreProcessing(data_raw) # PreProcess the data\n",
    "\n",
    "counts = data[\"IsBadBuy\"].value_counts()\n",
    "total = data[\"IsBadBuy\"].count()\n",
    "    \n",
    "# calculate the percentage\n",
    "# kick is where IsBadBuy == 1\n",
    "kickPersentage = counts[1] / total * 100\n",
    "print (\"Questin 1.1 :\")\n",
    "print( kickPersentage, \"%\")\n",
    "\n",
    "# target/input split\n",
    "y = data_OH['IsBadBuy']\n",
    "X = data_OH.drop(['IsBadBuy'], axis=1)\n",
    "\n",
    "X_mat = X.values # Convert X into a matrix\n",
    "X_train, X_test, y_train, y_test = train_test_split(X_mat, y, test_size=0.2, stratify=y, random_state=rs)\n",
    "\n",
    "# Do the resampling\n",
    "ros = RandomOverSampler(random_state=0)\n",
    "X_train, y_train = ros.fit_resample(X_train, y_train)\n",
    "\n",
    "feature_names = X.columns"
   ]
  },
  {
   "cell_type": "markdown",
   "metadata": {},
   "source": [
    "<h1>Task 1: Decision Trees</h1>"
   ]
  },
  {
   "cell_type": "markdown",
   "metadata": {},
   "source": [
    "<h2>Task 1.1</h2>\n",
    "<h3>What is the proportion of kicks?</h3>\n",
    "The proportion of cars that are kick is 12.949...%\n",
    "\n",
    "<h2>Task 1.2</h2>\n",
    "<h3>Data fixes</h3>\n",
    "* Treat '?' and '#VALUE' as NaN\n",
    "* PRIMEUNIT and AUCGUART were dropped due to only having a small amount of data\n",
    "* WheelTypeID and PurchaseDate were duplicates of other features and were dropped\n",
    "* ForSale was dropped because of the data skew\n",
    "* In TopThreeAmericanName Hyundai and Jeep were renamed into HYUNDAI and JEEP\n",
    "* All other cols had there strings converted to uppercase\n",
    "* In nationality USA was replaced to AMERICA\n",
    "* Transmission was renamed to Auto and Auto was set to 1, Manual set to 0\n",
    "* In Color, NOT AVIL was changed to NaN\n",
    "* Dropped VNST due to statistical insignificance\n",
    "* Size was split in to Size and Body and Van was placed into the Body feature\n",
    "* Any non-zero values in IsOnlineSale was set to 1\n",
    "* Changed PurchaseTimestamp into quarter\n",
    "* Replace any missing values not specifically taken care of previously to a value chosen randomly from the distribution of the column\n",
    "* Made one hot representaions of the categorical variables.\n",
    "* Imputed mean of any numerical variables and normalized\n",
    " \n",
    "<h2>Task 1.3</h2>\n",
    "<h3>Patterns in the data</h3>\n",
    "In the histograms and the Box plots we can clearly see that there are many outliers as well as skewed data values. The outliers are most likely due to the skewness. \n",
    "\n",
    "Both Fig. 1 and Fig. 2 shows in order lef-to-right, then top-to-bottom for the columns: ‘1. Acquisition Auction Price’, ‘2. Acquisition Retail Price’, ‘3. Current Auction Price’ and ‘.4 Current Retail Price’.\n",
    "<figure>\n",
    "    <img src=\"preOutlierBox.png\" width=\"400\">\n",
    "    <figcaption> Fig. 1 Before removing outliers\n",
    "</figure>\n",
    "    \n",
    "<figure>\n",
    "    <img src=\"preOutlierHist.png\" width=\"400\">\n",
    "    <figcaption> Fig. 2 Before removing outliers\n",
    "</figure>\n",
    "It was decided that outliers will be removed first then a re-evaluation will be done. These are the results:\n",
    "<figure>\n",
    "    <img src=\"postOutlierBox.png\" width=\"400\">\n",
    "    <figcaption> Fig. 3 After removing outliers\n",
    "</figure>\n",
    "    \n",
    "<figure>\n",
    "    <img src=\"postOutlierHist.png\" width=\"400\">\n",
    "    <figcaption> Fig. 4 After removing outliers\n",
    "</figure>\n",
    "As seen above the distribution is a lot better for : ‘3. Current Auction Price’ and ‘.4 Current Retail Price’. However, some skewness still exist in : ‘1. Acquisition Auction Price’,  and  ‘3. Current Auction Price’. The figure belows shows the fixed values\n",
    "    \n",
    "<figure>\n",
    "    <img src=\"SkewFixed_Pricing.png\" width=\"400\">\n",
    "    <figcaption> Fig. 5 After fixing the skew\n",
    "</figure>\n",
    "\n",
    "The next three graphs show the same transformations on different variables\n",
    "<figure>\n",
    "    <img src=\"triple1.png\" width=\"400\">\n",
    "    <figcaption> Fig. 6 Before removing outlier\n",
    "</figure>\n",
    "<figure>\n",
    "    <img src=\"triple2.png\" width=\"400\">\n",
    "    <figcaption> Fig. 7 After removing outliers\n",
    "</figure>\n",
    "<figure>\n",
    "    <img src=\"triple3.png\" width=\"400\">\n",
    "    <figcaption> Fig. 8 After fixing the skew\"\n",
    "</figure>\n",
    "    \n",
    "Figure 9 shows Chevrolet, Dodge, Ford and Chrysler make the majority of cars on sale.\n",
    "\n",
    "<figure>\n",
    "    <img src=\"makeHist.png\" width=\"400\">\n",
    "    <figcaption> Fig. 9 Histagrams of the makes\n",
    "</figure>\n",
    "\n",
    "Figure 10 shows most cars are a medium size and a city car.\n",
    "\n",
    "<figure>\n",
    "    <img src=\"othersHist.png\" width=\"400\">\n",
    "    <figcaption> Fig. 10 Histagrams of the Sizes\n",
    "</figure>\n",
    "    \n",
    "<h2>Task 1.4</h2>\n",
    "<h3>What variables were included?</h3>\n",
    "We used all features not dropped above.\n",
    "\n",
    "| Variable Name           \t| Role    \t| Measurement Level \t|\n",
    "|-------------------------\t|---------\t|-------------------\t|\n",
    "| Auction                 \t| object  \t| Nominal           \t|\n",
    "| VehYear                 \t| float64 \t| Interval          \t|\n",
    "| Make                    \t| object  \t| Nominal           \t|\n",
    "| Color\t                   \t| object  \t| Nominal           \t|\n",
    "| Auto                    \t| float64 \t| Nominal           \t|\n",
    "| WheelType               \t| object  \t| Nominal           \t|\n",
    "| VehOdo                  \t| float64 \t| Ratio             \t|\n",
    "| Nationality             \t| object  \t| Nominal           \t|\n",
    "| Size                    \t| object  \t| Ordinal           \t|\n",
    "| TopThreeAmericanName    \t| object  \t| Nominal           \t|\n",
    "| MMRCurrentRetailRatio   \t| float64 \t| Interval          \t|\n",
    "| VehBCost                \t| float64 \t| Interval          \t|\n",
    "| IsOnlineSale            \t| float64 \t| Binary            \t|\n",
    "| WarrantyCost            \t| float64 \t| Interval          \t|\n",
    "| Body                    \t| object  \t| Nominal           \t|\n",
    "| Quarter                 \t| int64   \t| Ordinal           \t|\n",
    "| AcquisitionAuctionprice \t| float64 \t| Interval          \t|\n",
    "| AcquisitionRetailPrice  \t| float64 \t| Interval          \t|\n",
    "| MMRCurrentAuctionPrice  \t| float64 \t| Interval          \t|\n",
    "| MMRCurrentRetailPrice   \t| float64 \t| Interval          \t|\n",
    "\n",
    "\n",
    "| Variable Name           \t| Role    \t| Measurement Level \t|\n",
    "|-------------------------\t|---------\t|-------------------\t|\n",
    "| IsBadBuy                 \t| Label  \t| Boolean           \t|\n",
    "    \n",
    "<h2>Task 1.5</h2>\n",
    "<h3>What distibution scheme?</h3>\n",
    "Used a train test split with a 20% test set. Using cross validation to train hyperparameters allows us to have a larger training set.\n",
    "\n",
    "We tested the model on the data as is, oversampling and understampling. It was decided oversampled was the best as it gave us an even amount of positive and negative labels, the better accuracy as well as a better F1 score compared to the others . "
   ]
  },
  {
   "cell_type": "markdown",
   "metadata": {},
   "source": [
    "<h1>Task 2: Decision Trees</h1>"
   ]
  },
  {
   "cell_type": "code",
   "execution_count": 173,
   "metadata": {},
   "outputs": [
    {
     "data": {
      "text/plain": [
       "DecisionTreeClassifier(class_weight=None, criterion='gini', max_depth=None,\n",
       "            max_features=None, max_leaf_nodes=None,\n",
       "            min_impurity_decrease=0.0, min_impurity_split=None,\n",
       "            min_samples_leaf=1, min_samples_split=2,\n",
       "            min_weight_fraction_leaf=0.0, presort=False, random_state=10,\n",
       "            splitter='best')"
      ]
     },
     "execution_count": 173,
     "metadata": {},
     "output_type": "execute_result"
    }
   ],
   "source": [
    "# simple decision tree training\n",
    "DecisionTreeModel = DecisionTreeClassifier(random_state=rs)\n",
    "DecisionTreeModel.fit(X_train, y_train)"
   ]
  },
  {
   "cell_type": "markdown",
   "metadata": {},
   "source": [
    "<h2>Task 2.1</h2>\n",
    "<h3>A: What is the test accuracy?</h3>    "
   ]
  },
  {
   "cell_type": "code",
   "execution_count": 174,
   "metadata": {},
   "outputs": [
    {
     "name": "stdout",
     "output_type": "stream",
     "text": [
      "Test Model Accuracy: 0.7839670622426738\n",
      "Train Model Accuracy: 1.0\n"
     ]
    }
   ],
   "source": [
    "print(\"Test Model Accuracy:\", DecisionTreeModel.score(X_test, y_test))\n",
    "print(\"Train Model Accuracy:\", DecisionTreeModel.score(X_train, y_train))"
   ]
  },
  {
   "cell_type": "code",
   "execution_count": 175,
   "metadata": {},
   "outputs": [],
   "source": [
    "# Used through out 2.1\n",
    "[n_nodes, leaf_count, main_variables] = getTreeInfo(DecisionTreeModel, feature_names) # Call the root function"
   ]
  },
  {
   "cell_type": "markdown",
   "metadata": {},
   "source": [
    "<h3>B: What is the size of the tree?</h3>  "
   ]
  },
  {
   "cell_type": "code",
   "execution_count": 176,
   "metadata": {},
   "outputs": [
    {
     "name": "stdout",
     "output_type": "stream",
     "text": [
      "Number of Nodes: 9437\n"
     ]
    }
   ],
   "source": [
    "print(\"Number of Nodes:\", n_nodes)"
   ]
  },
  {
   "cell_type": "markdown",
   "metadata": {},
   "source": [
    "<h3>C: How many leaves are in the tree that is selected based on the validation data set?</h3>  "
   ]
  },
  {
   "cell_type": "code",
   "execution_count": 177,
   "metadata": {},
   "outputs": [
    {
     "name": "stdout",
     "output_type": "stream",
     "text": [
      "Number of leaves: 4719\n"
     ]
    }
   ],
   "source": [
    "print(\"Number of leaves:\", leaf_count)"
   ]
  },
  {
   "cell_type": "markdown",
   "metadata": {},
   "source": [
    "<h3>D: Which variable is used for the first split? What are the competing splits for this first split? </h3> "
   ]
  },
  {
   "cell_type": "code",
   "execution_count": 178,
   "metadata": {},
   "outputs": [
    {
     "name": "stdout",
     "output_type": "stream",
     "text": [
      "Root feature is MMRCurrentAuctionCleanPrice\n",
      "Competing featues are VehBCostand VehOdo\n"
     ]
    }
   ],
   "source": [
    "print(main_variables)"
   ]
  },
  {
   "cell_type": "markdown",
   "metadata": {},
   "source": [
    "<h3>E: What are the 5 important variables in building the tree?</h3> "
   ]
  },
  {
   "cell_type": "code",
   "execution_count": 179,
   "metadata": {},
   "outputs": [
    {
     "name": "stdout",
     "output_type": "stream",
     "text": [
      "VehBCost : 0.11042077206095711\n",
      "MMRCurrentAuctionCleanPrice : 0.11009466719282167\n",
      "VehOdo : 0.09924976952513076\n",
      "MMRCurrentRetailRatio : 0.09688335836095614\n",
      "MMRAcquisitionAuctionCleanPrice : 0.08905355519053461\n"
     ]
    }
   ],
   "source": [
    "analyse_feature_importance(DecisionTreeModel, feature_names, n_to_display=5)"
   ]
  },
  {
   "cell_type": "markdown",
   "metadata": {},
   "source": [
    "<h3>F: Report if you see any evidence of model overfitting</h3> "
   ]
  },
  {
   "cell_type": "code",
   "execution_count": 180,
   "metadata": {},
   "outputs": [
    {
     "data": {
      "image/png": "[encoded data removed]",
      "text/plain": [
       "<Figure size 432x288 with 1 Axes>"
      ]
     },
     "metadata": {
      "needs_background": "light"
     },
     "output_type": "display_data"
    }
   ],
   "source": [
    "test_score = []\n",
    "train_score = []\n",
    "\n",
    "currRange = range(2 , DecisionTreeModel.tree_.max_depth)\n",
    "# check the model performance for max depth from 2-20\n",
    "for max_depth in currRange:\n",
    "    model = DecisionTreeClassifier(max_depth=max_depth, random_state=rs)\n",
    "    model.fit(X_train, y_train)\n",
    "    \n",
    "    test_score.append(model.score(X_test, y_test))\n",
    "    train_score.append(model.score(X_train, y_train))\n",
    "    \n",
    "# plot max depth hyperparameter values vs training and test accuracy score\n",
    "plt.plot(currRange, train_score, 'b', currRange, test_score, 'r')\n",
    "plt.xlabel('max_depth\\nBlue = training acc. Red = test acc.')\n",
    "plt.ylabel('accuracy')\n",
    "plt.title('Max Depth Graph')\n",
    "plt.show()"
   ]
  },
  {
   "cell_type": "markdown",
   "metadata": {},
   "source": [
    "<p>As seen from the graph above, the training accuracy is 100% where as the test accuracy is nearing 80% - this is an idication of overfitting.</p>"
   ]
  },
  {
   "cell_type": "markdown",
   "metadata": {},
   "source": [
    "<h3>G: Did changing the default setting help improving the model?</h3> "
   ]
  },
  {
   "cell_type": "code",
   "execution_count": 181,
   "metadata": {},
   "outputs": [],
   "source": [
    "splits = math.floor(max_depth/4) # half the number of nodes\n",
    "model = DecisionTreeClassifier(min_samples_split=10)\n",
    "model.fit(X_train, y_train)\n",
    "max_depth = model.tree_.max_depth\n",
    "splits = math.floor(max_depth/4) # half the number of nodes"
   ]
  },
  {
   "cell_type": "markdown",
   "metadata": {},
   "source": [
    "<h4>Accuracy</h4>"
   ]
  },
  {
   "cell_type": "code",
   "execution_count": 182,
   "metadata": {},
   "outputs": [
    {
     "name": "stdout",
     "output_type": "stream",
     "text": [
      "Test Model Accuracy: 0.7804553160571567\n",
      "Train Model Accuracy: 0.9901053803081418\n"
     ]
    }
   ],
   "source": [
    "print(\"Test Model Accuracy:\", model.score(X_test, y_test))\n",
    "print(\"Train Model Accuracy:\", model.score(X_train, y_train))\n",
    "\n",
    "# used throughout\n",
    "[n_nodes, leaf_count, main_variables] = getTreeInfo(model, feature_names) # Call the root function"
   ]
  },
  {
   "cell_type": "markdown",
   "metadata": {},
   "source": [
    "<h4> Size of the trees</h4>"
   ]
  },
  {
   "cell_type": "code",
   "execution_count": 183,
   "metadata": {},
   "outputs": [
    {
     "name": "stdout",
     "output_type": "stream",
     "text": [
      "Number of Nodes: 8725\n"
     ]
    }
   ],
   "source": [
    "# Size of the trees\n",
    "print(\"Number of Nodes:\", n_nodes)"
   ]
  },
  {
   "cell_type": "markdown",
   "metadata": {},
   "source": [
    "<h4>Number of leaves</h4>"
   ]
  },
  {
   "cell_type": "code",
   "execution_count": 184,
   "metadata": {},
   "outputs": [
    {
     "name": "stdout",
     "output_type": "stream",
     "text": [
      "Number of leaves: 4363\n"
     ]
    }
   ],
   "source": [
    "# Number of leaves\n",
    "print(\"Number of leaves:\", leaf_count)"
   ]
  },
  {
   "cell_type": "markdown",
   "metadata": {},
   "source": [
    "<h4>Important Splits</h4>"
   ]
  },
  {
   "cell_type": "code",
   "execution_count": 185,
   "metadata": {},
   "outputs": [
    {
     "name": "stdout",
     "output_type": "stream",
     "text": [
      "Root feature is MMRCurrentAuctionCleanPrice\n",
      "Competing featues are VehBCostand VehOdo\n"
     ]
    }
   ],
   "source": [
    "# First Split\n",
    "print(main_variables)"
   ]
  },
  {
   "cell_type": "markdown",
   "metadata": {},
   "source": [
    "<h4>5 Most important</h4>"
   ]
  },
  {
   "cell_type": "code",
   "execution_count": 186,
   "metadata": {},
   "outputs": [
    {
     "name": "stdout",
     "output_type": "stream",
     "text": [
      "MMRCurrentAuctionCleanPrice : 0.11036910953785575\n",
      "VehBCost : 0.11026971828665172\n",
      "MMRCurrentRetailRatio : 0.09831383406650544\n",
      "VehOdo : 0.09825219876830257\n",
      "MMRAcquisitionAuctionCleanPrice : 0.0922814740492002\n"
     ]
    }
   ],
   "source": [
    "# 5 Most important\n",
    "analyse_feature_importance(model, feature_names, n_to_display=5)"
   ]
  },
  {
   "cell_type": "markdown",
   "metadata": {},
   "source": [
    "<h4>Sign of overfitting</h4>"
   ]
  },
  {
   "cell_type": "code",
   "execution_count": 187,
   "metadata": {},
   "outputs": [
    {
     "data": {
      "image/png": "[encoded data removed]",
      "text/plain": [
       "<Figure size 432x288 with 1 Axes>"
      ]
     },
     "metadata": {
      "needs_background": "light"
     },
     "output_type": "display_data"
    }
   ],
   "source": [
    "test_score = []\n",
    "train_score = []\n",
    "\n",
    "currRange = range(2 , model.tree_.max_depth)\n",
    "# check the model performance for max depth from 2-20\n",
    "for max_depth in currRange:\n",
    "    model = DecisionTreeClassifier(max_depth=max_depth, random_state=rs, min_samples_split=splits)\n",
    "    model.fit(X_train, y_train)\n",
    "    \n",
    "    test_score.append(model.score(X_test, y_test))\n",
    "    train_score.append(model.score(X_train, y_train))\n",
    "    \n",
    "# plot max depth hyperparameter values vs training and test accuracy score\n",
    "plt.plot(currRange, train_score, 'b', currRange, test_score, 'r')\n",
    "plt.xlabel('max_depth\\nBlue = training acc. Red = test acc.')\n",
    "plt.ylabel('accuracy')\n",
    "plt.title('Max Depth Graph')\n",
    "plt.show()"
   ]
  },
  {
   "cell_type": "markdown",
   "metadata": {},
   "source": [
    "<p>As seen from the graph above, the training accuracy is 100% where as the test accuracy is nearing 80% - this is an idication of overfitting.</p>"
   ]
  },
  {
   "cell_type": "markdown",
   "metadata": {},
   "source": [
    "<h2>Task 2.2</h2>"
   ]
  },
  {
   "cell_type": "code",
   "execution_count": 188,
   "metadata": {},
   "outputs": [
    {
     "data": {
      "text/plain": [
       "GridSearchCV(cv=10, error_score='raise-deprecating',\n",
       "       estimator=DecisionTreeClassifier(class_weight=None, criterion='gini', max_depth=None,\n",
       "            max_features=None, max_leaf_nodes=None,\n",
       "            min_impurity_decrease=0.0, min_impurity_split=None,\n",
       "            min_samples_leaf=1, min_samples_split=2,\n",
       "            min_weight_fraction_leaf=0.0, presort=False, random_state=10,\n",
       "            splitter='best'),\n",
       "       fit_params=None, iid='warn', n_jobs=None,\n",
       "       param_grid={'criterion': ['gini', 'entropy'], 'max_depth': range(2, 7), 'min_samples_leaf': range(20, 60, 10)},\n",
       "       pre_dispatch='2*n_jobs', refit=True, return_train_score='warn',\n",
       "       scoring=None, verbose=0)"
      ]
     },
     "execution_count": 188,
     "metadata": {},
     "output_type": "execute_result"
    }
   ],
   "source": [
    "# grid search CV\n",
    "params = {'criterion': ['gini', 'entropy'],\n",
    "          'max_depth': range(2, 7),\n",
    "          'min_samples_leaf': range(20, 60, 10)}\n",
    "\n",
    "cv = GridSearchCV(param_grid=params, estimator=DecisionTreeClassifier(random_state=rs), cv=10)\n",
    "cv.fit(X_train, y_train)"
   ]
  },
  {
   "cell_type": "code",
   "execution_count": 189,
   "metadata": {},
   "outputs": [],
   "source": [
    "# Save the best features\n",
    "selectmodel = SelectFromModel(cv.best_estimator_, prefit=True)\n",
    "X_train_sel_DT = selectmodel.transform(X_train)\n",
    "X_test_sel_DT = selectmodel.transform(X_test)"
   ]
  },
  {
   "cell_type": "markdown",
   "metadata": {},
   "source": [
    "<h3>A: What is the classification accuracy on training and test datasets? </h3>   "
   ]
  },
  {
   "cell_type": "code",
   "execution_count": 190,
   "metadata": {},
   "outputs": [
    {
     "name": "stdout",
     "output_type": "stream",
     "text": [
      "Test Accuracy: 0.6151610559457495\n",
      "Train Accuracy: 0.6280562028310089\n"
     ]
    }
   ],
   "source": [
    "print(\"Test Accuracy:\", cv.score(X_test, y_test))\n",
    "print(\"Train Accuracy:\", cv.score(X_train, y_train))"
   ]
  },
  {
   "cell_type": "code",
   "execution_count": 191,
   "metadata": {},
   "outputs": [],
   "source": [
    "# Used throught out 2.2\n",
    "[n_nodes, leaf_count, main_variables] = getTreeInfo(cv.best_estimator_, feature_names) # Call the root function"
   ]
  },
  {
   "cell_type": "markdown",
   "metadata": {},
   "source": [
    "<h3>B: What is the size of tree (i.e. number of nodes)? Is the size different from the maximal tree or the tree in the previous step? Why?</h3>"
   ]
  },
  {
   "cell_type": "code",
   "execution_count": 192,
   "metadata": {},
   "outputs": [
    {
     "name": "stdout",
     "output_type": "stream",
     "text": [
      "Number of Nodes: 113\n"
     ]
    }
   ],
   "source": [
    "print(\"Number of Nodes:\", n_nodes)"
   ]
  },
  {
   "cell_type": "markdown",
   "metadata": {},
   "source": [
    "<p>Yes, due to it being optimised on the best pramaters and we limit the maximum depth.</p>"
   ]
  },
  {
   "cell_type": "markdown",
   "metadata": {},
   "source": [
    "<h3>C: How many leaves are in the tree that is selected based on the validation data set?</h3>  "
   ]
  },
  {
   "cell_type": "code",
   "execution_count": 193,
   "metadata": {},
   "outputs": [
    {
     "name": "stdout",
     "output_type": "stream",
     "text": [
      "Number of leaves: 57\n"
     ]
    }
   ],
   "source": [
    "print(\"Number of leaves:\", leaf_count)"
   ]
  },
  {
   "cell_type": "markdown",
   "metadata": {},
   "source": [
    "<h3>D: Which variable is used for the first split? What are the competing splits for this first split? </h3>  "
   ]
  },
  {
   "cell_type": "code",
   "execution_count": 194,
   "metadata": {},
   "outputs": [
    {
     "name": "stdout",
     "output_type": "stream",
     "text": [
      "Root feature is MMRCurrentAuctionCleanPrice\n",
      "Competing featues are VehBCostand VehOdo\n"
     ]
    }
   ],
   "source": [
    "print(main_variables)"
   ]
  },
  {
   "cell_type": "markdown",
   "metadata": {},
   "source": [
    "<h3>E: What are the 5 important variables in building the tree?</h3>"
   ]
  },
  {
   "cell_type": "code",
   "execution_count": 195,
   "metadata": {},
   "outputs": [
    {
     "name": "stdout",
     "output_type": "stream",
     "text": [
      "MMRCurrentAuctionCleanPrice : 0.32498079449996603\n",
      "VehBCost : 0.11542796629424604\n",
      "MMRAcquisitionAuctionCleanPrice : 0.08566704222194947\n",
      "Body_CITY : 0.08293788795988614\n",
      "WheelType_COVERS : 0.06553106516472498\n"
     ]
    }
   ],
   "source": [
    "analyse_feature_importance(cv.best_estimator_, feature_names, n_to_display=5)"
   ]
  },
  {
   "cell_type": "markdown",
   "metadata": {},
   "source": [
    "<h3>F: Report if you see any evidence of model overfitting</h3> "
   ]
  },
  {
   "cell_type": "code",
   "execution_count": 196,
   "metadata": {},
   "outputs": [
    {
     "name": "stdout",
     "output_type": "stream",
     "text": [
      "              precision    recall  f1-score   support\n",
      "\n",
      "           0       0.91      0.62      0.74      7188\n",
      "           1       0.18      0.58      0.28      1070\n",
      "\n",
      "   micro avg       0.62      0.62      0.62      8258\n",
      "   macro avg       0.55      0.60      0.51      8258\n",
      "weighted avg       0.81      0.62      0.68      8258\n",
      "\n",
      "{'criterion': 'entropy', 'max_depth': 6, 'min_samples_leaf': 40}\n"
     ]
    }
   ],
   "source": [
    "y_pred = cv.predict(X_test)\n",
    "print(classification_report(y_test, y_pred))\n",
    "print(cv.best_params_)"
   ]
  },
  {
   "cell_type": "code",
   "execution_count": 197,
   "metadata": {},
   "outputs": [
    {
     "data": {
      "image/png": "[encoded data removed]",
      "text/plain": [
       "<Figure size 432x288 with 1 Axes>"
      ]
     },
     "metadata": {
      "needs_background": "light"
     },
     "output_type": "display_data"
    }
   ],
   "source": [
    "test_score = []\n",
    "train_score = []\n",
    "\n",
    "currRange = range(2 , 40)\n",
    "\n",
    "# check the model performance for max depth from 2-30\n",
    "for max_depth in currRange:\n",
    "    model = DecisionTreeClassifier(max_depth=max_depth, random_state=rs, min_samples_split=cv.best_params_[\"min_samples_leaf\"])\n",
    "    model.fit(X_train, y_train)\n",
    "    \n",
    "    test_score.append(model.score(X_test, y_test))\n",
    "    train_score.append(model.score(X_train, y_train))\n",
    "    \n",
    "# plot max depth hyperparameter values vs training and test accuracy score\n",
    "plt.plot(currRange, train_score, 'b', currRange, test_score, 'r')\n",
    "plt.xlabel('max_depth\\nBlue = training acc. Red = test acc.')\n",
    "plt.ylabel('accuracy')\n",
    "plt.title('Max Depth Graph')\n",
    "plt.show()"
   ]
  },
  {
   "cell_type": "markdown",
   "metadata": {},
   "source": [
    "<p>As seen in Task 2.2 A - the graph above shows a clear sign of overfitting as the test data is significant'y below the training data."
   ]
  },
  {
   "cell_type": "markdown",
   "metadata": {},
   "source": [
    "<h3>G: What are the parameters used? Justify your choices</h3> "
   ]
  },
  {
   "cell_type": "code",
   "execution_count": 198,
   "metadata": {},
   "outputs": [
    {
     "data": {
      "image/png": "[encoded data removed]",
      "text/plain": [
       "<Figure size 432x288 with 1 Axes>"
      ]
     },
     "metadata": {
      "needs_background": "light"
     },
     "output_type": "display_data"
    }
   ],
   "source": [
    "test_score = []\n",
    "train_score = []\n",
    "\n",
    "currRange = range(2 , 60)\n",
    "\n",
    "# check the model performance for max depth from 2-20\n",
    "for max_leaf in currRange:\n",
    "    model = DecisionTreeClassifier(max_depth=6, random_state=rs, min_samples_split=max_leaf)\n",
    "    model.fit(X_train, y_train)\n",
    "    \n",
    "    test_score.append(model.score(X_test, y_test))\n",
    "    train_score.append(model.score(X_train, y_train))\n",
    "    \n",
    "# plot max depth hyperparameter values vs training and test accuracy score\n",
    "plt.plot(currRange, train_score, 'b', currRange, test_score, 'r')\n",
    "plt.xlabel('min_samples_leaf\\nBlue = training acc. Red = test acc.')\n",
    "plt.ylabel('accuracy')\n",
    "plt.title('Min Samples Leaf')\n",
    "plt.show()"
   ]
  },
  {
   "cell_type": "markdown",
   "metadata": {},
   "source": [
    "<p> There are three main choices used for the model: </p>\n",
    "<p><b>Criterion:</b> gini</p> \n",
    "<p><b>max_depth:</b> 25 - we ran the max_depth from the minimum 2 to 40 and found after 6 we are getting deminishing returns, thus 25 was the optimal value (see graph in question F)</p> \n",
    "<p><b>min_samples_leaf:</b> 2 - we ran the min_sameples_leaf from the minimum 2 to 60 and found after 47 we are getting deminishing returns, thus 47 was the optimal value (see graph above)</p>"
   ]
  },
  {
   "cell_type": "markdown",
   "metadata": {},
   "source": [
    "<h2>Task 2.3</h2>\n",
    "<h4>What is the significant difference do you see between these two decision tree\n",
    "models (steps 2.1 & 2.2)? How do they compare performance-wise? Explain why\n",
    "those changes may have happened.</h4>"
   ]
  },
  {
   "cell_type": "markdown",
   "metadata": {},
   "source": [
    "There are two main differences to concider between the model in 2.1 and 2.2.\n",
    "\n",
    "<b>Performance</b><br>\n",
    "Due to the Node size in 2.1 (9000 < nodes), the model performance is much lower than that of 2.2 (120 > nodes). Meaning when running the, 2.2 finds a solution much faster than 2.1\n",
    "\n",
    "<b>Accuracy</b><br>\n",
    "Due to the size of the tree in 2.1, one would assume that the accuracy is much higher, however, this is only true for the TRAIN data. Due to the size of the model, overfitting occurs and reduces the accuracy of the model on the TEST data.\n",
    "\n",
    "The model in 2.2 is much smaller and one would except lower accuracy, but due to the model being well generalized it actually outperforms the overfitted model in 2.1.\n"
   ]
  },
  {
   "cell_type": "markdown",
   "metadata": {},
   "source": [
    "<h2>Task 2.4</h2>\n",
    "<h4>From the better model, can you identify which cars could potential be “kicks”?\n",
    "Can you provide some descriptive summary of those cars?</h4>"
   ]
  },
  {
   "cell_type": "markdown",
   "metadata": {},
   "source": [
    "<p>Yes we can predict which cars are kicks and describe the features that are most relevant to the prediction</p>\n",
    "<b>Accuracy:</b>"
   ]
  },
  {
   "cell_type": "code",
   "execution_count": 199,
   "metadata": {},
   "outputs": [
    {
     "name": "stdout",
     "output_type": "stream",
     "text": [
      "Test Model Accuracy: 0.7628965851295714\n"
     ]
    }
   ],
   "source": [
    "De = DecisionTreeClassifier(min_samples_split=2, max_depth = 22)\n",
    "De.fit(X_train, y_train)\n",
    "\n",
    "print(\"Test Model Accuracy:\", De.score(X_test, y_test))"
   ]
  },
  {
   "cell_type": "markdown",
   "metadata": {},
   "source": [
    "<p>To get rules out of each attribute we will compare the mean of the kicks and non-kicks to the global mean of all the data. Should a clear pattern no emerge we will do further investigation</p>\n"
   ]
  },
  {
   "cell_type": "markdown",
   "metadata": {},
   "source": [
    "<h3>MMRCurrentAuctionCleanPrice</h3>"
   ]
  },
  {
   "cell_type": "code",
   "execution_count": 200,
   "metadata": {},
   "outputs": [
    {
     "name": "stdout",
     "output_type": "stream",
     "text": [
      "count     5371.000000\n",
      "mean      6709.345284\n",
      "std       2864.711727\n",
      "min          1.000000\n",
      "25%       4585.000000\n",
      "50%       6252.000000\n",
      "75%       8305.000000\n",
      "max      36478.000000\n",
      "Name: MMRCurrentAuctionCleanPrice, dtype: float64\n",
      "\n",
      "Kicks mean:  6709.345284139646\n",
      "Non-Kicks mean:  7546.775017579977\n"
     ]
    },
    {
     "data": {
      "image/png": "[encoded data removed]",
      "text/plain": [
       "<Figure size 432x288 with 1 Axes>"
      ]
     },
     "metadata": {
      "needs_background": "light"
     },
     "output_type": "display_data"
    },
    {
     "data": {
      "image/png": "[encoded data removed]",
      "text/plain": [
       "<Figure size 432x288 with 1 Axes>"
      ]
     },
     "metadata": {
      "needs_background": "light"
     },
     "output_type": "display_data"
    }
   ],
   "source": [
    "colors = ['b', 'r', 'g']\n",
    "\n",
    "col_name = \"MMRCurrentAuctionCleanPrice\"\n",
    "kicks = data_raw.loc[data_raw.IsBadBuy == 1, col_name]\n",
    "non_kicks = data_raw.loc[data_raw.IsBadBuy == 0, col_name]\n",
    "dat = data_raw[col_name]\n",
    "mean_ = dat.describe()[\"mean\"]\n",
    "\n",
    "print(kicks.describe())\n",
    "print(\"\")\n",
    "print(\"Kicks mean: \", kicks.mean())\n",
    "print(\"Non-Kicks mean: \", non_kicks.mean())\n",
    "fig = plt.figure()\n",
    "bp = plt.boxplot([kicks, non_kicks, dat], showfliers=False, widths=0.9)\n",
    "plt.xlabel(\"Kicks                 Non-Kicks                 All Data\")\n",
    "plt.show()\n",
    "\n",
    "fig = plt.figure()\n",
    "\n",
    "col_name += \" Mean Comparison\"\n",
    "plt.title(col_name)\n",
    "meanPoint  = plt.scatter(1, mean_, marker='x', color=colors[0])\n",
    "kickPoint  = plt.scatter(1, kicks.mean(), marker='o', color=colors[1])\n",
    "non_kickPoint  = plt.scatter(1, non_kicks.mean(), marker='o', color=colors[2])\n",
    "plt.legend((meanPoint, kickPoint, non_kickPoint), ('meanPoint', 'kickPoint', 'non_kickPoint'))\n",
    "plt.show()"
   ]
  },
  {
   "cell_type": "markdown",
   "metadata": {},
   "source": [
    "<i>Description</i>\n",
    "<p>As seen above, kicks for the MMRCurrentAuction attribute price differs from the non-kicks by having a mean (6709.34) that is lower than the mean for the non-kicks (7546.77) </p>\n",
    "<p>As a rule of thumb - the <b>lower</b> the MMRCurrentAuction, the more likely it is to be a kick</p>"
   ]
  },
  {
   "cell_type": "code",
   "execution_count": 201,
   "metadata": {},
   "outputs": [
    {
     "name": "stdout",
     "output_type": "stream",
     "text": [
      "---------------------\n",
      "count      5371.000000\n",
      "mean      74328.853856\n",
      "std       14259.635526\n",
      "min        4825.000000\n",
      "25%       65226.500000\n",
      "50%       76390.000000\n",
      "75%       84687.500000\n",
      "max      115717.000000\n",
      "Name: VehOdo, dtype: float64\n",
      "\n",
      "Kicks mean:  74328.85385636946\n",
      "Non-Kicks mean:  70849.43798355399\n"
     ]
    },
    {
     "data": {
      "image/png": "[encoded data removed]",
      "text/plain": [
       "<Figure size 432x288 with 1 Axes>"
      ]
     },
     "metadata": {
      "needs_background": "light"
     },
     "output_type": "display_data"
    },
    {
     "data": {
      "image/png": "[encoded data removed]",
      "text/plain": [
       "<Figure size 432x288 with 1 Axes>"
      ]
     },
     "metadata": {
      "needs_background": "light"
     },
     "output_type": "display_data"
    }
   ],
   "source": [
    "print(\"---------------------\")\n",
    "col_name = \"VehOdo\"\n",
    "kicks = data_raw.loc[data_raw.IsBadBuy == 1, col_name]\n",
    "non_kicks = data_raw.loc[data_raw.IsBadBuy == 0, col_name]\n",
    "dat = data_raw[col_name]\n",
    "mean_ = dat.describe()[\"mean\"]\n",
    "\n",
    "print(kicks.describe())\n",
    "print(\"\")\n",
    "print(\"Kicks mean: \", kicks.mean())\n",
    "print(\"Non-Kicks mean: \", non_kicks.mean())\n",
    "fig = plt.figure()\n",
    "bp = plt.boxplot([kicks, non_kicks, dat], showfliers=False, widths=0.9)\n",
    "plt.xlabel(\"Kicks                 Non-Kicks                 All Data\")\n",
    "plt.show()\n",
    "\n",
    "fig = plt.figure()\n",
    "\n",
    "col_name += \" Mean Comparison\"\n",
    "plt.title(col_name)\n",
    "meanPoint  = plt.scatter(1, mean_, marker='x', color=colors[0])\n",
    "kickPoint  = plt.scatter(1, kicks.mean(), marker='o', color=colors[1])\n",
    "non_kickPoint  = plt.scatter(1, non_kicks.mean(), marker='o', color=colors[2])\n",
    "plt.legend((meanPoint, kickPoint, non_kickPoint), ('meanPoint', 'kickPoint', 'non_kickPoint'))\n",
    "plt.show()"
   ]
  },
  {
   "cell_type": "markdown",
   "metadata": {},
   "source": [
    "<p>As seen above, kicks for the VehOdo attribute price differs from the non-kicks by having a mean (74328.85) that is higher than the mean for the non-kicks (70849.43) </p>\n",
    "<p>As a rule of thumb - the <b>higher</b> the VehOdo, the more likely it is to be a kick</p>"
   ]
  },
  {
   "cell_type": "code",
   "execution_count": 202,
   "metadata": {},
   "outputs": [
    {
     "name": "stdout",
     "output_type": "stream",
     "text": [
      "count    5371.000000\n",
      "mean        0.844177\n",
      "std         0.053817\n",
      "min         0.358071\n",
      "25%         0.811476\n",
      "50%         0.849511\n",
      "75%         0.881650\n",
      "max         0.982550\n",
      "Name: MMRCurrentRetailRatio, dtype: float64\n",
      "\n",
      "Kicks mean:  0.8441765533803434\n",
      "Non-Kicks mean:  0.8588678360941439\n"
     ]
    },
    {
     "data": {
      "image/png": "[encoded data removed]",
      "text/plain": [
       "<Figure size 432x288 with 1 Axes>"
      ]
     },
     "metadata": {
      "needs_background": "light"
     },
     "output_type": "display_data"
    },
    {
     "data": {
      "image/png": "[encoded data removed]",
      "text/plain": [
       "<Figure size 432x288 with 1 Axes>"
      ]
     },
     "metadata": {
      "needs_background": "light"
     },
     "output_type": "display_data"
    }
   ],
   "source": [
    "col_name = \"MMRCurrentRetailRatio\"\n",
    "kicks = data_raw.loc[data_raw.IsBadBuy == 1, col_name]\n",
    "non_kicks = data_raw.loc[data_raw.IsBadBuy == 0, col_name]\n",
    "dat = data_raw[col_name]\n",
    "mean_ = dat.describe()[\"mean\"]\n",
    "\n",
    "print(kicks.describe())\n",
    "print(\"\")\n",
    "print(\"Kicks mean: \", kicks.mean())\n",
    "print(\"Non-Kicks mean: \", non_kicks.mean())\n",
    "fig = plt.figure()\n",
    "bp = plt.boxplot([kicks, non_kicks, dat], showfliers=False, widths=0.9)\n",
    "plt.xlabel(\"Kicks                 Non-Kicks                 All Data\")\n",
    "plt.show()\n",
    "\n",
    "fig = plt.figure()\n",
    "\n",
    "col_name += \" Mean Comparison\"\n",
    "plt.title(col_name)\n",
    "meanPoint  = plt.scatter(1, mean_, marker='x', color=colors[0])\n",
    "kickPoint  = plt.scatter(1, kicks.mean(), marker='o', color=colors[1])\n",
    "non_kickPoint  = plt.scatter(1, non_kicks.mean(), marker='o', color=colors[2])\n",
    "plt.legend((meanPoint, kickPoint, non_kickPoint), ('meanPoint', 'kickPoint', 'non_kickPoint'))\n",
    "plt.show()"
   ]
  },
  {
   "cell_type": "markdown",
   "metadata": {},
   "source": [
    "<p>As seen above, kicks for the MMRCurrentRetailRatio attribute price differs from the non-kicks by having a mean (0.8441) that is higher than the mean for the non-kicks (0.8588) </p>\n",
    "<p>As a rule of thumb - the <b>lower</b> the MMRCurrentRetailRatio, the more likely it is to be a kick</p>"
   ]
  },
  {
   "cell_type": "code",
   "execution_count": 203,
   "metadata": {},
   "outputs": [
    {
     "name": "stdout",
     "output_type": "stream",
     "text": [
      "count     5371.000000\n",
      "mean      6256.526621\n",
      "std       2101.210580\n",
      "min        225.000000\n",
      "25%       4745.000000\n",
      "50%       5990.000000\n",
      "75%       7532.500000\n",
      "max      45469.000000\n",
      "Name: VehBCost, dtype: float64\n",
      "\n",
      "Kicks mean:  6256.526620914421\n",
      "Non-Kicks mean:  6804.004359322234\n"
     ]
    },
    {
     "data": {
      "image/png": "[encoded data removed]",
      "text/plain": [
       "<Figure size 432x288 with 1 Axes>"
      ]
     },
     "metadata": {
      "needs_background": "light"
     },
     "output_type": "display_data"
    },
    {
     "data": {
      "image/png": "[encoded data removed]",
      "text/plain": [
       "<Figure size 432x288 with 1 Axes>"
      ]
     },
     "metadata": {
      "needs_background": "light"
     },
     "output_type": "display_data"
    }
   ],
   "source": [
    "col_name = \"VehBCost\"\n",
    "kicks = data_raw.loc[data_raw.IsBadBuy == 1, col_name]\n",
    "non_kicks = data_raw.loc[data_raw.IsBadBuy == 0, col_name]\n",
    "dat = data_raw[col_name]\n",
    "mean_ = dat.describe()[\"mean\"]\n",
    "\n",
    "print(kicks.describe())\n",
    "print(\"\")\n",
    "print(\"Kicks mean: \", kicks.mean())\n",
    "print(\"Non-Kicks mean: \", non_kicks.mean())\n",
    "fig = plt.figure()\n",
    "bp = plt.boxplot([kicks, non_kicks, dat], showfliers=False, widths=0.9)\n",
    "plt.xlabel(\"Kicks                 Non-Kicks                 All Data\")\n",
    "plt.show()\n",
    "\n",
    "fig = plt.figure()\n",
    "\n",
    "col_name += \" Mean Comparison\"\n",
    "plt.title(col_name)\n",
    "meanPoint  = plt.scatter(1, mean_, marker='x', color=colors[0])\n",
    "kickPoint  = plt.scatter(1, kicks.mean(), marker='o', color=colors[1])\n",
    "non_kickPoint  = plt.scatter(1, non_kicks.mean(), marker='o', color=colors[2])\n",
    "plt.legend((meanPoint, kickPoint, non_kickPoint), ('meanPoint', 'kickPoint', 'non_kickPoint'))\n",
    "plt.show()"
   ]
  },
  {
   "cell_type": "markdown",
   "metadata": {},
   "source": [
    "<p>As seen above, kicks for the VehBCost attribute price differs from the non-kicks, by having a mean (6256.52) that is higher than the mean for the non-kicks (6804.00) </p>\n",
    "<p>As a rule of thumb - the lower the VehBCost, the more likely it is to be a kick<p>"
   ]
  },
  {
   "cell_type": "code",
   "execution_count": 204,
   "metadata": {},
   "outputs": [
    {
     "name": "stdout",
     "output_type": "stream",
     "text": [
      "count     5371.000000\n",
      "mean      6719.703425\n",
      "std       2899.705472\n",
      "min          1.000000\n",
      "25%       4568.500000\n",
      "50%       6298.000000\n",
      "75%       8289.500000\n",
      "max      36701.000000\n",
      "Name: MMRAcquisitionAuctionCleanPrice, dtype: float64\n",
      "\n",
      "Kicks mean:  6719.7034249348635\n",
      "Non-Kicks mean:  7558.363167373504\n"
     ]
    },
    {
     "data": {
      "image/png": "[encoded data removed]",
      "text/plain": [
       "<Figure size 432x288 with 1 Axes>"
      ]
     },
     "metadata": {
      "needs_background": "light"
     },
     "output_type": "display_data"
    },
    {
     "data": {
      "image/png": "[encoded data removed]",
      "text/plain": [
       "<Figure size 432x288 with 1 Axes>"
      ]
     },
     "metadata": {
      "needs_background": "light"
     },
     "output_type": "display_data"
    }
   ],
   "source": [
    "col_name = \"MMRAcquisitionAuctionCleanPrice\"\n",
    "kicks = data_raw.loc[data_raw.IsBadBuy == 1, col_name]\n",
    "non_kicks = data_raw.loc[data_raw.IsBadBuy == 0, col_name]\n",
    "dat = data_raw[col_name]\n",
    "mean_ = dat.describe()[\"mean\"]\n",
    "\n",
    "print(kicks.describe())\n",
    "print(\"\")\n",
    "print(\"Kicks mean: \", kicks.mean())\n",
    "print(\"Non-Kicks mean: \", non_kicks.mean())\n",
    "fig = plt.figure()\n",
    "bp = plt.boxplot([kicks, non_kicks, dat], showfliers=False, widths=0.9)\n",
    "plt.xlabel(\"Kicks                 Non-Kicks                 All Data\")\n",
    "plt.show()\n",
    "\n",
    "fig = plt.figure()\n",
    "\n",
    "col_name += \" Mean Comparison\"\n",
    "plt.title(col_name)\n",
    "meanPoint  = plt.scatter(1, mean_, marker='x', color=colors[0])\n",
    "kickPoint  = plt.scatter(1, kicks.mean(), marker='o', color=colors[1])\n",
    "non_kickPoint  = plt.scatter(1, non_kicks.mean(), marker='o', color=colors[2])\n",
    "plt.legend((meanPoint, kickPoint, non_kickPoint), ('meanPoint', 'kickPoint', 'non_kickPoint'))\n",
    "plt.show()"
   ]
  },
  {
   "cell_type": "markdown",
   "metadata": {},
   "source": [
    "<p>As seen above, kicks for the VehBCost attribute price differs from the non-kicks, by having a mean (6256.52) that is higher than the mean for the non-kicks (6804.00) </p>\n",
    "<p>As a rule of thumb - the lower the VehBCost, the more likely it is to be a kick<p>"
   ]
  },
  {
   "cell_type": "markdown",
   "metadata": {},
   "source": [
    "<h2>Task 3.1</h2>"
   ]
  },
  {
   "cell_type": "markdown",
   "metadata": {},
   "source": [
    "<p>Yes there were values that needed to be Imputed. These Columns where:</p>\n",
    "<div style='background: #f4f4f4; border: 1px solid #ddd;border-left: 3px solid #f36d33; color: #665; page-break-inside: avoid;    font-family: monospace;font-size: 15px; line-height: 1.6; margin-bottom: 1.6em;\n",
    "    max-width: 100%;\n",
    "    overflow: auto;\n",
    "    padding: 1em 1.5em;\n",
    "    display: block;\n",
    "    word-wrap: break-word;'>\n",
    "MMRAcquisitionAuctionAveragePrice <br>\n",
    "MMRAcquisitionAuctionCleanPrice<br>\n",
    "MMRAcquisitionRetailAveragePrice<br>\n",
    "MMRAcquisitonRetailCleanPrice<br>\n",
    "MMRCurrentAuctionAveragePrice<br>\n",
    "MMRCurrentAuctionCleanPrice<br>\n",
    "MMRCurrentRetailAveragePrice<br>\n",
    "MMRCurrentRetailCleanPrice<br>\n",
    "MMRCurrentRetailRatio<br>\n",
    "<br>\n",
    "VehOdo<br>\n",
    "VehBCost<br>\n",
    "WarrantyCost<br>\n",
    "Color<br>\n",
    "Auction<br>\n",
    "VehYear<br>\n",
    "Make<br>\n",
    "Auto<br>\n",
    "WheelType<br>\n",
    "Nationality<br>\n",
    "Size<br>\n",
    "TopThreeAmericanName<br>\n",
    "</div>\n"
   ]
  },
  {
   "cell_type": "markdown",
   "metadata": {},
   "source": [
    "<h2>Task 3.2</h2>\n",
    "<p>\n",
    "There were four main transformations done.<br><br>\n",
    "\n",
    "<b>Removing Outliers</b><br>\n",
    "<p>After creating histograms and box plots it was noted that there is severe skew. The first step taken to remove the skew was to remove outliers for all varaibles. These columns were:</p>\n",
    "<div style='background: #f4f4f4; border: 1px solid #ddd;border-left: 3px solid #f36d33; color: #665; page-break-inside: avoid;    font-family: monospace;font-size: 15px; line-height: 1.6; margin-bottom: 1.6em;\n",
    "    max-width: 100%;\n",
    "    overflow: auto;\n",
    "    padding: 1em 1.5em;\n",
    "    display: block;\n",
    "    word-wrap: break-word;'>\n",
    "MMRAcquisitionAuctionCleanPrice<br>\n",
    "MMRAcquisitonRetailCleanPrice<br>\n",
    "MMRCurrentAuctionCleanPrice<br>\n",
    "MMRCurrentRetailCleanPrice<br>\n",
    "VehOdo<br>\n",
    "</div>\n",
    "\n",
    "<b>Sqaure Root Transformations</b><br>\n",
    "After the initial removal of outliers, more box plots and histograms were created. From this it was noted that the \"Auction\" variables still had some skew. To fix this these were transformed using the Sqaur Root of the varaible on the Price variables.\n",
    "<p>Yes there were values that needed to be Imputed. These Columns where:</p>\n",
    "<div style='background: #f4f4f4; border: 1px solid #ddd;border-left: 3px solid #f36d33; color: #665; page-break-inside: avoid;    font-family: monospace;font-size: 15px; line-height: 1.6; margin-bottom: 1.6em;\n",
    "    max-width: 100%;\n",
    "    overflow: auto;\n",
    "    padding: 1em 1.5em;\n",
    "    display: block;\n",
    "    word-wrap: break-word;'>\n",
    "MMRCurrentAuctionCleanPrice<br>\n",
    "MMRCurrentRetailCleanPrice<br>\n",
    "MMRAcquisitionAuctionCleanPrice<br>\n",
    "MMRAcquisitonRetailCleanPrice<br>\n",
    "VehOdo<br>\n",
    "</div>\n",
    "\n",
    "<b>Log Transformations</b><br>\n",
    "<p>some of the varaibles were found to be better suited to a Log transformation. These variables were:</p>\n",
    "<div style='background: #f4f4f4; border: 1px solid #ddd;border-left: 3px solid #f36d33; color: #665; page-break-inside: avoid;    font-family: monospace;font-size: 15px; line-height: 1.6; margin-bottom: 1.6em;\n",
    "    max-width: 100%;\n",
    "    overflow: auto;\n",
    "    padding: 1em 1.5em;\n",
    "    display: block;\n",
    "    word-wrap: break-word;'>\n",
    "VehOdo<br>\n",
    "WarrantyCost<br>\n",
    "</div>\n",
    "\n",
    "<b>Normilising Values</b><br>\n",
    "All the numerical variables were then normalized for consistency.\n",
    "\n",
    "\n",
    "\n",
    "\n"
   ]
  },
  {
   "cell_type": "markdown",
   "metadata": {},
   "source": [
    "<h2>Task 3.3</h2>\n"
   ]
  },
  {
   "cell_type": "code",
   "execution_count": 205,
   "metadata": {},
   "outputs": [],
   "source": [
    "# initialise a standard scaler object\n",
    "model = LogisticRegression(random_state=rs)\n",
    "\n",
    "# fit it to training data\n",
    "model.fit(X_train, y_train)\n",
    "\n",
    "# grid search CV\n",
    "params = {'C': [pow(10, x) for x in range(-6, 4)]}\n",
    "\n",
    "# use all cores to tune logistic regression with C parameter\n",
    "cv = GridSearchCV(param_grid=params, estimator=LogisticRegression(random_state=rs), cv=10, n_jobs=-1)\n",
    "cv.fit(X_train, y_train)\n",
    "model2 = cv.best_estimator_"
   ]
  },
  {
   "cell_type": "markdown",
   "metadata": {},
   "source": [
    "<h3>H: Name the regression function used</h3>"
   ]
  },
  {
   "cell_type": "markdown",
   "metadata": {},
   "source": [
    "<p>LogisticRegression, from the sklearn library</p>"
   ]
  },
  {
   "cell_type": "markdown",
   "metadata": {},
   "source": [
    "<h3>I: How much was the difference in performance of two models build, default\n",
    "and optimal?</h3>"
   ]
  },
  {
   "cell_type": "markdown",
   "metadata": {},
   "source": [
    "<p><b>Standard Model</b></p>"
   ]
  },
  {
   "cell_type": "code",
   "execution_count": 206,
   "metadata": {},
   "outputs": [
    {
     "name": "stdout",
     "output_type": "stream",
     "text": [
      "              precision    recall  f1-score   support\n",
      "\n",
      "           0       0.91      0.63      0.75      7188\n",
      "           1       0.20      0.60      0.30      1070\n",
      "\n",
      "   micro avg       0.63      0.63      0.63      8258\n",
      "   macro avg       0.56      0.62      0.52      8258\n",
      "weighted avg       0.82      0.63      0.69      8258\n",
      "\n",
      "Train accuracy: 0.6297255938510764\n",
      "Test accuracy: 0.6295713247759748\n"
     ]
    }
   ],
   "source": [
    "y_pred = model.predict(X_test)\n",
    "print(classification_report(y_test, y_pred))\n",
    "print(\"Train accuracy:\", model.score(X_train, y_train))\n",
    "print(\"Test accuracy:\", model.score(X_test, y_test))"
   ]
  },
  {
   "cell_type": "markdown",
   "metadata": {},
   "source": [
    "<p><b>Optimised Model</b></p>"
   ]
  },
  {
   "cell_type": "code",
   "execution_count": 207,
   "metadata": {},
   "outputs": [
    {
     "name": "stdout",
     "output_type": "stream",
     "text": [
      "              precision    recall  f1-score   support\n",
      "\n",
      "           0       0.92      0.64      0.75      7188\n",
      "           1       0.20      0.61      0.30      1070\n",
      "\n",
      "   micro avg       0.63      0.63      0.63      8258\n",
      "   macro avg       0.56      0.62      0.52      8258\n",
      "weighted avg       0.82      0.63      0.69      8258\n",
      "\n",
      "Train accuracy: 0.6309602476263346\n",
      "Test accuracy: 0.6321143133930733\n"
     ]
    }
   ],
   "source": [
    "y_pred = model2.predict(X_test)\n",
    "print(classification_report(y_test, y_pred))\n",
    "print(\"Train accuracy:\", model2.score(X_train, y_train))\n",
    "print(\"Test accuracy:\", model2.score(X_test, y_test))"
   ]
  },
  {
   "cell_type": "markdown",
   "metadata": {},
   "source": [
    "<p> Both the test and train accuracy for both models were very similar at roughly 63%</p>"
   ]
  },
  {
   "cell_type": "markdown",
   "metadata": {},
   "source": [
    "<h3>J: Show the set parameters for the best model. What are the parameters used?\n",
    "Explain your decision. What are the optimal parameters?</h3>"
   ]
  },
  {
   "cell_type": "code",
   "execution_count": 208,
   "metadata": {},
   "outputs": [
    {
     "name": "stdout",
     "output_type": "stream",
     "text": [
      "              precision    recall  f1-score   support\n",
      "\n",
      "           0       0.92      0.64      0.75      7188\n",
      "           1       0.20      0.61      0.30      1070\n",
      "\n",
      "   micro avg       0.63      0.63      0.63      8258\n",
      "   macro avg       0.56      0.62      0.52      8258\n",
      "weighted avg       0.82      0.63      0.69      8258\n",
      "\n",
      "{'C': 1000}\n"
     ]
    }
   ],
   "source": [
    "print(classification_report(y_test, y_pred))\n",
    "\n",
    "# print parameters of the best model\n",
    "print(cv.best_params_)"
   ]
  },
  {
   "cell_type": "markdown",
   "metadata": {},
   "source": [
    "We changed the C value to try and intoduce a l2 regularizing factor to regreduce overfitting. We did not change the solver because the default solver (liblinear) is a great solver for small data sets and supports l2 regularizing. "
   ]
  },
  {
   "cell_type": "markdown",
   "metadata": {},
   "source": [
    "<h3>K: Report which variables are included in the regression model.</h3>"
   ]
  },
  {
   "cell_type": "code",
   "execution_count": 209,
   "metadata": {},
   "outputs": [
    {
     "name": "stdout",
     "output_type": "stream",
     "text": [
      "Make_VOLVO : -11.02950900810058\n",
      "MMRAcquisitonRetailCleanPrice : 7.154264685735614\n",
      "MMRAcquisitionAuctionCleanPrice : -5.328262386461647\n",
      "MMRCurrentRetailCleanPrice : -4.946703225908925\n",
      "Make_VOLKSWAGEN : -4.929913710764012\n"
     ]
    }
   ],
   "source": [
    "# grab feature importances from the model and feature name from the original X\n",
    "coef = model2.coef_[0]\n",
    "\n",
    "# sort them out in descending order\n",
    "indices = np.argsort(np.absolute(coef))\n",
    "indices = np.flip(indices, axis=0)\n",
    "\n",
    "# limit to 5 features, you can leave this out to print out everything\n",
    "num_features = 5\n",
    "indices = indices[:num_features]\n",
    "\n",
    "for i in indices:\n",
    "    print(feature_names[i], ':', coef[i])"
   ]
  },
  {
   "cell_type": "markdown",
   "metadata": {},
   "source": [
    "We included all that weren't dropped initially - see prerpocessing step"
   ]
  },
  {
   "cell_type": "markdown",
   "metadata": {},
   "source": [
    "<h3>L: Report the top-5 important variables (in the order) in the model.</h3>"
   ]
  },
  {
   "cell_type": "code",
   "execution_count": 210,
   "metadata": {},
   "outputs": [
    {
     "name": "stdout",
     "output_type": "stream",
     "text": [
      "Make_VOLVO : -11.02950900810058\n",
      "MMRAcquisitonRetailCleanPrice : 7.154264685735614\n",
      "MMRAcquisitionAuctionCleanPrice : -5.328262386461647\n",
      "MMRCurrentRetailCleanPrice : -4.946703225908925\n",
      "Make_VOLKSWAGEN : -4.929913710764012\n"
     ]
    }
   ],
   "source": [
    "# grab feature importances from the model and feature name from the original X\n",
    "coef = model2.coef_[0]\n",
    "\n",
    "# sort them out in descending order\n",
    "indices = np.argsort(np.absolute(coef))\n",
    "indices = np.flip(indices, axis=0)\n",
    "\n",
    "# limit to 5 features, you can leave this out to print out everything\n",
    "num_features = 5\n",
    "indices = indices[:num_features]\n",
    "\n",
    "for i in indices:\n",
    "    print(feature_names[i], ':', coef[i])"
   ]
  },
  {
   "cell_type": "markdown",
   "metadata": {},
   "source": [
    "<h3>M: What is classification accuracy on training and test datasets?</h3>"
   ]
  },
  {
   "cell_type": "code",
   "execution_count": 211,
   "metadata": {},
   "outputs": [
    {
     "name": "stdout",
     "output_type": "stream",
     "text": [
      "Accuracy for the best performing model on test and train\n",
      "Train accuracy: 0.6309602476263346\n",
      "Test accuracy: 0.6321143133930733\n"
     ]
    }
   ],
   "source": [
    "print(\"Accuracy for the best performing model on test and train\")\n",
    "print(\"Train accuracy:\", model2.score(X_train, y_train))\n",
    "print(\"Test accuracy:\", model2.score(X_test, y_test))"
   ]
  },
  {
   "cell_type": "markdown",
   "metadata": {},
   "source": [
    "<h3>N: Report any sign of overfitting</h3>"
   ]
  },
  {
   "cell_type": "code",
   "execution_count": 212,
   "metadata": {},
   "outputs": [
    {
     "data": {
      "image/png": "[encoded data removed]",
      "text/plain": [
       "<Figure size 432x288 with 1 Axes>"
      ]
     },
     "metadata": {
      "needs_background": "light"
     },
     "output_type": "display_data"
    }
   ],
   "source": [
    "test_score = []\n",
    "train_score = []\n",
    "\n",
    "range_ = [pow(10, x) for x in range(-2, 4)]\n",
    "\n",
    "for i in range_:\n",
    "    model = LogisticRegression(random_state=rs, C=i)\n",
    "    model.fit(X_train, y_train)\n",
    "    \n",
    "    test_score.append(model.score(X_test, y_test))\n",
    "    train_score.append(model.score(X_train, y_train))\n",
    "\n",
    "plt.plot(range_, train_score, 'b', range_, test_score, 'r')\n",
    "plt.xlabel('Regularization Term\\nBlue = training acc. Red = test acc.')\n",
    "plt.ylabel('accuracy')\n",
    "plt.title('Regularization Term')\n",
    "plt.show()"
   ]
  },
  {
   "cell_type": "markdown",
   "metadata": {},
   "source": [
    "We do not have overfitting, this model is under fitting"
   ]
  },
  {
   "cell_type": "markdown",
   "metadata": {},
   "source": [
    "<h2>Task 3.4</h2>"
   ]
  },
  {
   "cell_type": "code",
   "execution_count": 213,
   "metadata": {},
   "outputs": [
    {
     "data": {
      "text/plain": [
       "RFECV(cv=10,\n",
       "   estimator=LogisticRegression(C=1.0, class_weight=None, dual=False, fit_intercept=True,\n",
       "          intercept_scaling=1, max_iter=100, multi_class='warn',\n",
       "          n_jobs=None, penalty='l2', random_state=10, solver='warn',\n",
       "          tol=0.0001, verbose=0, warm_start=False),\n",
       "   min_features_to_select=1, n_jobs=None, scoring=None, step=1, verbose=0)"
      ]
     },
     "execution_count": 213,
     "metadata": {},
     "output_type": "execute_result"
    }
   ],
   "source": [
    "rfe = RFECV(estimator = LogisticRegression(random_state=rs), cv=10)\n",
    "rfe.fit(X_train, y_train) # run the RFECV"
   ]
  },
  {
   "cell_type": "markdown",
   "metadata": {},
   "source": [
    "<h3>A: Report which variables are included in the regression model</h3>"
   ]
  },
  {
   "cell_type": "code",
   "execution_count": 214,
   "metadata": {},
   "outputs": [
    {
     "name": "stdout",
     "output_type": "stream",
     "text": [
      "Original feature set 93\n",
      "Number of features after elimination 56\n",
      "The columns selected by rfe is/are \n",
      "VehOdo\n",
      "MMRAcquisitionAuctionCleanPrice\n",
      "MMRAcquisitonRetailCleanPrice\n",
      "MMRCurrentAuctionCleanPrice\n",
      "MMRCurrentRetailCleanPrice\n",
      "MMRCurrentRetailRatio\n",
      "VehBCost\n",
      "Auction_ADESA\n",
      "Auction_OTHER\n",
      "Make_ACURA\n",
      "Make_BUICK\n",
      "Make_CADILLAC\n",
      "Make_CHEVROLET\n",
      "Make_CHRYSLER\n",
      "Make_DODGE\n",
      "Make_FORD\n",
      "Make_HONDA\n",
      "Make_HYUNDAI\n",
      "Make_INFINITI\n",
      "Make_ISUZU\n",
      "Make_JEEP\n",
      "Make_KIA\n",
      "Make_LEXUS\n",
      "Make_MAZDA\n",
      "Make_MERCURY\n",
      "Make_MINI\n",
      "Make_MITSUBISHI\n",
      "Make_NISSAN\n",
      "Make_OLDSMOBILE\n",
      "Make_PONTIAC\n",
      "Make_SATURN\n",
      "Make_SCION\n",
      "Make_TOYOTA\n",
      "Make_VOLVO\n",
      "Color_BROWN\n",
      "Color_OTHER\n",
      "Color_PURPLE\n",
      "VehYear_2001.0\n",
      "VehYear_2002.0\n",
      "VehYear_2003.0\n",
      "VehYear_2004.0\n",
      "VehYear_2006.0\n",
      "VehYear_2007.0\n",
      "VehYear_2008.0\n",
      "VehYear_2009.0\n",
      "VehYear_2010.0\n",
      "Nationality_TOP LINE ASIAN\n",
      "Size_COMPACT\n",
      "Size_SMALL\n",
      "Size_SPORTS\n",
      "Body_SUV\n",
      "TopThreeAmericanName_CHRYSLER\n",
      "TopThreeAmericanName_FORD\n",
      "TopThreeAmericanName_GM\n",
      "TopThreeAmericanName_OTHER\n"
     ]
    }
   ],
   "source": [
    "# comparing how many variables before and after\n",
    "print(\"Original feature set\", X_train.shape[1])\n",
    "print(\"Number of features after elimination\", rfe.n_features_)\n",
    "\n",
    "X_train_sel = rfe.transform(X_train)\n",
    "X_test_sel = rfe.transform(X_test)\n",
    "\n",
    "print(\"The columns selected by rfe is/are \")\n",
    "for i in range(1, len(list(X.columns[rfe.get_support(indices=True)]))):\n",
    "    print(list(X.columns[rfe.get_support(indices=True)])[i])"
   ]
  },
  {
   "cell_type": "markdown",
   "metadata": {},
   "source": [
    "<h3>B: Report the top-5 important variables (in the order) in the model.</h3>"
   ]
  },
  {
   "cell_type": "code",
   "execution_count": 215,
   "metadata": {},
   "outputs": [
    {
     "name": "stdout",
     "output_type": "stream",
     "text": [
      "{'C': 1}\n",
      "Auto : 0.43416617996601187\n",
      "VehOdo : 0.48132037210804357\n",
      "MMRAcquisitionAuctionCleanPrice : -3.5957564769715558\n",
      "MMRAcquisitonRetailCleanPrice : 5.7057805984257\n",
      "MMRCurrentAuctionCleanPrice : 3.061346650302958\n"
     ]
    }
   ],
   "source": [
    "# Make another model to extract valueable info\n",
    "# Get best params\n",
    "params = {'C': [pow(10, x) for x in range(-4, 1)]}\n",
    "cvRFE = GridSearchCV(param_grid=params, estimator=LogisticRegression(random_state=rs), cv=10, n_jobs=-1)\n",
    "cvRFE.fit(X_train_sel, y_train)\n",
    "print(cvRFE.best_params_)\n",
    "\n",
    "# Get coefs\n",
    "coefLG = cvRFE.best_estimator_.coef_[0]\n",
    "# limit to 5 features, you can comment the following line to print out everything\n",
    "coefLG = coefLG[:5]\n",
    "\n",
    "for i in range(len(coefLG)):\n",
    "    print(feature_names[i], ':', coefLG[i])"
   ]
  },
  {
   "cell_type": "markdown",
   "metadata": {},
   "source": [
    "<h3>C: What are the parameters are used and which are optimal?</h3>"
   ]
  },
  {
   "cell_type": "markdown",
   "metadata": {},
   "source": [
    "RFECV only used one parameter, which was the logistic regression estimator. We then passed the best features to a gridsearch, finding a C value of 1 was best"
   ]
  },
  {
   "cell_type": "markdown",
   "metadata": {},
   "source": [
    "<h3>D: Report any signs of overfitting.</h3>"
   ]
  },
  {
   "cell_type": "code",
   "execution_count": 216,
   "metadata": {},
   "outputs": [
    {
     "data": {
      "image/png": "[encoded data removed]",
      "text/plain": [
       "<Figure size 432x288 with 1 Axes>"
      ]
     },
     "metadata": {
      "needs_background": "light"
     },
     "output_type": "display_data"
    }
   ],
   "source": [
    "test_score = []\n",
    "train_score = []\n",
    "\n",
    "range_ = [pow(10, x) for x in range(-4, 2)]\n",
    "\n",
    "for i in range_:\n",
    "    model = LogisticRegression(random_state=rs, C=i)\n",
    "    model.fit(X_train_sel, y_train)\n",
    "    \n",
    "    test_score.append(model.score(X_test_sel, y_test))\n",
    "    train_score.append(model.score(X_train_sel, y_train))\n",
    "\n",
    "plt.plot(range_, train_score, 'b', range_, test_score, 'r')\n",
    "plt.xlabel('Regularization Term\\nBlue = training acc. Red = test acc.')\n",
    "plt.ylabel('accuracy')\n",
    "plt.title('Regularization Term')\n",
    "plt.show()"
   ]
  },
  {
   "cell_type": "markdown",
   "metadata": {},
   "source": [
    "The model is neither over or under fitting"
   ]
  },
  {
   "cell_type": "markdown",
   "metadata": {},
   "source": [
    "<h3>E: What is classification accuracy on training and test datasets?</h3>"
   ]
  },
  {
   "cell_type": "code",
   "execution_count": 217,
   "metadata": {},
   "outputs": [
    {
     "name": "stdout",
     "output_type": "stream",
     "text": [
      "Accuracy for the best performing model on test and train\n",
      "Train accuracy: 0.6298299307898306\n",
      "Test accuracy: 0.630418987648341\n"
     ]
    }
   ],
   "source": [
    "model = LogisticRegression(random_state=rs, C=1)\n",
    "model.fit(X_train_sel, y_train)\n",
    "\n",
    "print(\"Accuracy for the best performing model on test and train\")\n",
    "print(\"Train accuracy:\", model.score(X_train_sel, y_train))\n",
    "print(\"Test accuracy:\", model.score(X_test_sel, y_test))"
   ]
  },
  {
   "cell_type": "markdown",
   "metadata": {},
   "source": [
    "<h3>F: Did it improve/worsen the performance?</h3>"
   ]
  },
  {
   "cell_type": "markdown",
   "metadata": {},
   "source": [
    "The perfomance did not noticable change, with the improved accuracy still around the same as the previous at 63%."
   ]
  },
  {
   "cell_type": "markdown",
   "metadata": {},
   "source": [
    "<h2>Task 3.5</h2>"
   ]
  },
  {
   "cell_type": "markdown",
   "metadata": {},
   "source": [
    "<h3>MMRCurrentAuctionPrice (Clean or Average)</h3>"
   ]
  },
  {
   "cell_type": "code",
   "execution_count": 218,
   "metadata": {},
   "outputs": [
    {
     "name": "stdout",
     "output_type": "stream",
     "text": [
      "count     5371.000000\n",
      "mean      6709.345284\n",
      "std       2864.711727\n",
      "min          1.000000\n",
      "25%       4585.000000\n",
      "50%       6252.000000\n",
      "75%       8305.000000\n",
      "max      36478.000000\n",
      "Name: MMRCurrentAuctionCleanPrice, dtype: float64\n",
      "\n",
      "Kicks mean:  6709.345284139646\n",
      "Non-Kicks mean:  7546.775017579977\n"
     ]
    },
    {
     "data": {
      "image/png": "[encoded data removed]",
      "text/plain": [
       "<Figure size 432x288 with 1 Axes>"
      ]
     },
     "metadata": {
      "needs_background": "light"
     },
     "output_type": "display_data"
    },
    {
     "data": {
      "image/png": "[encoded data removed]",
      "text/plain": [
       "<Figure size 432x288 with 1 Axes>"
      ]
     },
     "metadata": {
      "needs_background": "light"
     },
     "output_type": "display_data"
    }
   ],
   "source": [
    "colors = ['b', 'r', 'g']\n",
    "\n",
    "col_name = \"MMRCurrentAuctionCleanPrice\"\n",
    "kicks = data_raw.loc[data_raw.IsBadBuy == 1, col_name]\n",
    "non_kicks = data_raw.loc[data_raw.IsBadBuy == 0, col_name]\n",
    "dat = data_raw[col_name]\n",
    "mean_ = dat.describe()[\"mean\"]\n",
    "\n",
    "print(kicks.describe())\n",
    "print(\"\")\n",
    "print(\"Kicks mean: \", kicks.mean())\n",
    "print(\"Non-Kicks mean: \", non_kicks.mean())\n",
    "fig = plt.figure()\n",
    "bp = plt.boxplot([kicks, non_kicks, dat], showfliers=False, widths=0.9)\n",
    "plt.xlabel(\"Kicks                 Non-Kicks                 All Data\")\n",
    "plt.show()\n",
    "\n",
    "fig = plt.figure()\n",
    "\n",
    "col_name += \" Mean Comparison\"\n",
    "plt.title(col_name)\n",
    "meanPoint  = plt.scatter(1, mean_, marker='x', color=colors[0])\n",
    "kickPoint  = plt.scatter(1, kicks.mean(), marker='o', color=colors[1])\n",
    "non_kickPoint  = plt.scatter(1, non_kicks.mean(), marker='o', color=colors[2])\n",
    "plt.legend((meanPoint, kickPoint, non_kickPoint), ('meanPoint', 'kickPoint', 'non_kickPoint'))\n",
    "plt.show()\n"
   ]
  },
  {
   "cell_type": "markdown",
   "metadata": {},
   "source": [
    "<i>Description</i>\n",
    "<p>As seen above, kicks for the MMRCurrentAuction attribute price differs from the non-kicks by having a mean (6709.34) that is lower than the mean for the non-kicks (7546.77) </p>\n",
    "<p>As a rule of thumb - the <b>lower</b> the MMRCurrentAuction, the more likely it is to be a kick</p>"
   ]
  },
  {
   "cell_type": "markdown",
   "metadata": {},
   "source": [
    "<h3>VehOdo</h3>"
   ]
  },
  {
   "cell_type": "code",
   "execution_count": 219,
   "metadata": {},
   "outputs": [
    {
     "name": "stdout",
     "output_type": "stream",
     "text": [
      "count      5371.000000\n",
      "mean      74328.853856\n",
      "std       14259.635526\n",
      "min        4825.000000\n",
      "25%       65226.500000\n",
      "50%       76390.000000\n",
      "75%       84687.500000\n",
      "max      115717.000000\n",
      "Name: VehOdo, dtype: float64\n",
      "\n",
      "Kicks mean:  74328.85385636946\n",
      "Non-Kicks mean:  70849.43798355399\n"
     ]
    },
    {
     "data": {
      "image/png": "[encoded data removed]",
      "text/plain": [
       "<Figure size 432x288 with 1 Axes>"
      ]
     },
     "metadata": {
      "needs_background": "light"
     },
     "output_type": "display_data"
    },
    {
     "data": {
      "image/png": "[encoded data removed]",
      "text/plain": [
       "<Figure size 432x288 with 1 Axes>"
      ]
     },
     "metadata": {
      "needs_background": "light"
     },
     "output_type": "display_data"
    }
   ],
   "source": [
    "col_name = \"VehOdo\"\n",
    "kicks = data_raw.loc[data_raw.IsBadBuy == 1, col_name]\n",
    "non_kicks = data_raw.loc[data_raw.IsBadBuy == 0, col_name]\n",
    "dat = data_raw[col_name]\n",
    "mean_ = dat.describe()[\"mean\"]\n",
    "\n",
    "print(kicks.describe())\n",
    "print(\"\")\n",
    "print(\"Kicks mean: \", kicks.mean())\n",
    "print(\"Non-Kicks mean: \", non_kicks.mean())\n",
    "fig = plt.figure()\n",
    "bp = plt.boxplot([kicks, non_kicks, dat], showfliers=False, widths=0.9)\n",
    "plt.xlabel(\"Kicks                 Non-Kicks                 All Data\")\n",
    "plt.show()\n",
    "\n",
    "fig = plt.figure()\n",
    "\n",
    "col_name += \" Mean Comparison\"\n",
    "plt.title(col_name)\n",
    "meanPoint  = plt.scatter(1, mean_, marker='x', color=colors[0])\n",
    "kickPoint  = plt.scatter(1, kicks.mean(), marker='o', color=colors[1])\n",
    "non_kickPoint  = plt.scatter(1, non_kicks.mean(), marker='o', color=colors[2])\n",
    "plt.legend((meanPoint, kickPoint, non_kickPoint), ('meanPoint', 'kickPoint', 'non_kickPoint'))\n",
    "plt.show()\n"
   ]
  },
  {
   "cell_type": "markdown",
   "metadata": {},
   "source": [
    "<p>As seen above, kicks for the VehOdo attribute price differs from the non-kicks by having a mean (74328.85) that is higher than the mean for the non-kicks (70849.43) </p>\n",
    "<p>As a rule of thumb - the <b>higher</b> the VehOdo, the more likely it is to be a kick</p>"
   ]
  },
  {
   "cell_type": "markdown",
   "metadata": {},
   "source": [
    "<h3>MMRCurrentRetailRatio</h3>"
   ]
  },
  {
   "cell_type": "code",
   "execution_count": 220,
   "metadata": {},
   "outputs": [
    {
     "name": "stdout",
     "output_type": "stream",
     "text": [
      "count    5371.000000\n",
      "mean        0.844177\n",
      "std         0.053817\n",
      "min         0.358071\n",
      "25%         0.811476\n",
      "50%         0.849511\n",
      "75%         0.881650\n",
      "max         0.982550\n",
      "Name: MMRCurrentRetailRatio, dtype: float64\n",
      "\n",
      "Kicks mean:  0.8441765533803434\n",
      "Non-Kicks mean:  0.8588678360941439\n"
     ]
    },
    {
     "data": {
      "image/png": "[encoded data removed]",
      "text/plain": [
       "<Figure size 432x288 with 1 Axes>"
      ]
     },
     "metadata": {
      "needs_background": "light"
     },
     "output_type": "display_data"
    },
    {
     "data": {
      "image/png": "[encoded data removed]",
      "text/plain": [
       "<Figure size 432x288 with 1 Axes>"
      ]
     },
     "metadata": {
      "needs_background": "light"
     },
     "output_type": "display_data"
    }
   ],
   "source": [
    "col_name = \"MMRCurrentRetailRatio\"\n",
    "kicks = data_raw.loc[data_raw.IsBadBuy == 1, col_name]\n",
    "non_kicks = data_raw.loc[data_raw.IsBadBuy == 0, col_name]\n",
    "dat = data_raw[col_name]\n",
    "mean_ = dat.describe()[\"mean\"]\n",
    "\n",
    "print(kicks.describe())\n",
    "print(\"\")\n",
    "print(\"Kicks mean: \", kicks.mean())\n",
    "print(\"Non-Kicks mean: \", non_kicks.mean())\n",
    "fig = plt.figure()\n",
    "bp = plt.boxplot([kicks, non_kicks, dat], showfliers=False, widths=0.9)\n",
    "plt.xlabel(\"Kicks                 Non-Kicks                 All Data\")\n",
    "plt.show()\n",
    "\n",
    "fig = plt.figure()\n",
    "\n",
    "col_name += \" Mean Comparison\"\n",
    "plt.title(col_name)\n",
    "meanPoint  = plt.scatter(1, mean_, marker='x', color=colors[0])\n",
    "kickPoint  = plt.scatter(1, kicks.mean(), marker='o', color=colors[1])\n",
    "non_kickPoint  = plt.scatter(1, non_kicks.mean(), marker='o', color=colors[2])\n",
    "plt.legend((meanPoint, kickPoint, non_kickPoint), ('meanPoint', 'kickPoint', 'non_kickPoint'))\n",
    "plt.show()\n"
   ]
  },
  {
   "cell_type": "markdown",
   "metadata": {},
   "source": [
    "<p>As seen above, kicks for the MMRCurrentRetailRatio attribute price differs from the non-kicks by having a mean (0.8441) that is higher than the mean for the non-kicks (0.8588) </p>\n",
    "<p>As a rule of thumb - the <b>lower</b> the MMRCurrentRetailRatio, the more likely it is to be a kick</p>"
   ]
  },
  {
   "cell_type": "markdown",
   "metadata": {},
   "source": [
    "<h3>VehBCost</h3>"
   ]
  },
  {
   "cell_type": "code",
   "execution_count": 221,
   "metadata": {},
   "outputs": [
    {
     "name": "stdout",
     "output_type": "stream",
     "text": [
      "count     5371.000000\n",
      "mean      6256.526621\n",
      "std       2101.210580\n",
      "min        225.000000\n",
      "25%       4745.000000\n",
      "50%       5990.000000\n",
      "75%       7532.500000\n",
      "max      45469.000000\n",
      "Name: VehBCost, dtype: float64\n",
      "\n",
      "Kicks mean:  6256.526620914421\n",
      "Non-Kicks mean:  6804.004359322234\n"
     ]
    },
    {
     "data": {
      "image/png": "[encoded data removed]",
      "text/plain": [
       "<Figure size 432x288 with 1 Axes>"
      ]
     },
     "metadata": {
      "needs_background": "light"
     },
     "output_type": "display_data"
    },
    {
     "data": {
      "image/png": "[encoded data removed]",
      "text/plain": [
       "<Figure size 432x288 with 1 Axes>"
      ]
     },
     "metadata": {
      "needs_background": "light"
     },
     "output_type": "display_data"
    }
   ],
   "source": [
    "col_name = \"VehBCost\"\n",
    "kicks = data_raw.loc[data_raw.IsBadBuy == 1, col_name]\n",
    "non_kicks = data_raw.loc[data_raw.IsBadBuy == 0, col_name]\n",
    "dat = data_raw[col_name]\n",
    "mean_ = dat.describe()[\"mean\"]\n",
    "\n",
    "print(kicks.describe())\n",
    "print(\"\")\n",
    "print(\"Kicks mean: \", kicks.mean())\n",
    "print(\"Non-Kicks mean: \", non_kicks.mean())\n",
    "fig = plt.figure()\n",
    "bp = plt.boxplot([kicks, non_kicks, dat], showfliers=False, widths=0.9)\n",
    "plt.xlabel(\"Kicks                 Non-Kicks                 All Data\")\n",
    "plt.show()\n",
    "\n",
    "fig = plt.figure()\n",
    "\n",
    "col_name += \" Mean Comparison\"\n",
    "plt.title(col_name)\n",
    "meanPoint  = plt.scatter(1, mean_, marker='x', color=colors[0])\n",
    "kickPoint  = plt.scatter(1, kicks.mean(), marker='o', color=colors[1])\n",
    "non_kickPoint  = plt.scatter(1, non_kicks.mean(), marker='o', color=colors[2])\n",
    "plt.legend((meanPoint, kickPoint, non_kickPoint), ('meanPoint', 'kickPoint', 'non_kickPoint'))\n",
    "plt.show()\n"
   ]
  },
  {
   "cell_type": "markdown",
   "metadata": {},
   "source": [
    "<p>As seen above, kicks for the VehBCost attribute price differs from the non-kicks, by having a mean (6256.52) that is higher than the mean for the non-kicks (6804.00) </p>\n",
    "<p>As a rule of thumb - the lower the VehBCost, the more likely it is to be a kick<p>"
   ]
  },
  {
   "cell_type": "markdown",
   "metadata": {},
   "source": [
    "<h3>MMRAcquisitionAuctionCleanPrice</h3>"
   ]
  },
  {
   "cell_type": "code",
   "execution_count": 222,
   "metadata": {},
   "outputs": [
    {
     "name": "stdout",
     "output_type": "stream",
     "text": [
      "count     5371.000000\n",
      "mean      6719.703425\n",
      "std       2899.705472\n",
      "min          1.000000\n",
      "25%       4568.500000\n",
      "50%       6298.000000\n",
      "75%       8289.500000\n",
      "max      36701.000000\n",
      "Name: MMRAcquisitionAuctionCleanPrice, dtype: float64\n",
      "\n",
      "Kicks mean:  6719.7034249348635\n",
      "Non-Kicks mean:  7558.363167373504\n"
     ]
    },
    {
     "data": {
      "image/png": "[encoded data removed]",
      "text/plain": [
       "<Figure size 432x288 with 1 Axes>"
      ]
     },
     "metadata": {
      "needs_background": "light"
     },
     "output_type": "display_data"
    },
    {
     "data": {
      "image/png": "[encoded data removed]",
      "text/plain": [
       "<Figure size 432x288 with 1 Axes>"
      ]
     },
     "metadata": {
      "needs_background": "light"
     },
     "output_type": "display_data"
    }
   ],
   "source": [
    "col_name = \"MMRAcquisitionAuctionCleanPrice\"\n",
    "kicks = data_raw.loc[data_raw.IsBadBuy == 1, col_name]\n",
    "non_kicks = data_raw.loc[data_raw.IsBadBuy == 0, col_name]\n",
    "dat = data_raw[col_name]\n",
    "mean_ = dat.describe()[\"mean\"]\n",
    "\n",
    "print(kicks.describe())\n",
    "print(\"\")\n",
    "print(\"Kicks mean: \", kicks.mean())\n",
    "print(\"Non-Kicks mean: \", non_kicks.mean())\n",
    "fig = plt.figure()\n",
    "bp = plt.boxplot([kicks, non_kicks, dat], showfliers=False, widths=0.9)\n",
    "plt.xlabel(\"Kicks                 Non-Kicks                 All Data\")\n",
    "plt.show()\n",
    "\n",
    "fig = plt.figure()\n",
    "\n",
    "col_name += \" Mean Comparison\"\n",
    "plt.title(col_name)\n",
    "meanPoint  = plt.scatter(1, mean_, marker='x', color=colors[0])\n",
    "kickPoint  = plt.scatter(1, kicks.mean(), marker='o', color=colors[1])\n",
    "non_kickPoint  = plt.scatter(1, non_kicks.mean(), marker='o', color=colors[2])\n",
    "plt.legend((meanPoint, kickPoint, non_kickPoint), ('meanPoint', 'kickPoint', 'non_kickPoint'))\n",
    "plt.show()\n"
   ]
  },
  {
   "cell_type": "markdown",
   "metadata": {},
   "source": [
    "<p>As seen above, kicks for the VehBCost attribute price differs from the non-kicks, by having a mean (6256.52) that is higher than the mean for the non-kicks (6804.00) </p>\n",
    "<p>As a rule of thumb - the lower the VehBCost, the more likely it is to be a kick<p>"
   ]
  },
  {
   "cell_type": "markdown",
   "metadata": {},
   "source": [
    "<h2>Task 4.1</h2>"
   ]
  },
  {
   "cell_type": "code",
   "execution_count": 223,
   "metadata": {},
   "outputs": [],
   "source": [
    "model = MLPClassifier(random_state=rs) # Define the model\n",
    "model.fit(X_train, y_train) # Fit it\n",
    "y_pred = model.predict(X_test)"
   ]
  },
  {
   "cell_type": "markdown",
   "metadata": {},
   "source": [
    "<h3>A: What is the network architecture?</h3>"
   ]
  },
  {
   "cell_type": "code",
   "execution_count": 224,
   "metadata": {},
   "outputs": [
    {
     "name": "stdout",
     "output_type": "stream",
     "text": [
      "The neural network has  3  layers\n",
      "and  100  nodes per layer\n"
     ]
    }
   ],
   "source": [
    "print(\"The neural network has \", model.n_layers_, \" layers\")\n",
    "print(\"and \", model.hidden_layer_sizes[0], \" nodes per layer\")"
   ]
  },
  {
   "cell_type": "markdown",
   "metadata": {},
   "source": [
    "<h3>B: How many iterations are needed to train this network?</h3>"
   ]
  },
  {
   "cell_type": "code",
   "execution_count": 225,
   "metadata": {},
   "outputs": [
    {
     "name": "stdout",
     "output_type": "stream",
     "text": [
      "The model has ran through  200  iterations\n"
     ]
    }
   ],
   "source": [
    "print(\"The model has ran through \", model.n_iter_, \" iterations\")"
   ]
  },
  {
   "cell_type": "markdown",
   "metadata": {},
   "source": [
    "<h3>C: Do you see any sign of over-fitting?</h3>"
   ]
  },
  {
   "cell_type": "code",
   "execution_count": 226,
   "metadata": {},
   "outputs": [
    {
     "data": {
      "image/png": "[encoded data removed]",
      "text/plain": [
       "<Figure size 432x288 with 1 Axes>"
      ]
     },
     "metadata": {
      "needs_background": "light"
     },
     "output_type": "display_data"
    }
   ],
   "source": [
    "test_score = []\n",
    "train_score = []\n",
    "\n",
    "range_ = range(1, 100, 20)\n",
    "\n",
    "for i in range_:\n",
    "    model = MLPClassifier(hidden_layer_sizes = i, random_state=rs)\n",
    "    model.fit(X_train, y_train)\n",
    "    \n",
    "    test_score.append(model.score(X_test, y_test))\n",
    "    train_score.append(model.score(X_train, y_train))\n",
    "\n",
    "plt.plot(range_, train_score, 'b', range_, test_score, 'r')\n",
    "plt.xlabel('Layer Size\\nBlue = training acc. Red = test acc.')\n",
    "plt.ylabel('accuracy')\n",
    "plt.ylim(0, 1)\n",
    "plt.title('Layer Size')\n",
    "plt.show()"
   ]
  },
  {
   "cell_type": "markdown",
   "metadata": {},
   "source": [
    "There is a small amount of overfitting, the training accuracy is just above the test accuracy. "
   ]
  },
  {
   "cell_type": "markdown",
   "metadata": {},
   "source": [
    "<h3>D: Did the training process converge and resulted in the best model?</h3>"
   ]
  },
  {
   "cell_type": "markdown",
   "metadata": {},
   "source": [
    "No, as seen in graph above, the model starts to converge, but then diverges. "
   ]
  },
  {
   "cell_type": "markdown",
   "metadata": {},
   "source": [
    "<h3>E: What is classification accuracy on training and test datasets?</h3>"
   ]
  },
  {
   "cell_type": "code",
   "execution_count": 227,
   "metadata": {},
   "outputs": [
    {
     "name": "stdout",
     "output_type": "stream",
     "text": [
      "Train accuracy: 0.8356519319723159\n",
      "Test accuracy: 0.6918139985468637\n",
      "              precision    recall  f1-score   support\n",
      "\n",
      "           0       0.89      0.71      0.79      7188\n",
      "           1       0.18      0.41      0.25      1070\n",
      "\n",
      "   micro avg       0.68      0.68      0.68      8258\n",
      "   macro avg       0.53      0.56      0.52      8258\n",
      "weighted avg       0.80      0.68      0.72      8258\n",
      "\n"
     ]
    }
   ],
   "source": [
    "print(\"Train accuracy:\", model.score(X_train, y_train))\n",
    "print(\"Test accuracy:\", model.score(X_test, y_test))\n",
    "print(classification_report(y_test, y_pred))"
   ]
  },
  {
   "cell_type": "markdown",
   "metadata": {},
   "source": [
    "<h2>Task 4.2</h2>"
   ]
  },
  {
   "cell_type": "code",
   "execution_count": 228,
   "metadata": {},
   "outputs": [],
   "source": [
    "# Use GCV and change the no. of hidden nodes\n",
    "params = {'hidden_layer_sizes': [(x,) for x in range(2, 7)], 'alpha': [pow(10, x) for x in range(-6, 2)]}\n",
    "cv = GridSearchCV(param_grid=params, estimator=MLPClassifier(random_state=rs), cv=10, n_jobs=-1)\n",
    "cv.fit(X_train, y_train)\n",
    "y_pred = cv.predict(X_test)"
   ]
  },
  {
   "cell_type": "markdown",
   "metadata": {},
   "source": [
    "<h3>A: What is the network architecture?</h3>"
   ]
  },
  {
   "cell_type": "code",
   "execution_count": 229,
   "metadata": {},
   "outputs": [
    {
     "name": "stdout",
     "output_type": "stream",
     "text": [
      "The neural network has  3  layers\n",
      "and  6  nodes per layer\n",
      "and  1e-06  alpha\n"
     ]
    }
   ],
   "source": [
    "print(\"The neural network has \", cv.best_estimator_.n_layers_, \" layers\")\n",
    "print(\"and \", cv.best_estimator_.hidden_layer_sizes[0], \" nodes per layer\")\n",
    "print(\"and \", cv.best_estimator_.alpha, \" alpha\")"
   ]
  },
  {
   "cell_type": "markdown",
   "metadata": {},
   "source": [
    "<h3>B: How many iterations are needed to train this network?</h3>"
   ]
  },
  {
   "cell_type": "code",
   "execution_count": 230,
   "metadata": {},
   "outputs": [
    {
     "name": "stdout",
     "output_type": "stream",
     "text": [
      "The model has ran through  147  iterations\n"
     ]
    }
   ],
   "source": [
    "print(\"The model has ran through \", cv.best_estimator_.n_iter_, \" iterations\")"
   ]
  },
  {
   "cell_type": "markdown",
   "metadata": {},
   "source": [
    "<h3>C: Do you see any sign of over-fitting?</h3>"
   ]
  },
  {
   "cell_type": "code",
   "execution_count": 231,
   "metadata": {},
   "outputs": [
    {
     "data": {
      "image/png": "[encoded data removed]",
      "text/plain": [
       "<Figure size 432x288 with 1 Axes>"
      ]
     },
     "metadata": {
      "needs_background": "light"
     },
     "output_type": "display_data"
    }
   ],
   "source": [
    "test_score = []\n",
    "train_score = []\n",
    "\n",
    "range_ = range(1, 200, 50)\n",
    "\n",
    "for i in range_:\n",
    "    model = MLPClassifier(hidden_layer_sizes=i, alpha=0.01, random_state=rs)\n",
    "    model.fit(X_train, y_train)\n",
    "    \n",
    "    test_score.append(model.score(X_test, y_test))\n",
    "    train_score.append(model.score(X_train, y_train))\n",
    "\n",
    "plt.plot(range_, train_score, 'b', range_, test_score, 'r')\n",
    "plt.xlabel('Layer Size\\nBlue = training acc. Red = test acc.')\n",
    "plt.ylabel('accuracy')\n",
    "plt.ylim(0, 1)\n",
    "plt.title('Layer Size')\n",
    "plt.show()"
   ]
  },
  {
   "cell_type": "markdown",
   "metadata": {},
   "source": [
    "The model is overfitting. The training accuracy is slightly higher than the testing."
   ]
  },
  {
   "cell_type": "markdown",
   "metadata": {},
   "source": [
    "<h3>D: Did the training process converge and resulted in the best model?</h3><br>\n",
    "This model diverges, as seen in the figure above"
   ]
  },
  {
   "cell_type": "markdown",
   "metadata": {},
   "source": [
    "<h3>E: What is classification accuracy on training and test datasets?</h3>"
   ]
  },
  {
   "cell_type": "code",
   "execution_count": 232,
   "metadata": {},
   "outputs": [
    {
     "name": "stdout",
     "output_type": "stream",
     "text": [
      "Train accuracy: 0.6607832226202484\n",
      "Test accuracy: 0.6162509082102204\n",
      "              precision    recall  f1-score   support\n",
      "\n",
      "           0       0.91      0.62      0.74      7188\n",
      "           1       0.19      0.60      0.29      1070\n",
      "\n",
      "   micro avg       0.62      0.62      0.62      8258\n",
      "   macro avg       0.55      0.61      0.51      8258\n",
      "weighted avg       0.82      0.62      0.68      8258\n",
      "\n"
     ]
    }
   ],
   "source": [
    "print(\"Train accuracy:\", cv.score(X_train, y_train))\n",
    "print(\"Test accuracy:\", cv.score(X_test, y_test))\n",
    "print(classification_report(y_test, y_pred))"
   ]
  },
  {
   "cell_type": "markdown",
   "metadata": {},
   "source": [
    "<h2>Task 4.3</h2>"
   ]
  },
  {
   "cell_type": "markdown",
   "metadata": {},
   "source": [
    "<b>Decision Tree Features</b>"
   ]
  },
  {
   "cell_type": "code",
   "execution_count": 233,
   "metadata": {},
   "outputs": [],
   "source": [
    "modelDT = MLPClassifier(hidden_layer_sizes = (6,), alpha = 0.01, random_state=rs) # Define the model\n",
    "modelDT.fit(X_train_sel_DT, y_train) # Fit it\n",
    "y_predDT = modelDT.predict(X_test_sel_DT)"
   ]
  },
  {
   "cell_type": "markdown",
   "metadata": {},
   "source": [
    "<b>RFECV Features</b>"
   ]
  },
  {
   "cell_type": "code",
   "execution_count": 234,
   "metadata": {},
   "outputs": [],
   "source": [
    "# MLP with rfe features\n",
    "modelRFE = MLPClassifier(hidden_layer_sizes = (6,), alpha = 0.01, random_state=rs) # Define the model\n",
    "modelRFE.fit(X_train_sel, y_train) # Fit it\n",
    "y_predRFE = modelRFE.predict(X_test_sel)"
   ]
  },
  {
   "cell_type": "markdown",
   "metadata": {},
   "source": [
    "<h3>A: What is the network architecture?</h3>"
   ]
  },
  {
   "cell_type": "markdown",
   "metadata": {},
   "source": [
    "<b>Decision Tree Features</b>"
   ]
  },
  {
   "cell_type": "code",
   "execution_count": 235,
   "metadata": {},
   "outputs": [
    {
     "name": "stdout",
     "output_type": "stream",
     "text": [
      "The neural network has  3  layers\n",
      "and  6  nodes per layer\n"
     ]
    }
   ],
   "source": [
    "print(\"The neural network has \", modelDT.n_layers_, \" layers\")\n",
    "print(\"and \", modelDT.hidden_layer_sizes[0], \" nodes per layer\")"
   ]
  },
  {
   "cell_type": "markdown",
   "metadata": {},
   "source": [
    "<b>RFECV Features</b>"
   ]
  },
  {
   "cell_type": "code",
   "execution_count": 236,
   "metadata": {},
   "outputs": [
    {
     "name": "stdout",
     "output_type": "stream",
     "text": [
      "The neural network has  3  layers\n",
      "and  6  nodes per layer\n"
     ]
    }
   ],
   "source": [
    "print(\"The neural network has \", modelRFE.n_layers_, \" layers\")\n",
    "print(\"and \", modelRFE.hidden_layer_sizes[0], \" nodes per layer\")"
   ]
  },
  {
   "cell_type": "markdown",
   "metadata": {},
   "source": [
    "<h3>B: How many iterations are needed to train this network?</h3>"
   ]
  },
  {
   "cell_type": "markdown",
   "metadata": {},
   "source": [
    "<b>Decision Tree Features</b>"
   ]
  },
  {
   "cell_type": "code",
   "execution_count": 237,
   "metadata": {},
   "outputs": [
    {
     "name": "stdout",
     "output_type": "stream",
     "text": [
      "The model has ran through  94  iterations\n"
     ]
    }
   ],
   "source": [
    "print(\"The model has ran through \", modelDT.n_iter_, \" iterations\")"
   ]
  },
  {
   "cell_type": "markdown",
   "metadata": {},
   "source": [
    "<b>RFECV Features</b>"
   ]
  },
  {
   "cell_type": "code",
   "execution_count": 238,
   "metadata": {},
   "outputs": [
    {
     "name": "stdout",
     "output_type": "stream",
     "text": [
      "The model has ran through  112  iterations\n"
     ]
    }
   ],
   "source": [
    "print(\"The model has ran through \", modelRFE.n_iter_, \" iterations\")"
   ]
  },
  {
   "cell_type": "markdown",
   "metadata": {},
   "source": [
    "<h3>C: Do you see any sign of over-fitting?</h3>"
   ]
  },
  {
   "cell_type": "markdown",
   "metadata": {},
   "source": [
    "<b>Decision Tree Features</b>"
   ]
  },
  {
   "cell_type": "code",
   "execution_count": 239,
   "metadata": {},
   "outputs": [
    {
     "data": {
      "image/png": "[encoded data removed]",
      "text/plain": [
       "<Figure size 432x288 with 1 Axes>"
      ]
     },
     "metadata": {
      "needs_background": "light"
     },
     "output_type": "display_data"
    }
   ],
   "source": [
    "test_score = []\n",
    "train_score = []\n",
    "\n",
    "range_ = range(1, 100, 20)\n",
    "\n",
    "for i in range_:\n",
    "    model = MLPClassifier(hidden_layer_sizes=i, alpha=0.01, random_state=rs)\n",
    "    model.fit(X_train_sel_DT, y_train)\n",
    "    \n",
    "    test_score.append(model.score(X_test_sel_DT, y_test))\n",
    "    train_score.append(model.score(X_train_sel_DT, y_train))\n",
    "\n",
    "plt.plot(range_, train_score, 'b', range_, test_score, 'r')\n",
    "plt.xlabel('Decision Tree\\nBlue = training acc. Red = test acc.')\n",
    "plt.ylabel('accuracy')\n",
    "plt.ylim(0, 1)\n",
    "plt.title('Layer Size')\n",
    "plt.show()"
   ]
  },
  {
   "cell_type": "markdown",
   "metadata": {},
   "source": [
    "This model is neither over fitting or underfitting. The training and test accuracy are running very close to each other"
   ]
  },
  {
   "cell_type": "markdown",
   "metadata": {},
   "source": [
    "<b>RFECV Features</b>"
   ]
  },
  {
   "cell_type": "code",
   "execution_count": 240,
   "metadata": {},
   "outputs": [
    {
     "data": {
      "image/png": "[encoded data removed]",
      "text/plain": [
       "<Figure size 432x288 with 1 Axes>"
      ]
     },
     "metadata": {
      "needs_background": "light"
     },
     "output_type": "display_data"
    }
   ],
   "source": [
    "test_score = []\n",
    "train_score = []\n",
    "\n",
    "range_ = range(1, 100, 20)\n",
    "\n",
    "for i in range_:\n",
    "    model = MLPClassifier(hidden_layer_sizes=i, alpha=0.01, random_state=rs)\n",
    "    model.fit(X_train_sel, y_train)\n",
    "    \n",
    "    test_score.append(model.score(X_test_sel, y_test))\n",
    "    train_score.append(model.score(X_train_sel, y_train))\n",
    "\n",
    "plt.plot(range_, train_score, 'b', range_, test_score, 'r')\n",
    "plt.xlabel('RFECV\\nBlue = training acc. Red = test acc.')\n",
    "plt.ylabel('accuracy')\n",
    "plt.ylim(0, 1)\n",
    "plt.title('Layer Size')\n",
    "plt.show()"
   ]
  },
  {
   "cell_type": "markdown",
   "metadata": {},
   "source": [
    "<h3>D: Did the training process converge and resulted in the best model?</h3>"
   ]
  },
  {
   "cell_type": "markdown",
   "metadata": {},
   "source": [
    "<b>Decision Tree Features</b><br>\n",
    "This model does seem to converge. The training and test data are very similar."
   ]
  },
  {
   "cell_type": "markdown",
   "metadata": {},
   "source": [
    "<b>RFECV Features</b><br>\n",
    "This model seems to diverge"
   ]
  },
  {
   "cell_type": "markdown",
   "metadata": {},
   "source": [
    "<h3>E: What is classification accuracy on training and test datasets?</h3>"
   ]
  },
  {
   "cell_type": "markdown",
   "metadata": {},
   "source": [
    "<b>Decision Tree Features</b>"
   ]
  },
  {
   "cell_type": "code",
   "execution_count": 241,
   "metadata": {},
   "outputs": [
    {
     "name": "stdout",
     "output_type": "stream",
     "text": [
      "Using features selected from the decision tree, the train accuracy: 0.6228915243626753\n",
      "Using features selected from the decision tree, the test accuracy: 0.5696294502300799\n",
      "              precision    recall  f1-score   support\n",
      "\n",
      "           0       0.92      0.55      0.69      7188\n",
      "           1       0.18      0.67      0.29      1070\n",
      "\n",
      "   micro avg       0.57      0.57      0.57      8258\n",
      "   macro avg       0.55      0.61      0.49      8258\n",
      "weighted avg       0.82      0.57      0.64      8258\n",
      "\n"
     ]
    }
   ],
   "source": [
    "print(\"Using features selected from the decision tree, the train accuracy:\", modelDT.score(X_train_sel_DT, y_train))\n",
    "print(\"Using features selected from the decision tree, the test accuracy:\", modelDT.score(X_test_sel_DT, y_test))\n",
    "print(classification_report(y_test, y_predDT))"
   ]
  },
  {
   "cell_type": "markdown",
   "metadata": {},
   "source": [
    "<b>RFECV Features</b>"
   ]
  },
  {
   "cell_type": "code",
   "execution_count": 242,
   "metadata": {},
   "outputs": [
    {
     "name": "stdout",
     "output_type": "stream",
     "text": [
      "Using features selected from the RFECV, the train accuracy: 0.6400897297673286\n",
      "Using features selected from the RFECV, the test accuracy: 0.6186728021312666\n",
      "              precision    recall  f1-score   support\n",
      "\n",
      "           0       0.91      0.62      0.74      7188\n",
      "           1       0.19      0.61      0.29      1070\n",
      "\n",
      "   micro avg       0.62      0.62      0.62      8258\n",
      "   macro avg       0.55      0.61      0.52      8258\n",
      "weighted avg       0.82      0.62      0.68      8258\n",
      "\n"
     ]
    }
   ],
   "source": [
    "print(\"Using features selected from the RFECV, the train accuracy:\", modelRFE.score(X_train_sel, y_train))\n",
    "print(\"Using features selected from the RFECV, the test accuracy:\", modelRFE.score(X_test_sel, y_test))\n",
    "print(classification_report(y_test, y_predRFE))"
   ]
  },
  {
   "cell_type": "code",
   "execution_count": 243,
   "metadata": {},
   "outputs": [
    {
     "name": "stdout",
     "output_type": "stream",
     "text": [
      "Auto : [ 0.18696694  0.01145332  0.12477641  0.60383926 -0.12542508 -0.13438245]\n",
      "VehOdo : [-0.22305388  0.19628533 -0.07129757  0.34476894 -0.18471361  0.2950202 ]\n",
      "MMRAcquisitionAuctionCleanPrice : [ 0.10397388 -0.00327252  0.53965458 -0.03139585  0.42545988 -0.14750372]\n",
      "MMRAcquisitonRetailCleanPrice : [-0.94787261  0.40957227 -1.0627093   1.22784436 -0.99593474 -0.81307286]\n",
      "MMRCurrentAuctionCleanPrice : [-0.13184741  0.13418751  0.0169821   0.36313447 -0.03084193  0.05000636]\n"
     ]
    }
   ],
   "source": [
    "# Extract top 5 important features\n",
    "coefLG = modelRFE.coefs_[0]\n",
    "# limit to 5 features, you can comment the following line to print out everything\n",
    "coefLG = coefLG[:5]\n",
    "\n",
    "for i in range(len(coefLG)):\n",
    "    print(feature_names[i], ':', coefLG[i])"
   ]
  },
  {
   "cell_type": "markdown",
   "metadata": {},
   "source": [
    "<h2>Task 4.4</h2>"
   ]
  },
  {
   "cell_type": "markdown",
   "metadata": {},
   "source": [
    "<b>All Data</b>"
   ]
  },
  {
   "cell_type": "code",
   "execution_count": 244,
   "metadata": {},
   "outputs": [
    {
     "name": "stdout",
     "output_type": "stream",
     "text": [
      "ROC index on test for DT: 0.537367705261625\n",
      "ROC index on test for logistic regression: 0.6674850087633075\n",
      "ROC index on test for NN: 0.6550339610669912\n"
     ]
    },
    {
     "data": {
      "image/png": "[encoded data removed]",
      "text/plain": [
       "<Figure size 432x288 with 1 Axes>"
      ]
     },
     "metadata": {
      "needs_background": "light"
     },
     "output_type": "display_data"
    }
   ],
   "source": [
    "# Decision Tree\n",
    "modelDT = DecisionTreeClassifier(max_depth = 22, min_samples_split = 2, random_state=rs) # Define the model\n",
    "modelDT.fit(X_train, y_train) # Fit with data\n",
    "\n",
    "# Neural network\n",
    "modelMLP = MLPClassifier(hidden_layer_sizes = 6, alpha = 0.01, random_state=rs) # Define the model\n",
    "modelMLP.fit(X_train, y_train) # Fit it\n",
    "\n",
    "# Logisitc Regression\n",
    "modelLG = LogisticRegression(C = 1, random_state=rs) # Define the model\n",
    "modelLG.fit(X_train, y_train) # fit it to training data\n",
    "\n",
    "# Compare the models\n",
    "\n",
    "# ROC AUC\n",
    "y_pred_proba_dt = modelDT.predict_proba(X_test)\n",
    "y_pred_proba_log_reg = modelLG.predict_proba(X_test)\n",
    "y_pred_proba_nn = modelMLP.predict_proba(X_test)\n",
    "\n",
    "roc_index_dt = roc_auc_score(y_test, y_pred_proba_dt[:, 1])\n",
    "roc_index_log_reg = roc_auc_score(y_test, y_pred_proba_log_reg[:, 1])\n",
    "roc_index_nn = roc_auc_score(y_test, y_pred_proba_nn[:, 1])\n",
    "\n",
    "print(\"ROC index on test for DT:\", roc_index_dt)\n",
    "print(\"ROC index on test for logistic regression:\", roc_index_log_reg)\n",
    "print(\"ROC index on test for NN:\", roc_index_nn)\n",
    "\n",
    "fpr_dt, tpr_dt, thresholds_dt = roc_curve(y_test, y_pred_proba_dt[:,1])\n",
    "fpr_log_reg, tpr_log_reg, thresholds_log_reg = roc_curve(y_test, y_pred_proba_log_reg[:,1])\n",
    "fpr_nn, tpr_nn, thresholds_nn = roc_curve(y_test, y_pred_proba_nn[:,1])\n",
    "\n",
    "plt.plot(fpr_dt, tpr_dt, label='ROC Curve for DT {:.3f}'.format(roc_index_dt), color='red', lw=0.5)\n",
    "plt.plot(fpr_log_reg, tpr_log_reg, label='ROC Curve for Log reg {:.3f}'.format(roc_index_log_reg), color='green', lw=0.5)\n",
    "plt.plot(fpr_nn, tpr_nn, label='ROC Curve for NN {:.3f}'.format(roc_index_nn), color='darkorange', lw=0.5)\n",
    "\n",
    "# plt.plot(fpr[2], tpr[2], color='darkorange',\n",
    "#          lw=lw, label='ROC curve (area = %0.2f)' % roc_auc[2])\n",
    "plt.plot([0, 1], [0, 1], color='navy', lw=0.5, linestyle='--')\n",
    "plt.xlim([0.0, 1.0])\n",
    "plt.ylim([0.0, 1.0])\n",
    "plt.xlabel('False Positive Rate')\n",
    "plt.ylabel('True Positive Rate')\n",
    "plt.title('Roc All Data')\n",
    "plt.legend(loc=\"lower right\")\n",
    "plt.show()"
   ]
  },
  {
   "cell_type": "markdown",
   "metadata": {},
   "source": [
    "<b>Selected Data</b>"
   ]
  },
  {
   "cell_type": "code",
   "execution_count": 245,
   "metadata": {},
   "outputs": [
    {
     "name": "stdout",
     "output_type": "stream",
     "text": [
      "ROC index on test for DT: 0.558400163304365\n",
      "ROC index on test for logistic regression: 0.6673477082780751\n",
      "ROC index on test for NN: 0.6589184206283578\n"
     ]
    },
    {
     "data": {
      "image/png": "[encoded data removed]",
      "text/plain": [
       "<Figure size 432x288 with 1 Axes>"
      ]
     },
     "metadata": {
      "needs_background": "light"
     },
     "output_type": "display_data"
    }
   ],
   "source": [
    "# Decision Tree\n",
    "modelDT = DecisionTreeClassifier(max_depth = 22, min_samples_split = 2, random_state=rs) # Define the model\n",
    "modelDT.fit(X_train_sel, y_train) # Fit with data\n",
    "y_predDT = modelDT.predict(X_test_sel)\n",
    "\n",
    "# Neural network\n",
    "modelMLP = MLPClassifier(hidden_layer_sizes = 6, alpha = 0.01, random_state=rs) # Define the model\n",
    "modelMLP.fit(X_train_sel, y_train) # Fit it\n",
    "y_predMLP = modelMLP.predict(X_test_sel)\n",
    "\n",
    "# Logisitc Regression\n",
    "modelLG = LogisticRegression(C = 1, random_state=rs) # Define the model\n",
    "modelLG.fit(X_train_sel, y_train) # fit it to training data\n",
    "y_predLG = modelLG.predict(X_test_sel)\n",
    "\n",
    "# Compare the models\n",
    "\n",
    "# ROC AUC\n",
    "y_pred_proba_dt = modelDT.predict_proba(X_test_sel)\n",
    "y_pred_proba_log_reg = modelLG.predict_proba(X_test_sel)\n",
    "y_pred_proba_nn = modelMLP.predict_proba(X_test_sel)\n",
    "\n",
    "roc_index_dt = roc_auc_score(y_test, y_pred_proba_dt[:, 1])\n",
    "roc_index_log_reg = roc_auc_score(y_test, y_pred_proba_log_reg[:, 1])\n",
    "roc_index_nn = roc_auc_score(y_test, y_pred_proba_nn[:, 1])\n",
    "\n",
    "print(\"ROC index on test for DT:\", roc_index_dt)\n",
    "print(\"ROC index on test for logistic regression:\", roc_index_log_reg)\n",
    "print(\"ROC index on test for NN:\", roc_index_nn)\n",
    "\n",
    "fpr_dt, tpr_dt, thresholds_dt = roc_curve(y_test, y_pred_proba_dt[:,1])\n",
    "fpr_log_reg, tpr_log_reg, thresholds_log_reg = roc_curve(y_test, y_pred_proba_log_reg[:,1])\n",
    "fpr_nn, tpr_nn, thresholds_nn = roc_curve(y_test, y_pred_proba_nn[:,1])\n",
    "\n",
    "plt.plot(fpr_dt, tpr_dt, label='ROC Curve for DT {:.3f}'.format(roc_index_dt), color='red', lw=0.5)\n",
    "plt.plot(fpr_log_reg, tpr_log_reg, label='ROC Curve for Log reg {:.3f}'.format(roc_index_log_reg), color='green', lw=0.5)\n",
    "plt.plot(fpr_nn, tpr_nn, label='ROC Curve for NN {:.3f}'.format(roc_index_nn), color='darkorange', lw=0.5)\n",
    "\n",
    "# plt.plot(fpr[2], tpr[2], color='darkorange',\n",
    "#          lw=lw, label='ROC curve (area = %0.2f)' % roc_auc[2])\n",
    "plt.plot([0, 1], [0, 1], color='navy', lw=0.5, linestyle='--')\n",
    "plt.xlim([0.0, 1.0])\n",
    "plt.ylim([0.0, 1.0])\n",
    "plt.xlabel('False Positive Rate')\n",
    "plt.ylabel('True Positive Rate')\n",
    "plt.title('ROC Selected Data')\n",
    "plt.legend(loc=\"lower right\")\n",
    "plt.show()"
   ]
  },
  {
   "cell_type": "markdown",
   "metadata": {},
   "source": [
    "<b>Which Model Is Better</b><br>\n",
    "The two ROC graphs above show which model performes better on each data set. The logestic regression model is better both times, with nueral network only slightly worse<br>\n",
    "<b>Which cars are kicks?</b><br>\n",
    "\n",
    "<b>Comprehention</b><br>\n",
    "Which nueral network is better is easy to understand, with graphs showing if a model is overfitting or underfitting, and single number scores a model can be evaluated very quickly. ROC scores and graphs make comparing models beteween each other easy. "
   ]
  },
  {
   "cell_type": "markdown",
   "metadata": {},
   "source": [
    "<h2>Task 5.1</h2>"
   ]
  },
  {
   "cell_type": "code",
   "execution_count": 246,
   "metadata": {},
   "outputs": [
    {
     "name": "stdout",
     "output_type": "stream",
     "text": [
      "Ensemble train accuracy: 0.9137655201196397\n",
      "Ensemble test accuracy: 0.7553887139743279\n"
     ]
    }
   ],
   "source": [
    "# initialise the classifier with 3 different estimators\n",
    "voting = VotingClassifier(estimators=[('dt', modelDT), ('lr', modelLG), ('nn', modelMLP)], voting='soft')\n",
    "\n",
    "# fit the voting classifier to training data\n",
    "voting.fit(X_train_sel, y_train)\n",
    "\n",
    "# evaluate train and test accuracy\n",
    "print(\"Ensemble train accuracy:\", voting.score(X_train_sel, y_train))\n",
    "print(\"Ensemble test accuracy:\", voting.score(X_test_sel, y_test))"
   ]
  },
  {
   "cell_type": "markdown",
   "metadata": {},
   "source": [
    "<h3>A: Does the Ensemble model outperform the underlying models? Resonate\n",
    "your answer.</h3>\n",
    "\n",
    "<p>The ensamble model does outperform the rest. Overall the ensamble model has the best accuracy, general fit and output. see section 5.2 for more deailed answer and mathimatical explination.</p><br>"
   ]
  },
  {
   "cell_type": "markdown",
   "metadata": {},
   "source": [
    "<h2>Task 5.1</h2>\n",
    "<h3>Discuss the findings led by</h3> <br><b>(a) ROC Chart (and Index)</b>"
   ]
  },
  {
   "cell_type": "code",
   "execution_count": 247,
   "metadata": {},
   "outputs": [
    {
     "name": "stdout",
     "output_type": "stream",
     "text": [
      "ROC index on test for DT: 0.558400163304365\n",
      "ROC index on test for logistic regression: 0.6673477082780751\n",
      "ROC index on test for NN: 0.6589184206283578\n",
      "ROC index on test for Ensemble: 0.6579335236817333\n"
     ]
    },
    {
     "data": {
      "image/png": "[encoded data removed]",
      "text/plain": [
       "<Figure size 432x288 with 1 Axes>"
      ]
     },
     "metadata": {
      "needs_background": "light"
     },
     "output_type": "display_data"
    }
   ],
   "source": [
    "y_pred_proba_vote = voting.predict_proba(X_test_sel)\n",
    "roc_index_vote = roc_auc_score(y_test, y_pred_proba_vote[:, 1])\n",
    "fpr_vote, tpr_vote, thresholds_vote = roc_curve(y_test, y_pred_proba_vote[:,1])\n",
    "y_predV = voting.predict(X_test_sel)\n",
    "\n",
    "plt.plot(fpr_dt, tpr_dt, label='ROC Curve for DT {:.3f}'.format(roc_index_dt), color='red', lw=0.5)\n",
    "plt.plot(fpr_log_reg, tpr_log_reg, label='ROC Curve for Log reg {:.3f}'.format(roc_index_log_reg), color='green', lw=0.5)\n",
    "plt.plot(fpr_nn, tpr_nn, label='ROC Curve for NN {:.3f}'.format(roc_index_nn), color='darkorange', lw=0.5)\n",
    "plt.plot(fpr_vote, tpr_vote, label='ROC Curve for Ensemble {:.3f}'.format(roc_index_vote), color='blue', lw=0.5)\n",
    "\n",
    "print(\"ROC index on test for DT:\", roc_index_dt)\n",
    "print(\"ROC index on test for logistic regression:\", roc_index_log_reg)\n",
    "print(\"ROC index on test for NN:\", roc_index_nn)\n",
    "print(\"ROC index on test for Ensemble:\", roc_index_vote)\n",
    "\n",
    "# plt.plot(fpr[2], tpr[2], color='darkorange',\n",
    "# lw=lw, label='ROC curve (area = %0.2f)' % roc_auc[2])\n",
    "plt.plot([0, 1], [0, 1], color='navy', lw=0.5, linestyle='--')\n",
    "plt.xlim([0.0, 1.0])\n",
    "plt.ylim([0.0, 1.0])\n",
    "plt.xlabel('False Positive Rate')\n",
    "plt.ylabel('True Positive Rate')\n",
    "plt.title('ROC Selected Data and Esemble')\n",
    "plt.legend(loc=\"lower right\")\n",
    "plt.show()"
   ]
  },
  {
   "cell_type": "markdown",
   "metadata": {},
   "source": [
    "<i>Discussion:</i>\n",
    "<p>From the ROC chart above as well as the Index we can see that the Ensemble model having an index of (0.659) is only slightly out performed by the Logistics model and the Nueral Network at an index of (0.667 and 0.663) respectively. it is clear that all three outperforms the Decision Tree drastically.</p>"
   ]
  },
  {
   "cell_type": "markdown",
   "metadata": {},
   "source": [
    "<b>(b) Score Ranking (or Accuracy Score)</b>"
   ]
  },
  {
   "cell_type": "code",
   "execution_count": 248,
   "metadata": {},
   "outputs": [
    {
     "name": "stdout",
     "output_type": "stream",
     "text": [
      "The best decision tree had a test accuracy of: 0.7371034148704286\n",
      "The best logistic regression had a test accuracy of: 0.630418987648341\n",
      "The best MLP had a test accuracy of: 0.6186728021312666\n",
      "The best ensemble had a test accuracy of: 0.7553887139743279\n"
     ]
    }
   ],
   "source": [
    "print(\"The best decision tree had a test accuracy of:\", modelDT.score(X_test_sel, y_test))\n",
    "print(\"The best logistic regression had a test accuracy of:\", modelLG.score(X_test_sel, y_test))\n",
    "print(\"The best MLP had a test accuracy of:\", modelMLP.score(X_test_sel, y_test))\n",
    "print(\"The best ensemble had a test accuracy of:\", voting.score(X_test_sel, y_test))"
   ]
  },
  {
   "cell_type": "markdown",
   "metadata": {},
   "source": [
    "<i>Discussion:</i>\n",
    "<p>In the case of pure acceracy the Ensamble model does outperform the rest of the models, only matched by the decision tree. Both these models have an accuracy of (75%) </p>\n",
    "<br><br>\n",
    "<b>(c) Fit Statistics(or Classification report)</b>"
   ]
  },
  {
   "cell_type": "code",
   "execution_count": 249,
   "metadata": {},
   "outputs": [
    {
     "name": "stdout",
     "output_type": "stream",
     "text": [
      "The best decision tree had a test accuracy of:\n",
      "              precision    recall  f1-score   support\n",
      "\n",
      "           0       0.89      0.80      0.84      7188\n",
      "           1       0.19      0.31      0.23      1070\n",
      "\n",
      "   micro avg       0.74      0.74      0.74      8258\n",
      "   macro avg       0.54      0.55      0.54      8258\n",
      "weighted avg       0.80      0.74      0.76      8258\n",
      "\n",
      "----------\n",
      " The best logistic regression had a test accuracy of:\n",
      "              precision    recall  f1-score   support\n",
      "\n",
      "           0       0.92      0.63      0.75      7188\n",
      "           1       0.20      0.61      0.30      1070\n",
      "\n",
      "   micro avg       0.63      0.63      0.63      8258\n",
      "   macro avg       0.56      0.62      0.52      8258\n",
      "weighted avg       0.82      0.63      0.69      8258\n",
      "\n",
      "----------\n",
      " The best MLP had a test accuracy of:\n",
      "              precision    recall  f1-score   support\n",
      "\n",
      "           0       0.91      0.62      0.74      7188\n",
      "           1       0.19      0.61      0.29      1070\n",
      "\n",
      "   micro avg       0.62      0.62      0.62      8258\n",
      "   macro avg       0.55      0.61      0.52      8258\n",
      "weighted avg       0.82      0.62      0.68      8258\n",
      "\n",
      "----------\n",
      " The best ensemble had a test accuracy of:\n",
      "              precision    recall  f1-score   support\n",
      "\n",
      "           0       0.89      0.82      0.85      7188\n",
      "           1       0.22      0.34      0.26      1070\n",
      "\n",
      "   micro avg       0.76      0.76      0.76      8258\n",
      "   macro avg       0.55      0.58      0.56      8258\n",
      "weighted avg       0.81      0.76      0.78      8258\n",
      "\n"
     ]
    }
   ],
   "source": [
    "print(\"The best decision tree had a test accuracy of:\")\n",
    "print(classification_report(y_test, y_predDT))\n",
    "print(\"----------\\n The best logistic regression had a test accuracy of:\")\n",
    "print(classification_report(y_test, y_predLG))\n",
    "print(\"----------\\n The best MLP had a test accuracy of:\")\n",
    "print(classification_report(y_test, y_predMLP))\n",
    "print(\"----------\\n The best ensemble had a test accuracy of:\")\n",
    "print(classification_report(y_test, y_predV))"
   ]
  },
  {
   "cell_type": "markdown",
   "metadata": {},
   "source": [
    "<i>Discussion:</i><br><br>\n",
    "<u>Recall</u><br>\n",
    "<p>Unfortunately the recall on the kick statistic for the ensamble model is drastically lower than the others. With only a score of 0.33 compare to the 0.6x score of the others, it's clear that the model is overfitted to predict false. However, in the case of Non-Kicks it drastically outperfoms the other models with a score of 0.82.</p>\n",
    "<br>\n",
    "\n",
    "<u>Precision</u><br>\n",
    "<p>Overall there isn't a clear advantage one model has over another. The ensable model only slightly outperforms the other.</p>\n",
    "\n",
    "<u>F1 Score</u><br>\n",
    "<p>The ensamble model has the best F1 score for the Non-Kicks, but underperforms comapred against the logistic and neural network for the kicks data.</p>\n",
    "\n",
    "<b>(d) Output.</b>\n",
    "<p>Overall the ensamble model seems to be the best generelised model.</p>"
   ]
  },
  {
   "cell_type": "code",
   "execution_count": null,
   "metadata": {},
   "outputs": [],
   "source": []
  },
  {
   "cell_type": "markdown",
   "metadata": {},
   "source": [
    "<i>Discussion:</i>\n",
    "<p>To be Completed...</p>"
   ]
  },
  {
   "cell_type": "markdown",
   "metadata": {},
   "source": [
    "<h3> B: Do all the models agree on characteristics of kicks? </h3>\n",
    "\n",
    "\n",
    "| Model              \t| First Important Feature          \t| Second   \t| Third                           \t| Fourth                          \t| Fifth                       \t|\n",
    "|---------------------\t|---------------------------------\t|----------\t|---------------------------------\t|---------------------------------\t|-----------------------------\t|\n",
    "| Decision Tree       \t| MMRAcquisitionAuctionCleanPrice \t| VehBCost \t| Body_CITY                       \t| MMRAcquisitionAuctionCleanPrice \t| Auction_ADESA               \t|\n",
    "| Logistic Regression \t| Auto                            \t| VehOdo   \t| MMRAcquisitionAuctionCleanPrice \t| MMRAcquisitonRetailCleanPrice   \t| MMRCurrentAuctionCleanPrice \t|\n",
    "| MLP                 \t| Auto                            \t| VehOdo   \t| MMRAcquisitionAuctionCleanPrice \t| MMRAcquisitonRetailCleanPrice   \t| MMRCurrentAuctionCleanPrice \t|\n",
    "\n",
    "The Logistic Regression and MLP agree on the top five features of a kick, however, the Decision Tree does not agree."
   ]
  },
  {
   "cell_type": "markdown",
   "metadata": {},
   "source": [
    "<h2>Task 6.1</h2>\n",
    "<h3>Based on all the models, which one will you use in decision making</h3>\n",
    "We would use the  ensemble model. It has the best accuracy and F1 score and it only slightly lower ROC score. Even though the training time longer, once the model has been trained the the runtime is igsignificatly different."
   ]
  },
  {
   "cell_type": "markdown",
   "metadata": {},
   "source": [
    "<h2>Task 6.2</h2>\n",
    "<h3>What are the positives and negatives of each model</h3><br><br>\n",
    "<hr>\n",
    "<center><b >Decision Tree</b></center>\n",
    "\n",
    "<table >\n",
    "<thead>\n",
    "<tr >\n",
    "<th>Pros</th>\n",
    "<th>Cons</th>\n",
    "</tr>\n",
    "</thead>\n",
    "<tbody>\n",
    "<tr>\n",
    "<td>Human readable</td>\n",
    "<td>Easily overfit</td>\n",
    "</tr>\n",
    "<tr>\n",
    "<td>Resistant to outliers</td>\n",
    "<td></td>\n",
    "</tr>\n",
    "<tr>\n",
    "<td>Can use categorical variables</td>\n",
    "<td></td>\n",
    "</tr>\n",
    "</tbody>\n",
    "</table>\n",
    "<hr>\n",
    "<center><b>Logistic Regression</b></center>\n",
    "\n",
    "<table>\n",
    "<thead>\n",
    "<tr>\n",
    "<th>Pros</th>\n",
    "<th>Cons</th>\n",
    "</tr>\n",
    "</thead>\n",
    "<tbody>\n",
    "<tr>\n",
    "<td>Easy to interpret</td>\n",
    "<td>Cannot handle categorical</td>\n",
    "</tr>\n",
    "<tr>\n",
    "<td>Can be used with feature engineering</td>\n",
    "<td>High bias</td>\n",
    "</tr>\n",
    "<tr>\n",
    "<td>Resistant to noise</td>\n",
    "<td></td>\n",
    "</tr>\n",
    "<tr>\n",
    "<td>Can use regularization to reduce overfitting</td>\n",
    "<td></td>\n",
    "</tr>\n",
    "<tr>\n",
    "<td>Efficient</td>\n",
    "<td></td>\n",
    "</tr>\n",
    "</tbody>\n",
    "</table>\n",
    "<hr>\n",
    "<center><b>MLP</b></center>\n",
    "\n",
    "<table>\n",
    "<thead>\n",
    "<tr>\n",
    "<th>Pros</th>\n",
    "<th>Cons</th>\n",
    "</tr>\n",
    "</thead>\n",
    "<tbody>\n",
    "<tr>\n",
    "<td>Easy to interpret</td>\n",
    "<td>cannot handle categorical</td>\n",
    "</tr>\n",
    "<tr>\n",
    "<td>good to model the non-linear data</td>\n",
    "<td>Only numeric data</td>\n",
    "</tr>\n",
    "<tr>\n",
    "<td></td>\n",
    "<td>Black Box</td>\n",
    "</tr>\n",
    "<tr>\n",
    "<td></td>\n",
    "<td>Computationally expensive</td>\n",
    "</tr>\n",
    "</tbody>\n",
    "</table>\n",
    "<hr>\n",
    "<center><b>Ensemble</b></center>\n",
    "\n",
    "<table>\n",
    "<thead>\n",
    "<tr>\n",
    "<th>Pros</th>\n",
    "<th>Cons</th>\n",
    "</tr>\n",
    "</thead>\n",
    "<tbody>\n",
    "<tr>\n",
    "<td>Effective</td>\n",
    "<td>Black Box</td>\n",
    "</tr>\n",
    "<tr>\n",
    "<td></td>\n",
    "<td>Computationally expensive</td>\n",
    "</tr>\n",
    "</tbody>\n",
    "</table>\n",
    "\n"
   ]
  },
  {
   "cell_type": "markdown",
   "metadata": {},
   "source": [
    "<h2>Task 6.3</h2>\n",
    "<h3>How can this information be used by decision makers</h3>"
   ]
  },
  {
   "cell_type": "markdown",
   "metadata": {},
   "source": [
    "This information can be used by decision makers to accurately decided whether a car is a kick or not. This knowledge is critical for auction houses to not lose out on money and space with cars sitting in a yard which are never going to sell. "
   ]
  }
 ],
 "metadata": {
  "kernelspec": {
   "display_name": "Python 3",
   "language": "python",
   "name": "python3"
  },
  "language_info": {
   "codemirror_mode": {
    "name": "ipython",
    "version": 3
   },
   "file_extension": ".py",
   "mimetype": "text/x-python",
   "name": "python",
   "nbconvert_exporter": "python",
   "pygments_lexer": "ipython3",
   "version": "3.7.1"
  }
 },
 "nbformat": 4,
 "nbformat_minor": 2
}
